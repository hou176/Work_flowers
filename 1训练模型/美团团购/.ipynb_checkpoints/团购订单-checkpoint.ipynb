{
 "cells": [
  {
   "cell_type": "code",
   "execution_count": 73,
   "metadata": {},
   "outputs": [],
   "source": [
    "import pandas as pd \n",
    "import numpy as np\n"
   ]
  },
  {
   "cell_type": "code",
   "execution_count": 74,
   "metadata": {},
   "outputs": [],
   "source": [
    "def improt_data(lujing,code):\n",
    "    data = pd.read_excel(lujing,encoding =code)\n",
    "    return data\n",
    "\n",
    "def wenzi(list_1,z):\n",
    "    list_2 = []\n",
    "    i = 0\n",
    "    for x in list_1:\n",
    "        y = x\n",
    "        tr = y.find(z)\n",
    "        if tr > -1 :\n",
    "            i = i+1\n",
    "            list_2.append(x)\n",
    "    print('关于' + '“' + zi + '”' + '的订单数量是：',i)  \n",
    "    return list_2\n",
    "\n",
    "def jiebe(data):    \n",
    "    text_list = []\n",
    "    for line in data:\n",
    "        hou = \",\".join(jieba.cut(line))\n",
    "        strlist = hou.split(',') \n",
    "        text_list.append(strlist)\n",
    "    return text_list\n",
    "\n",
    "def clean(list_name_,stopwords_):    \n",
    "    clean_line = []\n",
    "    for line in list_name_:\n",
    "        haha = []\n",
    "        for word in line:\n",
    "            if word in stopwords_:\n",
    "                continue\n",
    "            haha.append(word)\n",
    "        haha = ','.join(haha)\n",
    "        clean_line.append(haha)\n",
    "\n",
    "    return clean_line\n",
    "\n",
    "def drop_du(data,a):\n",
    "    df = data.drop_duplicates(subset=a,inplace=False,keep = 'last')\n",
    "    list_ = list(df[a])\n",
    "    list_sum = []\n",
    "    list_sum_ = []\n",
    "    list__ = []\n",
    "    for i in range(len(list_)):\n",
    "        b = list_[i]\n",
    "        sum_ = data[data[a] == b ]['商品id'].count()\n",
    "        dict_ = {}\n",
    "    \n",
    "        if sum_ > 1 :\n",
    "            list__.append(b)\n",
    "            dict_ = {b:sum_}\n",
    "            list_sum.append(dict_)\n",
    "        else:\n",
    "            list__.append(b)\n",
    "            dict_ = {b:sum_}\n",
    "            list_sum_.append(dict_)\n",
    "        i = i + 1  \n",
    "    k = [list_sum,list_sum_,list__]\n",
    "    return k"
   ]
  },
  {
   "cell_type": "code",
   "execution_count": 87,
   "metadata": {},
   "outputs": [],
   "source": [
    "lujing = r'C:/Users/Administrator/datas/Airsng/1训练模型/美团团购/销售额.xls'\n",
    "code = 'utf8'\n",
    "df = improt_data(lujing,code)"
   ]
  },
  {
   "cell_type": "code",
   "execution_count": 88,
   "metadata": {},
   "outputs": [],
   "source": [
    "df = df[df['商品售卖金额'] > 0]\n",
    "df['商品售卖金额'].sum()\n",
    "df = df[df['商品售卖量'] >1]"
   ]
  },
  {
   "cell_type": "code",
   "execution_count": 89,
   "metadata": {
    "scrolled": false
   },
   "outputs": [
    {
     "name": "stdout",
     "output_type": "stream",
     "text": [
      "【到店自取】单只向日葵\n",
      "42\n",
      "1176.0\n",
      "----------------\n",
      "单层开业花篮一对\n",
      "2\n",
      "176.0\n",
      "----------------\n",
      "【满心欢喜】19枝玫瑰鲜花花束\n",
      "6\n",
      "974.0\n",
      "----------------\n",
      "【生如夏花】向日葵玫瑰韩式花束\n",
      "2\n",
      "218.0\n",
      "----------------\n",
      "【美轮美奂】9支玫瑰鲜花花束\n",
      "2\n",
      "138.0\n",
      "----------------\n",
      "【宛若清风】99枝玫瑰求婚花束\n",
      "2\n",
      "1418.0\n",
      "----------------\n"
     ]
    }
   ],
   "source": [
    "name = df.drop_duplicates(subset='商品名称',inplace=False)\n",
    "name = list(name['商品名称'])\n",
    "for i in name :\n",
    "    a = df[df['商品名称'] == i]\n",
    "    x = a['商品售卖量'].sum()\n",
    "    y = a['商品售卖金额'].sum()\n",
    "    print(i)\n",
    "    print(x)\n",
    "    print(y)\n",
    "    print('----------------')"
   ]
  },
  {
   "cell_type": "code",
   "execution_count": 91,
   "metadata": {},
   "outputs": [],
   "source": [
    "lujing = r'C:/Users/Administrator/datas/Airsng/1训练模型/美团团购/七夕节.xlsx'\n",
    "code = 'utf8'\n",
    "df = improt_data(lujing,code)"
   ]
  },
  {
   "cell_type": "code",
   "execution_count": 93,
   "metadata": {},
   "outputs": [],
   "source": [
    "df = df[df['商品售卖金额'] > 0]\n",
    "df['商品售卖金额'].sum()\n",
    "df = df[df['商品售卖量'] >1]"
   ]
  },
  {
   "cell_type": "code",
   "execution_count": 94,
   "metadata": {},
   "outputs": [
    {
     "name": "stdout",
     "output_type": "stream",
     "text": [
      "【约会爆款】11枝玫瑰礼盒套餐\n",
      "12\n",
      "2148.0\n",
      "----------------\n",
      "【邂逅爱情】11枝玫瑰表白花束\n",
      "2\n",
      "338.0\n",
      "----------------\n",
      "【天缘巧合】33枝玫瑰鲜花花束\n",
      "2\n",
      "598.0\n",
      "----------------\n",
      "【满心欢喜】19枝玫瑰鲜花花束\n",
      "5\n",
      "995.0\n",
      "----------------\n",
      "【用心爱你】33枝玫瑰表白礼盒\n",
      "2\n",
      "538.0\n",
      "----------------\n",
      "【美轮美奂】9支玫瑰鲜花花束\n",
      "10\n",
      "1190.0\n",
      "----------------\n",
      "【微微一笑】11枝玫瑰表白花束\n",
      "4\n",
      "676.0\n",
      "----------------\n",
      "【此情不渝】19枝玫瑰礼盒鲜花\n",
      "2\n",
      "378.0\n",
      "----------------\n",
      "【夕颜若雪】11枝康乃馨鲜花束\n",
      "2\n",
      "216.0\n",
      "----------------\n",
      "【春水盈盈】21枝玫瑰鲜花花束\n",
      "2\n",
      "438.0\n",
      "----------------\n",
      "【钟爱一生】11支玫瑰鲜花花束\n",
      "6\n",
      "1014.0\n",
      "----------------\n",
      "【一心一意】11枝玫瑰表白礼盒\n",
      "2\n",
      "358.0\n",
      "----------------\n"
     ]
    }
   ],
   "source": [
    "name = df.drop_duplicates(subset='商品名称',inplace=False)\n",
    "name = list(name['商品名称'])\n",
    "for i in name :\n",
    "    a = df[df['商品名称'] == i]\n",
    "    x = a['商品售卖量'].sum()\n",
    "    y = a['商品售卖金额'].sum()\n",
    "    print(i)\n",
    "    print(x)\n",
    "    print(y)\n",
    "    print('----------------')"
   ]
  },
  {
   "cell_type": "code",
   "execution_count": 95,
   "metadata": {},
   "outputs": [],
   "source": [
    "lujing = r'C:/Users/Administrator/datas/Airsng/1训练模型/美团团购/教师节.xls'\n",
    "code = 'utf8'\n",
    "df = improt_data(lujing,code)"
   ]
  },
  {
   "cell_type": "code",
   "execution_count": 96,
   "metadata": {},
   "outputs": [],
   "source": [
    "df = df[df['商品售卖金额'] > 0]\n",
    "df['商品售卖金额'].sum()\n",
    "df = df[df['商品售卖量'] >1]"
   ]
  },
  {
   "cell_type": "code",
   "execution_count": 97,
   "metadata": {},
   "outputs": [
    {
     "name": "stdout",
     "output_type": "stream",
     "text": [
      "【网红爆款】康乃馨百合混搭花束\n",
      "3\n",
      "417.0\n",
      "----------------\n",
      "【感恩玫瑰】向日葵玫瑰鲜花花束\n",
      "2\n",
      "298.0\n",
      "----------------\n",
      "【夕颜若雪】11枝康乃馨鲜花束\n",
      "2\n",
      "186.0\n",
      "----------------\n",
      "【到店自取】单只向日葵\n",
      "43\n",
      "1281.0\n",
      "----------------\n",
      "【送老师】向日葵鲜花花束\n",
      "2\n",
      "156.0\n",
      "----------------\n",
      "【开业大麦】大麦开业花篮 单个\n",
      "2\n",
      "338.0\n",
      "----------------\n"
     ]
    }
   ],
   "source": [
    "name = df.drop_duplicates(subset='商品名称',inplace=False)\n",
    "name = list(name['商品名称'])\n",
    "for i in name :\n",
    "    a = df[df['商品名称'] == i]\n",
    "    x = a['商品售卖量'].sum()\n",
    "    y = a['商品售卖金额'].sum()\n",
    "    print(i)\n",
    "    print(x)\n",
    "    print(y)\n",
    "    print('----------------')"
   ]
  },
  {
   "cell_type": "code",
   "execution_count": null,
   "metadata": {},
   "outputs": [],
   "source": []
  }
 ],
 "metadata": {
  "kernelspec": {
   "display_name": "Python 3",
   "language": "python",
   "name": "python3"
  },
  "language_info": {
   "codemirror_mode": {
    "name": "ipython",
    "version": 3
   },
   "file_extension": ".py",
   "mimetype": "text/x-python",
   "name": "python",
   "nbconvert_exporter": "python",
   "pygments_lexer": "ipython3",
   "version": "3.8.3"
  }
 },
 "nbformat": 4,
 "nbformat_minor": 4
}

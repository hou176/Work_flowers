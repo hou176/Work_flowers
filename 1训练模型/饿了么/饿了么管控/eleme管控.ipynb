{
 "cells": [
  {
   "cell_type": "code",
   "execution_count": 25,
   "metadata": {},
   "outputs": [],
   "source": [
    "import pandas as pd \n",
    "import numpy as np \n",
    "pd.set_option('display.max_columns',None)\n",
    "import seaborn as sns \n",
    "import matplotlib.pyplot as plt \n",
    "%matplotlib  inline\n"
   ]
  },
  {
   "cell_type": "code",
   "execution_count": 41,
   "metadata": {},
   "outputs": [],
   "source": [
    "df1 = pd.read_excel('饿了么七夕节.xlsx')\n",
    "df2 = pd.read_excel('饿了么教师节.xlsx')\n",
    "df3 = pd.read_excel('饿了么10-11订单数据.xlsx')"
   ]
  },
  {
   "cell_type": "code",
   "execution_count": 42,
   "metadata": {},
   "outputs": [],
   "source": [
    "data = pd.concat([df1,df2,df3],axis=0)"
   ]
  },
  {
   "cell_type": "code",
   "execution_count": 32,
   "metadata": {},
   "outputs": [],
   "source": [
    "df1 = df1[df1['商家原因流失订单数'] > 2]\n",
    "df1['流失订单率'] = df1['商家原因流失订单数'] / df1['有效订单']\n",
    "df1 = df1[df1['流失订单率']  > 0.1]"
   ]
  },
  {
   "cell_type": "code",
   "execution_count": 35,
   "metadata": {},
   "outputs": [
    {
     "name": "stderr",
     "output_type": "stream",
     "text": [
      "<ipython-input-35-12e529d3bac5>:2: SettingWithCopyWarning: \n",
      "A value is trying to be set on a copy of a slice from a DataFrame.\n",
      "Try using .loc[row_indexer,col_indexer] = value instead\n",
      "\n",
      "See the caveats in the documentation: https://pandas.pydata.org/pandas-docs/stable/user_guide/indexing.html#returning-a-view-versus-a-copy\n",
      "  df3['流失订单率'] = df3['商家原因流失订单数'] / df3['有效订单']\n"
     ]
    }
   ],
   "source": [
    "df3 = df3[df3['商家原因流失订单数'] > 2]\n",
    "df3['流失订单率'] = df3['商家原因流失订单数'] / df3['有效订单']\n",
    "df3 = df3[df3['流失订单率']  > 0.05]"
   ]
  },
  {
   "cell_type": "code",
   "execution_count": 36,
   "metadata": {},
   "outputs": [
    {
     "data": {
      "text/html": [
       "<div>\n",
       "<style scoped>\n",
       "    .dataframe tbody tr th:only-of-type {\n",
       "        vertical-align: middle;\n",
       "    }\n",
       "\n",
       "    .dataframe tbody tr th {\n",
       "        vertical-align: top;\n",
       "    }\n",
       "\n",
       "    .dataframe thead th {\n",
       "        text-align: right;\n",
       "    }\n",
       "</style>\n",
       "<table border=\"1\" class=\"dataframe\">\n",
       "  <thead>\n",
       "    <tr style=\"text-align: right;\">\n",
       "      <th></th>\n",
       "      <th>供应商ID</th>\n",
       "      <th>供应商名</th>\n",
       "      <th>城市名</th>\n",
       "      <th>门店ID</th>\n",
       "      <th>门店名称</th>\n",
       "      <th>总成交额(元)</th>\n",
       "      <th>预计收入(元)</th>\n",
       "      <th>有效订单</th>\n",
       "      <th>笔单价(元)</th>\n",
       "      <th>顾客实付金额(元)</th>\n",
       "      <th>顾客实付笔单价(元)</th>\n",
       "      <th>总支出(元)</th>\n",
       "      <th>商家补贴(元)</th>\n",
       "      <th>商家补贴力度</th>\n",
       "      <th>流失订单</th>\n",
       "      <th>流失订单预计损失(元)</th>\n",
       "      <th>用户原因流失订单</th>\n",
       "      <th>配送原因流失订单数</th>\n",
       "      <th>商家原因流失订单数</th>\n",
       "      <th>其他原因流失订单数</th>\n",
       "      <th>商品金额</th>\n",
       "      <th>包装费</th>\n",
       "      <th>配送费</th>\n",
       "      <th>开始日</th>\n",
       "      <th>结束日</th>\n",
       "      <th>流失订单率</th>\n",
       "    </tr>\n",
       "  </thead>\n",
       "  <tbody>\n",
       "    <tr>\n",
       "      <th>17</th>\n",
       "      <td>22267202676</td>\n",
       "      <td>花非花科技（原邂逅花坊）</td>\n",
       "      <td>合肥</td>\n",
       "      <td>300682435</td>\n",
       "      <td>邂逅花坊（悦禧婚庆花艺馆金梅路店）</td>\n",
       "      <td>2228.0</td>\n",
       "      <td>1272.6</td>\n",
       "      <td>12</td>\n",
       "      <td>185.67</td>\n",
       "      <td>1401.5</td>\n",
       "      <td>116.79</td>\n",
       "      <td>955.4</td>\n",
       "      <td>814.0</td>\n",
       "      <td>0.37</td>\n",
       "      <td>3</td>\n",
       "      <td>341.0</td>\n",
       "      <td>0</td>\n",
       "      <td>0</td>\n",
       "      <td>3</td>\n",
       "      <td>0</td>\n",
       "      <td>2228.0</td>\n",
       "      <td>0</td>\n",
       "      <td>0.0</td>\n",
       "      <td>20201001</td>\n",
       "      <td>20201122</td>\n",
       "      <td>0.250000</td>\n",
       "    </tr>\n",
       "    <tr>\n",
       "      <th>211</th>\n",
       "      <td>22267202676</td>\n",
       "      <td>花非花科技（原邂逅花坊）</td>\n",
       "      <td>铜仁</td>\n",
       "      <td>2036101238</td>\n",
       "      <td>邂逅花坊（花之语花卉新滩路店）</td>\n",
       "      <td>2539.0</td>\n",
       "      <td>2042.1</td>\n",
       "      <td>14</td>\n",
       "      <td>181.36</td>\n",
       "      <td>2247.6</td>\n",
       "      <td>160.54</td>\n",
       "      <td>496.9</td>\n",
       "      <td>270.0</td>\n",
       "      <td>0.11</td>\n",
       "      <td>4</td>\n",
       "      <td>471.5</td>\n",
       "      <td>0</td>\n",
       "      <td>0</td>\n",
       "      <td>4</td>\n",
       "      <td>0</td>\n",
       "      <td>2539.0</td>\n",
       "      <td>0</td>\n",
       "      <td>0.0</td>\n",
       "      <td>20201001</td>\n",
       "      <td>20201122</td>\n",
       "      <td>0.285714</td>\n",
       "    </tr>\n",
       "    <tr>\n",
       "      <th>393</th>\n",
       "      <td>22267202676</td>\n",
       "      <td>花非花科技（原邂逅花坊）</td>\n",
       "      <td>中山</td>\n",
       "      <td>2036902650</td>\n",
       "      <td>邂逅花坊（缘之缘花店芙中路店）</td>\n",
       "      <td>156.0</td>\n",
       "      <td>70.2</td>\n",
       "      <td>1</td>\n",
       "      <td>156.00</td>\n",
       "      <td>73.8</td>\n",
       "      <td>73.80</td>\n",
       "      <td>85.8</td>\n",
       "      <td>78.0</td>\n",
       "      <td>0.50</td>\n",
       "      <td>3</td>\n",
       "      <td>431.0</td>\n",
       "      <td>0</td>\n",
       "      <td>0</td>\n",
       "      <td>3</td>\n",
       "      <td>0</td>\n",
       "      <td>156.0</td>\n",
       "      <td>0</td>\n",
       "      <td>0.0</td>\n",
       "      <td>20201001</td>\n",
       "      <td>20201122</td>\n",
       "      <td>3.000000</td>\n",
       "    </tr>\n",
       "    <tr>\n",
       "      <th>689</th>\n",
       "      <td>22267202676</td>\n",
       "      <td>花非花科技（原邂逅花坊）</td>\n",
       "      <td>西安</td>\n",
       "      <td>167744305</td>\n",
       "      <td>邂逅花坊（娄敬路店）</td>\n",
       "      <td>1631.0</td>\n",
       "      <td>1111.5</td>\n",
       "      <td>10</td>\n",
       "      <td>163.10</td>\n",
       "      <td>1220.0</td>\n",
       "      <td>122.00</td>\n",
       "      <td>519.5</td>\n",
       "      <td>396.0</td>\n",
       "      <td>0.24</td>\n",
       "      <td>6</td>\n",
       "      <td>752.5</td>\n",
       "      <td>3</td>\n",
       "      <td>0</td>\n",
       "      <td>3</td>\n",
       "      <td>0</td>\n",
       "      <td>1631.0</td>\n",
       "      <td>0</td>\n",
       "      <td>0.0</td>\n",
       "      <td>20201001</td>\n",
       "      <td>20201122</td>\n",
       "      <td>0.300000</td>\n",
       "    </tr>\n",
       "    <tr>\n",
       "      <th>949</th>\n",
       "      <td>22267202676</td>\n",
       "      <td>花非花科技（原邂逅花坊）</td>\n",
       "      <td>黑河</td>\n",
       "      <td>304892608</td>\n",
       "      <td>邂逅花坊（芬芳鲜花店德都大街店）</td>\n",
       "      <td>1818.0</td>\n",
       "      <td>1139.4</td>\n",
       "      <td>12</td>\n",
       "      <td>151.50</td>\n",
       "      <td>1257.5</td>\n",
       "      <td>104.79</td>\n",
       "      <td>678.6</td>\n",
       "      <td>552.0</td>\n",
       "      <td>0.30</td>\n",
       "      <td>4</td>\n",
       "      <td>477.0</td>\n",
       "      <td>1</td>\n",
       "      <td>0</td>\n",
       "      <td>3</td>\n",
       "      <td>0</td>\n",
       "      <td>1818.0</td>\n",
       "      <td>0</td>\n",
       "      <td>0.0</td>\n",
       "      <td>20201001</td>\n",
       "      <td>20201122</td>\n",
       "      <td>0.250000</td>\n",
       "    </tr>\n",
       "  </tbody>\n",
       "</table>\n",
       "</div>"
      ],
      "text/plain": [
       "           供应商ID          供应商名 城市名        门店ID               门店名称  总成交额(元)  \\\n",
       "17   22267202676  花非花科技（原邂逅花坊）  合肥   300682435  邂逅花坊（悦禧婚庆花艺馆金梅路店）   2228.0   \n",
       "211  22267202676  花非花科技（原邂逅花坊）  铜仁  2036101238    邂逅花坊（花之语花卉新滩路店）   2539.0   \n",
       "393  22267202676  花非花科技（原邂逅花坊）  中山  2036902650    邂逅花坊（缘之缘花店芙中路店）    156.0   \n",
       "689  22267202676  花非花科技（原邂逅花坊）  西安   167744305         邂逅花坊（娄敬路店）   1631.0   \n",
       "949  22267202676  花非花科技（原邂逅花坊）  黑河   304892608   邂逅花坊（芬芳鲜花店德都大街店）   1818.0   \n",
       "\n",
       "     预计收入(元)  有效订单  笔单价(元)  顾客实付金额(元)  顾客实付笔单价(元)  总支出(元)  商家补贴(元)  商家补贴力度  \\\n",
       "17    1272.6    12  185.67     1401.5      116.79   955.4    814.0    0.37   \n",
       "211   2042.1    14  181.36     2247.6      160.54   496.9    270.0    0.11   \n",
       "393     70.2     1  156.00       73.8       73.80    85.8     78.0    0.50   \n",
       "689   1111.5    10  163.10     1220.0      122.00   519.5    396.0    0.24   \n",
       "949   1139.4    12  151.50     1257.5      104.79   678.6    552.0    0.30   \n",
       "\n",
       "     流失订单  流失订单预计损失(元)  用户原因流失订单  配送原因流失订单数  商家原因流失订单数  其他原因流失订单数    商品金额  \\\n",
       "17      3        341.0         0          0          3          0  2228.0   \n",
       "211     4        471.5         0          0          4          0  2539.0   \n",
       "393     3        431.0         0          0          3          0   156.0   \n",
       "689     6        752.5         3          0          3          0  1631.0   \n",
       "949     4        477.0         1          0          3          0  1818.0   \n",
       "\n",
       "     包装费  配送费       开始日       结束日     流失订单率  \n",
       "17     0  0.0  20201001  20201122  0.250000  \n",
       "211    0  0.0  20201001  20201122  0.285714  \n",
       "393    0  0.0  20201001  20201122  3.000000  \n",
       "689    0  0.0  20201001  20201122  0.300000  \n",
       "949    0  0.0  20201001  20201122  0.250000  "
      ]
     },
     "execution_count": 36,
     "metadata": {},
     "output_type": "execute_result"
    }
   ],
   "source": [
    "df3"
   ]
  },
  {
   "cell_type": "code",
   "execution_count": 38,
   "metadata": {},
   "outputs": [],
   "source": [
    "df = pd.concat([df1,df2,df3],axis=0)"
   ]
  },
  {
   "cell_type": "code",
   "execution_count": 47,
   "metadata": {},
   "outputs": [
    {
     "data": {
      "text/plain": [
       "供应商ID          14\n",
       "供应商名           14\n",
       "城市名            14\n",
       "门店ID           14\n",
       "门店名称           14\n",
       "总成交额(元)        14\n",
       "预计收入(元)        14\n",
       "有效订单           14\n",
       "笔单价(元)         14\n",
       "顾客实付金额(元)      14\n",
       "顾客实付笔单价(元)     14\n",
       "总支出(元)         14\n",
       "商家补贴(元)        14\n",
       "商家补贴力度         14\n",
       "流失订单           14\n",
       "流失订单预计损失(元)    14\n",
       "用户原因流失订单       14\n",
       "配送原因流失订单数      14\n",
       "商家原因流失订单数      14\n",
       "其他原因流失订单数      14\n",
       "商品金额           14\n",
       "包装费            14\n",
       "配送费            14\n",
       "开始日            14\n",
       "结束日            14\n",
       "流失订单率          14\n",
       "dtype: int64"
      ]
     },
     "execution_count": 47,
     "metadata": {},
     "output_type": "execute_result"
    }
   ],
   "source": [
    "df.count()"
   ]
  },
  {
   "cell_type": "code",
   "execution_count": 48,
   "metadata": {},
   "outputs": [],
   "source": [
    "data = data[data['有效订单'] <= 0]"
   ]
  },
  {
   "cell_type": "code",
   "execution_count": 49,
   "metadata": {},
   "outputs": [],
   "source": [
    "ddf = pd.concat([df,data],axis=0)"
   ]
  },
  {
   "cell_type": "code",
   "execution_count": 50,
   "metadata": {},
   "outputs": [],
   "source": [
    "ddf = ddf.drop_duplicates(subset='门店ID',inplace=False)"
   ]
  },
  {
   "cell_type": "code",
   "execution_count": 52,
   "metadata": {},
   "outputs": [],
   "source": [
    "ddf.to_csv('ddf.csv')"
   ]
  },
  {
   "cell_type": "code",
   "execution_count": null,
   "metadata": {},
   "outputs": [],
   "source": []
  }
 ],
 "metadata": {
  "kernelspec": {
   "display_name": "Python 3",
   "language": "python",
   "name": "python3"
  },
  "language_info": {
   "codemirror_mode": {
    "name": "ipython",
    "version": 3
   },
   "file_extension": ".py",
   "mimetype": "text/x-python",
   "name": "python",
   "nbconvert_exporter": "python",
   "pygments_lexer": "ipython3",
   "version": "3.8.3"
  }
 },
 "nbformat": 4,
 "nbformat_minor": 4
}

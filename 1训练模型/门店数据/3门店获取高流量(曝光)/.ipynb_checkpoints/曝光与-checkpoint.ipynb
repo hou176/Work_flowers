{
 "cells": [
  {
   "cell_type": "code",
   "execution_count": 1,
   "metadata": {},
   "outputs": [],
   "source": [
    "import pandas as  pd \n",
    "import numpy as np\n",
    "import glob\n",
    "# pd.set_option('display.max_columns',None)\n",
    "pd.set_option('display.max_columns',None)"
   ]
  },
  {
   "cell_type": "code",
   "execution_count": 2,
   "metadata": {},
   "outputs": [],
   "source": [
    "data = pd.read_csv(r\"C:\\Users\\Administrator\\Datas\\训练数据\\门店数据\\1-1.csv\",encoding = 'gbk')\n",
    "# data"
   ]
  },
  {
   "cell_type": "code",
   "execution_count": 3,
   "metadata": {},
   "outputs": [],
   "source": [
    "# 查看数据data的异常值  "
   ]
  },
  {
   "cell_type": "code",
   "execution_count": 4,
   "metadata": {},
   "outputs": [
    {
     "data": {
      "text/html": [
       "<div>\n",
       "<style scoped>\n",
       "    .dataframe tbody tr th:only-of-type {\n",
       "        vertical-align: middle;\n",
       "    }\n",
       "\n",
       "    .dataframe tbody tr th {\n",
       "        vertical-align: top;\n",
       "    }\n",
       "\n",
       "    .dataframe thead th {\n",
       "        text-align: right;\n",
       "    }\n",
       "</style>\n",
       "<table border=\"1\" class=\"dataframe\">\n",
       "  <thead>\n",
       "    <tr style=\"text-align: right;\">\n",
       "      <th></th>\n",
       "      <th>开始日期</th>\n",
       "      <th>结束日期</th>\n",
       "      <th>商家ID</th>\n",
       "      <th>首次上线日期</th>\n",
       "      <th>（日均）预设营业时长（h）</th>\n",
       "      <th>（日均）在线营业时长（h）</th>\n",
       "      <th>曝光人数</th>\n",
       "      <th>入店人数</th>\n",
       "      <th>下单人数</th>\n",
       "      <th>下单新客人数</th>\n",
       "      <th>入店转化率</th>\n",
       "      <th>下单转化率</th>\n",
       "      <th>推单数</th>\n",
       "      <th>有效订单数</th>\n",
       "      <th>原价交易额</th>\n",
       "      <th>实付交易额</th>\n",
       "      <th>商家补贴金额</th>\n",
       "      <th>商家原因取消订单数</th>\n",
       "      <th>商家拒单数</th>\n",
       "      <th>商家超时未接单数</th>\n",
       "      <th>商家取消不告知用户订单数</th>\n",
       "      <th>缺货导致退款订单数</th>\n",
       "      <th>商家少送错送导致用户退款订单数</th>\n",
       "      <th>商家质量问题导致用户退款订单数</th>\n",
       "      <th>配送原因取消订单数</th>\n",
       "      <th>拣货超时订单数</th>\n",
       "      <th>使用间或完成按钮订单数</th>\n",
       "      <th>平均骑手到店等待时间（min）</th>\n",
       "      <th>平均骑手送货时长（min）</th>\n",
       "      <th>IM会话数</th>\n",
       "      <th>IM回复数</th>\n",
       "      <th>IM回复率</th>\n",
       "      <th>IM1分钟回复数</th>\n",
       "      <th>差评订单数</th>\n",
       "      <th>投诉订单数</th>\n",
       "      <th>平均商家评分</th>\n",
       "      <th>平均商品评分</th>\n",
       "      <th>平均配送评分</th>\n",
       "      <th>平均配送时长（min）</th>\n",
       "      <th>资质类型（仅药品）</th>\n",
       "      <th>资质有效期（仅药品）</th>\n",
       "    </tr>\n",
       "  </thead>\n",
       "  <tbody>\n",
       "    <tr>\n",
       "      <th>count</th>\n",
       "      <td>346.0</td>\n",
       "      <td>346.0</td>\n",
       "      <td>3.460000e+02</td>\n",
       "      <td>3.460000e+02</td>\n",
       "      <td>346.000000</td>\n",
       "      <td>346.000000</td>\n",
       "      <td>346.000000</td>\n",
       "      <td>346.000000</td>\n",
       "      <td>346.000000</td>\n",
       "      <td>346.000000</td>\n",
       "      <td>346.000000</td>\n",
       "      <td>346.00000</td>\n",
       "      <td>346.000000</td>\n",
       "      <td>346.000000</td>\n",
       "      <td>346.000000</td>\n",
       "      <td>346.000000</td>\n",
       "      <td>346.000000</td>\n",
       "      <td>346.000000</td>\n",
       "      <td>346.000000</td>\n",
       "      <td>346.000000</td>\n",
       "      <td>346.00000</td>\n",
       "      <td>346.000000</td>\n",
       "      <td>346.0</td>\n",
       "      <td>346.00000</td>\n",
       "      <td>346.000000</td>\n",
       "      <td>346.000000</td>\n",
       "      <td>346.000000</td>\n",
       "      <td>346.00000</td>\n",
       "      <td>346.000000</td>\n",
       "      <td>346.000000</td>\n",
       "      <td>346.000000</td>\n",
       "      <td>346.000000</td>\n",
       "      <td>346.000000</td>\n",
       "      <td>346.000000</td>\n",
       "      <td>346.000000</td>\n",
       "      <td>346.000000</td>\n",
       "      <td>346.000000</td>\n",
       "      <td>346.000000</td>\n",
       "      <td>346.000000</td>\n",
       "      <td>0.0</td>\n",
       "      <td>0.0</td>\n",
       "    </tr>\n",
       "    <tr>\n",
       "      <th>mean</th>\n",
       "      <td>20200101.0</td>\n",
       "      <td>20200131.0</td>\n",
       "      <td>6.715959e+06</td>\n",
       "      <td>2.018781e+07</td>\n",
       "      <td>18.468208</td>\n",
       "      <td>18.704913</td>\n",
       "      <td>9949.841040</td>\n",
       "      <td>181.430636</td>\n",
       "      <td>5.696532</td>\n",
       "      <td>3.901734</td>\n",
       "      <td>1.860058</td>\n",
       "      <td>2.79026</td>\n",
       "      <td>5.771676</td>\n",
       "      <td>4.696532</td>\n",
       "      <td>2037.917110</td>\n",
       "      <td>638.298006</td>\n",
       "      <td>1550.374855</td>\n",
       "      <td>0.456647</td>\n",
       "      <td>0.216763</td>\n",
       "      <td>0.173410</td>\n",
       "      <td>0.00289</td>\n",
       "      <td>0.060694</td>\n",
       "      <td>0.0</td>\n",
       "      <td>0.00289</td>\n",
       "      <td>0.008671</td>\n",
       "      <td>0.086705</td>\n",
       "      <td>5.283237</td>\n",
       "      <td>0.00289</td>\n",
       "      <td>0.080925</td>\n",
       "      <td>2.765896</td>\n",
       "      <td>2.176301</td>\n",
       "      <td>49.334566</td>\n",
       "      <td>0.852601</td>\n",
       "      <td>0.026012</td>\n",
       "      <td>0.026012</td>\n",
       "      <td>0.656358</td>\n",
       "      <td>0.656358</td>\n",
       "      <td>0.609538</td>\n",
       "      <td>0.118497</td>\n",
       "      <td>NaN</td>\n",
       "      <td>NaN</td>\n",
       "    </tr>\n",
       "    <tr>\n",
       "      <th>std</th>\n",
       "      <td>0.0</td>\n",
       "      <td>0.0</td>\n",
       "      <td>1.870959e+06</td>\n",
       "      <td>8.373954e+03</td>\n",
       "      <td>5.456588</td>\n",
       "      <td>5.354495</td>\n",
       "      <td>7671.642541</td>\n",
       "      <td>209.794854</td>\n",
       "      <td>9.934151</td>\n",
       "      <td>7.849058</td>\n",
       "      <td>1.372975</td>\n",
       "      <td>3.38094</td>\n",
       "      <td>10.090455</td>\n",
       "      <td>9.279108</td>\n",
       "      <td>5040.931753</td>\n",
       "      <td>1388.150017</td>\n",
       "      <td>4308.164676</td>\n",
       "      <td>0.947689</td>\n",
       "      <td>0.691025</td>\n",
       "      <td>0.455547</td>\n",
       "      <td>0.05376</td>\n",
       "      <td>0.262239</td>\n",
       "      <td>0.0</td>\n",
       "      <td>0.05376</td>\n",
       "      <td>0.092845</td>\n",
       "      <td>0.692399</td>\n",
       "      <td>10.321533</td>\n",
       "      <td>0.05376</td>\n",
       "      <td>0.515651</td>\n",
       "      <td>4.395662</td>\n",
       "      <td>3.838118</td>\n",
       "      <td>45.319985</td>\n",
       "      <td>2.186575</td>\n",
       "      <td>0.176651</td>\n",
       "      <td>0.176651</td>\n",
       "      <td>1.394493</td>\n",
       "      <td>1.394493</td>\n",
       "      <td>1.339888</td>\n",
       "      <td>0.738470</td>\n",
       "      <td>NaN</td>\n",
       "      <td>NaN</td>\n",
       "    </tr>\n",
       "    <tr>\n",
       "      <th>min</th>\n",
       "      <td>20200101.0</td>\n",
       "      <td>20200131.0</td>\n",
       "      <td>2.956800e+05</td>\n",
       "      <td>2.015072e+07</td>\n",
       "      <td>2.000000</td>\n",
       "      <td>2.400000</td>\n",
       "      <td>204.000000</td>\n",
       "      <td>7.000000</td>\n",
       "      <td>0.000000</td>\n",
       "      <td>0.000000</td>\n",
       "      <td>0.270000</td>\n",
       "      <td>0.00000</td>\n",
       "      <td>0.000000</td>\n",
       "      <td>0.000000</td>\n",
       "      <td>0.000000</td>\n",
       "      <td>0.000000</td>\n",
       "      <td>0.000000</td>\n",
       "      <td>0.000000</td>\n",
       "      <td>0.000000</td>\n",
       "      <td>0.000000</td>\n",
       "      <td>0.00000</td>\n",
       "      <td>0.000000</td>\n",
       "      <td>0.0</td>\n",
       "      <td>0.00000</td>\n",
       "      <td>0.000000</td>\n",
       "      <td>0.000000</td>\n",
       "      <td>0.000000</td>\n",
       "      <td>0.00000</td>\n",
       "      <td>0.000000</td>\n",
       "      <td>0.000000</td>\n",
       "      <td>0.000000</td>\n",
       "      <td>0.000000</td>\n",
       "      <td>0.000000</td>\n",
       "      <td>0.000000</td>\n",
       "      <td>0.000000</td>\n",
       "      <td>0.000000</td>\n",
       "      <td>0.000000</td>\n",
       "      <td>0.000000</td>\n",
       "      <td>0.000000</td>\n",
       "      <td>NaN</td>\n",
       "      <td>NaN</td>\n",
       "    </tr>\n",
       "    <tr>\n",
       "      <th>25%</th>\n",
       "      <td>20200101.0</td>\n",
       "      <td>20200131.0</td>\n",
       "      <td>6.552539e+06</td>\n",
       "      <td>2.019032e+07</td>\n",
       "      <td>14.000000</td>\n",
       "      <td>14.825000</td>\n",
       "      <td>4537.750000</td>\n",
       "      <td>60.000000</td>\n",
       "      <td>1.000000</td>\n",
       "      <td>0.000000</td>\n",
       "      <td>1.070000</td>\n",
       "      <td>0.51500</td>\n",
       "      <td>0.000000</td>\n",
       "      <td>0.000000</td>\n",
       "      <td>0.000000</td>\n",
       "      <td>0.000000</td>\n",
       "      <td>0.000000</td>\n",
       "      <td>0.000000</td>\n",
       "      <td>0.000000</td>\n",
       "      <td>0.000000</td>\n",
       "      <td>0.00000</td>\n",
       "      <td>0.000000</td>\n",
       "      <td>0.0</td>\n",
       "      <td>0.00000</td>\n",
       "      <td>0.000000</td>\n",
       "      <td>0.000000</td>\n",
       "      <td>0.000000</td>\n",
       "      <td>0.00000</td>\n",
       "      <td>0.000000</td>\n",
       "      <td>0.000000</td>\n",
       "      <td>0.000000</td>\n",
       "      <td>0.000000</td>\n",
       "      <td>0.000000</td>\n",
       "      <td>0.000000</td>\n",
       "      <td>0.000000</td>\n",
       "      <td>0.000000</td>\n",
       "      <td>0.000000</td>\n",
       "      <td>0.000000</td>\n",
       "      <td>0.000000</td>\n",
       "      <td>NaN</td>\n",
       "      <td>NaN</td>\n",
       "    </tr>\n",
       "    <tr>\n",
       "      <th>50%</th>\n",
       "      <td>20200101.0</td>\n",
       "      <td>20200131.0</td>\n",
       "      <td>7.349056e+06</td>\n",
       "      <td>2.019072e+07</td>\n",
       "      <td>19.000000</td>\n",
       "      <td>19.200000</td>\n",
       "      <td>7930.000000</td>\n",
       "      <td>122.500000</td>\n",
       "      <td>2.000000</td>\n",
       "      <td>1.000000</td>\n",
       "      <td>1.465000</td>\n",
       "      <td>1.86000</td>\n",
       "      <td>2.000000</td>\n",
       "      <td>1.000000</td>\n",
       "      <td>298.000000</td>\n",
       "      <td>143.000000</td>\n",
       "      <td>186.000000</td>\n",
       "      <td>0.000000</td>\n",
       "      <td>0.000000</td>\n",
       "      <td>0.000000</td>\n",
       "      <td>0.00000</td>\n",
       "      <td>0.000000</td>\n",
       "      <td>0.0</td>\n",
       "      <td>0.00000</td>\n",
       "      <td>0.000000</td>\n",
       "      <td>0.000000</td>\n",
       "      <td>1.000000</td>\n",
       "      <td>0.00000</td>\n",
       "      <td>0.000000</td>\n",
       "      <td>1.500000</td>\n",
       "      <td>1.000000</td>\n",
       "      <td>50.000000</td>\n",
       "      <td>0.000000</td>\n",
       "      <td>0.000000</td>\n",
       "      <td>0.000000</td>\n",
       "      <td>0.000000</td>\n",
       "      <td>0.000000</td>\n",
       "      <td>0.000000</td>\n",
       "      <td>0.000000</td>\n",
       "      <td>NaN</td>\n",
       "      <td>NaN</td>\n",
       "    </tr>\n",
       "    <tr>\n",
       "      <th>75%</th>\n",
       "      <td>20200101.0</td>\n",
       "      <td>20200131.0</td>\n",
       "      <td>7.934076e+06</td>\n",
       "      <td>2.019113e+07</td>\n",
       "      <td>24.000000</td>\n",
       "      <td>24.000000</td>\n",
       "      <td>12914.750000</td>\n",
       "      <td>216.000000</td>\n",
       "      <td>6.000000</td>\n",
       "      <td>4.000000</td>\n",
       "      <td>2.250000</td>\n",
       "      <td>3.71750</td>\n",
       "      <td>6.000000</td>\n",
       "      <td>4.750000</td>\n",
       "      <td>1467.000000</td>\n",
       "      <td>637.522500</td>\n",
       "      <td>907.000000</td>\n",
       "      <td>1.000000</td>\n",
       "      <td>0.000000</td>\n",
       "      <td>0.000000</td>\n",
       "      <td>0.00000</td>\n",
       "      <td>0.000000</td>\n",
       "      <td>0.0</td>\n",
       "      <td>0.00000</td>\n",
       "      <td>0.000000</td>\n",
       "      <td>0.000000</td>\n",
       "      <td>5.000000</td>\n",
       "      <td>0.00000</td>\n",
       "      <td>0.000000</td>\n",
       "      <td>3.000000</td>\n",
       "      <td>3.000000</td>\n",
       "      <td>100.000000</td>\n",
       "      <td>1.000000</td>\n",
       "      <td>0.000000</td>\n",
       "      <td>0.000000</td>\n",
       "      <td>0.000000</td>\n",
       "      <td>0.000000</td>\n",
       "      <td>0.000000</td>\n",
       "      <td>0.000000</td>\n",
       "      <td>NaN</td>\n",
       "      <td>NaN</td>\n",
       "    </tr>\n",
       "    <tr>\n",
       "      <th>max</th>\n",
       "      <td>20200101.0</td>\n",
       "      <td>20200131.0</td>\n",
       "      <td>8.472855e+06</td>\n",
       "      <td>2.020012e+07</td>\n",
       "      <td>24.000000</td>\n",
       "      <td>24.000000</td>\n",
       "      <td>52616.000000</td>\n",
       "      <td>2053.000000</td>\n",
       "      <td>93.000000</td>\n",
       "      <td>67.000000</td>\n",
       "      <td>12.450000</td>\n",
       "      <td>28.57000</td>\n",
       "      <td>87.000000</td>\n",
       "      <td>79.000000</td>\n",
       "      <td>43668.000000</td>\n",
       "      <td>11778.100000</td>\n",
       "      <td>42094.570000</td>\n",
       "      <td>6.000000</td>\n",
       "      <td>6.000000</td>\n",
       "      <td>3.000000</td>\n",
       "      <td>1.00000</td>\n",
       "      <td>2.000000</td>\n",
       "      <td>0.0</td>\n",
       "      <td>1.00000</td>\n",
       "      <td>1.000000</td>\n",
       "      <td>11.000000</td>\n",
       "      <td>90.000000</td>\n",
       "      <td>1.00000</td>\n",
       "      <td>5.000000</td>\n",
       "      <td>32.000000</td>\n",
       "      <td>25.000000</td>\n",
       "      <td>100.000000</td>\n",
       "      <td>20.000000</td>\n",
       "      <td>2.000000</td>\n",
       "      <td>2.000000</td>\n",
       "      <td>5.000000</td>\n",
       "      <td>5.000000</td>\n",
       "      <td>5.000000</td>\n",
       "      <td>7.000000</td>\n",
       "      <td>NaN</td>\n",
       "      <td>NaN</td>\n",
       "    </tr>\n",
       "  </tbody>\n",
       "</table>\n",
       "</div>"
      ],
      "text/plain": [
       "             开始日期        结束日期          商家ID        首次上线日期  （日均）预设营业时长（h）  \\\n",
       "count       346.0       346.0  3.460000e+02  3.460000e+02     346.000000   \n",
       "mean   20200101.0  20200131.0  6.715959e+06  2.018781e+07      18.468208   \n",
       "std           0.0         0.0  1.870959e+06  8.373954e+03       5.456588   \n",
       "min    20200101.0  20200131.0  2.956800e+05  2.015072e+07       2.000000   \n",
       "25%    20200101.0  20200131.0  6.552539e+06  2.019032e+07      14.000000   \n",
       "50%    20200101.0  20200131.0  7.349056e+06  2.019072e+07      19.000000   \n",
       "75%    20200101.0  20200131.0  7.934076e+06  2.019113e+07      24.000000   \n",
       "max    20200101.0  20200131.0  8.472855e+06  2.020012e+07      24.000000   \n",
       "\n",
       "       （日均）在线营业时长（h）          曝光人数         入店人数        下单人数      下单新客人数  \\\n",
       "count     346.000000    346.000000   346.000000  346.000000  346.000000   \n",
       "mean       18.704913   9949.841040   181.430636    5.696532    3.901734   \n",
       "std         5.354495   7671.642541   209.794854    9.934151    7.849058   \n",
       "min         2.400000    204.000000     7.000000    0.000000    0.000000   \n",
       "25%        14.825000   4537.750000    60.000000    1.000000    0.000000   \n",
       "50%        19.200000   7930.000000   122.500000    2.000000    1.000000   \n",
       "75%        24.000000  12914.750000   216.000000    6.000000    4.000000   \n",
       "max        24.000000  52616.000000  2053.000000   93.000000   67.000000   \n",
       "\n",
       "            入店转化率      下单转化率         推单数       有效订单数         原价交易额  \\\n",
       "count  346.000000  346.00000  346.000000  346.000000    346.000000   \n",
       "mean     1.860058    2.79026    5.771676    4.696532   2037.917110   \n",
       "std      1.372975    3.38094   10.090455    9.279108   5040.931753   \n",
       "min      0.270000    0.00000    0.000000    0.000000      0.000000   \n",
       "25%      1.070000    0.51500    0.000000    0.000000      0.000000   \n",
       "50%      1.465000    1.86000    2.000000    1.000000    298.000000   \n",
       "75%      2.250000    3.71750    6.000000    4.750000   1467.000000   \n",
       "max     12.450000   28.57000   87.000000   79.000000  43668.000000   \n",
       "\n",
       "              实付交易额        商家补贴金额   商家原因取消订单数       商家拒单数    商家超时未接单数  \\\n",
       "count    346.000000    346.000000  346.000000  346.000000  346.000000   \n",
       "mean     638.298006   1550.374855    0.456647    0.216763    0.173410   \n",
       "std     1388.150017   4308.164676    0.947689    0.691025    0.455547   \n",
       "min        0.000000      0.000000    0.000000    0.000000    0.000000   \n",
       "25%        0.000000      0.000000    0.000000    0.000000    0.000000   \n",
       "50%      143.000000    186.000000    0.000000    0.000000    0.000000   \n",
       "75%      637.522500    907.000000    1.000000    0.000000    0.000000   \n",
       "max    11778.100000  42094.570000    6.000000    6.000000    3.000000   \n",
       "\n",
       "       商家取消不告知用户订单数   缺货导致退款订单数  商家少送错送导致用户退款订单数  商家质量问题导致用户退款订单数   配送原因取消订单数  \\\n",
       "count     346.00000  346.000000            346.0        346.00000  346.000000   \n",
       "mean        0.00289    0.060694              0.0          0.00289    0.008671   \n",
       "std         0.05376    0.262239              0.0          0.05376    0.092845   \n",
       "min         0.00000    0.000000              0.0          0.00000    0.000000   \n",
       "25%         0.00000    0.000000              0.0          0.00000    0.000000   \n",
       "50%         0.00000    0.000000              0.0          0.00000    0.000000   \n",
       "75%         0.00000    0.000000              0.0          0.00000    0.000000   \n",
       "max         1.00000    2.000000              0.0          1.00000    1.000000   \n",
       "\n",
       "          拣货超时订单数  使用间或完成按钮订单数  平均骑手到店等待时间（min）  平均骑手送货时长（min）       IM会话数  \\\n",
       "count  346.000000   346.000000        346.00000     346.000000  346.000000   \n",
       "mean     0.086705     5.283237          0.00289       0.080925    2.765896   \n",
       "std      0.692399    10.321533          0.05376       0.515651    4.395662   \n",
       "min      0.000000     0.000000          0.00000       0.000000    0.000000   \n",
       "25%      0.000000     0.000000          0.00000       0.000000    0.000000   \n",
       "50%      0.000000     1.000000          0.00000       0.000000    1.500000   \n",
       "75%      0.000000     5.000000          0.00000       0.000000    3.000000   \n",
       "max     11.000000    90.000000          1.00000       5.000000   32.000000   \n",
       "\n",
       "            IM回复数       IM回复率    IM1分钟回复数       差评订单数       投诉订单数      平均商家评分  \\\n",
       "count  346.000000  346.000000  346.000000  346.000000  346.000000  346.000000   \n",
       "mean     2.176301   49.334566    0.852601    0.026012    0.026012    0.656358   \n",
       "std      3.838118   45.319985    2.186575    0.176651    0.176651    1.394493   \n",
       "min      0.000000    0.000000    0.000000    0.000000    0.000000    0.000000   \n",
       "25%      0.000000    0.000000    0.000000    0.000000    0.000000    0.000000   \n",
       "50%      1.000000   50.000000    0.000000    0.000000    0.000000    0.000000   \n",
       "75%      3.000000  100.000000    1.000000    0.000000    0.000000    0.000000   \n",
       "max     25.000000  100.000000   20.000000    2.000000    2.000000    5.000000   \n",
       "\n",
       "           平均商品评分      平均配送评分  平均配送时长（min）  资质类型（仅药品）  资质有效期（仅药品）  \n",
       "count  346.000000  346.000000   346.000000        0.0         0.0  \n",
       "mean     0.656358    0.609538     0.118497        NaN         NaN  \n",
       "std      1.394493    1.339888     0.738470        NaN         NaN  \n",
       "min      0.000000    0.000000     0.000000        NaN         NaN  \n",
       "25%      0.000000    0.000000     0.000000        NaN         NaN  \n",
       "50%      0.000000    0.000000     0.000000        NaN         NaN  \n",
       "75%      0.000000    0.000000     0.000000        NaN         NaN  \n",
       "max      5.000000    5.000000     7.000000        NaN         NaN  "
      ]
     },
     "execution_count": 4,
     "metadata": {},
     "output_type": "execute_result"
    }
   ],
   "source": [
    "data = data[data['（日均）在线营业时长（h）']>1]\n",
    "data.describe()"
   ]
  },
  {
   "cell_type": "code",
   "execution_count": 5,
   "metadata": {},
   "outputs": [],
   "source": [
    "# data.isnull().any()\n",
    "\n",
    "# df1 = data[['商家ID','曝光人数','（日均）预设营业时长（h）','（日均）在线营业时长（h）','商家原因取消订单数','商家拒单数','商家超时未接单数','商家取消不告知用户订单数','缺货导致退款订单数','商家少送错送导致用户退款订单数','商家质量问题导致用户退款订单数','配送原因取消订单数','拣货超时订单数','使用间或完成按钮订单数','平均骑手送货时长（min）','平均骑手到店等待时间（min）','差评订单数','投诉订单数']]"
   ]
  },
  {
   "cell_type": "code",
   "execution_count": 6,
   "metadata": {
    "scrolled": true
   },
   "outputs": [
    {
     "data": {
      "text/plain": [
       "<matplotlib.axes._subplots.AxesSubplot at 0x2640ca2cef0>"
      ]
     },
     "execution_count": 6,
     "metadata": {},
     "output_type": "execute_result"
    },
    {
     "name": "stderr",
     "output_type": "stream",
     "text": [
      "e:\\python\\lib\\site-packages\\matplotlib\\backends\\backend_agg.py:214: RuntimeWarning: Glyph 26333 missing from current font.\n",
      "  font.set_text(s, 0.0, flags=flags)\n",
      "e:\\python\\lib\\site-packages\\matplotlib\\backends\\backend_agg.py:214: RuntimeWarning: Glyph 20809 missing from current font.\n",
      "  font.set_text(s, 0.0, flags=flags)\n",
      "e:\\python\\lib\\site-packages\\matplotlib\\backends\\backend_agg.py:214: RuntimeWarning: Glyph 20154 missing from current font.\n",
      "  font.set_text(s, 0.0, flags=flags)\n",
      "e:\\python\\lib\\site-packages\\matplotlib\\backends\\backend_agg.py:214: RuntimeWarning: Glyph 25968 missing from current font.\n",
      "  font.set_text(s, 0.0, flags=flags)\n",
      "e:\\python\\lib\\site-packages\\matplotlib\\backends\\backend_agg.py:183: RuntimeWarning: Glyph 26333 missing from current font.\n",
      "  font.set_text(s, 0, flags=flags)\n",
      "e:\\python\\lib\\site-packages\\matplotlib\\backends\\backend_agg.py:183: RuntimeWarning: Glyph 20809 missing from current font.\n",
      "  font.set_text(s, 0, flags=flags)\n",
      "e:\\python\\lib\\site-packages\\matplotlib\\backends\\backend_agg.py:183: RuntimeWarning: Glyph 20154 missing from current font.\n",
      "  font.set_text(s, 0, flags=flags)\n",
      "e:\\python\\lib\\site-packages\\matplotlib\\backends\\backend_agg.py:183: RuntimeWarning: Glyph 25968 missing from current font.\n",
      "  font.set_text(s, 0, flags=flags)\n"
     ]
    },
    {
     "data": {
      "image/png": "[encoded data removed]",
      "text/plain": [
       "<Figure size 432x288 with 1 Axes>"
      ]
     },
     "metadata": {
      "needs_background": "light"
     },
     "output_type": "display_data"
    }
   ],
   "source": [
    "# 查看曝光的异常值\n",
    "import matplotlib.pyplot as plt\n",
    "import matplotlib\n",
    "from pylab import mpl\n",
    "\n",
    "data.boxplot(['曝光人数'],showmeans = True)"
   ]
  },
  {
   "cell_type": "code",
   "execution_count": 7,
   "metadata": {},
   "outputs": [
    {
     "name": "stdout",
     "output_type": "stream",
     "text": [
      "4537.75\n",
      "12914.75\n",
      "8377.0\n",
      "25480.25\n"
     ]
    }
   ],
   "source": [
    "Q1 = np.percentile(data['曝光人数'],25)\n",
    "print(Q1)\n",
    "Q3 = np.percentile(data['曝光人数'],75)\n",
    "print(Q3)\n",
    "IQR = Q3 - Q1\n",
    "print(IQR)\n",
    "Q4 = Q3 + 1.5*IQR\n",
    "print(Q4)"
   ]
  },
  {
   "cell_type": "code",
   "execution_count": 8,
   "metadata": {},
   "outputs": [],
   "source": [
    "data = data[data['曝光人数'] < 25480]\n"
   ]
  },
  {
   "cell_type": "code",
   "execution_count": 9,
   "metadata": {},
   "outputs": [
    {
     "data": {
      "text/plain": [
       "开始日期                    NaN\n",
       "结束日期                    NaN\n",
       "商家ID              -0.078331\n",
       "首次上线日期            -0.093488\n",
       "（日均）预设营业时长（h）      0.353920\n",
       "（日均）在线营业时长（h）      0.354987\n",
       "曝光人数               1.000000\n",
       "入店人数               0.579871\n",
       "下单人数               0.311519\n",
       "下单新客人数             0.282980\n",
       "入店转化率             -0.016944\n",
       "下单转化率             -0.127479\n",
       "推单数                0.301376\n",
       "有效订单数              0.282807\n",
       "原价交易额              0.192606\n",
       "实付交易额              0.259973\n",
       "商家补贴金额             0.167687\n",
       "商家原因取消订单数          0.079982\n",
       "商家拒单数              0.146468\n",
       "商家超时未接单数          -0.080397\n",
       "商家取消不告知用户订单数       0.004890\n",
       "缺货导致退款订单数          0.082763\n",
       "商家少送错送导致用户退款订单数         NaN\n",
       "商家质量问题导致用户退款订单数   -0.067849\n",
       "配送原因取消订单数         -0.021151\n",
       "拣货超时订单数            0.025960\n",
       "使用间或完成按钮订单数        0.285699\n",
       "平均骑手到店等待时间（min）   -0.008519\n",
       "平均骑手送货时长（min）      0.038286\n",
       "IM会话数              0.372082\n",
       "IM回复数              0.347866\n",
       "IM回复率              0.228412\n",
       "IM1分钟回复数           0.272680\n",
       "差评订单数              0.039532\n",
       "投诉订单数              0.041091\n",
       "平均商家评分             0.266311\n",
       "平均商品评分             0.266311\n",
       "平均配送评分             0.259053\n",
       "平均配送时长（min）        0.042985\n",
       "资质类型（仅药品）               NaN\n",
       "资质有效期（仅药品）              NaN\n",
       "Name: 曝光人数, dtype: float64"
      ]
     },
     "execution_count": 9,
     "metadata": {},
     "output_type": "execute_result"
    }
   ],
   "source": [
    "data.corr()['曝光人数']"
   ]
  },
  {
   "cell_type": "code",
   "execution_count": 12,
   "metadata": {},
   "outputs": [
    {
     "data": {
      "text/plain": [
       "<matplotlib.axes._subplots.AxesSubplot at 0x26410f43fd0>"
      ]
     },
     "execution_count": 12,
     "metadata": {},
     "output_type": "execute_result"
    },
    {
     "name": "stderr",
     "output_type": "stream",
     "text": [
      "e:\\python\\lib\\site-packages\\matplotlib\\backends\\backend_agg.py:214: RuntimeWarning: Glyph 26333 missing from current font.\n",
      "  font.set_text(s, 0.0, flags=flags)\n",
      "e:\\python\\lib\\site-packages\\matplotlib\\backends\\backend_agg.py:214: RuntimeWarning: Glyph 20809 missing from current font.\n",
      "  font.set_text(s, 0.0, flags=flags)\n",
      "e:\\python\\lib\\site-packages\\matplotlib\\backends\\backend_agg.py:214: RuntimeWarning: Glyph 20154 missing from current font.\n",
      "  font.set_text(s, 0.0, flags=flags)\n",
      "e:\\python\\lib\\site-packages\\matplotlib\\backends\\backend_agg.py:214: RuntimeWarning: Glyph 25968 missing from current font.\n",
      "  font.set_text(s, 0.0, flags=flags)\n",
      "e:\\python\\lib\\site-packages\\matplotlib\\backends\\backend_agg.py:214: RuntimeWarning: Glyph 20837 missing from current font.\n",
      "  font.set_text(s, 0.0, flags=flags)\n",
      "e:\\python\\lib\\site-packages\\matplotlib\\backends\\backend_agg.py:214: RuntimeWarning: Glyph 24215 missing from current font.\n",
      "  font.set_text(s, 0.0, flags=flags)\n",
      "e:\\python\\lib\\site-packages\\matplotlib\\backends\\backend_agg.py:183: RuntimeWarning: Glyph 26333 missing from current font.\n",
      "  font.set_text(s, 0, flags=flags)\n",
      "e:\\python\\lib\\site-packages\\matplotlib\\backends\\backend_agg.py:183: RuntimeWarning: Glyph 20809 missing from current font.\n",
      "  font.set_text(s, 0, flags=flags)\n",
      "e:\\python\\lib\\site-packages\\matplotlib\\backends\\backend_agg.py:183: RuntimeWarning: Glyph 20154 missing from current font.\n",
      "  font.set_text(s, 0, flags=flags)\n",
      "e:\\python\\lib\\site-packages\\matplotlib\\backends\\backend_agg.py:183: RuntimeWarning: Glyph 25968 missing from current font.\n",
      "  font.set_text(s, 0, flags=flags)\n",
      "e:\\python\\lib\\site-packages\\matplotlib\\backends\\backend_agg.py:183: RuntimeWarning: Glyph 20837 missing from current font.\n",
      "  font.set_text(s, 0, flags=flags)\n",
      "e:\\python\\lib\\site-packages\\matplotlib\\backends\\backend_agg.py:183: RuntimeWarning: Glyph 24215 missing from current font.\n",
      "  font.set_text(s, 0, flags=flags)\n"
     ]
    },
    {
     "data": {
      "image/png": "[encoded data removed]",
      "text/plain": [
       "<Figure size 432x288 with 1 Axes>"
      ]
     },
     "metadata": {
      "needs_background": "light"
     },
     "output_type": "display_data"
    }
   ],
   "source": [
    "# 查看曝光跟其他指标的数值\n",
    "# 曝光   时间散点图\n",
    "mpl.rcParams['font.sans-serif'] = ['STZhongsong']    # 指定默认字体：解决plot不能显示中文问题\n",
    "mpl.rcParams['axes.unicode_minus'] = False    \n",
    "data.plot.scatter(y= '入店人数', x='曝光人数')"
   ]
  },
  {
   "cell_type": "code",
   "execution_count": 20,
   "metadata": {},
   "outputs": [
    {
     "data": {
      "text/plain": [
       "<matplotlib.axes._subplots.AxesSubplot at 0x2641284dcc0>"
      ]
     },
     "execution_count": 20,
     "metadata": {},
     "output_type": "execute_result"
    },
    {
     "data": {
      "image/png": "[encoded data removed]",
      "text/plain": [
       "<Figure size 432x288 with 1 Axes>"
      ]
     },
     "metadata": {
      "needs_background": "light"
     },
     "output_type": "display_data"
    }
   ],
   "source": [
    "data.plot.scatter(y= '商家补贴金额', x='曝光人数')"
   ]
  },
  {
   "cell_type": "code",
   "execution_count": 14,
   "metadata": {},
   "outputs": [
    {
     "data": {
      "text/plain": [
       "<matplotlib.axes._subplots.AxesSubplot at 0x264125a83c8>"
      ]
     },
     "execution_count": 14,
     "metadata": {},
     "output_type": "execute_result"
    },
    {
     "data": {
      "image/png": "[encoded data removed]",
      "text/plain": [
       "<Figure size 432x288 with 1 Axes>"
      ]
     },
     "metadata": {
      "needs_background": "light"
     },
     "output_type": "display_data"
    }
   ],
   "source": [
    "# Q3的曝光\n",
    "Q3_data = data[data['曝光人数'] > Q3]\n",
    "Q3_data.plot.scatter(y = '入店人数', x='曝光人数')"
   ]
  },
  {
   "cell_type": "code",
   "execution_count": 21,
   "metadata": {},
   "outputs": [
    {
     "data": {
      "text/plain": [
       "<matplotlib.axes._subplots.AxesSubplot at 0x26412889b38>"
      ]
     },
     "execution_count": 21,
     "metadata": {},
     "output_type": "execute_result"
    },
    {
     "data": {
      "image/png": "[encoded data removed]",
      "text/plain": [
       "<Figure size 432x288 with 1 Axes>"
      ]
     },
     "metadata": {
      "needs_background": "light"
     },
     "output_type": "display_data"
    }
   ],
   "source": [
    "Q3_data = data[data['曝光人数'] > Q3]\n",
    "Q3_data.plot.scatter(y = '商家补贴金额', x='曝光人数')"
   ]
  },
  {
   "cell_type": "code",
   "execution_count": null,
   "metadata": {},
   "outputs": [],
   "source": []
  },
  {
   "cell_type": "code",
   "execution_count": 23,
   "metadata": {},
   "outputs": [
    {
     "data": {
      "text/plain": [
       "<matplotlib.axes._subplots.AxesSubplot at 0x26412911be0>"
      ]
     },
     "execution_count": 23,
     "metadata": {},
     "output_type": "execute_result"
    },
    {
     "name": "stderr",
     "output_type": "stream",
     "text": [
      "e:\\python\\lib\\site-packages\\matplotlib\\backends\\backend_agg.py:214: RuntimeWarning: Glyph 26333 missing from current font.\n",
      "  font.set_text(s, 0.0, flags=flags)\n",
      "e:\\python\\lib\\site-packages\\matplotlib\\backends\\backend_agg.py:214: RuntimeWarning: Glyph 20809 missing from current font.\n",
      "  font.set_text(s, 0.0, flags=flags)\n",
      "e:\\python\\lib\\site-packages\\matplotlib\\backends\\backend_agg.py:214: RuntimeWarning: Glyph 20154 missing from current font.\n",
      "  font.set_text(s, 0.0, flags=flags)\n",
      "e:\\python\\lib\\site-packages\\matplotlib\\backends\\backend_agg.py:214: RuntimeWarning: Glyph 25968 missing from current font.\n",
      "  font.set_text(s, 0.0, flags=flags)\n",
      "e:\\python\\lib\\site-packages\\matplotlib\\backends\\backend_agg.py:214: RuntimeWarning: Glyph 20837 missing from current font.\n",
      "  font.set_text(s, 0.0, flags=flags)\n",
      "e:\\python\\lib\\site-packages\\matplotlib\\backends\\backend_agg.py:214: RuntimeWarning: Glyph 24215 missing from current font.\n",
      "  font.set_text(s, 0.0, flags=flags)\n",
      "e:\\python\\lib\\site-packages\\matplotlib\\backends\\backend_agg.py:183: RuntimeWarning: Glyph 26333 missing from current font.\n",
      "  font.set_text(s, 0, flags=flags)\n",
      "e:\\python\\lib\\site-packages\\matplotlib\\backends\\backend_agg.py:183: RuntimeWarning: Glyph 20809 missing from current font.\n",
      "  font.set_text(s, 0, flags=flags)\n",
      "e:\\python\\lib\\site-packages\\matplotlib\\backends\\backend_agg.py:183: RuntimeWarning: Glyph 20154 missing from current font.\n",
      "  font.set_text(s, 0, flags=flags)\n",
      "e:\\python\\lib\\site-packages\\matplotlib\\backends\\backend_agg.py:183: RuntimeWarning: Glyph 25968 missing from current font.\n",
      "  font.set_text(s, 0, flags=flags)\n",
      "e:\\python\\lib\\site-packages\\matplotlib\\backends\\backend_agg.py:183: RuntimeWarning: Glyph 20837 missing from current font.\n",
      "  font.set_text(s, 0, flags=flags)\n",
      "e:\\python\\lib\\site-packages\\matplotlib\\backends\\backend_agg.py:183: RuntimeWarning: Glyph 24215 missing from current font.\n",
      "  font.set_text(s, 0, flags=flags)\n"
     ]
    },
    {
     "data": {
      "image/png": "[encoded data removed]",
      "text/plain": [
       "<Figure size 432x288 with 1 Axes>"
      ]
     },
     "metadata": {
      "needs_background": "light"
     },
     "output_type": "display_data"
    }
   ],
   "source": [
    "Q2_data = data[(data.曝光人数> Q1) & (data.曝光人数<Q3 )]\n",
    "Q2_data.plot.scatter(y = '入店人数', x='曝光人数')"
   ]
  },
  {
   "cell_type": "code",
   "execution_count": 24,
   "metadata": {},
   "outputs": [
    {
     "data": {
      "text/plain": [
       "<matplotlib.axes._subplots.AxesSubplot at 0x264129a1ef0>"
      ]
     },
     "execution_count": 24,
     "metadata": {},
     "output_type": "execute_result"
    },
    {
     "name": "stderr",
     "output_type": "stream",
     "text": [
      "e:\\python\\lib\\site-packages\\matplotlib\\backends\\backend_agg.py:214: RuntimeWarning: Glyph 26333 missing from current font.\n",
      "  font.set_text(s, 0.0, flags=flags)\n",
      "e:\\python\\lib\\site-packages\\matplotlib\\backends\\backend_agg.py:214: RuntimeWarning: Glyph 20809 missing from current font.\n",
      "  font.set_text(s, 0.0, flags=flags)\n",
      "e:\\python\\lib\\site-packages\\matplotlib\\backends\\backend_agg.py:214: RuntimeWarning: Glyph 20154 missing from current font.\n",
      "  font.set_text(s, 0.0, flags=flags)\n",
      "e:\\python\\lib\\site-packages\\matplotlib\\backends\\backend_agg.py:214: RuntimeWarning: Glyph 25968 missing from current font.\n",
      "  font.set_text(s, 0.0, flags=flags)\n",
      "e:\\python\\lib\\site-packages\\matplotlib\\backends\\backend_agg.py:214: RuntimeWarning: Glyph 21830 missing from current font.\n",
      "  font.set_text(s, 0.0, flags=flags)\n",
      "e:\\python\\lib\\site-packages\\matplotlib\\backends\\backend_agg.py:214: RuntimeWarning: Glyph 23478 missing from current font.\n",
      "  font.set_text(s, 0.0, flags=flags)\n",
      "e:\\python\\lib\\site-packages\\matplotlib\\backends\\backend_agg.py:214: RuntimeWarning: Glyph 34917 missing from current font.\n",
      "  font.set_text(s, 0.0, flags=flags)\n",
      "e:\\python\\lib\\site-packages\\matplotlib\\backends\\backend_agg.py:214: RuntimeWarning: Glyph 36148 missing from current font.\n",
      "  font.set_text(s, 0.0, flags=flags)\n",
      "e:\\python\\lib\\site-packages\\matplotlib\\backends\\backend_agg.py:214: RuntimeWarning: Glyph 37329 missing from current font.\n",
      "  font.set_text(s, 0.0, flags=flags)\n",
      "e:\\python\\lib\\site-packages\\matplotlib\\backends\\backend_agg.py:214: RuntimeWarning: Glyph 39069 missing from current font.\n",
      "  font.set_text(s, 0.0, flags=flags)\n",
      "e:\\python\\lib\\site-packages\\matplotlib\\backends\\backend_agg.py:183: RuntimeWarning: Glyph 26333 missing from current font.\n",
      "  font.set_text(s, 0, flags=flags)\n",
      "e:\\python\\lib\\site-packages\\matplotlib\\backends\\backend_agg.py:183: RuntimeWarning: Glyph 20809 missing from current font.\n",
      "  font.set_text(s, 0, flags=flags)\n",
      "e:\\python\\lib\\site-packages\\matplotlib\\backends\\backend_agg.py:183: RuntimeWarning: Glyph 20154 missing from current font.\n",
      "  font.set_text(s, 0, flags=flags)\n",
      "e:\\python\\lib\\site-packages\\matplotlib\\backends\\backend_agg.py:183: RuntimeWarning: Glyph 25968 missing from current font.\n",
      "  font.set_text(s, 0, flags=flags)\n",
      "e:\\python\\lib\\site-packages\\matplotlib\\backends\\backend_agg.py:183: RuntimeWarning: Glyph 21830 missing from current font.\n",
      "  font.set_text(s, 0, flags=flags)\n",
      "e:\\python\\lib\\site-packages\\matplotlib\\backends\\backend_agg.py:183: RuntimeWarning: Glyph 23478 missing from current font.\n",
      "  font.set_text(s, 0, flags=flags)\n",
      "e:\\python\\lib\\site-packages\\matplotlib\\backends\\backend_agg.py:183: RuntimeWarning: Glyph 34917 missing from current font.\n",
      "  font.set_text(s, 0, flags=flags)\n",
      "e:\\python\\lib\\site-packages\\matplotlib\\backends\\backend_agg.py:183: RuntimeWarning: Glyph 36148 missing from current font.\n",
      "  font.set_text(s, 0, flags=flags)\n",
      "e:\\python\\lib\\site-packages\\matplotlib\\backends\\backend_agg.py:183: RuntimeWarning: Glyph 37329 missing from current font.\n",
      "  font.set_text(s, 0, flags=flags)\n",
      "e:\\python\\lib\\site-packages\\matplotlib\\backends\\backend_agg.py:183: RuntimeWarning: Glyph 39069 missing from current font.\n",
      "  font.set_text(s, 0, flags=flags)\n"
     ]
    },
    {
     "data": {
      "image/png": "[encoded data removed]",
      "text/plain": [
       "<Figure size 432x288 with 1 Axes>"
      ]
     },
     "metadata": {
      "needs_background": "light"
     },
     "output_type": "display_data"
    }
   ],
   "source": [
    "Q2_data = data[(data.曝光人数> Q1) & (data.曝光人数<Q3 )]\n",
    "Q2_data.plot.scatter(y = '商家补贴金额', x='曝光人数')"
   ]
  },
  {
   "cell_type": "code",
   "execution_count": 26,
   "metadata": {},
   "outputs": [
    {
     "data": {
      "text/plain": [
       "<matplotlib.axes._subplots.AxesSubplot at 0x264129ffc50>"
      ]
     },
     "execution_count": 26,
     "metadata": {},
     "output_type": "execute_result"
    },
    {
     "name": "stderr",
     "output_type": "stream",
     "text": [
      "e:\\python\\lib\\site-packages\\matplotlib\\backends\\backend_agg.py:214: RuntimeWarning: Glyph 20837 missing from current font.\n",
      "  font.set_text(s, 0.0, flags=flags)\n",
      "e:\\python\\lib\\site-packages\\matplotlib\\backends\\backend_agg.py:214: RuntimeWarning: Glyph 24215 missing from current font.\n",
      "  font.set_text(s, 0.0, flags=flags)\n",
      "e:\\python\\lib\\site-packages\\matplotlib\\backends\\backend_agg.py:183: RuntimeWarning: Glyph 20837 missing from current font.\n",
      "  font.set_text(s, 0, flags=flags)\n",
      "e:\\python\\lib\\site-packages\\matplotlib\\backends\\backend_agg.py:183: RuntimeWarning: Glyph 24215 missing from current font.\n",
      "  font.set_text(s, 0, flags=flags)\n"
     ]
    },
    {
     "data": {
      "image/png": "[encoded data removed]",
      "text/plain": [
       "<Figure size 432x288 with 1 Axes>"
      ]
     },
     "metadata": {
      "needs_background": "light"
     },
     "output_type": "display_data"
    }
   ],
   "source": [
    "Q1_data = data[data['曝光人数'] < Q1]\n",
    "Q1_data.plot.scatter( y = '入店人数', x='曝光人数')"
   ]
  },
  {
   "cell_type": "code",
   "execution_count": 27,
   "metadata": {},
   "outputs": [
    {
     "data": {
      "text/plain": [
       "<matplotlib.axes._subplots.AxesSubplot at 0x26412a4ecc0>"
      ]
     },
     "execution_count": 27,
     "metadata": {},
     "output_type": "execute_result"
    },
    {
     "data": {
      "image/png": "[encoded data removed]",
      "text/plain": [
       "<Figure size 432x288 with 1 Axes>"
      ]
     },
     "metadata": {
      "needs_background": "light"
     },
     "output_type": "display_data"
    }
   ],
   "source": [
    "Q1_data = data[data['曝光人数'] < Q1]\n",
    "Q1_data.plot.scatter( y = '商家补贴金额', x='曝光人数')"
   ]
  },
  {
   "cell_type": "code",
   "execution_count": 16,
   "metadata": {},
   "outputs": [
    {
     "name": "stderr",
     "output_type": "stream",
     "text": [
      "findfont: Font family ['sans-serif'] not found. Falling back to DejaVu Sans.\n"
     ]
    },
    {
     "name": "stdout",
     "output_type": "stream",
     "text": [
      "[9868817658.875025, 2939033732.5372643, 1393537662.13367, 781597144.4341751, 513455192.5295744, 368277028.59957695, 265722428.80548784, 203120765.54609367, 170305359.73177814, 138114408.62409827]\n"
     ]
    },
    {
     "data": {
      "image/png": "[encoded data removed]",
      "text/plain": [
       "<Figure size 432x288 with 1 Axes>"
      ]
     },
     "metadata": {
      "needs_background": "light"
     },
     "output_type": "display_data"
    }
   ],
   "source": [
    "from sklearn.cluster import KMeans\n",
    "import matplotlib.pyplot as plt\n",
    "\n",
    "x = data[['（日均）在线营业时长（h）','曝光人数']]\n",
    "\n",
    "         \n",
    "         \n",
    "wcss = []\n",
    "for i in range(1, 11): #循环使用不同k测试结果\n",
    "    kmeans = KMeans(n_clusters = i, init = 'k-means++', random_state = 42)\n",
    "    kmeans.fit(x)\n",
    "    wcss.append(kmeans.inertia_) #inertia簇内误差平方和\n",
    "print(wcss)\n",
    "plt.plot(range(1, 11), wcss)\n",
    "plt.title('The Elbow Method')\n",
    "plt.xlabel('Number of clusters')\n",
    "plt.ylabel('WCSS')\n",
    "plt.show()"
   ]
  },
  {
   "cell_type": "code",
   "execution_count": 17,
   "metadata": {},
   "outputs": [
    {
     "name": "stderr",
     "output_type": "stream",
     "text": [
      "e:\\python\\lib\\site-packages\\ipykernel_launcher.py:4: SettingWithCopyWarning: \n",
      "A value is trying to be set on a copy of a slice from a DataFrame.\n",
      "Try using .loc[row_indexer,col_indexer] = value instead\n",
      "\n",
      "See the caveats in the documentation: https://pandas.pydata.org/pandas-docs/stable/user_guide/indexing.html#returning-a-view-versus-a-copy\n",
      "  after removing the cwd from sys.path.\n"
     ]
    },
    {
     "data": {
      "text/plain": [
       "<matplotlib.axes._subplots.AxesSubplot at 0x25f14288e80>"
      ]
     },
     "execution_count": 17,
     "metadata": {},
     "output_type": "execute_result"
    },
    {
     "name": "stderr",
     "output_type": "stream",
     "text": [
      "e:\\python\\lib\\site-packages\\matplotlib\\backends\\backend_agg.py:214: RuntimeWarning: Glyph 65288 missing from current font.\n",
      "  font.set_text(s, 0.0, flags=flags)\n",
      "e:\\python\\lib\\site-packages\\matplotlib\\backends\\backend_agg.py:214: RuntimeWarning: Glyph 26085 missing from current font.\n",
      "  font.set_text(s, 0.0, flags=flags)\n",
      "e:\\python\\lib\\site-packages\\matplotlib\\backends\\backend_agg.py:214: RuntimeWarning: Glyph 22343 missing from current font.\n",
      "  font.set_text(s, 0.0, flags=flags)\n",
      "e:\\python\\lib\\site-packages\\matplotlib\\backends\\backend_agg.py:214: RuntimeWarning: Glyph 65289 missing from current font.\n",
      "  font.set_text(s, 0.0, flags=flags)\n",
      "e:\\python\\lib\\site-packages\\matplotlib\\backends\\backend_agg.py:214: RuntimeWarning: Glyph 22312 missing from current font.\n",
      "  font.set_text(s, 0.0, flags=flags)\n",
      "e:\\python\\lib\\site-packages\\matplotlib\\backends\\backend_agg.py:214: RuntimeWarning: Glyph 32447 missing from current font.\n",
      "  font.set_text(s, 0.0, flags=flags)\n",
      "e:\\python\\lib\\site-packages\\matplotlib\\backends\\backend_agg.py:214: RuntimeWarning: Glyph 33829 missing from current font.\n",
      "  font.set_text(s, 0.0, flags=flags)\n",
      "e:\\python\\lib\\site-packages\\matplotlib\\backends\\backend_agg.py:214: RuntimeWarning: Glyph 19994 missing from current font.\n",
      "  font.set_text(s, 0.0, flags=flags)\n",
      "e:\\python\\lib\\site-packages\\matplotlib\\backends\\backend_agg.py:214: RuntimeWarning: Glyph 26102 missing from current font.\n",
      "  font.set_text(s, 0.0, flags=flags)\n",
      "e:\\python\\lib\\site-packages\\matplotlib\\backends\\backend_agg.py:214: RuntimeWarning: Glyph 38271 missing from current font.\n",
      "  font.set_text(s, 0.0, flags=flags)\n",
      "e:\\python\\lib\\site-packages\\matplotlib\\backends\\backend_agg.py:214: RuntimeWarning: Glyph 26333 missing from current font.\n",
      "  font.set_text(s, 0.0, flags=flags)\n",
      "e:\\python\\lib\\site-packages\\matplotlib\\backends\\backend_agg.py:214: RuntimeWarning: Glyph 20809 missing from current font.\n",
      "  font.set_text(s, 0.0, flags=flags)\n",
      "e:\\python\\lib\\site-packages\\matplotlib\\backends\\backend_agg.py:214: RuntimeWarning: Glyph 20154 missing from current font.\n",
      "  font.set_text(s, 0.0, flags=flags)\n",
      "e:\\python\\lib\\site-packages\\matplotlib\\backends\\backend_agg.py:214: RuntimeWarning: Glyph 25968 missing from current font.\n",
      "  font.set_text(s, 0.0, flags=flags)\n",
      "e:\\python\\lib\\site-packages\\matplotlib\\backends\\backend_agg.py:183: RuntimeWarning: Glyph 65288 missing from current font.\n",
      "  font.set_text(s, 0, flags=flags)\n",
      "e:\\python\\lib\\site-packages\\matplotlib\\backends\\backend_agg.py:183: RuntimeWarning: Glyph 26085 missing from current font.\n",
      "  font.set_text(s, 0, flags=flags)\n",
      "e:\\python\\lib\\site-packages\\matplotlib\\backends\\backend_agg.py:183: RuntimeWarning: Glyph 22343 missing from current font.\n",
      "  font.set_text(s, 0, flags=flags)\n",
      "e:\\python\\lib\\site-packages\\matplotlib\\backends\\backend_agg.py:183: RuntimeWarning: Glyph 65289 missing from current font.\n",
      "  font.set_text(s, 0, flags=flags)\n",
      "e:\\python\\lib\\site-packages\\matplotlib\\backends\\backend_agg.py:183: RuntimeWarning: Glyph 22312 missing from current font.\n",
      "  font.set_text(s, 0, flags=flags)\n",
      "e:\\python\\lib\\site-packages\\matplotlib\\backends\\backend_agg.py:183: RuntimeWarning: Glyph 32447 missing from current font.\n",
      "  font.set_text(s, 0, flags=flags)\n",
      "e:\\python\\lib\\site-packages\\matplotlib\\backends\\backend_agg.py:183: RuntimeWarning: Glyph 33829 missing from current font.\n",
      "  font.set_text(s, 0, flags=flags)\n",
      "e:\\python\\lib\\site-packages\\matplotlib\\backends\\backend_agg.py:183: RuntimeWarning: Glyph 19994 missing from current font.\n",
      "  font.set_text(s, 0, flags=flags)\n",
      "e:\\python\\lib\\site-packages\\matplotlib\\backends\\backend_agg.py:183: RuntimeWarning: Glyph 26102 missing from current font.\n",
      "  font.set_text(s, 0, flags=flags)\n",
      "e:\\python\\lib\\site-packages\\matplotlib\\backends\\backend_agg.py:183: RuntimeWarning: Glyph 38271 missing from current font.\n",
      "  font.set_text(s, 0, flags=flags)\n",
      "e:\\python\\lib\\site-packages\\matplotlib\\backends\\backend_agg.py:183: RuntimeWarning: Glyph 26333 missing from current font.\n",
      "  font.set_text(s, 0, flags=flags)\n",
      "e:\\python\\lib\\site-packages\\matplotlib\\backends\\backend_agg.py:183: RuntimeWarning: Glyph 20809 missing from current font.\n",
      "  font.set_text(s, 0, flags=flags)\n",
      "e:\\python\\lib\\site-packages\\matplotlib\\backends\\backend_agg.py:183: RuntimeWarning: Glyph 20154 missing from current font.\n",
      "  font.set_text(s, 0, flags=flags)\n",
      "e:\\python\\lib\\site-packages\\matplotlib\\backends\\backend_agg.py:183: RuntimeWarning: Glyph 25968 missing from current font.\n",
      "  font.set_text(s, 0, flags=flags)\n"
     ]
    },
    {
     "data": {
      "image/png": "[encoded data removed]",
      "text/plain": [
       "<Figure size 432x288 with 1 Axes>"
      ]
     },
     "metadata": {
      "needs_background": "light"
     },
     "output_type": "display_data"
    }
   ],
   "source": [
    "import seaborn as sns\n",
    "kmeans = KMeans(n_clusters = 3, init = 'k-means++', random_state = 17)#k=5 \n",
    "kmeans.fit_predict(x)\n",
    "x['cluster']=kmeans.labels_\n",
    "sns.scatterplot(x='（日均）在线营业时长（h）',y='曝光人数',hue='cluster',data=x)"
   ]
  },
  {
   "cell_type": "code",
   "execution_count": 18,
   "metadata": {},
   "outputs": [
    {
     "data": {
      "text/html": [
       "<div>\n",
       "<style scoped>\n",
       "    .dataframe tbody tr th:only-of-type {\n",
       "        vertical-align: middle;\n",
       "    }\n",
       "\n",
       "    .dataframe tbody tr th {\n",
       "        vertical-align: top;\n",
       "    }\n",
       "\n",
       "    .dataframe thead th {\n",
       "        text-align: right;\n",
       "    }\n",
       "</style>\n",
       "<table border=\"1\" class=\"dataframe\">\n",
       "  <thead>\n",
       "    <tr style=\"text-align: right;\">\n",
       "      <th></th>\n",
       "      <th>（日均）在线营业时长（h）</th>\n",
       "      <th>曝光人数</th>\n",
       "      <th>cluster</th>\n",
       "    </tr>\n",
       "  </thead>\n",
       "  <tbody>\n",
       "    <tr>\n",
       "      <th>0</th>\n",
       "      <td>24.0</td>\n",
       "      <td>6332</td>\n",
       "      <td>0</td>\n",
       "    </tr>\n",
       "    <tr>\n",
       "      <th>1</th>\n",
       "      <td>24.0</td>\n",
       "      <td>5822</td>\n",
       "      <td>0</td>\n",
       "    </tr>\n",
       "    <tr>\n",
       "      <th>2</th>\n",
       "      <td>10.4</td>\n",
       "      <td>3053</td>\n",
       "      <td>0</td>\n",
       "    </tr>\n",
       "    <tr>\n",
       "      <th>3</th>\n",
       "      <td>11.6</td>\n",
       "      <td>5653</td>\n",
       "      <td>0</td>\n",
       "    </tr>\n",
       "    <tr>\n",
       "      <th>6</th>\n",
       "      <td>20.9</td>\n",
       "      <td>4021</td>\n",
       "      <td>0</td>\n",
       "    </tr>\n",
       "    <tr>\n",
       "      <th>...</th>\n",
       "      <td>...</td>\n",
       "      <td>...</td>\n",
       "      <td>...</td>\n",
       "    </tr>\n",
       "    <tr>\n",
       "      <th>367</th>\n",
       "      <td>4.0</td>\n",
       "      <td>3542</td>\n",
       "      <td>0</td>\n",
       "    </tr>\n",
       "    <tr>\n",
       "      <th>368</th>\n",
       "      <td>14.8</td>\n",
       "      <td>2701</td>\n",
       "      <td>0</td>\n",
       "    </tr>\n",
       "    <tr>\n",
       "      <th>369</th>\n",
       "      <td>2.4</td>\n",
       "      <td>204</td>\n",
       "      <td>0</td>\n",
       "    </tr>\n",
       "    <tr>\n",
       "      <th>370</th>\n",
       "      <td>15.0</td>\n",
       "      <td>1342</td>\n",
       "      <td>0</td>\n",
       "    </tr>\n",
       "    <tr>\n",
       "      <th>371</th>\n",
       "      <td>14.7</td>\n",
       "      <td>2732</td>\n",
       "      <td>0</td>\n",
       "    </tr>\n",
       "  </tbody>\n",
       "</table>\n",
       "<p>330 rows × 3 columns</p>\n",
       "</div>"
      ],
      "text/plain": [
       "     （日均）在线营业时长（h）  曝光人数  cluster\n",
       "0             24.0  6332        0\n",
       "1             24.0  5822        0\n",
       "2             10.4  3053        0\n",
       "3             11.6  5653        0\n",
       "6             20.9  4021        0\n",
       "..             ...   ...      ...\n",
       "367            4.0  3542        0\n",
       "368           14.8  2701        0\n",
       "369            2.4   204        0\n",
       "370           15.0  1342        0\n",
       "371           14.7  2732        0\n",
       "\n",
       "[330 rows x 3 columns]"
      ]
     },
     "execution_count": 18,
     "metadata": {},
     "output_type": "execute_result"
    }
   ],
   "source": [
    "x"
   ]
  },
  {
   "cell_type": "code",
   "execution_count": null,
   "metadata": {},
   "outputs": [],
   "source": []
  },
  {
   "cell_type": "code",
   "execution_count": 19,
   "metadata": {},
   "outputs": [
    {
     "data": {
      "text/plain": [
       "<matplotlib.axes._subplots.AxesSubplot at 0x25f15121dd8>"
      ]
     },
     "execution_count": 19,
     "metadata": {},
     "output_type": "execute_result"
    },
    {
     "name": "stderr",
     "output_type": "stream",
     "text": [
      "e:\\python\\lib\\site-packages\\matplotlib\\backends\\backend_agg.py:214: RuntimeWarning: Glyph 65288 missing from current font.\n",
      "  font.set_text(s, 0.0, flags=flags)\n",
      "e:\\python\\lib\\site-packages\\matplotlib\\backends\\backend_agg.py:214: RuntimeWarning: Glyph 26085 missing from current font.\n",
      "  font.set_text(s, 0.0, flags=flags)\n",
      "e:\\python\\lib\\site-packages\\matplotlib\\backends\\backend_agg.py:214: RuntimeWarning: Glyph 22343 missing from current font.\n",
      "  font.set_text(s, 0.0, flags=flags)\n",
      "e:\\python\\lib\\site-packages\\matplotlib\\backends\\backend_agg.py:214: RuntimeWarning: Glyph 65289 missing from current font.\n",
      "  font.set_text(s, 0.0, flags=flags)\n",
      "e:\\python\\lib\\site-packages\\matplotlib\\backends\\backend_agg.py:214: RuntimeWarning: Glyph 22312 missing from current font.\n",
      "  font.set_text(s, 0.0, flags=flags)\n",
      "e:\\python\\lib\\site-packages\\matplotlib\\backends\\backend_agg.py:214: RuntimeWarning: Glyph 32447 missing from current font.\n",
      "  font.set_text(s, 0.0, flags=flags)\n",
      "e:\\python\\lib\\site-packages\\matplotlib\\backends\\backend_agg.py:214: RuntimeWarning: Glyph 33829 missing from current font.\n",
      "  font.set_text(s, 0.0, flags=flags)\n",
      "e:\\python\\lib\\site-packages\\matplotlib\\backends\\backend_agg.py:214: RuntimeWarning: Glyph 19994 missing from current font.\n",
      "  font.set_text(s, 0.0, flags=flags)\n",
      "e:\\python\\lib\\site-packages\\matplotlib\\backends\\backend_agg.py:214: RuntimeWarning: Glyph 26102 missing from current font.\n",
      "  font.set_text(s, 0.0, flags=flags)\n",
      "e:\\python\\lib\\site-packages\\matplotlib\\backends\\backend_agg.py:214: RuntimeWarning: Glyph 38271 missing from current font.\n",
      "  font.set_text(s, 0.0, flags=flags)\n",
      "e:\\python\\lib\\site-packages\\matplotlib\\backends\\backend_agg.py:214: RuntimeWarning: Glyph 26333 missing from current font.\n",
      "  font.set_text(s, 0.0, flags=flags)\n",
      "e:\\python\\lib\\site-packages\\matplotlib\\backends\\backend_agg.py:214: RuntimeWarning: Glyph 20809 missing from current font.\n",
      "  font.set_text(s, 0.0, flags=flags)\n",
      "e:\\python\\lib\\site-packages\\matplotlib\\backends\\backend_agg.py:214: RuntimeWarning: Glyph 20154 missing from current font.\n",
      "  font.set_text(s, 0.0, flags=flags)\n",
      "e:\\python\\lib\\site-packages\\matplotlib\\backends\\backend_agg.py:214: RuntimeWarning: Glyph 25968 missing from current font.\n",
      "  font.set_text(s, 0.0, flags=flags)\n",
      "e:\\python\\lib\\site-packages\\matplotlib\\backends\\backend_agg.py:183: RuntimeWarning: Glyph 65288 missing from current font.\n",
      "  font.set_text(s, 0, flags=flags)\n",
      "e:\\python\\lib\\site-packages\\matplotlib\\backends\\backend_agg.py:183: RuntimeWarning: Glyph 26085 missing from current font.\n",
      "  font.set_text(s, 0, flags=flags)\n",
      "e:\\python\\lib\\site-packages\\matplotlib\\backends\\backend_agg.py:183: RuntimeWarning: Glyph 22343 missing from current font.\n",
      "  font.set_text(s, 0, flags=flags)\n",
      "e:\\python\\lib\\site-packages\\matplotlib\\backends\\backend_agg.py:183: RuntimeWarning: Glyph 65289 missing from current font.\n",
      "  font.set_text(s, 0, flags=flags)\n",
      "e:\\python\\lib\\site-packages\\matplotlib\\backends\\backend_agg.py:183: RuntimeWarning: Glyph 22312 missing from current font.\n",
      "  font.set_text(s, 0, flags=flags)\n",
      "e:\\python\\lib\\site-packages\\matplotlib\\backends\\backend_agg.py:183: RuntimeWarning: Glyph 32447 missing from current font.\n",
      "  font.set_text(s, 0, flags=flags)\n",
      "e:\\python\\lib\\site-packages\\matplotlib\\backends\\backend_agg.py:183: RuntimeWarning: Glyph 33829 missing from current font.\n",
      "  font.set_text(s, 0, flags=flags)\n",
      "e:\\python\\lib\\site-packages\\matplotlib\\backends\\backend_agg.py:183: RuntimeWarning: Glyph 19994 missing from current font.\n",
      "  font.set_text(s, 0, flags=flags)\n",
      "e:\\python\\lib\\site-packages\\matplotlib\\backends\\backend_agg.py:183: RuntimeWarning: Glyph 26102 missing from current font.\n",
      "  font.set_text(s, 0, flags=flags)\n",
      "e:\\python\\lib\\site-packages\\matplotlib\\backends\\backend_agg.py:183: RuntimeWarning: Glyph 38271 missing from current font.\n",
      "  font.set_text(s, 0, flags=flags)\n",
      "e:\\python\\lib\\site-packages\\matplotlib\\backends\\backend_agg.py:183: RuntimeWarning: Glyph 26333 missing from current font.\n",
      "  font.set_text(s, 0, flags=flags)\n",
      "e:\\python\\lib\\site-packages\\matplotlib\\backends\\backend_agg.py:183: RuntimeWarning: Glyph 20809 missing from current font.\n",
      "  font.set_text(s, 0, flags=flags)\n",
      "e:\\python\\lib\\site-packages\\matplotlib\\backends\\backend_agg.py:183: RuntimeWarning: Glyph 20154 missing from current font.\n",
      "  font.set_text(s, 0, flags=flags)\n",
      "e:\\python\\lib\\site-packages\\matplotlib\\backends\\backend_agg.py:183: RuntimeWarning: Glyph 25968 missing from current font.\n",
      "  font.set_text(s, 0, flags=flags)\n"
     ]
    },
    {
     "data": {
      "image/png": "[encoded data removed]",
      "text/plain": [
       "<Figure size 432x288 with 1 Axes>"
      ]
     },
     "metadata": {
      "needs_background": "light"
     },
     "output_type": "display_data"
    }
   ],
   "source": [
    "# 线性关系\n",
    "sns.regplot('（日均）在线营业时长（h）','曝光人数',data)\n"
   ]
  },
  {
   "cell_type": "code",
   "execution_count": 24,
   "metadata": {},
   "outputs": [
    {
     "data": {
      "text/plain": [
       "<matplotlib.axes._subplots.AxesSubplot at 0x25f156f1cf8>"
      ]
     },
     "execution_count": 24,
     "metadata": {},
     "output_type": "execute_result"
    },
    {
     "name": "stderr",
     "output_type": "stream",
     "text": [
      "e:\\python\\lib\\site-packages\\matplotlib\\backends\\backend_agg.py:214: RuntimeWarning: Glyph 65288 missing from current font.\n",
      "  font.set_text(s, 0.0, flags=flags)\n",
      "e:\\python\\lib\\site-packages\\matplotlib\\backends\\backend_agg.py:214: RuntimeWarning: Glyph 26085 missing from current font.\n",
      "  font.set_text(s, 0.0, flags=flags)\n",
      "e:\\python\\lib\\site-packages\\matplotlib\\backends\\backend_agg.py:214: RuntimeWarning: Glyph 22343 missing from current font.\n",
      "  font.set_text(s, 0.0, flags=flags)\n",
      "e:\\python\\lib\\site-packages\\matplotlib\\backends\\backend_agg.py:214: RuntimeWarning: Glyph 65289 missing from current font.\n",
      "  font.set_text(s, 0.0, flags=flags)\n",
      "e:\\python\\lib\\site-packages\\matplotlib\\backends\\backend_agg.py:214: RuntimeWarning: Glyph 22312 missing from current font.\n",
      "  font.set_text(s, 0.0, flags=flags)\n",
      "e:\\python\\lib\\site-packages\\matplotlib\\backends\\backend_agg.py:214: RuntimeWarning: Glyph 32447 missing from current font.\n",
      "  font.set_text(s, 0.0, flags=flags)\n",
      "e:\\python\\lib\\site-packages\\matplotlib\\backends\\backend_agg.py:214: RuntimeWarning: Glyph 33829 missing from current font.\n",
      "  font.set_text(s, 0.0, flags=flags)\n",
      "e:\\python\\lib\\site-packages\\matplotlib\\backends\\backend_agg.py:214: RuntimeWarning: Glyph 19994 missing from current font.\n",
      "  font.set_text(s, 0.0, flags=flags)\n",
      "e:\\python\\lib\\site-packages\\matplotlib\\backends\\backend_agg.py:214: RuntimeWarning: Glyph 26102 missing from current font.\n",
      "  font.set_text(s, 0.0, flags=flags)\n",
      "e:\\python\\lib\\site-packages\\matplotlib\\backends\\backend_agg.py:214: RuntimeWarning: Glyph 38271 missing from current font.\n",
      "  font.set_text(s, 0.0, flags=flags)\n",
      "e:\\python\\lib\\site-packages\\matplotlib\\backends\\backend_agg.py:214: RuntimeWarning: Glyph 26333 missing from current font.\n",
      "  font.set_text(s, 0.0, flags=flags)\n",
      "e:\\python\\lib\\site-packages\\matplotlib\\backends\\backend_agg.py:214: RuntimeWarning: Glyph 20809 missing from current font.\n",
      "  font.set_text(s, 0.0, flags=flags)\n",
      "e:\\python\\lib\\site-packages\\matplotlib\\backends\\backend_agg.py:214: RuntimeWarning: Glyph 20154 missing from current font.\n",
      "  font.set_text(s, 0.0, flags=flags)\n",
      "e:\\python\\lib\\site-packages\\matplotlib\\backends\\backend_agg.py:214: RuntimeWarning: Glyph 25968 missing from current font.\n",
      "  font.set_text(s, 0.0, flags=flags)\n",
      "e:\\python\\lib\\site-packages\\matplotlib\\backends\\backend_agg.py:183: RuntimeWarning: Glyph 65288 missing from current font.\n",
      "  font.set_text(s, 0, flags=flags)\n",
      "e:\\python\\lib\\site-packages\\matplotlib\\backends\\backend_agg.py:183: RuntimeWarning: Glyph 26085 missing from current font.\n",
      "  font.set_text(s, 0, flags=flags)\n",
      "e:\\python\\lib\\site-packages\\matplotlib\\backends\\backend_agg.py:183: RuntimeWarning: Glyph 22343 missing from current font.\n",
      "  font.set_text(s, 0, flags=flags)\n",
      "e:\\python\\lib\\site-packages\\matplotlib\\backends\\backend_agg.py:183: RuntimeWarning: Glyph 65289 missing from current font.\n",
      "  font.set_text(s, 0, flags=flags)\n",
      "e:\\python\\lib\\site-packages\\matplotlib\\backends\\backend_agg.py:183: RuntimeWarning: Glyph 22312 missing from current font.\n",
      "  font.set_text(s, 0, flags=flags)\n",
      "e:\\python\\lib\\site-packages\\matplotlib\\backends\\backend_agg.py:183: RuntimeWarning: Glyph 32447 missing from current font.\n",
      "  font.set_text(s, 0, flags=flags)\n",
      "e:\\python\\lib\\site-packages\\matplotlib\\backends\\backend_agg.py:183: RuntimeWarning: Glyph 33829 missing from current font.\n",
      "  font.set_text(s, 0, flags=flags)\n",
      "e:\\python\\lib\\site-packages\\matplotlib\\backends\\backend_agg.py:183: RuntimeWarning: Glyph 19994 missing from current font.\n",
      "  font.set_text(s, 0, flags=flags)\n",
      "e:\\python\\lib\\site-packages\\matplotlib\\backends\\backend_agg.py:183: RuntimeWarning: Glyph 26102 missing from current font.\n",
      "  font.set_text(s, 0, flags=flags)\n",
      "e:\\python\\lib\\site-packages\\matplotlib\\backends\\backend_agg.py:183: RuntimeWarning: Glyph 38271 missing from current font.\n",
      "  font.set_text(s, 0, flags=flags)\n",
      "e:\\python\\lib\\site-packages\\matplotlib\\backends\\backend_agg.py:183: RuntimeWarning: Glyph 26333 missing from current font.\n",
      "  font.set_text(s, 0, flags=flags)\n",
      "e:\\python\\lib\\site-packages\\matplotlib\\backends\\backend_agg.py:183: RuntimeWarning: Glyph 20809 missing from current font.\n",
      "  font.set_text(s, 0, flags=flags)\n",
      "e:\\python\\lib\\site-packages\\matplotlib\\backends\\backend_agg.py:183: RuntimeWarning: Glyph 20154 missing from current font.\n",
      "  font.set_text(s, 0, flags=flags)\n",
      "e:\\python\\lib\\site-packages\\matplotlib\\backends\\backend_agg.py:183: RuntimeWarning: Glyph 25968 missing from current font.\n",
      "  font.set_text(s, 0, flags=flags)\n"
     ]
    },
    {
     "data": {
      "image/png": "[encoded data removed]",
      "text/plain": [
       "<Figure size 432x288 with 1 Axes>"
      ]
     },
     "metadata": {
      "needs_background": "light"
     },
     "output_type": "display_data"
    }
   ],
   "source": [
    "sns.regplot('（日均）在线营业时长（h）','曝光人数',Q3_data)"
   ]
  },
  {
   "cell_type": "code",
   "execution_count": 25,
   "metadata": {},
   "outputs": [
    {
     "data": {
      "text/plain": [
       "<matplotlib.axes._subplots.AxesSubplot at 0x25f1888def0>"
      ]
     },
     "execution_count": 25,
     "metadata": {},
     "output_type": "execute_result"
    },
    {
     "name": "stderr",
     "output_type": "stream",
     "text": [
      "e:\\python\\lib\\site-packages\\matplotlib\\backends\\backend_agg.py:214: RuntimeWarning: Glyph 65288 missing from current font.\n",
      "  font.set_text(s, 0.0, flags=flags)\n",
      "e:\\python\\lib\\site-packages\\matplotlib\\backends\\backend_agg.py:214: RuntimeWarning: Glyph 26085 missing from current font.\n",
      "  font.set_text(s, 0.0, flags=flags)\n",
      "e:\\python\\lib\\site-packages\\matplotlib\\backends\\backend_agg.py:214: RuntimeWarning: Glyph 22343 missing from current font.\n",
      "  font.set_text(s, 0.0, flags=flags)\n",
      "e:\\python\\lib\\site-packages\\matplotlib\\backends\\backend_agg.py:214: RuntimeWarning: Glyph 65289 missing from current font.\n",
      "  font.set_text(s, 0.0, flags=flags)\n",
      "e:\\python\\lib\\site-packages\\matplotlib\\backends\\backend_agg.py:214: RuntimeWarning: Glyph 22312 missing from current font.\n",
      "  font.set_text(s, 0.0, flags=flags)\n",
      "e:\\python\\lib\\site-packages\\matplotlib\\backends\\backend_agg.py:214: RuntimeWarning: Glyph 32447 missing from current font.\n",
      "  font.set_text(s, 0.0, flags=flags)\n",
      "e:\\python\\lib\\site-packages\\matplotlib\\backends\\backend_agg.py:214: RuntimeWarning: Glyph 33829 missing from current font.\n",
      "  font.set_text(s, 0.0, flags=flags)\n",
      "e:\\python\\lib\\site-packages\\matplotlib\\backends\\backend_agg.py:214: RuntimeWarning: Glyph 19994 missing from current font.\n",
      "  font.set_text(s, 0.0, flags=flags)\n",
      "e:\\python\\lib\\site-packages\\matplotlib\\backends\\backend_agg.py:214: RuntimeWarning: Glyph 26102 missing from current font.\n",
      "  font.set_text(s, 0.0, flags=flags)\n",
      "e:\\python\\lib\\site-packages\\matplotlib\\backends\\backend_agg.py:214: RuntimeWarning: Glyph 38271 missing from current font.\n",
      "  font.set_text(s, 0.0, flags=flags)\n",
      "e:\\python\\lib\\site-packages\\matplotlib\\backends\\backend_agg.py:214: RuntimeWarning: Glyph 26333 missing from current font.\n",
      "  font.set_text(s, 0.0, flags=flags)\n",
      "e:\\python\\lib\\site-packages\\matplotlib\\backends\\backend_agg.py:214: RuntimeWarning: Glyph 20809 missing from current font.\n",
      "  font.set_text(s, 0.0, flags=flags)\n",
      "e:\\python\\lib\\site-packages\\matplotlib\\backends\\backend_agg.py:214: RuntimeWarning: Glyph 20154 missing from current font.\n",
      "  font.set_text(s, 0.0, flags=flags)\n",
      "e:\\python\\lib\\site-packages\\matplotlib\\backends\\backend_agg.py:214: RuntimeWarning: Glyph 25968 missing from current font.\n",
      "  font.set_text(s, 0.0, flags=flags)\n",
      "e:\\python\\lib\\site-packages\\matplotlib\\backends\\backend_agg.py:183: RuntimeWarning: Glyph 65288 missing from current font.\n",
      "  font.set_text(s, 0, flags=flags)\n",
      "e:\\python\\lib\\site-packages\\matplotlib\\backends\\backend_agg.py:183: RuntimeWarning: Glyph 26085 missing from current font.\n",
      "  font.set_text(s, 0, flags=flags)\n",
      "e:\\python\\lib\\site-packages\\matplotlib\\backends\\backend_agg.py:183: RuntimeWarning: Glyph 22343 missing from current font.\n",
      "  font.set_text(s, 0, flags=flags)\n",
      "e:\\python\\lib\\site-packages\\matplotlib\\backends\\backend_agg.py:183: RuntimeWarning: Glyph 65289 missing from current font.\n",
      "  font.set_text(s, 0, flags=flags)\n",
      "e:\\python\\lib\\site-packages\\matplotlib\\backends\\backend_agg.py:183: RuntimeWarning: Glyph 22312 missing from current font.\n",
      "  font.set_text(s, 0, flags=flags)\n",
      "e:\\python\\lib\\site-packages\\matplotlib\\backends\\backend_agg.py:183: RuntimeWarning: Glyph 32447 missing from current font.\n",
      "  font.set_text(s, 0, flags=flags)\n",
      "e:\\python\\lib\\site-packages\\matplotlib\\backends\\backend_agg.py:183: RuntimeWarning: Glyph 33829 missing from current font.\n",
      "  font.set_text(s, 0, flags=flags)\n",
      "e:\\python\\lib\\site-packages\\matplotlib\\backends\\backend_agg.py:183: RuntimeWarning: Glyph 19994 missing from current font.\n",
      "  font.set_text(s, 0, flags=flags)\n",
      "e:\\python\\lib\\site-packages\\matplotlib\\backends\\backend_agg.py:183: RuntimeWarning: Glyph 26102 missing from current font.\n",
      "  font.set_text(s, 0, flags=flags)\n",
      "e:\\python\\lib\\site-packages\\matplotlib\\backends\\backend_agg.py:183: RuntimeWarning: Glyph 38271 missing from current font.\n",
      "  font.set_text(s, 0, flags=flags)\n",
      "e:\\python\\lib\\site-packages\\matplotlib\\backends\\backend_agg.py:183: RuntimeWarning: Glyph 26333 missing from current font.\n",
      "  font.set_text(s, 0, flags=flags)\n",
      "e:\\python\\lib\\site-packages\\matplotlib\\backends\\backend_agg.py:183: RuntimeWarning: Glyph 20809 missing from current font.\n",
      "  font.set_text(s, 0, flags=flags)\n",
      "e:\\python\\lib\\site-packages\\matplotlib\\backends\\backend_agg.py:183: RuntimeWarning: Glyph 20154 missing from current font.\n",
      "  font.set_text(s, 0, flags=flags)\n",
      "e:\\python\\lib\\site-packages\\matplotlib\\backends\\backend_agg.py:183: RuntimeWarning: Glyph 25968 missing from current font.\n",
      "  font.set_text(s, 0, flags=flags)\n"
     ]
    },
    {
     "data": {
      "image/png": "[encoded data removed]",
      "text/plain": [
       "<Figure size 432x288 with 1 Axes>"
      ]
     },
     "metadata": {
      "needs_background": "light"
     },
     "output_type": "display_data"
    }
   ],
   "source": [
    "sns.regplot('（日均）在线营业时长（h）','曝光人数',Q2_data)"
   ]
  },
  {
   "cell_type": "code",
   "execution_count": 26,
   "metadata": {},
   "outputs": [
    {
     "data": {
      "text/plain": [
       "<matplotlib.axes._subplots.AxesSubplot at 0x25f15798b38>"
      ]
     },
     "execution_count": 26,
     "metadata": {},
     "output_type": "execute_result"
    },
    {
     "name": "stderr",
     "output_type": "stream",
     "text": [
      "e:\\python\\lib\\site-packages\\matplotlib\\backends\\backend_agg.py:214: RuntimeWarning: Glyph 65288 missing from current font.\n",
      "  font.set_text(s, 0.0, flags=flags)\n",
      "e:\\python\\lib\\site-packages\\matplotlib\\backends\\backend_agg.py:214: RuntimeWarning: Glyph 26085 missing from current font.\n",
      "  font.set_text(s, 0.0, flags=flags)\n",
      "e:\\python\\lib\\site-packages\\matplotlib\\backends\\backend_agg.py:214: RuntimeWarning: Glyph 22343 missing from current font.\n",
      "  font.set_text(s, 0.0, flags=flags)\n",
      "e:\\python\\lib\\site-packages\\matplotlib\\backends\\backend_agg.py:214: RuntimeWarning: Glyph 65289 missing from current font.\n",
      "  font.set_text(s, 0.0, flags=flags)\n",
      "e:\\python\\lib\\site-packages\\matplotlib\\backends\\backend_agg.py:214: RuntimeWarning: Glyph 22312 missing from current font.\n",
      "  font.set_text(s, 0.0, flags=flags)\n",
      "e:\\python\\lib\\site-packages\\matplotlib\\backends\\backend_agg.py:214: RuntimeWarning: Glyph 32447 missing from current font.\n",
      "  font.set_text(s, 0.0, flags=flags)\n",
      "e:\\python\\lib\\site-packages\\matplotlib\\backends\\backend_agg.py:214: RuntimeWarning: Glyph 33829 missing from current font.\n",
      "  font.set_text(s, 0.0, flags=flags)\n",
      "e:\\python\\lib\\site-packages\\matplotlib\\backends\\backend_agg.py:214: RuntimeWarning: Glyph 19994 missing from current font.\n",
      "  font.set_text(s, 0.0, flags=flags)\n",
      "e:\\python\\lib\\site-packages\\matplotlib\\backends\\backend_agg.py:214: RuntimeWarning: Glyph 26102 missing from current font.\n",
      "  font.set_text(s, 0.0, flags=flags)\n",
      "e:\\python\\lib\\site-packages\\matplotlib\\backends\\backend_agg.py:214: RuntimeWarning: Glyph 38271 missing from current font.\n",
      "  font.set_text(s, 0.0, flags=flags)\n",
      "e:\\python\\lib\\site-packages\\matplotlib\\backends\\backend_agg.py:214: RuntimeWarning: Glyph 26333 missing from current font.\n",
      "  font.set_text(s, 0.0, flags=flags)\n",
      "e:\\python\\lib\\site-packages\\matplotlib\\backends\\backend_agg.py:214: RuntimeWarning: Glyph 20809 missing from current font.\n",
      "  font.set_text(s, 0.0, flags=flags)\n",
      "e:\\python\\lib\\site-packages\\matplotlib\\backends\\backend_agg.py:214: RuntimeWarning: Glyph 20154 missing from current font.\n",
      "  font.set_text(s, 0.0, flags=flags)\n",
      "e:\\python\\lib\\site-packages\\matplotlib\\backends\\backend_agg.py:214: RuntimeWarning: Glyph 25968 missing from current font.\n",
      "  font.set_text(s, 0.0, flags=flags)\n",
      "e:\\python\\lib\\site-packages\\matplotlib\\backends\\backend_agg.py:183: RuntimeWarning: Glyph 65288 missing from current font.\n",
      "  font.set_text(s, 0, flags=flags)\n",
      "e:\\python\\lib\\site-packages\\matplotlib\\backends\\backend_agg.py:183: RuntimeWarning: Glyph 26085 missing from current font.\n",
      "  font.set_text(s, 0, flags=flags)\n",
      "e:\\python\\lib\\site-packages\\matplotlib\\backends\\backend_agg.py:183: RuntimeWarning: Glyph 22343 missing from current font.\n",
      "  font.set_text(s, 0, flags=flags)\n",
      "e:\\python\\lib\\site-packages\\matplotlib\\backends\\backend_agg.py:183: RuntimeWarning: Glyph 65289 missing from current font.\n",
      "  font.set_text(s, 0, flags=flags)\n",
      "e:\\python\\lib\\site-packages\\matplotlib\\backends\\backend_agg.py:183: RuntimeWarning: Glyph 22312 missing from current font.\n",
      "  font.set_text(s, 0, flags=flags)\n",
      "e:\\python\\lib\\site-packages\\matplotlib\\backends\\backend_agg.py:183: RuntimeWarning: Glyph 32447 missing from current font.\n",
      "  font.set_text(s, 0, flags=flags)\n",
      "e:\\python\\lib\\site-packages\\matplotlib\\backends\\backend_agg.py:183: RuntimeWarning: Glyph 33829 missing from current font.\n",
      "  font.set_text(s, 0, flags=flags)\n",
      "e:\\python\\lib\\site-packages\\matplotlib\\backends\\backend_agg.py:183: RuntimeWarning: Glyph 19994 missing from current font.\n",
      "  font.set_text(s, 0, flags=flags)\n",
      "e:\\python\\lib\\site-packages\\matplotlib\\backends\\backend_agg.py:183: RuntimeWarning: Glyph 26102 missing from current font.\n",
      "  font.set_text(s, 0, flags=flags)\n",
      "e:\\python\\lib\\site-packages\\matplotlib\\backends\\backend_agg.py:183: RuntimeWarning: Glyph 38271 missing from current font.\n",
      "  font.set_text(s, 0, flags=flags)\n",
      "e:\\python\\lib\\site-packages\\matplotlib\\backends\\backend_agg.py:183: RuntimeWarning: Glyph 26333 missing from current font.\n",
      "  font.set_text(s, 0, flags=flags)\n",
      "e:\\python\\lib\\site-packages\\matplotlib\\backends\\backend_agg.py:183: RuntimeWarning: Glyph 20809 missing from current font.\n",
      "  font.set_text(s, 0, flags=flags)\n",
      "e:\\python\\lib\\site-packages\\matplotlib\\backends\\backend_agg.py:183: RuntimeWarning: Glyph 20154 missing from current font.\n",
      "  font.set_text(s, 0, flags=flags)\n",
      "e:\\python\\lib\\site-packages\\matplotlib\\backends\\backend_agg.py:183: RuntimeWarning: Glyph 25968 missing from current font.\n",
      "  font.set_text(s, 0, flags=flags)\n"
     ]
    },
    {
     "data": {
      "image/png": "[encoded data removed]",
      "text/plain": [
       "<Figure size 432x288 with 1 Axes>"
      ]
     },
     "metadata": {
      "needs_background": "light"
     },
     "output_type": "display_data"
    }
   ],
   "source": [
    "sns.regplot('（日均）在线营业时长（h）','曝光人数',Q1_data)"
   ]
  },
  {
   "cell_type": "code",
   "execution_count": 27,
   "metadata": {},
   "outputs": [],
   "source": [
    "# 验证数据的正态分布\n",
    "from scipy import stats"
   ]
  },
  {
   "cell_type": "code",
   "execution_count": 39,
   "metadata": {},
   "outputs": [],
   "source": [
    "zhengtai = pd.DataFrame(data,columns=['曝光人数'])\n"
   ]
  },
  {
   "cell_type": "code",
   "execution_count": 40,
   "metadata": {},
   "outputs": [
    {
     "name": "stdout",
     "output_type": "stream",
     "text": [
      "ks_res: KstestResult(statistic=0.1162664522503416, pvalue=7.74128649330282e-05)\n"
     ]
    }
   ],
   "source": [
    "u = zhengtai['曝光人数'].mean()\n",
    "std = zhengtai['曝光人数'].std()  \n",
    "ks_result = stats.kstest(zhengtai['曝光人数'], 'norm', (u, std))\n",
    "print('ks_res:',ks_result)\n",
    "p_value = ks_result[1]\n"
   ]
  },
  {
   "cell_type": "code",
   "execution_count": 41,
   "metadata": {},
   "outputs": [
    {
     "data": {
      "image/png": "[encoded data removed]",
      "text/plain": [
       "<Figure size 432x288 with 1 Axes>"
      ]
     },
     "metadata": {
      "needs_background": "light"
     },
     "output_type": "display_data"
    },
    {
     "name": "stderr",
     "output_type": "stream",
     "text": [
      "e:\\python\\lib\\site-packages\\matplotlib\\backends\\backend_agg.py:214: RuntimeWarning: Glyph 20998 missing from current font.\n",
      "  font.set_text(s, 0.0, flags=flags)\n",
      "e:\\python\\lib\\site-packages\\matplotlib\\backends\\backend_agg.py:214: RuntimeWarning: Glyph 24067 missing from current font.\n",
      "  font.set_text(s, 0.0, flags=flags)\n",
      "e:\\python\\lib\\site-packages\\matplotlib\\backends\\backend_agg.py:183: RuntimeWarning: Glyph 20998 missing from current font.\n",
      "  font.set_text(s, 0, flags=flags)\n",
      "e:\\python\\lib\\site-packages\\matplotlib\\backends\\backend_agg.py:183: RuntimeWarning: Glyph 24067 missing from current font.\n",
      "  font.set_text(s, 0, flags=flags)\n"
     ]
    },
    {
     "data": {
      "image/png": "[encoded data removed]",
      "text/plain": [
       "<Figure size 432x288 with 1 Axes>"
      ]
     },
     "metadata": {
      "needs_background": "light"
     },
     "output_type": "display_data"
    }
   ],
   "source": [
    "zhengtai['曝光人数'].plot(kind='kde', grid=True, style='-k', title='密度曲线')\n",
    "plt.title('destiny')\n",
    "plt.show()\n",
    "\n",
    "\n",
    "\n",
    "plt.scatter(zhengtai.index, zhengtai['曝光人数'], color='r', marker='.', alpha=0.5)\n",
    "plt.grid()\n",
    "plt.title('分布')\n",
    "plt.show()"
   ]
  },
  {
   "cell_type": "code",
   "execution_count": 49,
   "metadata": {},
   "outputs": [],
   "source": [
    "bao = data['曝光人数']\n",
    "\n",
    "from pylab import *"
   ]
  },
  {
   "cell_type": "code",
   "execution_count": 53,
   "metadata": {},
   "outputs": [
    {
     "data": {
      "image/png": "[encoded data removed]",
      "text/plain": [
       "<Figure size 432x288 with 1 Axes>"
      ]
     },
     "metadata": {
      "needs_background": "light"
     },
     "output_type": "display_data"
    }
   ],
   "source": [
    "fig = plt.figure()\n",
    "res = stats.probplot(bao, plot=plt)\n",
    "plt.show()"
   ]
  },
  {
   "cell_type": "code",
   "execution_count": null,
   "metadata": {
    "scrolled": true
   },
   "outputs": [],
   "source": []
  },
  {
   "cell_type": "code",
   "execution_count": null,
   "metadata": {},
   "outputs": [],
   "source": []
  },
  {
   "cell_type": "code",
   "execution_count": null,
   "metadata": {},
   "outputs": [],
   "source": []
  },
  {
   "cell_type": "code",
   "execution_count": null,
   "metadata": {},
   "outputs": [],
   "source": [
    "\n"
   ]
  },
  {
   "cell_type": "code",
   "execution_count": null,
   "metadata": {},
   "outputs": [],
   "source": []
  },
  {
   "cell_type": "code",
   "execution_count": null,
   "metadata": {},
   "outputs": [],
   "source": []
  },
  {
   "cell_type": "code",
   "execution_count": null,
   "metadata": {},
   "outputs": [],
   "source": []
  },
  {
   "cell_type": "code",
   "execution_count": null,
   "metadata": {},
   "outputs": [],
   "source": []
  },
  {
   "cell_type": "code",
   "execution_count": null,
   "metadata": {},
   "outputs": [],
   "source": []
  },
  {
   "cell_type": "code",
   "execution_count": null,
   "metadata": {},
   "outputs": [],
   "source": []
  },
  {
   "cell_type": "code",
   "execution_count": null,
   "metadata": {},
   "outputs": [],
   "source": []
  },
  {
   "cell_type": "code",
   "execution_count": null,
   "metadata": {},
   "outputs": [],
   "source": []
  },
  {
   "cell_type": "code",
   "execution_count": null,
   "metadata": {},
   "outputs": [],
   "source": []
  },
  {
   "cell_type": "code",
   "execution_count": null,
   "metadata": {},
   "outputs": [],
   "source": []
  },
  {
   "cell_type": "code",
   "execution_count": null,
   "metadata": {},
   "outputs": [],
   "source": []
  },
  {
   "cell_type": "code",
   "execution_count": null,
   "metadata": {},
   "outputs": [],
   "source": []
  },
  {
   "cell_type": "code",
   "execution_count": null,
   "metadata": {},
   "outputs": [],
   "source": []
  },
  {
   "cell_type": "code",
   "execution_count": null,
   "metadata": {},
   "outputs": [],
   "source": [
    "\n"
   ]
  },
  {
   "cell_type": "code",
   "execution_count": 109,
   "metadata": {},
   "outputs": [],
   "source": []
  },
  {
   "cell_type": "code",
   "execution_count": null,
   "metadata": {},
   "outputs": [],
   "source": []
  }
 ],
 "metadata": {
  "kernelspec": {
   "display_name": "Python 3",
   "language": "python",
   "name": "python3"
  },
  "language_info": {
   "codemirror_mode": {
    "name": "ipython",
    "version": 3
   },
   "file_extension": ".py",
   "mimetype": "text/x-python",
   "name": "python",
   "nbconvert_exporter": "python",
   "pygments_lexer": "ipython3",
   "version": "3.6.2"
  }
 },
 "nbformat": 4,
 "nbformat_minor": 4
}

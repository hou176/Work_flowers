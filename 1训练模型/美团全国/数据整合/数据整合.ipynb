{
 "cells": [
  {
   "cell_type": "code",
   "execution_count": 11,
   "metadata": {},
   "outputs": [],
   "source": [
    "import pandas as pd \n",
    "import numpy  as np\n",
    "import os \n",
    "import time"
   ]
  },
  {
   "cell_type": "code",
   "execution_count": 12,
   "metadata": {},
   "outputs": [],
   "source": [
    "def file_name(filelist_1):    \n",
    "    filelist_2 = [] # 只有名字没有后缀\n",
    "    for i in filelist_1:\n",
    "        fname,ext = os.path.splitext(i)  \n",
    "        filelist_2.append(fname)\n",
    "    return filelist_2\n",
    "def read_xlsx(filelist_2,route,url):\n",
    "    for i in range(len(filelist_2)):\n",
    "        path = route +\"/\"+filelist_2[i] +\".xlsx\"\n",
    "        pd_path =url + filelist_2[i] + '.csv'\n",
    "        data = pd.read_excel(path,encoding='gbk')\n",
    "        data.to_csv(pd_path)\n"
   ]
  },
  {
   "cell_type": "code",
   "execution_count": 13,
   "metadata": {},
   "outputs": [],
   "source": [
    "route = 'D:/2020/'\n",
    "url = r'C:/Users/Administrator/Datas/1训练模型/美团全国/csv/'"
   ]
  },
  {
   "cell_type": "code",
   "execution_count": 15,
   "metadata": {},
   "outputs": [
    {
     "name": "stdout",
     "output_type": "stream",
     "text": [
      "['1', '10', '2', '3', '4', '5', '6', '7', '8', '9', '活动']\n"
     ]
    }
   ],
   "source": [
    "filelist = os.listdir(url) # 获取文件夹下面的名字\n",
    "print(filelist)"
   ]
  },
  {
   "cell_type": "code",
   "execution_count": 17,
   "metadata": {},
   "outputs": [
    {
     "name": "stdout",
     "output_type": "stream",
     "text": [
      "文件夹9月-运行时间: 1544.078141450882 分钟\n",
      "文件夹10月-运行时间: 935.651211977005 分钟\n"
     ]
    }
   ],
   "source": [
    "\n",
    "for i in range(9,11):\n",
    "    route_path = route + str(i) + '月/'\n",
    "    os.makedirs(url + str(i))\n",
    "    url_path = url + str(i) +'/'\n",
    "    filelist_1 = os.listdir(route_path) \n",
    "    filelist_2 = file_name(filelist_1)\n",
    "    start =time.time()\n",
    "    read_xlsx(filelist_2,route_path,url_path)\n",
    "    end =time.time()\n",
    "    print('文件夹' + str(i)+ '月-运行时间: {} 分钟'.format(end-start))\n",
    "\n",
    "    "
   ]
  },
  {
   "cell_type": "markdown",
   "metadata": {},
   "source": [
    "# result"
   ]
  },
  {
   "cell_type": "code",
   "execution_count": 18,
   "metadata": {},
   "outputs": [
    {
     "name": "stdout",
     "output_type": "stream",
     "text": [
      "文件夹9月-运行时间: 96.59659361839294 秒\n",
      "文件夹10月-运行时间: 48.187286615371704 秒\n"
     ]
    }
   ],
   "source": [
    "for j in range(9,11):\n",
    "    url_path = url + str(j) + '/'\n",
    "    result = pd.DataFrame()\n",
    "    filelist_3 = os.listdir(url_path)\n",
    "    start =time.time()\n",
    "    for i in filelist_3:\n",
    "#         path = url_path +\"/\"+i\n",
    "        data = pd.read_csv(r'C:/Users/Administrator/Datas/1训练模型/美团全国/csv/' +str(j) + '/' +i )    \n",
    "        result = pd.concat([result,data],axis=0)\n",
    "    result.to_csv(url_path+'result.csv')\n",
    "    end =time.time()\n",
    "    print('文件夹' + str(j)+ '月-运行时间: {} 秒'.format(end-start))"
   ]
  },
  {
   "cell_type": "code",
   "execution_count": null,
   "metadata": {},
   "outputs": [],
   "source": []
  }
 ],
 "metadata": {
  "kernelspec": {
   "display_name": "Python 3",
   "language": "python",
   "name": "python3"
  },
  "language_info": {
   "codemirror_mode": {
    "name": "ipython",
    "version": 3
   },
   "file_extension": ".py",
   "mimetype": "text/x-python",
   "name": "python",
   "nbconvert_exporter": "python",
   "pygments_lexer": "ipython3",
   "version": "3.8.3"
  }
 },
 "nbformat": 4,
 "nbformat_minor": 4
}

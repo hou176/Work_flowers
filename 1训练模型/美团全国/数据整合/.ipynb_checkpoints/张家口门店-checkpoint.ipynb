{
 "cells": [
  {
   "cell_type": "code",
   "execution_count": 3,
   "metadata": {},
   "outputs": [],
   "source": [
    "import pandas as pd \n",
    "import numpy  as np\n",
    "import os \n",
    "import time"
   ]
  },
  {
   "cell_type": "code",
   "execution_count": 4,
   "metadata": {},
   "outputs": [],
   "source": [
    "url = 'C:/Users/Administrator/Datas/1训练模型/美团全国/csv/'"
   ]
  },
  {
   "cell_type": "code",
   "execution_count": 6,
   "metadata": {},
   "outputs": [
    {
     "name": "stdout",
     "output_type": "stream",
     "text": [
      "文件         Unnamed: 0  Unnamed: 0.1   poi_id                 门店名       品牌ID  \\\n",
      "2200000       17491         17491  7673880                水云花坊          0   \n",
      "2200001       17492         17492  9606155       花香满屋鲜花店(淮海路店)          0   \n",
      "2200002       17493         17493  7811374             云裳花舍工作室          0   \n",
      "2200003       17494         17494  9680763  力天玫瑰花店（生日表白鲜花开业花篮）          0   \n",
      "2200004       17495         17495  8133207                 花之语          0   \n",
      "...             ...           ...      ...                 ...        ...   \n",
      "2274775       92266         92266  7051054        花里鲜花（舟山新桥路店）  100030826   \n",
      "2274776       92267         92267  7241159          燕子花艺馆（鲜花店）          0   \n",
      "2274777       92268         92268  7508324              美子秋花艺馆          0   \n",
      "2274778       92269         92269  7812028             拈花惹草鲜花店          0   \n",
      "2274779       92270         92270  7909578                倾城花艺          0   \n",
      "\n",
      "         品牌名   省份  城市 城市等级       蜂窝  ... 商家经营状态异常订单数 商家违规投诉订单数  美团配送延迟订单数  \\\n",
      "2200000  NaN  河南省  郑州    A      阳光城  ...           0         0          0   \n",
      "2200001  NaN  江苏省  徐州   B2       文百  ...           0         0          0   \n",
      "2200002  NaN  天津市  天津    A  FZ·王府壹号  ...           0         0          0   \n",
      "2200003  NaN  辽宁省  沈阳   B1      长白东  ...           0         0          0   \n",
      "2200004  NaN  上海市  上海    S       茸北  ...           0         0          0   \n",
      "...      ...  ...  ..  ...      ...  ...         ...       ...        ...   \n",
      "2274775   花里  浙江省  舟山   D3     凯虹广场  ...           0         0          0   \n",
      "2274776  NaN  上海市  上海    S      小南门  ...           0         0          0   \n",
      "2274777  NaN  四川省  巴中  NaN      NaN  ...           0         0          0   \n",
      "2274778  NaN  北京市  北京    S     龙旗中心  ...           0         0          0   \n",
      "2274779  NaN  山东省  济南   B1  章丘区维华商厦  ...           0         0          0   \n",
      "\n",
      "         因美团配送原因取消订单数  线上活动总补贴金额  曝光人数  进店人数  成单用户数  在线商品数  在售商品数  \n",
      "2200000             0        0.0     1     0      0     50     50  \n",
      "2200001             0        1.0   221     8      1    286    284  \n",
      "2200002             0        0.0     8     0      0     25     25  \n",
      "2200003             0        0.0   269     4      0    268    268  \n",
      "2200004             0        0.0    11     0      0     24     21  \n",
      "...               ...        ...   ...   ...    ...    ...    ...  \n",
      "2274775             0        0.0    35     3      0    177    176  \n",
      "2274776             0        0.0    88     1      0    275    270  \n",
      "2274777             0        0.0   104     7      0    317    305  \n",
      "2274778             0        0.0   141     0      0    187    116  \n",
      "2274779             0        0.0    14     0      0    124    119  \n",
      "\n",
      "[74780 rows x 39 columns]运行时间: 8.047304391860962秒\n"
     ]
    }
   ],
   "source": [
    "for j in range(10,11):\n",
    "    \n",
    "    start =time.time()\n",
    "    \n",
    "    data = pd.read_csv(url + str(j)+'/' + 'result.csv' ,chunksize=100000)  \n",
    "    dalian = pd.DataFrame()\n",
    "    chunk_list = []\n",
    "    \n",
    "    for data_chunk in data:\n",
    "        chunk_list.append(data_chunk)\n",
    "        \n",
    "    for i  in chunk_list:\n",
    "        df = i[i['城市'] == '张家口']\n",
    "        dalian = pd.concat([dalian,df],axis=0)\n",
    "        \n",
    "    url_dalian = 'C:/Users/Administrator/Datas/1训练模型/美团全国/'\n",
    "    \n",
    "    dalian.to_csv(url_dalian + str(j) +'月/' + '张家口.csv')\n",
    "    end =time.time()\n",
    "    print('文件' + str(i)+ '运行时间: {}秒'.format(end-start))\n",
    "\n",
    "   "
   ]
  },
  {
   "cell_type": "code",
   "execution_count": null,
   "metadata": {},
   "outputs": [],
   "source": []
  }
 ],
 "metadata": {
  "kernelspec": {
   "display_name": "Python 3",
   "language": "python",
   "name": "python3"
  },
  "language_info": {
   "codemirror_mode": {
    "name": "ipython",
    "version": 3
   },
   "file_extension": ".py",
   "mimetype": "text/x-python",
   "name": "python",
   "nbconvert_exporter": "python",
   "pygments_lexer": "ipython3",
   "version": "3.8.3"
  }
 },
 "nbformat": 4,
 "nbformat_minor": 4
}

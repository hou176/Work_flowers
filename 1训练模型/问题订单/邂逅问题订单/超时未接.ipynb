{
 "cells": [
  {
   "cell_type": "code",
   "execution_count": 225,
   "metadata": {},
   "outputs": [],
   "source": [
    "import  pandas as pd \n",
    "import numpy as np\n",
    "from sklearn.cluster  import KMeans\n",
    "import matplotlib.pyplot  as plt\n",
    "from sklearn.preprocessing import scale\n",
    "from sklearn import cluster\n",
    "pd.set_option('display.max_columns',None)"
   ]
  },
  {
   "cell_type": "code",
   "execution_count": 226,
   "metadata": {},
   "outputs": [],
   "source": [
    "def improt_data(lujing,code):\n",
    "    data = pd.read_excel(lujing,encoding =code,sheet_name= i )\n",
    "    return data"
   ]
  },
  {
   "cell_type": "code",
   "execution_count": 227,
   "metadata": {},
   "outputs": [],
   "source": [
    "lujing = r'C:/Users/Administrator/Datas/训练数据/问题订单/邂逅问题订单/2.xlsx'\n",
    "code = 'gbk'\n",
    "i = '1'\n",
    "df = improt_data(lujing,code)"
   ]
  },
  {
   "cell_type": "code",
   "execution_count": 228,
   "metadata": {
    "scrolled": true
   },
   "outputs": [
    {
     "data": {
      "text/html": [
       "<div>\n",
       "<style scoped>\n",
       "    .dataframe tbody tr th:only-of-type {\n",
       "        vertical-align: middle;\n",
       "    }\n",
       "\n",
       "    .dataframe tbody tr th {\n",
       "        vertical-align: top;\n",
       "    }\n",
       "\n",
       "    .dataframe thead th {\n",
       "        text-align: right;\n",
       "    }\n",
       "</style>\n",
       "<table border=\"1\" class=\"dataframe\">\n",
       "  <thead>\n",
       "    <tr style=\"text-align: right;\">\n",
       "      <th></th>\n",
       "      <th>日期</th>\n",
       "      <th>门店ID</th>\n",
       "      <th>门店名称</th>\n",
       "      <th>所属分账号</th>\n",
       "      <th>运营姓名</th>\n",
       "      <th>订单编号</th>\n",
       "      <th>产品名称</th>\n",
       "      <th>下单时间</th>\n",
       "      <th>退单时间</th>\n",
       "      <th>退单类型</th>\n",
       "      <th>退单理由</th>\n",
       "      <th>备注</th>\n",
       "      <th>具体事项</th>\n",
       "      <th>记录人</th>\n",
       "    </tr>\n",
       "  </thead>\n",
       "  <tbody>\n",
       "    <tr>\n",
       "      <th>0</th>\n",
       "      <td>2020-06-04</td>\n",
       "      <td>5539622</td>\n",
       "      <td>邂逅花坊鲜花（SaSa花艺生活馆）</td>\n",
       "      <td>NaN</td>\n",
       "      <td>NaN</td>\n",
       "      <td>55396220856597600</td>\n",
       "      <td>NaN</td>\n",
       "      <td>2020-06-03 23:49:00</td>\n",
       "      <td>2020-06-04 00:04:00</td>\n",
       "      <td>商家超时未接单</td>\n",
       "      <td>订单取消时，自动退款</td>\n",
       "      <td>开始营业15分钟后未及时处理预订单</td>\n",
       "      <td>NaN</td>\n",
       "      <td>魏宝珍</td>\n",
       "    </tr>\n",
       "    <tr>\n",
       "      <th>1</th>\n",
       "      <td>2020-06-04</td>\n",
       "      <td>5539355</td>\n",
       "      <td>邂逅花坊鲜花（紫藤花艺）</td>\n",
       "      <td>NaN</td>\n",
       "      <td>NaN</td>\n",
       "      <td>55393552399089990</td>\n",
       "      <td>NaN</td>\n",
       "      <td>2020-06-03 23:58:00</td>\n",
       "      <td>2020-06-04 00:13:00</td>\n",
       "      <td>商家超时未接单</td>\n",
       "      <td>订单取消时，自动退款</td>\n",
       "      <td>下单超时未确认，系统自动取消</td>\n",
       "      <td>NaN</td>\n",
       "      <td>魏宝珍</td>\n",
       "    </tr>\n",
       "    <tr>\n",
       "      <th>2</th>\n",
       "      <td>2020-06-03</td>\n",
       "      <td>8255286</td>\n",
       "      <td>邂逅花坊鲜花（女人花）</td>\n",
       "      <td>NaN</td>\n",
       "      <td>NaN</td>\n",
       "      <td>82552860433669528</td>\n",
       "      <td>NaN</td>\n",
       "      <td>2020-06-02 22:46:00</td>\n",
       "      <td>2020-06-03 07:15:00</td>\n",
       "      <td>商家超时未接单</td>\n",
       "      <td>订单取消时，自动退款</td>\n",
       "      <td>开始营业15分钟后未及时处理预订单</td>\n",
       "      <td>NaN</td>\n",
       "      <td>张鑫蕊</td>\n",
       "    </tr>\n",
       "    <tr>\n",
       "      <th>3</th>\n",
       "      <td>2020-06-12</td>\n",
       "      <td>5631601</td>\n",
       "      <td>邂逅花坊鲜花（花之语鲜花）</td>\n",
       "      <td>NaN</td>\n",
       "      <td>NaN</td>\n",
       "      <td>56316014219315926</td>\n",
       "      <td>NaN</td>\n",
       "      <td>2020-06-12 01:25:00</td>\n",
       "      <td>2020-06-12 01:40:00</td>\n",
       "      <td>商家超时未接单</td>\n",
       "      <td>订单取消时，自动退款</td>\n",
       "      <td>下单超时未确认，系统自动取消</td>\n",
       "      <td>NaN</td>\n",
       "      <td>张鑫蕊</td>\n",
       "    </tr>\n",
       "    <tr>\n",
       "      <th>4</th>\n",
       "      <td>2020-06-14</td>\n",
       "      <td>8207298</td>\n",
       "      <td>邂逅花坊鲜花（一花一木）</td>\n",
       "      <td>NaN</td>\n",
       "      <td>NaN</td>\n",
       "      <td>82072984203491019</td>\n",
       "      <td>NaN</td>\n",
       "      <td>2020-06-14 02:22:00</td>\n",
       "      <td>2020-06-14 02:37:00</td>\n",
       "      <td>商家超时未接单</td>\n",
       "      <td>订单取消时，自动退款</td>\n",
       "      <td>下单超时未确认，系统自动取消</td>\n",
       "      <td>NaN</td>\n",
       "      <td>苑云</td>\n",
       "    </tr>\n",
       "    <tr>\n",
       "      <th>...</th>\n",
       "      <td>...</td>\n",
       "      <td>...</td>\n",
       "      <td>...</td>\n",
       "      <td>...</td>\n",
       "      <td>...</td>\n",
       "      <td>...</td>\n",
       "      <td>...</td>\n",
       "      <td>...</td>\n",
       "      <td>...</td>\n",
       "      <td>...</td>\n",
       "      <td>...</td>\n",
       "      <td>...</td>\n",
       "      <td>...</td>\n",
       "      <td>...</td>\n",
       "    </tr>\n",
       "    <tr>\n",
       "      <th>85</th>\n",
       "      <td>2020-07-30</td>\n",
       "      <td>5636089</td>\n",
       "      <td>邂逅花坊鲜花（丹妮花坊）</td>\n",
       "      <td>7.0</td>\n",
       "      <td>杨婉格</td>\n",
       "      <td>56360892556232875</td>\n",
       "      <td>鹿铃霄霄【11枝粉玫瑰尤加利绿叶鲜花花束】</td>\n",
       "      <td>2020-07-30 02:09:00</td>\n",
       "      <td>2020/07/30 2:24\\n</td>\n",
       "      <td>商家超时未接单</td>\n",
       "      <td>订单取消时，自动退款</td>\n",
       "      <td>下单超时未确认，系统自动取消</td>\n",
       "      <td>NaN</td>\n",
       "      <td>王悦</td>\n",
       "    </tr>\n",
       "    <tr>\n",
       "      <th>86</th>\n",
       "      <td>2020-07-30</td>\n",
       "      <td>5931688</td>\n",
       "      <td>邂逅花坊鲜花（花加花艺馆）</td>\n",
       "      <td>4.0</td>\n",
       "      <td>王林林</td>\n",
       "      <td>59316882556232875</td>\n",
       "      <td>陪我一生【11枝红玫瑰表白鲜花礼盒】</td>\n",
       "      <td>2020-07-30 00:39:00</td>\n",
       "      <td>2020-07-30 00:54:00</td>\n",
       "      <td>商家超时未接单</td>\n",
       "      <td>订单取消时，自动退款</td>\n",
       "      <td>下单超时未确认，系统自动取消</td>\n",
       "      <td>NaN</td>\n",
       "      <td>王悦</td>\n",
       "    </tr>\n",
       "    <tr>\n",
       "      <th>87</th>\n",
       "      <td>2020-07-30</td>\n",
       "      <td>5444887</td>\n",
       "      <td>邂逅花坊鲜花（阳光婚庆）</td>\n",
       "      <td>4.0</td>\n",
       "      <td>王林林</td>\n",
       "      <td>54448871276496070</td>\n",
       "      <td>只在乎你【33枝香槟玫瑰搭配尤加利小雏菊鲜花花束】</td>\n",
       "      <td>2020-07-30 01:43:00</td>\n",
       "      <td>2020-07-30 01:58:00</td>\n",
       "      <td>商家超时未接单</td>\n",
       "      <td>订单取消时，自动退款</td>\n",
       "      <td>下单超时未确认，系统自动取消</td>\n",
       "      <td>NaN</td>\n",
       "      <td>王悦</td>\n",
       "    </tr>\n",
       "    <tr>\n",
       "      <th>88</th>\n",
       "      <td>2020-07-31</td>\n",
       "      <td>5108781</td>\n",
       "      <td>邂逅花坊鲜花（方圆花坊）</td>\n",
       "      <td>6.0</td>\n",
       "      <td>张家僮</td>\n",
       "      <td>51087811211609187</td>\n",
       "      <td>心意【11枝粉康乃馨搭配尤加利相思梅鲜花礼盒】</td>\n",
       "      <td>2020-07-31 00:42:00</td>\n",
       "      <td>2020-07-31 00:57:00</td>\n",
       "      <td>商家超时未接单</td>\n",
       "      <td>订单取消时，自动退款</td>\n",
       "      <td>下单超时未确认，系统自动取消</td>\n",
       "      <td>NaN</td>\n",
       "      <td>孟飞</td>\n",
       "    </tr>\n",
       "    <tr>\n",
       "      <th>89</th>\n",
       "      <td>2020-07-31</td>\n",
       "      <td>2681117</td>\n",
       "      <td>邂逅花坊鲜花（盛达升华鲜花）</td>\n",
       "      <td>1.0</td>\n",
       "      <td>孟金雨</td>\n",
       "      <td>26811171211609187</td>\n",
       "      <td>【日常家居鲜花】3枝白色乒乓菊（不带包装、花瓶）</td>\n",
       "      <td>2020-07-31 22:38:00</td>\n",
       "      <td>2020-07-31 22:53:00</td>\n",
       "      <td>商家超时未接单</td>\n",
       "      <td>订单取消时，自动退款</td>\n",
       "      <td>下单超时未确认，系统自动取消</td>\n",
       "      <td>NaN</td>\n",
       "      <td>孟飞</td>\n",
       "    </tr>\n",
       "  </tbody>\n",
       "</table>\n",
       "<p>90 rows × 14 columns</p>\n",
       "</div>"
      ],
      "text/plain": [
       "           日期     门店ID               门店名称  所属分账号 运营姓名               订单编号  \\\n",
       "0  2020-06-04  5539622  邂逅花坊鲜花（SaSa花艺生活馆）    NaN  NaN  55396220856597600   \n",
       "1  2020-06-04  5539355       邂逅花坊鲜花（紫藤花艺）    NaN  NaN  55393552399089990   \n",
       "2  2020-06-03  8255286        邂逅花坊鲜花（女人花）    NaN  NaN  82552860433669528   \n",
       "3  2020-06-12  5631601      邂逅花坊鲜花（花之语鲜花）    NaN  NaN  56316014219315926   \n",
       "4  2020-06-14  8207298       邂逅花坊鲜花（一花一木）    NaN  NaN  82072984203491019   \n",
       "..        ...      ...                ...    ...  ...                ...   \n",
       "85 2020-07-30  5636089       邂逅花坊鲜花（丹妮花坊）    7.0  杨婉格  56360892556232875   \n",
       "86 2020-07-30  5931688      邂逅花坊鲜花（花加花艺馆）    4.0  王林林  59316882556232875   \n",
       "87 2020-07-30  5444887       邂逅花坊鲜花（阳光婚庆）    4.0  王林林  54448871276496070   \n",
       "88 2020-07-31  5108781       邂逅花坊鲜花（方圆花坊）    6.0  张家僮  51087811211609187   \n",
       "89 2020-07-31  2681117     邂逅花坊鲜花（盛达升华鲜花）    1.0  孟金雨  26811171211609187   \n",
       "\n",
       "                         产品名称                下单时间                 退单时间  \\\n",
       "0                         NaN 2020-06-03 23:49:00  2020-06-04 00:04:00   \n",
       "1                         NaN 2020-06-03 23:58:00  2020-06-04 00:13:00   \n",
       "2                         NaN 2020-06-02 22:46:00  2020-06-03 07:15:00   \n",
       "3                         NaN 2020-06-12 01:25:00  2020-06-12 01:40:00   \n",
       "4                         NaN 2020-06-14 02:22:00  2020-06-14 02:37:00   \n",
       "..                        ...                 ...                  ...   \n",
       "85      鹿铃霄霄【11枝粉玫瑰尤加利绿叶鲜花花束】 2020-07-30 02:09:00    2020/07/30 2:24\\n   \n",
       "86         陪我一生【11枝红玫瑰表白鲜花礼盒】 2020-07-30 00:39:00  2020-07-30 00:54:00   \n",
       "87  只在乎你【33枝香槟玫瑰搭配尤加利小雏菊鲜花花束】 2020-07-30 01:43:00  2020-07-30 01:58:00   \n",
       "88    心意【11枝粉康乃馨搭配尤加利相思梅鲜花礼盒】 2020-07-31 00:42:00  2020-07-31 00:57:00   \n",
       "89   【日常家居鲜花】3枝白色乒乓菊（不带包装、花瓶） 2020-07-31 22:38:00  2020-07-31 22:53:00   \n",
       "\n",
       "       退单类型        退单理由                 备注 具体事项  记录人  \n",
       "0   商家超时未接单  订单取消时，自动退款  开始营业15分钟后未及时处理预订单  NaN  魏宝珍  \n",
       "1   商家超时未接单  订单取消时，自动退款     下单超时未确认，系统自动取消  NaN  魏宝珍  \n",
       "2   商家超时未接单  订单取消时，自动退款  开始营业15分钟后未及时处理预订单  NaN  张鑫蕊  \n",
       "3   商家超时未接单  订单取消时，自动退款     下单超时未确认，系统自动取消  NaN  张鑫蕊  \n",
       "4   商家超时未接单  订单取消时，自动退款     下单超时未确认，系统自动取消  NaN   苑云  \n",
       "..      ...         ...                ...  ...  ...  \n",
       "85  商家超时未接单  订单取消时，自动退款     下单超时未确认，系统自动取消  NaN   王悦  \n",
       "86  商家超时未接单  订单取消时，自动退款     下单超时未确认，系统自动取消  NaN   王悦  \n",
       "87  商家超时未接单  订单取消时，自动退款     下单超时未确认，系统自动取消  NaN   王悦  \n",
       "88  商家超时未接单  订单取消时，自动退款     下单超时未确认，系统自动取消  NaN   孟飞  \n",
       "89  商家超时未接单  订单取消时，自动退款     下单超时未确认，系统自动取消  NaN   孟飞  \n",
       "\n",
       "[90 rows x 14 columns]"
      ]
     },
     "execution_count": 228,
     "metadata": {},
     "output_type": "execute_result"
    }
   ],
   "source": [
    "df"
   ]
  },
  {
   "cell_type": "code",
   "execution_count": 247,
   "metadata": {},
   "outputs": [],
   "source": [
    "def drop_du(data,a):\n",
    "    df = data.drop_duplicates(subset=a,inplace=False,keep = 'last')\n",
    "    list_ = list(df[a])\n",
    "    data[a] = (data[a])\n",
    "    list_sum = []\n",
    "    for i in range(len(list_)):\n",
    "        print(list_[i])\n",
    "        b = list_[i]\n",
    "        x = type(b)\n",
    "        c = str(x)\n",
    "        if  c ==\"<class 'int'>\":\n",
    "            sum_ = data[data[a] == b ]['门店ID'].count()\n",
    "            print(sum_)\n",
    "            dict_ = {}\n",
    "            hah = data[data[a] == b ]['门店名称']\n",
    "            hah = list(hah)\n",
    "            hah = hah[0]\n",
    "            if sum_ > 1 :\n",
    "                dict_ = {hah:sum_}\n",
    "                list_sum.append(dict_)\n",
    "            i = i + 1  \n",
    "            b = str(b)\n",
    "            print('-' *len(b) )\n",
    "        else:\n",
    "            sum_ = data[data[a] == b ]['门店ID'].count()\n",
    "            print(sum_)\n",
    "#             dict_ = {}\n",
    "#             if sum_ > 1 :\n",
    "#                 dict_ = {b:sum_}\n",
    "#                 list_sum.append(dict_)\n",
    "#             i = i + 1  \n",
    "#             print('--' *len(b) )\n",
    "    return list_sum\n",
    "\n",
    "def shaixuan(data,a,b,c):\n",
    "    data = data[data[a] == b]\n",
    "    df = data.drop_duplicates(subset=c,inplace=False,keep = 'last')\n",
    "    list_ = list(df[c])\n",
    "    list_sum = []\n",
    "    list_sum_ = []\n",
    "    for i in range(len(list_)):\n",
    "        j = list_[i]\n",
    "        sum_ = data[data[c] == j ]['门店ID'].count()\n",
    "        dict_ = {}\n",
    "        if sum_ > 1 :\n",
    "            dict_ = {j:sum_}\n",
    "            list_sum.append(dict_)\n",
    "        else:\n",
    "            dict_ = {j:sum_}\n",
    "            list_sum_.append(dict_)\n",
    "        i = i + 1 \n",
    "    k = [list_sum,'-------------------------',list_sum_]\n",
    "    return k \n",
    "    "
   ]
  },
  {
   "cell_type": "markdown",
   "metadata": {},
   "source": [
    "## 退单一级分类"
   ]
  },
  {
   "cell_type": "code",
   "execution_count": 240,
   "metadata": {},
   "outputs": [
    {
     "name": "stdout",
     "output_type": "stream",
     "text": [
      "订单取消时，自动退款\n",
      "90\n"
     ]
    },
    {
     "data": {
      "text/plain": [
       "[]"
      ]
     },
     "execution_count": 240,
     "metadata": {},
     "output_type": "execute_result"
    }
   ],
   "source": [
    "drop_du(df,'退单理由')"
   ]
  },
  {
   "cell_type": "markdown",
   "metadata": {},
   "source": [
    "## 退单二级分类"
   ]
  },
  {
   "cell_type": "code",
   "execution_count": 241,
   "metadata": {
    "scrolled": true
   },
   "outputs": [
    {
     "data": {
      "text/plain": [
       "[[{'超时未处理，系统自动退款': 3}, {'开始营业15分钟后未及时处理预订单': 19}, {'下单超时未确认，系统自动取消': 68}], []]"
      ]
     },
     "execution_count": 241,
     "metadata": {},
     "output_type": "execute_result"
    }
   ],
   "source": [
    "shaixuan(df,'退单理由','订单取消时，自动退款','备注')"
   ]
  },
  {
   "cell_type": "code",
   "execution_count": null,
   "metadata": {},
   "outputs": [],
   "source": [
    "shaixuan(df,'退单理由','订单取消时，自动退款','备注')"
   ]
  },
  {
   "cell_type": "markdown",
   "metadata": {},
   "source": [
    "# 三级具体事项"
   ]
  },
  {
   "cell_type": "code",
   "execution_count": 242,
   "metadata": {},
   "outputs": [
    {
     "data": {
      "text/plain": [
       "[[],\n",
       " [{'接单1分钟内，退款申请系统自动通过': 1},\n",
       "  {'接单2分钟内，退款申请系统自动通过': 1},\n",
       "  {'订单取消时，自动退款': 1},\n",
       "  {'下单超时未确认，系统自动取消': 1},\n",
       "  {nan: 0}]]"
      ]
     },
     "execution_count": 242,
     "metadata": {},
     "output_type": "execute_result"
    }
   ],
   "source": [
    "shaixuan(df,'备注','开始营业15分钟后未及时处理预订单','具体事项')"
   ]
  },
  {
   "cell_type": "code",
   "execution_count": 243,
   "metadata": {},
   "outputs": [
    {
     "data": {
      "text/plain": [
       "[[],\n",
       " [{'下单超时未确认，系统自动取消': 1},\n",
       "  {'超过3小时自动退款': 1},\n",
       "  {'其他商家不知道有没有关门，没有人回我信息': 1},\n",
       "  {'配送太慢，不要了超时': 1},\n",
       "  {'店铺已打烊': 1},\n",
       "  {'订单取消时，自动退款': 1},\n",
       "  {nan: 0}]]"
      ]
     },
     "execution_count": 243,
     "metadata": {},
     "output_type": "execute_result"
    }
   ],
   "source": [
    "shaixuan(df,'备注','下单超时未确认，系统自动取消','具体事项')"
   ]
  },
  {
   "cell_type": "code",
   "execution_count": 245,
   "metadata": {},
   "outputs": [
    {
     "data": {
      "text/plain": [
       "[[], [{'超时未处理，系统自动退款': 1}, {nan: 0}]]"
      ]
     },
     "execution_count": 245,
     "metadata": {},
     "output_type": "execute_result"
    }
   ],
   "source": [
    "shaixuan(df,'备注','超时未处理，系统自动退款','具体事项')"
   ]
  },
  {
   "cell_type": "markdown",
   "metadata": {},
   "source": [
    "# 三级门店"
   ]
  },
  {
   "cell_type": "code",
   "execution_count": 255,
   "metadata": {},
   "outputs": [
    {
     "data": {
      "text/plain": [
       "[[],\n",
       " '-------------------------',\n",
       " [{' lemon': 1}, {'邂逅花坊鲜花（SaSa花艺生活馆）': 1}, {'邂逅花坊鲜花（鑫缘鲜花）': 1}]]"
      ]
     },
     "execution_count": 255,
     "metadata": {},
     "output_type": "execute_result"
    }
   ],
   "source": [
    "shaixuan(df,'备注','超时未处理，系统自动退款','门店名称')"
   ]
  },
  {
   "cell_type": "code",
   "execution_count": 256,
   "metadata": {},
   "outputs": [
    {
     "data": {
      "text/plain": [
       "[[],\n",
       " '-------------------------',\n",
       " [{'邂逅花坊鲜花（SaSa花艺生活馆）': 1},\n",
       "  {'邂逅花坊鲜花（女人花）': 1},\n",
       "  {'邂逅花坊鲜花（花色花香花艺）': 1},\n",
       "  {'邂逅花坊鲜花（浪漫情缘）': 1},\n",
       "  {'邂逅花坊鲜花（俊杰鲜花店）': 1},\n",
       "  {'爱格丝鲜花店': 1},\n",
       "  {'邂逅花坊鲜花（香飘飘花屋）': 1},\n",
       "  {'邂逅花坊鲜花（花之恋花店）': 1},\n",
       "  {'邂逅花坊鲜花（Ainoflowery）': 1},\n",
       "  {'邂逅花坊鲜花（浪漫花都花生活）': 1},\n",
       "  {'邂逅花坊鲜花（方圆花坊）': 1},\n",
       "  {'邂逅花坊鲜花（艺花源花艺）': 1},\n",
       "  {'邂逅花坊鲜花（浪漫花艺鲜花）': 1},\n",
       "  {'邂逅花坊鲜花（仕美花店）': 1},\n",
       "  {'邂逅花坊鲜花（锦尚花艺设计）': 1},\n",
       "  {'邂逅花坊鲜花（花样年华河西店）': 1},\n",
       "  {'邂逅花坊鲜花（天使鲜花店）': 1},\n",
       "  {' 浪漫花屋花艺馆': 1},\n",
       "  {'邂逅花坊鲜花（馨朵朵鲜花坊）': 1}]]"
      ]
     },
     "execution_count": 256,
     "metadata": {},
     "output_type": "execute_result"
    }
   ],
   "source": [
    "shaixuan(df,'备注','开始营业15分钟后未及时处理预订单','门店名称')"
   ]
  },
  {
   "cell_type": "code",
   "execution_count": 257,
   "metadata": {},
   "outputs": [
    {
     "data": {
      "text/plain": [
       "[[{'邂逅花坊鲜花（花知轩）': 2},\n",
       "  {'邂逅花坊鲜花（更懂女人的花店）': 2},\n",
       "  {'邂逅花坊鲜花（茉莉鲜花）': 2},\n",
       "  {'邂逅花坊鲜花（Ainoflowery）': 4},\n",
       "  {'邂逅花坊鲜花（圆梦花行）': 2},\n",
       "  {'邂逅花坊鲜花（花之语鲜花）': 2},\n",
       "  {'邂逅花坊鲜花（爱四分之一鲜花蛋糕DIY）': 2},\n",
       "  {'邂逅花坊鲜花（邂逅花开）': 2},\n",
       "  {'邂逅花坊鲜花（缤纷花店）': 2},\n",
       "  {' 娅菲花坊': 2},\n",
       "  {'邂逅花坊鲜花（小米花卉）': 4}],\n",
       " '-------------------------',\n",
       " [{'邂逅花坊鲜花（紫藤花艺）': 1},\n",
       "  {'邂逅花坊鲜花（一花一木）': 1},\n",
       "  {'邂逅花坊鲜花（鲜花花店）': 1},\n",
       "  {'邂逅花坊鲜花（芙蓉鲜花坊）': 1},\n",
       "  {'花田千数': 1},\n",
       "  {'邂逅花坊鲜花（花怡阁）': 1},\n",
       "  {'邂逅花坊鲜花（童心花艺)': 1},\n",
       "  {'邂逅花坊鲜花（印象IOO鲜花）': 1},\n",
       "  {'那些花儿': 1},\n",
       "  {'邂逅花坊鲜花（浪漫花店）': 1},\n",
       "  {'余小姐的花店': 1},\n",
       "  {'邂逅花坊鲜花（馨朵朵鲜花坊）': 1},\n",
       "  {'邂逅花坊鲜花（小仙女花艺）': 1},\n",
       "  {'邂逅花坊鲜花（嫣然花卉）': 1},\n",
       "  {'车之恋': 1},\n",
       "  {'景园花艺': 1},\n",
       "  {'邂逅花坊鲜花（库尔勒520鲜花）': 1},\n",
       "  {'邂逅花坊鲜花（花样年华）': 1},\n",
       "  {'邂逅花坊鲜花（仙花园鲜花婚庆）': 1},\n",
       "  {'邂逅花坊鲜花（与你有约)': 1},\n",
       "  {'邂逅花坊鲜花（SaSa花艺生活馆）': 1},\n",
       "  {'邂逅花坊鲜花（QQ鲜花园艺）': 1},\n",
       "  {'邂逅花坊鲜花（木槿花艺坊）': 1},\n",
       "  {'邂逅花坊鲜花（花样年华河西店）': 1},\n",
       "  {'邂逅花坊鲜花（陌上花店）': 1},\n",
       "  {'邂逅花坊鲜花（花唯美鲜花庆典）': 1},\n",
       "  {'邂逅花坊鲜花（美美花卉）': 1},\n",
       "  {'邂逅花坊鲜花（朵朵花艺）': 1},\n",
       "  {'简爱': 1},\n",
       "  {'邂逅花坊鲜花（女人花）': 1},\n",
       "  {'\\xa0邂逅花坊鲜花（花色花香花艺）': 1},\n",
       "  {'邂逅花坊鲜花（枫铃花卉）': 1},\n",
       "  {'邂逅花坊鲜花（花儿朵朵鲜花行）': 1},\n",
       "  {'花点时间': 1},\n",
       "  {' 爱花居': 1},\n",
       "  {'邂逅花坊鲜花（唯美花店）': 1},\n",
       "  {'邂逅花坊鲜花（鑫芳馨花店）': 1},\n",
       "  {'邂逅花坊鲜花（丹妮花坊）': 1},\n",
       "  {'邂逅花坊鲜花（花加花艺馆）': 1},\n",
       "  {'邂逅花坊鲜花（阳光婚庆）': 1},\n",
       "  {' 邂逅花坊鲜花（方圆花坊）': 1},\n",
       "  {'邂逅花坊鲜花（盛达升华鲜花）': 1}]]"
      ]
     },
     "execution_count": 257,
     "metadata": {},
     "output_type": "execute_result"
    }
   ],
   "source": [
    "shaixuan(df,'备注','下单超时未确认，系统自动取消','门店名称')"
   ]
  },
  {
   "cell_type": "code",
   "execution_count": null,
   "metadata": {},
   "outputs": [],
   "source": []
  }
 ],
 "metadata": {
  "kernelspec": {
   "display_name": "Python 3",
   "language": "python",
   "name": "python3"
  },
  "language_info": {
   "codemirror_mode": {
    "name": "ipython",
    "version": 3
   },
   "file_extension": ".py",
   "mimetype": "text/x-python",
   "name": "python",
   "nbconvert_exporter": "python",
   "pygments_lexer": "ipython3",
   "version": "3.6.2"
  }
 },
 "nbformat": 4,
 "nbformat_minor": 4
}

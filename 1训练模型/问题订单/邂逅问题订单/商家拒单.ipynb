{
 "cells": [
  {
   "cell_type": "code",
   "execution_count": 72,
   "metadata": {},
   "outputs": [],
   "source": [
    "import  pandas as pd \n",
    "import numpy as np\n",
    "from sklearn.cluster  import KMeans\n",
    "import matplotlib.pyplot  as plt\n",
    "from sklearn.preprocessing import scale\n",
    "from sklearn import cluster\n",
    "pd.set_option('display.max_columns',None)"
   ]
  },
  {
   "cell_type": "code",
   "execution_count": 73,
   "metadata": {},
   "outputs": [],
   "source": [
    "def improt_data(lujing,code):\n",
    "    data = pd.read_excel(lujing,encoding =code,sheet_name= i )\n",
    "    return data"
   ]
  },
  {
   "cell_type": "code",
   "execution_count": 98,
   "metadata": {},
   "outputs": [],
   "source": [
    "def drop_du(data,a):\n",
    "    df = data.drop_duplicates(subset=a,inplace=False,keep = 'last')\n",
    "    list_ = list(df[a])\n",
    "    list_sum = []\n",
    "    list_sum_ = []\n",
    "    for i in range(len(list_)):\n",
    "        b = list_[i]\n",
    "        x = type(b)\n",
    "        c = str(x)\n",
    "        if  c ==\"<class 'int'>\":\n",
    "            sum_ = data[data[a] == b ]['门店ID'].count()\n",
    "            dict_ = {}\n",
    "            hah = data[data[a] == b ]['门店名称']\n",
    "            hah = list(hah)\n",
    "            hah = hah[0]\n",
    "            if sum_ > 1 :\n",
    "                dict_ = {hah:sum_}\n",
    "                list_sum.append(dict_)\n",
    "            else:\n",
    "                dict_ = {hah:sum_}\n",
    "                list_sum_.append(dict_)\n",
    "            i = i + 1  \n",
    "            b = str(b)\n",
    "        else:\n",
    "            sum_ = data[data[a] == b ]['门店ID'].count()\n",
    "\n",
    "            dict_ = {}\n",
    "            hah = data[data[a] == b ]['门店名称']\n",
    "            hah = list(hah)\n",
    "            hah = hah[0]\n",
    "            if sum_ > 1 :\n",
    "                dict_ = {b:sum_}\n",
    "                list_sum.append(dict_)\n",
    "            else:\n",
    "                dict_ = {hah:sum_}\n",
    "                list_sum_.append(dict_)\n",
    "            i = i + 1  \n",
    "\n",
    "    k = [list_sum,list_sum_]\n",
    "    return k\n",
    "\n",
    "def shaixuan(data,a,b,c):\n",
    "    data = data[data[a] == b]\n",
    "    df = data.drop_duplicates(subset=c,inplace=False,keep = 'last')\n",
    "    list_ = list(df[c])\n",
    "    list_sum = []\n",
    "    list_sum_ = []\n",
    "    for i in range(len(list_)):\n",
    "        j = list_[i]\n",
    "        sum_ = data[data[c] == j ]['门店ID'].count()\n",
    "        dict_ = {}\n",
    "        if sum_ > 1 :\n",
    "            dict_ = {j:sum_}\n",
    "            list_sum.append(dict_)\n",
    "        else:\n",
    "            dict_ = {j:sum_}\n",
    "            list_sum_.append(dict_)\n",
    "        i = i + 1 \n",
    "    k = [list_sum,list_sum_]\n",
    "    return k \n",
    "    "
   ]
  },
  {
   "cell_type": "code",
   "execution_count": 99,
   "metadata": {},
   "outputs": [],
   "source": [
    "lujing = r'C:/Users/Administrator/Datas/训练数据/问题订单/邂逅问题订单/2.xlsx'\n",
    "code = 'gbk'\n",
    "i = '2'\n",
    "df = improt_data(lujing,code)"
   ]
  },
  {
   "cell_type": "code",
   "execution_count": 100,
   "metadata": {
    "scrolled": true
   },
   "outputs": [
    {
     "data": {
      "text/html": [
       "<div>\n",
       "<style scoped>\n",
       "    .dataframe tbody tr th:only-of-type {\n",
       "        vertical-align: middle;\n",
       "    }\n",
       "\n",
       "    .dataframe tbody tr th {\n",
       "        vertical-align: top;\n",
       "    }\n",
       "\n",
       "    .dataframe thead th {\n",
       "        text-align: right;\n",
       "    }\n",
       "</style>\n",
       "<table border=\"1\" class=\"dataframe\">\n",
       "  <thead>\n",
       "    <tr style=\"text-align: right;\">\n",
       "      <th></th>\n",
       "      <th>日期</th>\n",
       "      <th>门店ID</th>\n",
       "      <th>门店名称</th>\n",
       "      <th>所属分账号</th>\n",
       "      <th>运营姓名</th>\n",
       "      <th>订单编号</th>\n",
       "      <th>产品名称</th>\n",
       "      <th>下单时间</th>\n",
       "      <th>退单时间</th>\n",
       "      <th>退单类型</th>\n",
       "      <th>退单理由</th>\n",
       "      <th>备注</th>\n",
       "      <th>记录人</th>\n",
       "    </tr>\n",
       "  </thead>\n",
       "  <tbody>\n",
       "    <tr>\n",
       "      <th>0</th>\n",
       "      <td>2020-06-13</td>\n",
       "      <td>7707659</td>\n",
       "      <td>邂逅花坊鲜花（真情花艺）</td>\n",
       "      <td>NaN</td>\n",
       "      <td>NaN</td>\n",
       "      <td>77076590232079922</td>\n",
       "      <td>NaN</td>\n",
       "      <td>2020-06-13 00:34:00</td>\n",
       "      <td>2020-06-13 00:38:00</td>\n",
       "      <td>商家拒单</td>\n",
       "      <td>店铺已打烊</td>\n",
       "      <td>NaN</td>\n",
       "      <td>刘佳惠</td>\n",
       "    </tr>\n",
       "    <tr>\n",
       "      <th>1</th>\n",
       "      <td>2020-06-20</td>\n",
       "      <td>7990451</td>\n",
       "      <td>邂逅花坊鲜花（婷好花艺）</td>\n",
       "      <td>NaN</td>\n",
       "      <td>NaN</td>\n",
       "      <td>79904512400733140</td>\n",
       "      <td>NaN</td>\n",
       "      <td>2020-06-20 19:21:00</td>\n",
       "      <td>2020-06-20 20:24:00</td>\n",
       "      <td>商家拒绝全额退款</td>\n",
       "      <td>计划有变，我不想要了不要了不买了</td>\n",
       "      <td>NaN</td>\n",
       "      <td>苑云</td>\n",
       "    </tr>\n",
       "    <tr>\n",
       "      <th>2</th>\n",
       "      <td>2020-06-20</td>\n",
       "      <td>8795376</td>\n",
       "      <td>简爱</td>\n",
       "      <td>NaN</td>\n",
       "      <td>NaN</td>\n",
       "      <td>87953762400733140</td>\n",
       "      <td>NaN</td>\n",
       "      <td>2020-06-20 18:04:00</td>\n",
       "      <td>2020-06-20 18:37:00</td>\n",
       "      <td>商家拒绝全额退款</td>\n",
       "      <td>商家联系我说没货了</td>\n",
       "      <td>NaN</td>\n",
       "      <td>苑云</td>\n",
       "    </tr>\n",
       "    <tr>\n",
       "      <th>3</th>\n",
       "      <td>2020-06-20</td>\n",
       "      <td>7310750</td>\n",
       "      <td>邂逅花坊鲜花（玉洁婚庆)</td>\n",
       "      <td>NaN</td>\n",
       "      <td>NaN</td>\n",
       "      <td>73107502400733140</td>\n",
       "      <td>NaN</td>\n",
       "      <td>2020-06-20 17:22:00</td>\n",
       "      <td>2020-06-20 17:56:00</td>\n",
       "      <td>商家拒绝全额退款</td>\n",
       "      <td>配送太慢，不要了时间太慢</td>\n",
       "      <td>NaN</td>\n",
       "      <td>苑云</td>\n",
       "    </tr>\n",
       "    <tr>\n",
       "      <th>4</th>\n",
       "      <td>2020-06-20</td>\n",
       "      <td>6136658</td>\n",
       "      <td>邂逅花坊鲜花（艺尚鲜花）</td>\n",
       "      <td>NaN</td>\n",
       "      <td>NaN</td>\n",
       "      <td>61366580744361256</td>\n",
       "      <td>NaN</td>\n",
       "      <td>2020-06-19 20:23:00</td>\n",
       "      <td>2020-06-20 18:32:00</td>\n",
       "      <td>商家拒绝全额退款</td>\n",
       "      <td>计划有变，我不想要了</td>\n",
       "      <td>NaN</td>\n",
       "      <td>苑云</td>\n",
       "    </tr>\n",
       "    <tr>\n",
       "      <th>...</th>\n",
       "      <td>...</td>\n",
       "      <td>...</td>\n",
       "      <td>...</td>\n",
       "      <td>...</td>\n",
       "      <td>...</td>\n",
       "      <td>...</td>\n",
       "      <td>...</td>\n",
       "      <td>...</td>\n",
       "      <td>...</td>\n",
       "      <td>...</td>\n",
       "      <td>...</td>\n",
       "      <td>...</td>\n",
       "      <td>...</td>\n",
       "    </tr>\n",
       "    <tr>\n",
       "      <th>154</th>\n",
       "      <td>2020-07-31</td>\n",
       "      <td>6547381</td>\n",
       "      <td>邂逅花坊鲜花（乖乖兽花店）</td>\n",
       "      <td>3.0</td>\n",
       "      <td>张圆</td>\n",
       "      <td>65473811211609187</td>\n",
       "      <td>【日常家居鲜花】3枝香槟玫瑰（不带包装、花瓶）</td>\n",
       "      <td>2020-07-31 08:09:00</td>\n",
       "      <td>2020-07-31 08:13:00</td>\n",
       "      <td>商家拒单</td>\n",
       "      <td>商品已售完</td>\n",
       "      <td>NaN</td>\n",
       "      <td>孟飞</td>\n",
       "    </tr>\n",
       "    <tr>\n",
       "      <th>155</th>\n",
       "      <td>2020-07-31</td>\n",
       "      <td>5631596</td>\n",
       "      <td>邂逅花坊鲜花（同心鲜花店）</td>\n",
       "      <td>8.0</td>\n",
       "      <td>冯宸阳</td>\n",
       "      <td>56315961211609187</td>\n",
       "      <td>【日常家居鲜花】3枝红玫瑰（不带包装、花瓶）</td>\n",
       "      <td>2020-07-31 15:12:00</td>\n",
       "      <td>2020-07-31 15:20:00</td>\n",
       "      <td>商家拒单</td>\n",
       "      <td>地址无法配送</td>\n",
       "      <td>NaN</td>\n",
       "      <td>孟飞</td>\n",
       "    </tr>\n",
       "    <tr>\n",
       "      <th>156</th>\n",
       "      <td>2020-07-31</td>\n",
       "      <td>9129745</td>\n",
       "      <td>浪漫花都</td>\n",
       "      <td>4.0</td>\n",
       "      <td>王林林</td>\n",
       "      <td>91297451211609187</td>\n",
       "      <td>拥你入怀【11枝粉玫瑰搭配满天星送朋友鲜花花束】</td>\n",
       "      <td>2020-07-31 21:27:00</td>\n",
       "      <td>2020-07-31 21:40:00</td>\n",
       "      <td>商家拒单</td>\n",
       "      <td>店铺已打烊</td>\n",
       "      <td>NaN</td>\n",
       "      <td>孟飞</td>\n",
       "    </tr>\n",
       "    <tr>\n",
       "      <th>157</th>\n",
       "      <td>2020-07-31</td>\n",
       "      <td>9343726</td>\n",
       "      <td>绿森林花坊(鲜花店，生日花，表白花）</td>\n",
       "      <td>2.0</td>\n",
       "      <td>刘思春</td>\n",
       "      <td>93437261211609187</td>\n",
       "      <td>用心呵护【11枝红玫瑰搭配尤加利送爱人鲜花】</td>\n",
       "      <td>2020-07-31 21:04:00</td>\n",
       "      <td>2020-07-31 21:06:00</td>\n",
       "      <td>商家拒单</td>\n",
       "      <td>红玫瑰已售完</td>\n",
       "      <td>NaN</td>\n",
       "      <td>孟飞</td>\n",
       "    </tr>\n",
       "    <tr>\n",
       "      <th>158</th>\n",
       "      <td>2020-07-31</td>\n",
       "      <td>5312252</td>\n",
       "      <td>邂逅花坊鲜花（玫凤花卉）</td>\n",
       "      <td>6.0</td>\n",
       "      <td>张家僮</td>\n",
       "      <td>53122522535043654</td>\n",
       "      <td>【日常家居鲜花】3枝香槟玫瑰（不带包装、花瓶）</td>\n",
       "      <td>2020-07-31 22:22:00</td>\n",
       "      <td>2020-07-31 22:24:00</td>\n",
       "      <td>商家拒单</td>\n",
       "      <td>需到店购买此款不配送</td>\n",
       "      <td>NaN</td>\n",
       "      <td>孟飞</td>\n",
       "    </tr>\n",
       "  </tbody>\n",
       "</table>\n",
       "<p>159 rows × 13 columns</p>\n",
       "</div>"
      ],
      "text/plain": [
       "            日期     门店ID                门店名称  所属分账号 运营姓名               订单编号  \\\n",
       "0   2020-06-13  7707659        邂逅花坊鲜花（真情花艺）    NaN  NaN  77076590232079922   \n",
       "1   2020-06-20  7990451        邂逅花坊鲜花（婷好花艺）    NaN  NaN  79904512400733140   \n",
       "2   2020-06-20  8795376                  简爱    NaN  NaN  87953762400733140   \n",
       "3   2020-06-20  7310750        邂逅花坊鲜花（玉洁婚庆)    NaN  NaN  73107502400733140   \n",
       "4   2020-06-20  6136658        邂逅花坊鲜花（艺尚鲜花）    NaN  NaN  61366580744361256   \n",
       "..         ...      ...                 ...    ...  ...                ...   \n",
       "154 2020-07-31  6547381       邂逅花坊鲜花（乖乖兽花店）    3.0   张圆  65473811211609187   \n",
       "155 2020-07-31  5631596       邂逅花坊鲜花（同心鲜花店）    8.0  冯宸阳  56315961211609187   \n",
       "156 2020-07-31  9129745                浪漫花都    4.0  王林林  91297451211609187   \n",
       "157 2020-07-31  9343726  绿森林花坊(鲜花店，生日花，表白花）    2.0  刘思春  93437261211609187   \n",
       "158 2020-07-31  5312252        邂逅花坊鲜花（玫凤花卉）    6.0  张家僮  53122522535043654   \n",
       "\n",
       "                         产品名称                 下单时间                退单时间  \\\n",
       "0                         NaN  2020-06-13 00:34:00 2020-06-13 00:38:00   \n",
       "1                         NaN  2020-06-20 19:21:00 2020-06-20 20:24:00   \n",
       "2                         NaN  2020-06-20 18:04:00 2020-06-20 18:37:00   \n",
       "3                         NaN  2020-06-20 17:22:00 2020-06-20 17:56:00   \n",
       "4                         NaN  2020-06-19 20:23:00 2020-06-20 18:32:00   \n",
       "..                        ...                  ...                 ...   \n",
       "154   【日常家居鲜花】3枝香槟玫瑰（不带包装、花瓶）  2020-07-31 08:09:00 2020-07-31 08:13:00   \n",
       "155    【日常家居鲜花】3枝红玫瑰（不带包装、花瓶）  2020-07-31 15:12:00 2020-07-31 15:20:00   \n",
       "156  拥你入怀【11枝粉玫瑰搭配满天星送朋友鲜花花束】  2020-07-31 21:27:00 2020-07-31 21:40:00   \n",
       "157    用心呵护【11枝红玫瑰搭配尤加利送爱人鲜花】  2020-07-31 21:04:00 2020-07-31 21:06:00   \n",
       "158   【日常家居鲜花】3枝香槟玫瑰（不带包装、花瓶）  2020-07-31 22:22:00 2020-07-31 22:24:00   \n",
       "\n",
       "         退单类型              退单理由  备注  记录人  \n",
       "0        商家拒单             店铺已打烊 NaN  刘佳惠  \n",
       "1    商家拒绝全额退款  计划有变，我不想要了不要了不买了 NaN   苑云  \n",
       "2    商家拒绝全额退款         商家联系我说没货了 NaN   苑云  \n",
       "3    商家拒绝全额退款      配送太慢，不要了时间太慢 NaN   苑云  \n",
       "4    商家拒绝全额退款        计划有变，我不想要了 NaN   苑云  \n",
       "..        ...               ...  ..  ...  \n",
       "154      商家拒单             商品已售完 NaN   孟飞  \n",
       "155      商家拒单            地址无法配送 NaN   孟飞  \n",
       "156      商家拒单             店铺已打烊 NaN   孟飞  \n",
       "157      商家拒单            红玫瑰已售完 NaN   孟飞  \n",
       "158      商家拒单        需到店购买此款不配送 NaN   孟飞  \n",
       "\n",
       "[159 rows x 13 columns]"
      ]
     },
     "execution_count": 100,
     "metadata": {},
     "output_type": "execute_result"
    }
   ],
   "source": [
    "df"
   ]
  },
  {
   "cell_type": "markdown",
   "metadata": {},
   "source": [
    "## 退单一级分类"
   ]
  },
  {
   "cell_type": "code",
   "execution_count": 101,
   "metadata": {},
   "outputs": [
    {
     "data": {
      "text/plain": [
       "[[{'商家拒绝全额退款': 4}, {'商家拒单': 153}], [{'邂逅花坊鲜花（心颖花艺）': 1}, {'邂逅花坊鲜花（尚品花艺）': 1}]]"
      ]
     },
     "execution_count": 101,
     "metadata": {},
     "output_type": "execute_result"
    }
   ],
   "source": [
    "drop_du(df,'退单类型')"
   ]
  },
  {
   "cell_type": "markdown",
   "metadata": {},
   "source": [
    "## 退单二级分类"
   ]
  },
  {
   "cell_type": "code",
   "execution_count": 107,
   "metadata": {},
   "outputs": [
    {
     "data": {
      "text/plain": [
       "[[{'没时间': 2},\n",
       "  {'订单取消时，自动退款': 4},\n",
       "  {'今天没有香槟 有粉玫瑰': 2},\n",
       "  {'商家取消订单': 2},\n",
       "  {'店铺太忙': 6},\n",
       "  {'商品已售完': 57},\n",
       "  {'地址无法配送': 9},\n",
       "  {'店铺已打烊': 63}],\n",
       " [{'送达地点离我店太远。': 1},\n",
       "  {'商家拒单': 1},\n",
       "  {'今天有事回乡下了，无法配送，请谅解哦！': 1},\n",
       "  {'配送员取货慢': 1},\n",
       "  {'今天康乃馨没货': 1},\n",
       "  {'快递还没联系好': 1},\n",
       "  {'红玫瑰已售完': 1},\n",
       "  {'需到店购买此款不配送': 1}]]"
      ]
     },
     "execution_count": 107,
     "metadata": {},
     "output_type": "execute_result"
    }
   ],
   "source": [
    "x = shaixuan(df,'退单类型','商家拒单','退单理由')\n",
    "x"
   ]
  },
  {
   "cell_type": "code",
   "execution_count": 108,
   "metadata": {},
   "outputs": [
    {
     "data": {
      "text/plain": [
       "[[{'漫艺花坊': 2},\n",
       "  {'邂逅花坊鲜花（缘庆花艺）': 2},\n",
       "  {'天天鲜花泉州店': 2},\n",
       "  {'邂逅花坊鲜花（那一朵花店)': 5},\n",
       "  {'邂逅花坊鲜花（勿忘我鲜花店）': 2},\n",
       "  {'邂逅花坊鲜花（爱神罗兰）': 2},\n",
       "  {'邂逅花坊鲜花（真情花艺）': 4},\n",
       "  {'邂逅花坊鲜花（花艺轩）': 3}],\n",
       " [{'邂逅花坊鲜花（蝶恋花）': 1},\n",
       "  {'城市花坊': 1},\n",
       "  {'邂逅花坊鲜花（绮彩花果坊）': 1},\n",
       "  {'邂逅花坊鲜花（华苑鲜花）': 1},\n",
       "  {'邂逅花坊鲜花（花韵千谷)': 1},\n",
       "  {'邂逅花坊鲜花（馨灵花坊）': 1},\n",
       "  {'邂逅花坊鲜花（喜来鲜花得庆典）': 1},\n",
       "  {'邂逅花坊鲜花（花之美花艺设计）': 1},\n",
       "  {'欢欢花艺坊': 1},\n",
       "  {'邂逅花坊鲜花（喵姐花艺)': 1},\n",
       "  {'邂逅花坊鲜花（花雨轩花艺）': 1},\n",
       "  {'邂逅花坊鲜花(湖心花店）': 1},\n",
       "  {'邂逅花坊鲜花（洪庙店）': 1},\n",
       "  {'邂逅花坊鲜花（遇见花店）': 1},\n",
       "  {'邂逅花坊鲜花（爱慕花艺）': 1},\n",
       "  {'邂逅花坊鲜花（花唯媒）': 1},\n",
       "  {'邂逅花坊鲜花（新世纪花艺）': 1},\n",
       "  {'邂逅花坊鲜花（莫妮卡花艺）': 1},\n",
       "  {'花说花店': 1},\n",
       "  {'花东家': 1},\n",
       "  {'邂逅花坊鲜花（江楠花艺）': 1},\n",
       "  {'邂逅花坊鲜花（花仟朵花艺）': 1},\n",
       "  {'《花仙子》麒龙花坊': 1},\n",
       "  {'邂逅花坊鲜花（鱼小姐）': 1},\n",
       "  {'邂逅花坊鲜花（洋洋花之语鲜花）': 1},\n",
       "  {'邂逅花坊鲜花（欢庆鲜花店）': 1},\n",
       "  {'邂逅花坊鲜花（夏天植物鲜花）': 1},\n",
       "  {'鲜花·婚礼定制': 1},\n",
       "  {'邂逅花坊鲜花（蕾蕾花店）': 1},\n",
       "  {'缘来友花(生日、表白、鲜花店)': 1},\n",
       "  {'邂逅花坊鲜花（繁花里）': 1},\n",
       "  {'邂逅花坊鲜花（向晴花艺）': 1},\n",
       "  {'邂逅花坊鲜花（博艺花卉）': 1},\n",
       "  {' 邂逅花坊鲜花（园艺花卉': 1},\n",
       "  {' 邂逅花坊鲜花（玫瑰花屋）': 1},\n",
       "  {' 邂逅花坊鲜花（情人岛花店）': 1},\n",
       "  {' 邂逅花坊鲜花（新世纪花艺': 1},\n",
       "  {' 邂逅花坊鲜花（花韵千谷)': 1},\n",
       "  {'邂逅花坊鲜花(佳缘花艺）': 1},\n",
       "  {' 邂逅花坊鲜花（花艺轩）': 1},\n",
       "  {' 浪漫花都': 1}]]"
      ]
     },
     "execution_count": 108,
     "metadata": {},
     "output_type": "execute_result"
    }
   ],
   "source": [
    "x = shaixuan(df4,'退单理由','店铺已打烊','门店名称')\n",
    "x"
   ]
  },
  {
   "cell_type": "code",
   "execution_count": 109,
   "metadata": {},
   "outputs": [
    {
     "data": {
      "text/plain": [
       "[[{'邂逅花坊鲜花（勿忘我鲜花店）': 2},\n",
       "  {'邂逅花坊鲜花（时尚花坊）': 2},\n",
       "  {'邂逅花坊鲜花（蕾蕾花店）': 4},\n",
       "  {'邂逅花坊鲜花（花芊岛花店）': 2},\n",
       "  {'邂逅花坊鲜花（先花店）': 2},\n",
       "  {'邂逅花坊鲜花（尚品花艺）': 3},\n",
       "  {'夜郎花卉': 2},\n",
       "  {'邂逅花坊鲜花（浪漫花店）': 2},\n",
       "  {'欢欢花艺坊': 2},\n",
       "  {' 邂逅花坊鲜花（绿之源花卉坊）': 2},\n",
       "  {'邂逅花坊鲜花（木闺香枝鲜花）': 2}],\n",
       " [{'邂逅花坊鲜花（心语鲜花）': 1},\n",
       "  {'美丽心情鲜花店': 1},\n",
       "  {'邂逅花坊鲜花(幸福花坊）': 1},\n",
       "  {'邂逅花坊鲜花（江楠花艺）': 1},\n",
       "  {'邂逅花坊鲜花（缤纷花坊）': 1},\n",
       "  {'邂逅花坊鲜花（邂逅花开）': 1},\n",
       "  {'邂逅花坊鲜花（花颜巧雨鲜花）': 1},\n",
       "  {'邂逅花坊鲜花（Ainoflowery）': 1},\n",
       "  {'浪漫谷花卉': 1},\n",
       "  {'邂逅花坊鲜花（金百合鲜花）': 1},\n",
       "  {'邂逅花坊鲜花(有傢花店）': 1},\n",
       "  {'邂逅花坊鲜花(芳之红花艺）': 1},\n",
       "  {'樱木花都': 1},\n",
       "  {'邂逅花坊鲜花（雅艺花坊）': 1},\n",
       "  {'邂逅花坊鲜花（花木美花店）': 1},\n",
       "  {'邂逅花坊鲜花（灵感鲜花坊）': 1},\n",
       "  {'邂逅花坊鲜花（满天星鲜花）': 1},\n",
       "  {'邂逅花坊鲜花（娜时花开）': 1},\n",
       "  {'\\xa0欢欢花艺坊': 1},\n",
       "  {'花好月圆': 1},\n",
       "  {'美丽心情鲜花超市': 1},\n",
       "  {' 鑫情梦缘花艺': 1},\n",
       "  {' 花韵花店（漪汾街店）': 1},\n",
       "  {' 羽沫花艺': 1},\n",
       "  {'邂逅花坊鲜花（那一朵花店)': 1},\n",
       "  {'邂逅花坊鲜花（琪琪花店）': 1},\n",
       "  {' 邂逅花坊鲜花（爱慕花艺）': 1},\n",
       "  {'《花仙子》麒龙花坊': 1},\n",
       "  {' 邂逅花坊鲜花（幸福花圃鲜花婚庆）': 1},\n",
       "  {'邂逅花坊鲜花（一花一世界）': 1},\n",
       "  {'邂逅花坊鲜花（绿之源花卉坊）': 1},\n",
       "  {'邂逅花坊鲜花（乖乖兽花店）': 1}]]"
      ]
     },
     "execution_count": 109,
     "metadata": {},
     "output_type": "execute_result"
    }
   ],
   "source": [
    "x = shaixuan(df4,'退单理由','商品已售完','门店名称')\n",
    "x"
   ]
  },
  {
   "cell_type": "code",
   "execution_count": 110,
   "metadata": {
    "scrolled": true
   },
   "outputs": [
    {
     "data": {
      "text/plain": [
       "[[],\n",
       " [{'邂逅花坊鲜花（晨曦绿植鲜花）': 1},\n",
       "  {'邂逅花坊鲜花（普罗旺斯婚庆）': 1},\n",
       "  {'情和缘鲜花': 1},\n",
       "  {'缘来友花(生日、表白、鲜花店)': 1},\n",
       "  {'邂逅花坊鲜花（雪儿婚庆鲜花坊）': 1},\n",
       "  {'邂逅花坊鲜花（永香花店）': 1},\n",
       "  {'邂逅花坊鲜花（花样年华）': 1},\n",
       "  {'邂逅花坊鲜花（牵手花店）': 1},\n",
       "  {'邂逅花坊鲜花（同心鲜花店）': 1}]]"
      ]
     },
     "execution_count": 110,
     "metadata": {},
     "output_type": "execute_result"
    }
   ],
   "source": [
    "x = shaixuan(df4,'退单理由','地址无法配送','门店名称')\n",
    "x"
   ]
  },
  {
   "cell_type": "code",
   "execution_count": 111,
   "metadata": {},
   "outputs": [
    {
     "data": {
      "text/plain": [
       "[[],\n",
       " [{'景园花艺': 1},\n",
       "  {'天天鲜花泉州店': 1},\n",
       "  {'邂逅花坊鲜花（俪缘花千谷）': 1},\n",
       "  {'邂逅花坊鲜花（爱花居梅香鲜花）': 1},\n",
       "  {'惜缘花业(生日鲜花,玫瑰花,鲜花店)': 1},\n",
       "  {'邂逅花坊鲜花（喜洋洋鲜花店）': 1}]]"
      ]
     },
     "execution_count": 111,
     "metadata": {},
     "output_type": "execute_result"
    }
   ],
   "source": [
    "x = shaixuan(df4,'退单理由','店铺太忙','门店名称')\n",
    "x"
   ]
  },
  {
   "cell_type": "code",
   "execution_count": 112,
   "metadata": {},
   "outputs": [
    {
     "data": {
      "text/plain": [
       "[[], [{'邂逅花坊鲜花（心颖花艺）': 1}, {'情窦初开': 1}]]"
      ]
     },
     "execution_count": 112,
     "metadata": {},
     "output_type": "execute_result"
    }
   ],
   "source": [
    "x = shaixuan(df4,'退单理由','没时间','门店名称')\n",
    "x"
   ]
  },
  {
   "cell_type": "code",
   "execution_count": null,
   "metadata": {},
   "outputs": [],
   "source": []
  },
  {
   "cell_type": "code",
   "execution_count": null,
   "metadata": {},
   "outputs": [],
   "source": []
  }
 ],
 "metadata": {
  "kernelspec": {
   "display_name": "Python 3",
   "language": "python",
   "name": "python3"
  },
  "language_info": {
   "codemirror_mode": {
    "name": "ipython",
    "version": 3
   },
   "file_extension": ".py",
   "mimetype": "text/x-python",
   "name": "python",
   "nbconvert_exporter": "python",
   "pygments_lexer": "ipython3",
   "version": "3.6.2"
  }
 },
 "nbformat": 4,
 "nbformat_minor": 4
}

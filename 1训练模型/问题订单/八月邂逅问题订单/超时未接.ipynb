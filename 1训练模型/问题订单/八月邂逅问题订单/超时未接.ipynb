{
 "cells": [
  {
   "cell_type": "code",
   "execution_count": 117,
   "metadata": {},
   "outputs": [],
   "source": [
    "import  pandas as pd \n",
    "import numpy as np\n",
    "from sklearn.cluster  import KMeans\n",
    "import matplotlib.pyplot  as plt\n",
    "from sklearn.preprocessing import scale\n",
    "from sklearn import cluster\n",
    "pd.set_option('display.max_columns',None)"
   ]
  },
  {
   "cell_type": "code",
   "execution_count": 118,
   "metadata": {},
   "outputs": [],
   "source": [
    "def improt_data(lujing,code):\n",
    "    data = pd.read_excel(lujing,encoding =code,sheet_name= i )\n",
    "    return data"
   ]
  },
  {
   "cell_type": "code",
   "execution_count": 119,
   "metadata": {},
   "outputs": [],
   "source": [
    "lujing = r'C:\\Users\\Administrator\\datas\\训练数据\\问题订单\\八月邂逅问题订单/2.xlsx'\n",
    "code = 'gbk'\n",
    "i = '超市未接单'\n",
    "df = improt_data(lujing,code)"
   ]
  },
  {
   "cell_type": "code",
   "execution_count": 120,
   "metadata": {},
   "outputs": [],
   "source": [
    "def drop_du(data,a):\n",
    "    df = data.drop_duplicates(subset=a,inplace=False,keep = 'last')\n",
    "    list_ = list(df[a])\n",
    "    data[a] = (data[a])\n",
    "    list_sum = []\n",
    "    for i in range(len(list_)):\n",
    "        print(list_[i])\n",
    "        b = list_[i]\n",
    "        x = type(b)\n",
    "        c = str(x)\n",
    "        if  c ==\"<class 'int'>\":\n",
    "            sum_ = data[data[a] == b ]['门店ID'].count()\n",
    "            print(sum_)\n",
    "            dict_ = {}\n",
    "            hah = data[data[a] == b ]['门店名称']\n",
    "            hah = list(hah)\n",
    "            hah = hah[0]\n",
    "            if sum_ > 1 :\n",
    "                dict_ = {hah:sum_}\n",
    "                list_sum.append(dict_)\n",
    "            i = i + 1  \n",
    "            b = str(b)\n",
    "            print('-' *len(b) )\n",
    "        else:\n",
    "            sum_ = data[data[a] == b ]['门店ID'].count()\n",
    "            print(sum_)\n",
    "#             dict_ = {}\n",
    "#             if sum_ > 1 :\n",
    "#                 dict_ = {b:sum_}\n",
    "#                 list_sum.append(dict_)\n",
    "#             i = i + 1  \n",
    "#             print('--' *len(b) )\n",
    "    return list_sum\n",
    "\n",
    "def shaixuan(data,a,b,c):\n",
    "    data = data[data[a] == b]\n",
    "    df = data.drop_duplicates(subset=c,inplace=False,keep = 'last')\n",
    "    list_ = list(df[c])\n",
    "    list_sum = []\n",
    "    list_sum_ = []\n",
    "    for i in range(len(list_)):\n",
    "        j = list_[i]\n",
    "        sum_ = data[data[c] == j ]['门店ID'].count()\n",
    "        dict_ = {}\n",
    "        if sum_ > 1 :\n",
    "            dict_ = {j:sum_}\n",
    "            list_sum.append(dict_)\n",
    "        else:\n",
    "            dict_ = {j:sum_}\n",
    "            list_sum_.append(dict_)\n",
    "        i = i + 1 \n",
    "    k = [list_sum,'-------------------------',list_sum_]\n",
    "    return k \n",
    "    "
   ]
  },
  {
   "cell_type": "code",
   "execution_count": 121,
   "metadata": {
    "scrolled": true
   },
   "outputs": [],
   "source": [
    "df['下单时间'] = pd.to_datetime(df['下单时间'],format='%Y-%m-%d %H:%M' ,errors='coerce')\n",
    "df['下单时间'] = df['下单时间'].dt.hour\n",
    "\n",
    "data = df[(df['下单时间'] >= 7.0) & (df['下单时间'] <=22.0)]\n",
    "df =data"
   ]
  },
  {
   "cell_type": "code",
   "execution_count": 122,
   "metadata": {},
   "outputs": [
    {
     "name": "stdout",
     "output_type": "stream",
     "text": [
      "商家超时未接单\n",
      "13\n"
     ]
    },
    {
     "data": {
      "text/plain": [
       "[]"
      ]
     },
     "execution_count": 122,
     "metadata": {},
     "output_type": "execute_result"
    }
   ],
   "source": [
    "drop_du(df,'退单主体')"
   ]
  },
  {
   "cell_type": "code",
   "execution_count": 123,
   "metadata": {},
   "outputs": [
    {
     "name": "stdout",
     "output_type": "stream",
     "text": [
      "订单取消时，自动退款\n",
      "13\n"
     ]
    },
    {
     "data": {
      "text/plain": [
       "[]"
      ]
     },
     "execution_count": 123,
     "metadata": {},
     "output_type": "execute_result"
    }
   ],
   "source": [
    "drop_du(df,'退单理由')"
   ]
  },
  {
   "cell_type": "code",
   "execution_count": 124,
   "metadata": {},
   "outputs": [
    {
     "name": "stdout",
     "output_type": "stream",
     "text": [
      "下单超时未确认，系统自动取消\n",
      "9\n",
      "开始营业15分钟后未及时处理预订单\n",
      "4\n"
     ]
    },
    {
     "data": {
      "text/plain": [
       "[]"
      ]
     },
     "execution_count": 124,
     "metadata": {},
     "output_type": "execute_result"
    }
   ],
   "source": [
    "drop_du(df,'原因主体')"
   ]
  },
  {
   "cell_type": "code",
   "execution_count": 125,
   "metadata": {},
   "outputs": [
    {
     "name": "stdout",
     "output_type": "stream",
     "text": [
      "订单取消自动确认退款\n",
      "13\n"
     ]
    },
    {
     "data": {
      "text/plain": [
       "[]"
      ]
     },
     "execution_count": 125,
     "metadata": {},
     "output_type": "execute_result"
    }
   ],
   "source": [
    "drop_du(df,'退款提示')"
   ]
  },
  {
   "cell_type": "code",
   "execution_count": 126,
   "metadata": {},
   "outputs": [
    {
     "name": "stdout",
     "output_type": "stream",
     "text": [
      "系统自动通过退款\n",
      "13\n"
     ]
    },
    {
     "data": {
      "text/plain": [
       "[]"
      ]
     },
     "execution_count": 126,
     "metadata": {},
     "output_type": "execute_result"
    }
   ],
   "source": [
    "drop_du(df,'退款情况')"
   ]
  },
  {
   "cell_type": "code",
   "execution_count": 127,
   "metadata": {},
   "outputs": [
    {
     "name": "stdout",
     "output_type": "stream",
     "text": [
      "邂逅花坊鲜花（喜洋洋鲜花店）\n",
      "1\n",
      "邂逅花坊鲜花（鑫芳馨花店）\n",
      "1\n",
      "邂逅花坊鲜花（初见花艺）\n",
      "1\n",
      "爱格丝鲜花店\n",
      "1\n",
      "艾诺鲜花（七夕预定，表白，鲜花）\n",
      "1\n",
      "邂逅花坊鲜花（灵感鲜花坊）\n",
      "1\n",
      "七里香花艺(七夕预定，表白，鲜花)\n",
      "1\n",
      "邂逅花坊鲜花（寄心花语）\n",
      "1\n",
      "邂逅花坊鲜花（馨蕊鲜花）\n",
      "1\n",
      "邂逅花坊鲜花（伊人花卉）\n",
      "1\n",
      "邂逅花坊鲜花（花生活鲜花）\n",
      "1\n",
      "天蓝蓝婚庆鲜花(七夕预定，表白，鲜花)\n",
      "1\n",
      "陌上花开\n",
      "1\n"
     ]
    },
    {
     "data": {
      "text/plain": [
       "[]"
      ]
     },
     "execution_count": 127,
     "metadata": {},
     "output_type": "execute_result"
    }
   ],
   "source": [
    "drop_du(df,'门店名称')"
   ]
  },
  {
   "cell_type": "code",
   "execution_count": 128,
   "metadata": {},
   "outputs": [
    {
     "data": {
      "text/plain": [
       "[[],\n",
       " '-------------------------',\n",
       " [{'邂逅花坊鲜花（喜洋洋鲜花店）': 1},\n",
       "  {'邂逅花坊鲜花（鑫芳馨花店）': 1},\n",
       "  {'邂逅花坊鲜花（初见花艺）': 1},\n",
       "  {'爱格丝鲜花店': 1},\n",
       "  {'艾诺鲜花（七夕预定，表白，鲜花）': 1},\n",
       "  {'邂逅花坊鲜花（寄心花语）': 1},\n",
       "  {'邂逅花坊鲜花（馨蕊鲜花）': 1},\n",
       "  {'邂逅花坊鲜花（伊人花卉）': 1},\n",
       "  {'天蓝蓝婚庆鲜花(七夕预定，表白，鲜花)': 1}]]"
      ]
     },
     "execution_count": 128,
     "metadata": {},
     "output_type": "execute_result"
    }
   ],
   "source": [
    "x = shaixuan(df,'原因主体','下单超时未确认，系统自动取消','门店名称')\n",
    "x"
   ]
  },
  {
   "cell_type": "code",
   "execution_count": 129,
   "metadata": {},
   "outputs": [
    {
     "data": {
      "text/plain": [
       "[[],\n",
       " '-------------------------',\n",
       " [{'邂逅花坊鲜花（灵感鲜花坊）': 1},\n",
       "  {'七里香花艺(七夕预定，表白，鲜花)': 1},\n",
       "  {'邂逅花坊鲜花（花生活鲜花）': 1},\n",
       "  {'陌上花开': 1}]]"
      ]
     },
     "execution_count": 129,
     "metadata": {},
     "output_type": "execute_result"
    }
   ],
   "source": [
    "x = shaixuan(df,'原因主体','开始营业15分钟后未及时处理预订单','门店名称')\n",
    "x"
   ]
  },
  {
   "cell_type": "code",
   "execution_count": null,
   "metadata": {},
   "outputs": [],
   "source": []
  }
 ],
 "metadata": {
  "kernelspec": {
   "display_name": "Python 3",
   "language": "python",
   "name": "python3"
  },
  "language_info": {
   "codemirror_mode": {
    "name": "ipython",
    "version": 3
   },
   "file_extension": ".py",
   "mimetype": "text/x-python",
   "name": "python",
   "nbconvert_exporter": "python",
   "pygments_lexer": "ipython3",
   "version": "3.8.3"
  }
 },
 "nbformat": 4,
 "nbformat_minor": 4
}

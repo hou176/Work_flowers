{
 "cells": [
  {
   "cell_type": "code",
   "execution_count": 43,
   "metadata": {},
   "outputs": [],
   "source": [
    "import  pandas as pd \n",
    "import numpy as np\n",
    "from sklearn.cluster  import KMeans\n",
    "import matplotlib.pyplot  as plt\n",
    "from sklearn.preprocessing import scale\n",
    "from sklearn import cluster\n",
    "pd.set_option('display.max_columns',None)"
   ]
  },
  {
   "cell_type": "code",
   "execution_count": 44,
   "metadata": {},
   "outputs": [],
   "source": [
    "def improt_data(lujing,code):\n",
    "    data = pd.read_excel(lujing,encoding =code,sheet_name= i )\n",
    "    return data"
   ]
  },
  {
   "cell_type": "code",
   "execution_count": 45,
   "metadata": {},
   "outputs": [],
   "source": [
    "def drop_du(data,a):\n",
    "    df = data.drop_duplicates(subset=a,inplace=False,keep = 'last')\n",
    "    list_ = list(df[a])\n",
    "    list_sum = []\n",
    "    list_sum_ = []\n",
    "    for i in range(len(list_)):\n",
    "        b = list_[i]\n",
    "        x = type(b)\n",
    "        c = str(x)\n",
    "        if  c ==\"<class 'int'>\":\n",
    "            sum_ = data[data[a] == b ]['门店ID'].count()\n",
    "            dict_ = {}\n",
    "            hah = data[data[a] == b ]['门店名称']\n",
    "            hah = list(hah)\n",
    "            hah = hah[0]\n",
    "            if sum_ > 1 :\n",
    "                dict_ = {hah:sum_}\n",
    "                list_sum.append(dict_)\n",
    "            else:\n",
    "                dict_ = {hah:sum_}\n",
    "                list_sum_.append(dict_)\n",
    "            i = i + 1  \n",
    "            b = str(b)\n",
    "        else:\n",
    "            sum_ = data[data[a] == b ]['门店ID'].count()\n",
    "\n",
    "            dict_ = {}\n",
    "            hah = data[data[a] == b ]['门店名称']\n",
    "            hah = list(hah)\n",
    "            hah = hah[0]\n",
    "            if sum_ > 1 :\n",
    "                dict_ = {b:sum_}\n",
    "                list_sum.append(dict_)\n",
    "            else:\n",
    "                dict_ = {hah:sum_}\n",
    "                list_sum_.append(dict_)\n",
    "            i = i + 1  \n",
    "\n",
    "    k = [list_sum,list_sum_]\n",
    "    return k\n",
    "\n",
    "def shaixuan(data,a,b,c):\n",
    "    data = data[data[a] == b]\n",
    "    df = data.drop_duplicates(subset=c,inplace=False,keep = 'last')\n",
    "    list_ = list(df[c])\n",
    "    list_sum = []\n",
    "    list_sum_ = []\n",
    "    for i in range(len(list_)):\n",
    "        j = list_[i]\n",
    "        sum_ = data[data[c] == j ]['门店ID'].count()\n",
    "        dict_ = {}\n",
    "        if sum_ > 1 :\n",
    "            dict_ = {j:sum_}\n",
    "            list_sum.append(dict_)\n",
    "        else:\n",
    "            dict_ = {j:sum_}\n",
    "            list_sum_.append(dict_)\n",
    "        i = i + 1 \n",
    "    k = [list_sum,list_sum_]\n",
    "    return k \n",
    "    "
   ]
  },
  {
   "cell_type": "code",
   "execution_count": 46,
   "metadata": {},
   "outputs": [],
   "source": [
    "lujing = r'C:\\Users\\Administrator\\datas\\训练数据\\问题订单\\八月邂逅问题订单/2.xlsx'\n",
    "code = 'gbk'\n",
    "i = '商家拒单'\n",
    "df = improt_data(lujing,code)"
   ]
  },
  {
   "cell_type": "code",
   "execution_count": 47,
   "metadata": {},
   "outputs": [],
   "source": [
    "df['下单时间'] = pd.to_datetime(df['下单时间'],format='%Y-%m-%d %H:%M:%S' , errors='coerce').dt.hour\n",
    "\n",
    "data = df[(df['下单时间'] >= 7.0) & (df['下单时间'] <=22.0)]\n",
    "df =data\n",
    "# df.to_csv('非议订单.csv')"
   ]
  },
  {
   "cell_type": "code",
   "execution_count": 48,
   "metadata": {
    "scrolled": true
   },
   "outputs": [
    {
     "data": {
      "text/html": [
       "<div>\n",
       "<style scoped>\n",
       "    .dataframe tbody tr th:only-of-type {\n",
       "        vertical-align: middle;\n",
       "    }\n",
       "\n",
       "    .dataframe tbody tr th {\n",
       "        vertical-align: top;\n",
       "    }\n",
       "\n",
       "    .dataframe thead th {\n",
       "        text-align: right;\n",
       "    }\n",
       "</style>\n",
       "<table border=\"1\" class=\"dataframe\">\n",
       "  <thead>\n",
       "    <tr style=\"text-align: right;\">\n",
       "      <th></th>\n",
       "      <th>日期</th>\n",
       "      <th>门店ID</th>\n",
       "      <th>门店名称</th>\n",
       "      <th>所属分账号</th>\n",
       "      <th>运营姓名</th>\n",
       "      <th>订单编号</th>\n",
       "      <th>产品名称</th>\n",
       "      <th>下单时间</th>\n",
       "      <th>退单时间</th>\n",
       "      <th>退单主体</th>\n",
       "      <th>退款提示</th>\n",
       "      <th>退单理由</th>\n",
       "      <th>退款情况</th>\n",
       "      <th>原因主体</th>\n",
       "      <th>备注</th>\n",
       "      <th>记录人</th>\n",
       "    </tr>\n",
       "  </thead>\n",
       "  <tbody>\n",
       "    <tr>\n",
       "      <th>0</th>\n",
       "      <td>2020-08-01</td>\n",
       "      <td>8472342</td>\n",
       "      <td>邂逅花坊鲜花（双生花花坊）</td>\n",
       "      <td>3.0</td>\n",
       "      <td>张圆</td>\n",
       "      <td>84723422844195450</td>\n",
       "      <td>网红-11枝混搭玫瑰告白热气球抱抱桶</td>\n",
       "      <td>11.0</td>\n",
       "      <td>2020-08-01 11:16:00</td>\n",
       "      <td>商家拒单</td>\n",
       "      <td>订单取消自动确认退款</td>\n",
       "      <td>订单取消时，自动退款</td>\n",
       "      <td>系统自动通过退款</td>\n",
       "      <td>商品已售完</td>\n",
       "      <td>NaN</td>\n",
       "      <td>王悦</td>\n",
       "    </tr>\n",
       "    <tr>\n",
       "      <th>1</th>\n",
       "      <td>2020-08-01</td>\n",
       "      <td>8850906</td>\n",
       "      <td>花·时间鲜花店</td>\n",
       "      <td>8.0</td>\n",
       "      <td>冯宸阳</td>\n",
       "      <td>88509062844195450</td>\n",
       "      <td>留住纯真【11枝粉玫瑰搭配尤加利表白鲜花】</td>\n",
       "      <td>10.0</td>\n",
       "      <td>2020-08-01 10:53:00</td>\n",
       "      <td>商家拒单</td>\n",
       "      <td>订单取消自动确认退款</td>\n",
       "      <td>订单取消时，自动退款</td>\n",
       "      <td>系统自动通过退款</td>\n",
       "      <td>商品已售完</td>\n",
       "      <td>NaN</td>\n",
       "      <td>王悦</td>\n",
       "    </tr>\n",
       "    <tr>\n",
       "      <th>2</th>\n",
       "      <td>2020-08-01</td>\n",
       "      <td>9328829</td>\n",
       "      <td>鑫情梦缘花艺</td>\n",
       "      <td>4.0</td>\n",
       "      <td>王林林</td>\n",
       "      <td>93288293614861680</td>\n",
       "      <td>美轮美奂【6枝粉玫瑰搭配银叶花束】缘来是你【6枝红玫瑰搭配尤加利简约小花束】</td>\n",
       "      <td>10.0</td>\n",
       "      <td>2020-08-01 10:41:00</td>\n",
       "      <td>商家拒单</td>\n",
       "      <td>订单取消自动确认退款</td>\n",
       "      <td>订单取消时，自动退款</td>\n",
       "      <td>系统自动通过退款</td>\n",
       "      <td>重复订单</td>\n",
       "      <td>NaN</td>\n",
       "      <td>王悦</td>\n",
       "    </tr>\n",
       "    <tr>\n",
       "      <th>3</th>\n",
       "      <td>2020-08-01</td>\n",
       "      <td>5578690</td>\n",
       "      <td>邂逅花坊鲜花（春暖花开）</td>\n",
       "      <td>7.0</td>\n",
       "      <td>杨婉格</td>\n",
       "      <td>55786902844195450</td>\n",
       "      <td>【日常家居鲜花】3枝香槟玫瑰（不带包装、花瓶）【日常家居鲜花】小束洋桔梗（不带包装、花瓶）</td>\n",
       "      <td>14.0</td>\n",
       "      <td>2020-08-01 14:47:00</td>\n",
       "      <td>商家拒单</td>\n",
       "      <td>订单取消自动确认退款</td>\n",
       "      <td>订单取消时，自动退款</td>\n",
       "      <td>系统自动通过退款</td>\n",
       "      <td>商品已售完</td>\n",
       "      <td>NaN</td>\n",
       "      <td>王悦</td>\n",
       "    </tr>\n",
       "    <tr>\n",
       "      <th>4</th>\n",
       "      <td>2020-08-01</td>\n",
       "      <td>3230734</td>\n",
       "      <td>邂逅花坊鲜花（普罗旺斯婚庆）</td>\n",
       "      <td>4.0</td>\n",
       "      <td>王林林</td>\n",
       "      <td>32307342844195450</td>\n",
       "      <td>缘来是你【6枝红玫瑰搭配尤加利简约小花束】</td>\n",
       "      <td>16.0</td>\n",
       "      <td>2020-08-01 16:02:00</td>\n",
       "      <td>商家拒单</td>\n",
       "      <td>订单取消自动确认退款</td>\n",
       "      <td>订单取消时，自动退款</td>\n",
       "      <td>系统自动通过退款</td>\n",
       "      <td>店铺太忙</td>\n",
       "      <td>NaN</td>\n",
       "      <td>王悦</td>\n",
       "    </tr>\n",
       "    <tr>\n",
       "      <th>...</th>\n",
       "      <td>...</td>\n",
       "      <td>...</td>\n",
       "      <td>...</td>\n",
       "      <td>...</td>\n",
       "      <td>...</td>\n",
       "      <td>...</td>\n",
       "      <td>...</td>\n",
       "      <td>...</td>\n",
       "      <td>...</td>\n",
       "      <td>...</td>\n",
       "      <td>...</td>\n",
       "      <td>...</td>\n",
       "      <td>...</td>\n",
       "      <td>...</td>\n",
       "      <td>...</td>\n",
       "      <td>...</td>\n",
       "    </tr>\n",
       "    <tr>\n",
       "      <th>94</th>\n",
       "      <td>2020-08-19</td>\n",
       "      <td>5828625</td>\n",
       "      <td>邂逅花坊鲜花（红杜鹃鲜花行）</td>\n",
       "      <td>8.0</td>\n",
       "      <td>冯宸阳</td>\n",
       "      <td>58286253019040327</td>\n",
       "      <td>富贵双全【双层开业花篮一对】</td>\n",
       "      <td>15.0</td>\n",
       "      <td>2020-08-19 15:23:00</td>\n",
       "      <td>商家拒单</td>\n",
       "      <td>订单取消自动确认退款</td>\n",
       "      <td>订单取消时，自动退款</td>\n",
       "      <td>系统自动通过退款</td>\n",
       "      <td>商品已售完</td>\n",
       "      <td>NaN</td>\n",
       "      <td>王悦</td>\n",
       "    </tr>\n",
       "    <tr>\n",
       "      <th>95</th>\n",
       "      <td>2020-08-19</td>\n",
       "      <td>5332336</td>\n",
       "      <td>邂逅花坊鲜花（花木兰）</td>\n",
       "      <td>1.0</td>\n",
       "      <td>孟金雨</td>\n",
       "      <td>53323363019040327</td>\n",
       "      <td>【日常家居鲜花】小束洋桔梗（不带包装、花瓶）</td>\n",
       "      <td>9.0</td>\n",
       "      <td>2020-08-19 09:51:00</td>\n",
       "      <td>商家拒单</td>\n",
       "      <td>订单取消自动确认退款</td>\n",
       "      <td>订单取消时，自动退款</td>\n",
       "      <td>系统自动通过退款</td>\n",
       "      <td>联系不上用户</td>\n",
       "      <td>NaN</td>\n",
       "      <td>王悦</td>\n",
       "    </tr>\n",
       "    <tr>\n",
       "      <th>96</th>\n",
       "      <td>2020-08-20</td>\n",
       "      <td>5828625</td>\n",
       "      <td>邂逅花坊鲜花（红杜鹃鲜花行）</td>\n",
       "      <td>8.0</td>\n",
       "      <td>冯宸阳</td>\n",
       "      <td>58286250270641885</td>\n",
       "      <td>给你的情书【11枝红玫瑰搭配粉色满天星七夕情人节花束】</td>\n",
       "      <td>12.0</td>\n",
       "      <td>2020-08-20 12:05:00</td>\n",
       "      <td>商家拒单</td>\n",
       "      <td>订单取消自动确认退款</td>\n",
       "      <td>订单取消时，自动退款</td>\n",
       "      <td>系统自动通过退款</td>\n",
       "      <td>商品已售完</td>\n",
       "      <td>NaN</td>\n",
       "      <td>王悦</td>\n",
       "    </tr>\n",
       "    <tr>\n",
       "      <th>97</th>\n",
       "      <td>2020-08-20</td>\n",
       "      <td>9074901</td>\n",
       "      <td>陌上花开</td>\n",
       "      <td>NaN</td>\n",
       "      <td>NaN</td>\n",
       "      <td>90749013211935075</td>\n",
       "      <td>【满天星】网红小花束</td>\n",
       "      <td>16.0</td>\n",
       "      <td>2020-08-20 16:21:00</td>\n",
       "      <td>商家拒单</td>\n",
       "      <td>订单取消自动确认退款</td>\n",
       "      <td>订单取消时，自动退款</td>\n",
       "      <td>系统自动通过退款</td>\n",
       "      <td>地址无法配送</td>\n",
       "      <td>NaN</td>\n",
       "      <td>刘佳惠</td>\n",
       "    </tr>\n",
       "    <tr>\n",
       "      <th>98</th>\n",
       "      <td>2020-08-20</td>\n",
       "      <td>8409086</td>\n",
       "      <td>邂逅花坊鲜花（喜之洋鲜花）</td>\n",
       "      <td>NaN</td>\n",
       "      <td>NaN</td>\n",
       "      <td>84090860030802906</td>\n",
       "      <td>陪我一生【11枝红玫瑰七夕情人节礼盒】</td>\n",
       "      <td>22.0</td>\n",
       "      <td>2020-08-20 22:55:00</td>\n",
       "      <td>商家拒单</td>\n",
       "      <td>订单取消自动确认退款</td>\n",
       "      <td>订单取消时，自动退款</td>\n",
       "      <td>系统自动通过退款</td>\n",
       "      <td>店铺已打烊</td>\n",
       "      <td>NaN</td>\n",
       "      <td>刘佳惠</td>\n",
       "    </tr>\n",
       "  </tbody>\n",
       "</table>\n",
       "<p>89 rows × 16 columns</p>\n",
       "</div>"
      ],
      "text/plain": [
       "           日期     门店ID            门店名称  所属分账号 运营姓名               订单编号  \\\n",
       "0  2020-08-01  8472342   邂逅花坊鲜花（双生花花坊）    3.0   张圆  84723422844195450   \n",
       "1  2020-08-01  8850906         花·时间鲜花店    8.0  冯宸阳  88509062844195450   \n",
       "2  2020-08-01  9328829          鑫情梦缘花艺    4.0  王林林  93288293614861680   \n",
       "3  2020-08-01  5578690    邂逅花坊鲜花（春暖花开）    7.0  杨婉格  55786902844195450   \n",
       "4  2020-08-01  3230734  邂逅花坊鲜花（普罗旺斯婚庆）    4.0  王林林  32307342844195450   \n",
       "..        ...      ...             ...    ...  ...                ...   \n",
       "94 2020-08-19  5828625  邂逅花坊鲜花（红杜鹃鲜花行）    8.0  冯宸阳  58286253019040327   \n",
       "95 2020-08-19  5332336     邂逅花坊鲜花（花木兰）    1.0  孟金雨  53323363019040327   \n",
       "96 2020-08-20  5828625  邂逅花坊鲜花（红杜鹃鲜花行）    8.0  冯宸阳  58286250270641885   \n",
       "97 2020-08-20  9074901            陌上花开    NaN  NaN  90749013211935075   \n",
       "98 2020-08-20  8409086   邂逅花坊鲜花（喜之洋鲜花）    NaN  NaN  84090860030802906   \n",
       "\n",
       "                                             产品名称  下单时间                退单时间  \\\n",
       "0                              网红-11枝混搭玫瑰告白热气球抱抱桶  11.0 2020-08-01 11:16:00   \n",
       "1                           留住纯真【11枝粉玫瑰搭配尤加利表白鲜花】  10.0 2020-08-01 10:53:00   \n",
       "2          美轮美奂【6枝粉玫瑰搭配银叶花束】缘来是你【6枝红玫瑰搭配尤加利简约小花束】  10.0 2020-08-01 10:41:00   \n",
       "3   【日常家居鲜花】3枝香槟玫瑰（不带包装、花瓶）【日常家居鲜花】小束洋桔梗（不带包装、花瓶）  14.0 2020-08-01 14:47:00   \n",
       "4                           缘来是你【6枝红玫瑰搭配尤加利简约小花束】  16.0 2020-08-01 16:02:00   \n",
       "..                                            ...   ...                 ...   \n",
       "94                                 富贵双全【双层开业花篮一对】  15.0 2020-08-19 15:23:00   \n",
       "95                         【日常家居鲜花】小束洋桔梗（不带包装、花瓶）   9.0 2020-08-19 09:51:00   \n",
       "96                    给你的情书【11枝红玫瑰搭配粉色满天星七夕情人节花束】  12.0 2020-08-20 12:05:00   \n",
       "97                                     【满天星】网红小花束  16.0 2020-08-20 16:21:00   \n",
       "98                            陪我一生【11枝红玫瑰七夕情人节礼盒】  22.0 2020-08-20 22:55:00   \n",
       "\n",
       "    退单主体        退款提示        退单理由      退款情况    原因主体  备注  记录人  \n",
       "0   商家拒单  订单取消自动确认退款  订单取消时，自动退款  系统自动通过退款   商品已售完 NaN   王悦  \n",
       "1   商家拒单  订单取消自动确认退款  订单取消时，自动退款  系统自动通过退款   商品已售完 NaN   王悦  \n",
       "2   商家拒单  订单取消自动确认退款  订单取消时，自动退款  系统自动通过退款    重复订单 NaN   王悦  \n",
       "3   商家拒单  订单取消自动确认退款  订单取消时，自动退款  系统自动通过退款   商品已售完 NaN   王悦  \n",
       "4   商家拒单  订单取消自动确认退款  订单取消时，自动退款  系统自动通过退款    店铺太忙 NaN   王悦  \n",
       "..   ...         ...         ...       ...     ...  ..  ...  \n",
       "94  商家拒单  订单取消自动确认退款  订单取消时，自动退款  系统自动通过退款   商品已售完 NaN   王悦  \n",
       "95  商家拒单  订单取消自动确认退款  订单取消时，自动退款  系统自动通过退款  联系不上用户 NaN   王悦  \n",
       "96  商家拒单  订单取消自动确认退款  订单取消时，自动退款  系统自动通过退款   商品已售完 NaN   王悦  \n",
       "97  商家拒单  订单取消自动确认退款  订单取消时，自动退款  系统自动通过退款  地址无法配送 NaN  刘佳惠  \n",
       "98  商家拒单  订单取消自动确认退款  订单取消时，自动退款  系统自动通过退款   店铺已打烊 NaN  刘佳惠  \n",
       "\n",
       "[89 rows x 16 columns]"
      ]
     },
     "execution_count": 48,
     "metadata": {},
     "output_type": "execute_result"
    }
   ],
   "source": [
    "df"
   ]
  },
  {
   "cell_type": "code",
   "execution_count": 49,
   "metadata": {},
   "outputs": [
    {
     "data": {
      "text/plain": [
       "[[{'商家拒单': 89}], []]"
      ]
     },
     "execution_count": 49,
     "metadata": {},
     "output_type": "execute_result"
    }
   ],
   "source": [
    "drop_du(df,'退单主体')"
   ]
  },
  {
   "cell_type": "code",
   "execution_count": 32,
   "metadata": {},
   "outputs": [
    {
     "data": {
      "text/plain": [
       "[[{'订单取消时，自动退款': 89}], []]"
      ]
     },
     "execution_count": 32,
     "metadata": {},
     "output_type": "execute_result"
    }
   ],
   "source": [
    "drop_du(df,'退单理由')"
   ]
  },
  {
   "cell_type": "code",
   "execution_count": 50,
   "metadata": {},
   "outputs": [
    {
     "data": {
      "text/plain": [
       "[{'重复订单': 4},\n",
       " {'店铺太忙': 7},\n",
       " {'商家取消订单': 4},\n",
       " {'联系不上用户': 4},\n",
       " {'商品已售完': 39},\n",
       " {'地址无法配送': 5},\n",
       " {'店铺已打烊': 18}]"
      ]
     },
     "execution_count": 50,
     "metadata": {},
     "output_type": "execute_result"
    }
   ],
   "source": [
    "c = drop_du(df,'原因主体')\n",
    "c[0]"
   ]
  },
  {
   "cell_type": "code",
   "execution_count": 51,
   "metadata": {},
   "outputs": [
    {
     "data": {
      "text/plain": [
       "[[{'订单取消自动确认退款': 4}], []]"
      ]
     },
     "execution_count": 51,
     "metadata": {},
     "output_type": "execute_result"
    }
   ],
   "source": [
    "x = shaixuan(df,'原因主体','重复订单','退款提示')\n",
    "x"
   ]
  },
  {
   "cell_type": "code",
   "execution_count": 52,
   "metadata": {},
   "outputs": [
    {
     "data": {
      "text/plain": [
       "[[{'订单取消自动确认退款': 18}], []]"
      ]
     },
     "execution_count": 52,
     "metadata": {},
     "output_type": "execute_result"
    }
   ],
   "source": [
    "x = shaixuan(df,'原因主体','店铺已打烊','退款提示')\n",
    "x"
   ]
  },
  {
   "cell_type": "code",
   "execution_count": null,
   "metadata": {},
   "outputs": [],
   "source": []
  },
  {
   "cell_type": "code",
   "execution_count": null,
   "metadata": {},
   "outputs": [],
   "source": []
  },
  {
   "cell_type": "code",
   "execution_count": 53,
   "metadata": {},
   "outputs": [
    {
     "data": {
      "text/plain": [
       "[[],\n",
       " [{'鑫情梦缘花艺': 1},\n",
       "  {'邂逅花坊鲜花（春暖花开）': 1},\n",
       "  {'青青花卉（碧桂园店）': 1},\n",
       "  {'告白花艺(七夕预定，表白，鲜花)': 1}]]"
      ]
     },
     "execution_count": 53,
     "metadata": {},
     "output_type": "execute_result"
    }
   ],
   "source": [
    "x = shaixuan(df,'原因主体','重复订单','门店名称')\n",
    "x"
   ]
  },
  {
   "cell_type": "code",
   "execution_count": 54,
   "metadata": {},
   "outputs": [
    {
     "data": {
      "text/plain": [
       "[[],\n",
       " [{'邂逅花坊鲜花（普罗旺斯婚庆）': 1},\n",
       "  {'邂逅花坊鲜花(有傢花店）': 1},\n",
       "  {'邂逅花坊鲜花（花芊谷）': 1},\n",
       "  {'樱木花都': 1},\n",
       "  {'邂逅花坊鲜花（华苑鲜花）': 1},\n",
       "  {'邂逅花坊鲜花（一朵花艺店）': 1},\n",
       "  {'小乔鲜花(七夕预定，表白，鲜花)': 1}]]"
      ]
     },
     "execution_count": 54,
     "metadata": {},
     "output_type": "execute_result"
    }
   ],
   "source": [
    "x = shaixuan(df,'原因主体','店铺太忙','门店名称')\n",
    "x"
   ]
  },
  {
   "cell_type": "code",
   "execution_count": 55,
   "metadata": {},
   "outputs": [
    {
     "data": {
      "text/plain": [
       "[[],\n",
       " [{'邂逅花坊鲜花（花嫁人家花坊）': 1},\n",
       "  {'邂逅花坊鲜花（手拉手鲜花店）': 1},\n",
       "  {'邂逅花坊鲜花（景都鲜花婚庆）': 1},\n",
       "  {'沁沐花店·七夕鲜花': 1}]]"
      ]
     },
     "execution_count": 55,
     "metadata": {},
     "output_type": "execute_result"
    }
   ],
   "source": [
    "x = shaixuan(df,'原因主体','商家取消订单','门店名称')\n",
    "x"
   ]
  },
  {
   "cell_type": "code",
   "execution_count": 56,
   "metadata": {},
   "outputs": [
    {
     "data": {
      "text/plain": [
       "[[{'邂逅花坊鲜花（花木兰）': 2}], [{'邂逅花坊鲜花（红玫瑰花艺）': 1}, {'邂逅花坊鲜花（千艺鲜花）': 1}]]"
      ]
     },
     "execution_count": 56,
     "metadata": {},
     "output_type": "execute_result"
    }
   ],
   "source": [
    "x = shaixuan(df,'原因主体','联系不上用户','门店名称')\n",
    "x"
   ]
  },
  {
   "cell_type": "code",
   "execution_count": 57,
   "metadata": {},
   "outputs": [
    {
     "data": {
      "text/plain": [
       "[[{'花·时间鲜花店': 2},\n",
       "  {'邂逅花坊鲜花（花芊岛花店）': 4},\n",
       "  {'邂逅花坊鲜花（汤口花店）': 2},\n",
       "  {'邂逅花坊鲜花（爱慕花艺）': 2},\n",
       "  {'邂逅花坊鲜花（红杜鹃鲜花行）': 2}],\n",
       " [{'邂逅花坊鲜花（双生花花坊）': 1},\n",
       "  {'邂逅花坊鲜花（春暖花开）': 1},\n",
       "  {'邂逅花坊鲜花（盛达升华鲜花）': 1},\n",
       "  {'蝶恋花坊': 1},\n",
       "  {'邂逅花坊鲜花（小熊花店）': 1},\n",
       "  {'邂逅花坊鲜花（花木美花店）': 1},\n",
       "  {'邂逅花坊鲜花（丽娜鲜花）': 1},\n",
       "  {'邂逅花坊鲜花（玫瑰花坊）': 1},\n",
       "  {'邂逅花坊鲜花（美丽花园）': 1},\n",
       "  {'花语世界鲜花店': 1},\n",
       "  {'邂逅花坊鲜花（钟情是你花艺）': 1},\n",
       "  {'邂逅花坊鲜花（爱尚花坊）': 1},\n",
       "  {'邂逅花坊鲜花（千姿鲜花店）': 1},\n",
       "  {'邂逅花坊鲜花（Flowers花艺·生活）': 1},\n",
       "  {'邂逅花坊鲜花（真情花艺）': 1},\n",
       "  {'欢欢花艺坊(七夕预定，表白，鲜花)': 1},\n",
       "  {'邂逅花坊鲜花（韦爵爷更懂女人的花店）': 1},\n",
       "  {'花语花轩(七夕预定，表白，鲜花)': 1},\n",
       "  {'邂逅花坊鲜花（那年花开）': 1},\n",
       "  {'麒龙花坊(七夕预定，表白，鲜花）': 1},\n",
       "  {'邂逅花坊鲜花（桔子花艺馆）': 1},\n",
       "  {'邂逅花坊鲜花（绿之源花卉坊）': 1},\n",
       "  {'花·时间鲜花店(七夕预定，表白，鲜花)': 1},\n",
       "  {'草木时光(七夕预定，表白，鲜花）': 1},\n",
       "  {'花掌门花艺·七夕表白鲜花': 1},\n",
       "  {'花语世界鲜花店(七夕预定，表白，鲜花)': 1},\n",
       "  {'邂逅花坊鲜花（雅艺花坊）': 1}]]"
      ]
     },
     "execution_count": 57,
     "metadata": {},
     "output_type": "execute_result"
    }
   ],
   "source": [
    "x = shaixuan(df,'原因主体','商品已售完','门店名称')\n",
    "x"
   ]
  },
  {
   "cell_type": "code",
   "execution_count": 58,
   "metadata": {},
   "outputs": [
    {
     "data": {
      "text/plain": [
       "[[],\n",
       " [{'娅菲花坊': 1},\n",
       "  {'邂逅花坊鲜花（普罗旺斯花艺）': 1},\n",
       "  {'香奈尔鲜花(七夕预定，表白，鲜花)': 1},\n",
       "  {'囍之廊花店(七夕预定，表白，鲜花)': 1},\n",
       "  {'陌上花开': 1}]]"
      ]
     },
     "execution_count": 58,
     "metadata": {},
     "output_type": "execute_result"
    }
   ],
   "source": [
    "x = shaixuan(df,'原因主体','地址无法配送','门店名称')\n",
    "x"
   ]
  },
  {
   "cell_type": "code",
   "execution_count": 59,
   "metadata": {},
   "outputs": [
    {
     "data": {
      "text/plain": [
       "[[],\n",
       " [{'邂逅花坊鲜花（滟滟水族花卉城）': 1},\n",
       "  {'邂逅花坊鲜花（新世纪花艺）': 1},\n",
       "  {'邂逅花坊鲜花（一花一木）': 1},\n",
       "  {'邂逅花坊鲜花（丹丹花艺）': 1},\n",
       "  {'邂逅花坊鲜花（真情花艺）': 1},\n",
       "  {'邂逅花坊鲜花（花之语）': 1},\n",
       "  {'邂逅花坊鲜花（洋洋花之语鲜花）': 1},\n",
       "  {'邂逅花坊鲜花（美丽花园）': 1},\n",
       "  {'邂逅花坊鲜花（红艳蓝花店）': 1},\n",
       "  {'邂逅花坊鲜花（花唯媒）': 1},\n",
       "  {'花掌柜喜庆馆(七夕预定，表白，鲜花)': 1},\n",
       "  {'邂逅花坊鲜花（心语鲜花）': 1},\n",
       "  {'勿忘我花店婚庆策划': 1},\n",
       "  {'情絮花坊(七夕预定，表白，鲜花)': 1},\n",
       "  {'邂逅花坊鲜花（勿忘我鲜花店）': 1},\n",
       "  {'邂逅花坊鲜花（红杜鹃鲜花行）': 1},\n",
       "  {'情缘花坊(七夕预定，表白，鲜花)': 1},\n",
       "  {'邂逅花坊鲜花（喜之洋鲜花）': 1}]]"
      ]
     },
     "execution_count": 59,
     "metadata": {},
     "output_type": "execute_result"
    }
   ],
   "source": [
    "x = shaixuan(df,'原因主体','店铺已打烊','门店名称')\n",
    "x"
   ]
  },
  {
   "cell_type": "code",
   "execution_count": null,
   "metadata": {},
   "outputs": [],
   "source": []
  }
 ],
 "metadata": {
  "kernelspec": {
   "display_name": "Python 3",
   "language": "python",
   "name": "python3"
  },
  "language_info": {
   "codemirror_mode": {
    "name": "ipython",
    "version": 3
   },
   "file_extension": ".py",
   "mimetype": "text/x-python",
   "name": "python",
   "nbconvert_exporter": "python",
   "pygments_lexer": "ipython3",
   "version": "3.8.3"
  }
 },
 "nbformat": 4,
 "nbformat_minor": 4
}

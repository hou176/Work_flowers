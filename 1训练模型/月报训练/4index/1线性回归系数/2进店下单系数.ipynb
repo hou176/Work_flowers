{
 "cells": [
  {
   "cell_type": "code",
   "execution_count": 59,
   "metadata": {},
   "outputs": [],
   "source": [
    "import pandas as pd\n",
    "import numpy as np\n",
    "pd.set_option('display.max_columns',None)\n",
    "import seaborn as sns\n",
    "import matplotlib.pyplot as plt\n",
    "%matplotlib inline\n",
    "from sklearn import metrics\n",
    "from sklearn.model_selection import train_test_split\n",
    "from sklearn import linear_model"
   ]
  },
  {
   "cell_type": "code",
   "execution_count": 2,
   "metadata": {},
   "outputs": [],
   "source": [
    "def improt_data(lujing,code):\n",
    "    data = pd.read_csv(lujing,encoding =code)\n",
    "    return data\n",
    "\n",
    "def mean(data,a):\n",
    "    print(data[a].mean())\n",
    "    print(data[a].std())\n",
    "\n",
    "def box_polt(a):\n",
    "    zhongwei = a.median()\n",
    "    mean = a.mean()\n",
    "    q1 = a.quantile(0.25)\n",
    "    q2 = a.quantile(0.5)\n",
    "    q3 = a.quantile(0.75)\n",
    "    q4 = a.quantile(1)\n",
    "    iqr = q3-q1\n",
    "    upper = q3 + 1.5*iqr\n",
    "    print('--------------')\n",
    "    print('中位:',zhongwei)\n",
    "    print('平均:',mean)    \n",
    "    print('--------------')\n",
    "    print('50% :',q2)\n",
    "    print('75% :',q3)\n",
    "    print('100%:',upper)\n",
    "    print('max :',q4)\n",
    "    print('--------------')\n",
    "    list_ = []\n",
    "    list_.append(q2)\n",
    "    list_.append(q3)\n",
    "    list_.append(upper)\n",
    "    return list_\n",
    "\n",
    "def data_order(a,b):\n",
    "#     lujing = r'C:/Users/Administrator/Datas/爱尚花语/艾尚花语指标模型/data/Ddata.csv'\n",
    "#     code = 'gbk'\n",
    "    data = improt_data(lujing,code)\n",
    "    if b == 0:\n",
    "        df_hsh_max = data[data['入店人数'] > a]\n",
    "        k = df_hsh_max\n",
    "        return k\n",
    "    elif a == 0:\n",
    "        df_hsh_min = data[data['入店人数'] < b  ]\n",
    "        k = df_hsh_min\n",
    "        return k\n",
    "    else:\n",
    "        df_hsh_ = data[(data['入店人数'] >a) & (data['入店人数'] < b) ]\n",
    "        k = df_hsh_\n",
    "        return k \n",
    "    \n",
    "def linear(x,y):\n",
    "\n",
    "    X_train, X_test, y_train, y_test = train_test_split(x, y, random_state=1)\n",
    "    print('数据分集查看：')\n",
    "    print ('X训练',X_train.shape)\n",
    "    print ('y训练',y_train.shape)\n",
    "    print ('X测试',X_test.shape)\n",
    "    print ('y测试',y_test.shape)\n",
    "    print('-------------')\n",
    "    linear =  linear_model.LinearRegression()\n",
    "    linear.fit(X_train,y_train)\n",
    "    print('线性结截距:', linear.intercept_)\n",
    "    print ('回归系数',linear.coef_)\n",
    "    y_pred = linear.predict(X_test)\n",
    "    print('RMSE:', np.sqrt(metrics.mean_squared_error(y_test, y_pred)))\n",
    "\n",
    "def line_bg_rd(x1,y1):   \n",
    "    x = x1\n",
    "    y = y1\n",
    "    data_min = data_order(x,y)\n",
    "    baoguang = data_min['入店人数'].values.reshape(-1,1)\n",
    "    jindian = data_min['下单人数'].values.reshape(-1, 1)\n",
    "    linear(baoguang,jindian)\n",
    "\n",
    "def drop(data):\n",
    "    a = data\n",
    "    a.drop_duplicates(subset='商家ID',inplace = True,keep = 'last')\n",
    "    print(a['商家ID'].count())\n",
    "\n",
    "\n",
    "def cluster_look(data):\n",
    "    list_ = [1,3,0,2]\n",
    "    for i in list_:\n",
    "        df = data[data['cluster'] == i]\n",
    "        i = str(i)\n",
    "        print('cluster_' + i +'等级的门店数量:' + str(df['cluster'].count()))    \n"
   ]
  },
  {
   "cell_type": "code",
   "execution_count": 3,
   "metadata": {
    "scrolled": true
   },
   "outputs": [],
   "source": [
    "lujing = r'C:/Users/Administrator/Datas/爱尚花语/艾尚花语指标模型/data/Ddata.csv'\n",
    "code = 'gbk'\n",
    "data = improt_data(lujing,code)"
   ]
  },
  {
   "cell_type": "code",
   "execution_count": 4,
   "metadata": {},
   "outputs": [],
   "source": [
    "# data.describe()"
   ]
  },
  {
   "cell_type": "code",
   "execution_count": 5,
   "metadata": {
    "scrolled": true
   },
   "outputs": [
    {
     "data": {
      "text/plain": [
       "<matplotlib.axes._subplots.AxesSubplot at 0x2ced77ab0b8>"
      ]
     },
     "execution_count": 5,
     "metadata": {},
     "output_type": "execute_result"
    },
    {
     "data": {
      "image/png": "[encoded data removed]",
      "text/plain": [
       "<Figure size 432x288 with 1 Axes>"
      ]
     },
     "metadata": {
      "needs_background": "light"
     },
     "output_type": "display_data"
    }
   ],
   "source": [
    "plt.rcParams['font.sans-serif'] = ['SimHei']  \n",
    "plt.rcParams['axes.unicode_minus'] = False \n",
    "data.boxplot('入店人数')"
   ]
  },
  {
   "cell_type": "code",
   "execution_count": 7,
   "metadata": {},
   "outputs": [
    {
     "name": "stdout",
     "output_type": "stream",
     "text": [
      "--------------\n",
      "中位: 3.0\n",
      "平均: 3.4886492622020433\n",
      "--------------\n",
      "50% : 3.0\n",
      "75% : 5.0\n",
      "100%: 11.0\n",
      "max : 36.0\n",
      "--------------\n",
      "3.0\n",
      "5.0\n",
      "11.0\n"
     ]
    }
   ],
   "source": [
    "a = data['入店人数']\n",
    "list_ = box_polt(a)\n",
    "q1 = list_[0]\n",
    "q2 = list_[1]\n",
    "q3 = list_[2]\n",
    "q04 =  0\n",
    "print(q1)\n",
    "print(q2)\n",
    "print(q3)"
   ]
  },
  {
   "cell_type": "code",
   "execution_count": 8,
   "metadata": {
    "scrolled": false
   },
   "outputs": [
    {
     "name": "stdout",
     "output_type": "stream",
     "text": [
      "数据分集查看：\n",
      "X训练 (658, 1)\n",
      "y训练 (658, 1)\n",
      "X测试 (220, 1)\n",
      "y测试 (220, 1)\n",
      "-------------\n",
      "线性结截距: [-0.00102235]\n",
      "回归系数 [[0.02822483]]\n",
      "RMSE: 0.2165429042362803\n",
      " \n",
      "数据分集查看：\n",
      "X训练 (135, 1)\n",
      "y训练 (135, 1)\n",
      "X测试 (46, 1)\n",
      "y测试 (46, 1)\n",
      "-------------\n",
      "线性结截距: [0.21481481]\n",
      "回归系数 [[0.]]\n",
      "RMSE: 0.3471909271994642\n",
      " \n",
      "数据分集查看：\n",
      "X训练 (178, 1)\n",
      "y训练 (178, 1)\n",
      "X测试 (60, 1)\n",
      "y测试 (60, 1)\n",
      "-------------\n",
      "线性结截距: [-0.53520085]\n",
      "回归系数 [[0.12659164]]\n",
      "RMSE: 0.7402493654384916\n",
      " \n",
      "数据分集查看：\n",
      "X训练 (49, 1)\n",
      "y训练 (49, 1)\n",
      "X测试 (17, 1)\n",
      "y测试 (17, 1)\n",
      "-------------\n",
      "线性结截距: [0.25805542]\n",
      "回归系数 [[0.03513666]]\n",
      "RMSE: 1.2438519849783254\n"
     ]
    }
   ],
   "source": [
    "line_bg_rd(q04,q1)\n",
    "print(''' ''') \n",
    "\n",
    "line_bg_rd(q1,q2)\n",
    "print(''' ''') \n",
    "line_bg_rd(q2,q3)\n",
    "print(''' ''') \n",
    "line_bg_rd(q3,q04)"
   ]
  },
  {
   "cell_type": "code",
   "execution_count": 9,
   "metadata": {},
   "outputs": [],
   "source": [
    "data_max = data_order(q3,q04)\n",
    "data_one = data_order(q2,q3)\n",
    "data_two = data_order(q1,q2)\n",
    "data_min = data_order(q04,q1)"
   ]
  },
  {
   "cell_type": "code",
   "execution_count": 10,
   "metadata": {
    "scrolled": false
   },
   "outputs": [
    {
     "data": {
      "text/plain": [
       "<seaborn.axisgrid.FacetGrid at 0x2ced9d0ec18>"
      ]
     },
     "execution_count": 10,
     "metadata": {},
     "output_type": "execute_result"
    },
    {
     "data": {
      "image/png": "[encoded data removed]",
      "text/plain": [
       "<Figure size 360x360 with 1 Axes>"
      ]
     },
     "metadata": {
      "needs_background": "light"
     },
     "output_type": "display_data"
    },
    {
     "data": {
      "image/png": "[encoded data removed]",
      "text/plain": [
       "<Figure size 360x360 with 1 Axes>"
      ]
     },
     "metadata": {
      "needs_background": "light"
     },
     "output_type": "display_data"
    },
    {
     "data": {
      "image/png": "[encoded data removed]",
      "text/plain": [
       "<Figure size 360x360 with 1 Axes>"
      ]
     },
     "metadata": {
      "needs_background": "light"
     },
     "output_type": "display_data"
    },
    {
     "data": {
      "image/png": "[encoded data removed]",
      "text/plain": [
       "<Figure size 360x360 with 1 Axes>"
      ]
     },
     "metadata": {
      "needs_background": "light"
     },
     "output_type": "display_data"
    }
   ],
   "source": [
    "sns.lmplot(x=\"入店人数\", y=\"下单人数\",data=data_max,fit_reg=True)\n",
    "sns.lmplot(x=\"入店人数\", y=\"下单人数\",data=data_one,fit_reg=True)\n",
    "sns.lmplot(x=\"入店人数\", y=\"下单人数\",data=data_two,fit_reg=True)\n",
    "sns.lmplot(x=\"入店人数\", y=\"下单人数\",data=data_min,fit_reg=True)"
   ]
  },
  {
   "cell_type": "code",
   "execution_count": 17,
   "metadata": {
    "scrolled": true
   },
   "outputs": [
    {
     "name": "stdout",
     "output_type": "stream",
     "text": [
      "16\n",
      "74\n",
      "78\n",
      "110\n"
     ]
    }
   ],
   "source": [
    "drop(data_max)\n",
    "drop(data_one)\n",
    "drop(data_two)\n",
    "drop(data_min)"
   ]
  },
  {
   "cell_type": "code",
   "execution_count": 5,
   "metadata": {
    "scrolled": true
   },
   "outputs": [
    {
     "ename": "SyntaxError",
     "evalue": "invalid syntax (<ipython-input-5-9e8be9d5cc00>, line 1)",
     "output_type": "error",
     "traceback": [
      "\u001b[1;36m  File \u001b[1;32m\"<ipython-input-5-9e8be9d5cc00>\"\u001b[1;36m, line \u001b[1;32m1\u001b[0m\n\u001b[1;33m    -----------------------------------------------------------------------------------------------------------------------------\u001b[0m\n\u001b[1;37m                                                                                                                                 ^\u001b[0m\n\u001b[1;31mSyntaxError\u001b[0m\u001b[1;31m:\u001b[0m invalid syntax\n"
     ]
    }
   ],
   "source": [
    "-----------------------------------------------------------------------------------------------------------------------------"
   ]
  },
  {
   "cell_type": "code",
   "execution_count": null,
   "metadata": {},
   "outputs": [],
   "source": [
    "-----------------------------------------------------------------------------------------------------------------------------"
   ]
  },
  {
   "cell_type": "code",
   "execution_count": 48,
   "metadata": {},
   "outputs": [],
   "source": [
    "lujing = r'C:/Users/Administrator/Datas/爱尚花语/艾尚花语指标模型/data/Mdata_kmeans.csv'\n",
    "code = 'gbk'\n",
    "data = improt_data(lujing,code)"
   ]
  },
  {
   "cell_type": "code",
   "execution_count": 49,
   "metadata": {
    "scrolled": true
   },
   "outputs": [],
   "source": [
    "# data"
   ]
  },
  {
   "cell_type": "code",
   "execution_count": 50,
   "metadata": {},
   "outputs": [
    {
     "data": {
      "text/plain": [
       "<matplotlib.axes._subplots.AxesSubplot at 0x2cedd37a9e8>"
      ]
     },
     "execution_count": 50,
     "metadata": {},
     "output_type": "execute_result"
    },
    {
     "data": {
      "image/png": "[encoded data removed]",
      "text/plain": [
       "<Figure size 432x288 with 1 Axes>"
      ]
     },
     "metadata": {
      "needs_background": "light"
     },
     "output_type": "display_data"
    }
   ],
   "source": [
    "data.boxplot('入店人数')"
   ]
  },
  {
   "cell_type": "code",
   "execution_count": 51,
   "metadata": {},
   "outputs": [
    {
     "name": "stdout",
     "output_type": "stream",
     "text": [
      "--------------\n",
      "中位: 38.0\n",
      "平均: 46.705882352941174\n",
      "--------------\n",
      "50% : 38.0\n",
      "75% : 59.0\n",
      "100%: 123.5\n",
      "max : 435.0\n",
      "--------------\n",
      "38.0\n",
      "59.0\n",
      "123.5\n"
     ]
    }
   ],
   "source": [
    "a = data['入店人数']\n",
    "list_ = box_polt(a)\n",
    "q1 = list_[0]\n",
    "q2 = list_[1]\n",
    "q3 = list_[2]\n",
    "q04 =  0\n",
    "print(q1)\n",
    "print(q2)\n",
    "print(q3)"
   ]
  },
  {
   "cell_type": "code",
   "execution_count": 52,
   "metadata": {
    "scrolled": false
   },
   "outputs": [
    {
     "name": "stdout",
     "output_type": "stream",
     "text": [
      "数据分集查看：\n",
      "X训练 (43, 1)\n",
      "y训练 (43, 1)\n",
      "X测试 (15, 1)\n",
      "y测试 (15, 1)\n",
      "-------------\n",
      "线性结截距: [0.25499976]\n",
      "回归系数 [[0.02018122]]\n",
      "RMSE: 1.714499011832187\n",
      " \n",
      "数据分集查看：\n",
      "X训练 (21, 1)\n",
      "y训练 (21, 1)\n",
      "X测试 (7, 1)\n",
      "y测试 (7, 1)\n",
      "-------------\n",
      "线性结截距: [-3.01002963]\n",
      "回归系数 [[0.10941418]]\n",
      "RMSE: 1.7993388387864726\n",
      " \n",
      "数据分集查看：\n",
      "X训练 (18, 1)\n",
      "y训练 (18, 1)\n",
      "X测试 (6, 1)\n",
      "y测试 (6, 1)\n",
      "-------------\n",
      "线性结截距: [7.17632552]\n",
      "回归系数 [[-0.0494099]]\n",
      "RMSE: 3.3861610830977953\n",
      " \n",
      "数据分集查看：\n",
      "X训练 (4, 1)\n",
      "y训练 (4, 1)\n",
      "X测试 (2, 1)\n",
      "y测试 (2, 1)\n",
      "-------------\n",
      "线性结截距: [12.95927477]\n",
      "回归系数 [[0.03186711]]\n",
      "RMSE: 14.216794459659901\n"
     ]
    }
   ],
   "source": [
    "line_bg_rd(q04,q1)\n",
    "print(''' ''') \n",
    "\n",
    "line_bg_rd(q1,q2)\n",
    "print(''' ''') \n",
    "line_bg_rd(q2,q3)\n",
    "print(''' ''') \n",
    "line_bg_rd(q3,q04)"
   ]
  },
  {
   "cell_type": "code",
   "execution_count": null,
   "metadata": {},
   "outputs": [],
   "source": []
  },
  {
   "cell_type": "code",
   "execution_count": 53,
   "metadata": {},
   "outputs": [],
   "source": [
    "data_max = data_order(q3,q04)\n",
    "data_one = data_order(q2,q3)\n",
    "data_two = data_order(q1,q2)\n",
    "data_min = data_order(q04,q1)\n"
   ]
  },
  {
   "cell_type": "code",
   "execution_count": 54,
   "metadata": {},
   "outputs": [
    {
     "name": "stdout",
     "output_type": "stream",
     "text": [
      "6\n",
      "24\n",
      "28\n",
      "58\n"
     ]
    }
   ],
   "source": [
    "drop(data_max)\n",
    "drop(data_one)\n",
    "drop(data_two)\n",
    "drop(data_min)"
   ]
  },
  {
   "cell_type": "code",
   "execution_count": 55,
   "metadata": {
    "scrolled": false
   },
   "outputs": [
    {
     "data": {
      "text/plain": [
       "<seaborn.axisgrid.FacetGrid at 0x2cedce83cc0>"
      ]
     },
     "execution_count": 55,
     "metadata": {},
     "output_type": "execute_result"
    },
    {
     "data": {
      "image/png": "[encoded data removed]",
      "text/plain": [
       "<Figure size 360x360 with 1 Axes>"
      ]
     },
     "metadata": {
      "needs_background": "light"
     },
     "output_type": "display_data"
    },
    {
     "data": {
      "image/png": "[encoded data removed]",
      "text/plain": [
       "<Figure size 360x360 with 1 Axes>"
      ]
     },
     "metadata": {
      "needs_background": "light"
     },
     "output_type": "display_data"
    },
    {
     "data": {
      "image/png": "[encoded data removed]",
      "text/plain": [
       "<Figure size 360x360 with 1 Axes>"
      ]
     },
     "metadata": {
      "needs_background": "light"
     },
     "output_type": "display_data"
    },
    {
     "data": {
      "image/png": "[encoded data removed]",
      "text/plain": [
       "<Figure size 360x360 with 1 Axes>"
      ]
     },
     "metadata": {
      "needs_background": "light"
     },
     "output_type": "display_data"
    }
   ],
   "source": [
    "sns.lmplot(x=\"入店人数\", y=\"下单人数\",data=data_max,fit_reg=True)\n",
    "sns.lmplot(x=\"入店人数\", y=\"下单人数\",data=data_one,fit_reg=True)\n",
    "sns.lmplot(x=\"入店人数\", y=\"下单人数\",data=data_two,fit_reg=True)\n",
    "sns.lmplot(x=\"入店人数\", y=\"下单人数\",data=data_min,fit_reg=True)"
   ]
  },
  {
   "cell_type": "code",
   "execution_count": 56,
   "metadata": {
    "scrolled": false
   },
   "outputs": [
    {
     "data": {
      "text/html": [
       "<div>\n",
       "<style scoped>\n",
       "    .dataframe tbody tr th:only-of-type {\n",
       "        vertical-align: middle;\n",
       "    }\n",
       "\n",
       "    .dataframe tbody tr th {\n",
       "        vertical-align: top;\n",
       "    }\n",
       "\n",
       "    .dataframe thead th {\n",
       "        text-align: right;\n",
       "    }\n",
       "</style>\n",
       "<table border=\"1\" class=\"dataframe\">\n",
       "  <thead>\n",
       "    <tr style=\"text-align: right;\">\n",
       "      <th></th>\n",
       "      <th>Unnamed: 0</th>\n",
       "      <th>开始日期</th>\n",
       "      <th>结束日期</th>\n",
       "      <th>商家ID</th>\n",
       "      <th>商家名称</th>\n",
       "      <th>运营组</th>\n",
       "      <th>省份</th>\n",
       "      <th>城市</th>\n",
       "      <th>是否新增商家</th>\n",
       "      <th>首次上线日期</th>\n",
       "      <th>门店在线状态</th>\n",
       "      <th>（日均）预设营业时长（h）</th>\n",
       "      <th>（日均）在线营业时长（h）</th>\n",
       "      <th>曝光人数</th>\n",
       "      <th>入店人数</th>\n",
       "      <th>下单人数</th>\n",
       "      <th>有效订单数</th>\n",
       "      <th>下单新客人数</th>\n",
       "      <th>复购人数</th>\n",
       "      <th>入店转化率</th>\n",
       "      <th>下单转化率</th>\n",
       "      <th>新客转化率</th>\n",
       "      <th>复购率</th>\n",
       "      <th>原价交易额</th>\n",
       "      <th>实付交易额</th>\n",
       "      <th>商家补贴金额</th>\n",
       "      <th>原价客单价</th>\n",
       "      <th>实付客单价</th>\n",
       "      <th>cluster</th>\n",
       "    </tr>\n",
       "  </thead>\n",
       "  <tbody>\n",
       "    <tr>\n",
       "      <th>0</th>\n",
       "      <td>1</td>\n",
       "      <td>20200601</td>\n",
       "      <td>20200630</td>\n",
       "      <td>9024278</td>\n",
       "      <td>友新意鲜花坊</td>\n",
       "      <td>鲜花组</td>\n",
       "      <td>陕西省</td>\n",
       "      <td>西安</td>\n",
       "      <td>否</td>\n",
       "      <td>20200508</td>\n",
       "      <td>在线</td>\n",
       "      <td>18</td>\n",
       "      <td>18.0</td>\n",
       "      <td>18362</td>\n",
       "      <td>314</td>\n",
       "      <td>23</td>\n",
       "      <td>22</td>\n",
       "      <td>21</td>\n",
       "      <td>2</td>\n",
       "      <td>1.71</td>\n",
       "      <td>0.07</td>\n",
       "      <td>0.913043</td>\n",
       "      <td>0.086957</td>\n",
       "      <td>4962</td>\n",
       "      <td>2596</td>\n",
       "      <td>2431</td>\n",
       "      <td>215.739130</td>\n",
       "      <td>112.869565</td>\n",
       "      <td>1</td>\n",
       "    </tr>\n",
       "    <tr>\n",
       "      <th>1</th>\n",
       "      <td>7</td>\n",
       "      <td>20200601</td>\n",
       "      <td>20200630</td>\n",
       "      <td>9043317</td>\n",
       "      <td>花坞</td>\n",
       "      <td>鲜花组</td>\n",
       "      <td>福建省</td>\n",
       "      <td>福州</td>\n",
       "      <td>否</td>\n",
       "      <td>20200508</td>\n",
       "      <td>在线</td>\n",
       "      <td>18</td>\n",
       "      <td>18.0</td>\n",
       "      <td>11259</td>\n",
       "      <td>435</td>\n",
       "      <td>8</td>\n",
       "      <td>7</td>\n",
       "      <td>7</td>\n",
       "      <td>1</td>\n",
       "      <td>3.86</td>\n",
       "      <td>0.02</td>\n",
       "      <td>0.875000</td>\n",
       "      <td>0.125000</td>\n",
       "      <td>2702</td>\n",
       "      <td>1443</td>\n",
       "      <td>1279</td>\n",
       "      <td>337.750000</td>\n",
       "      <td>180.375000</td>\n",
       "      <td>1</td>\n",
       "    </tr>\n",
       "    <tr>\n",
       "      <th>3</th>\n",
       "      <td>60</td>\n",
       "      <td>20200601</td>\n",
       "      <td>20200630</td>\n",
       "      <td>9323842</td>\n",
       "      <td>花无缺鲜花店</td>\n",
       "      <td>鲜花组</td>\n",
       "      <td>内蒙古自治区</td>\n",
       "      <td>锡林郭勒盟</td>\n",
       "      <td>否</td>\n",
       "      <td>20200617</td>\n",
       "      <td>在线</td>\n",
       "      <td>12</td>\n",
       "      <td>11.6</td>\n",
       "      <td>4806</td>\n",
       "      <td>129</td>\n",
       "      <td>10</td>\n",
       "      <td>7</td>\n",
       "      <td>7</td>\n",
       "      <td>3</td>\n",
       "      <td>2.68</td>\n",
       "      <td>0.08</td>\n",
       "      <td>0.700000</td>\n",
       "      <td>0.300000</td>\n",
       "      <td>1553</td>\n",
       "      <td>671</td>\n",
       "      <td>902</td>\n",
       "      <td>155.300000</td>\n",
       "      <td>67.100000</td>\n",
       "      <td>3</td>\n",
       "    </tr>\n",
       "    <tr>\n",
       "      <th>5</th>\n",
       "      <td>10</td>\n",
       "      <td>20200601</td>\n",
       "      <td>20200630</td>\n",
       "      <td>9043994</td>\n",
       "      <td>八度花艺</td>\n",
       "      <td>鲜花组</td>\n",
       "      <td>河南省</td>\n",
       "      <td>许昌</td>\n",
       "      <td>否</td>\n",
       "      <td>20200508</td>\n",
       "      <td>在线</td>\n",
       "      <td>15</td>\n",
       "      <td>15.5</td>\n",
       "      <td>4116</td>\n",
       "      <td>193</td>\n",
       "      <td>12</td>\n",
       "      <td>7</td>\n",
       "      <td>7</td>\n",
       "      <td>5</td>\n",
       "      <td>4.69</td>\n",
       "      <td>0.06</td>\n",
       "      <td>0.583333</td>\n",
       "      <td>0.416667</td>\n",
       "      <td>1763</td>\n",
       "      <td>986</td>\n",
       "      <td>777</td>\n",
       "      <td>146.916667</td>\n",
       "      <td>82.166667</td>\n",
       "      <td>3</td>\n",
       "    </tr>\n",
       "    <tr>\n",
       "      <th>6</th>\n",
       "      <td>45</td>\n",
       "      <td>20200601</td>\n",
       "      <td>20200630</td>\n",
       "      <td>9295286</td>\n",
       "      <td>婉苑鲜花婚庆</td>\n",
       "      <td>鲜花组</td>\n",
       "      <td>黑龙江省</td>\n",
       "      <td>齐齐哈尔</td>\n",
       "      <td>否</td>\n",
       "      <td>20200611</td>\n",
       "      <td>在线</td>\n",
       "      <td>17</td>\n",
       "      <td>17.1</td>\n",
       "      <td>3895</td>\n",
       "      <td>130</td>\n",
       "      <td>16</td>\n",
       "      <td>17</td>\n",
       "      <td>16</td>\n",
       "      <td>0</td>\n",
       "      <td>3.34</td>\n",
       "      <td>0.12</td>\n",
       "      <td>1.000000</td>\n",
       "      <td>0.000000</td>\n",
       "      <td>3993</td>\n",
       "      <td>1602</td>\n",
       "      <td>3554</td>\n",
       "      <td>249.562500</td>\n",
       "      <td>100.125000</td>\n",
       "      <td>3</td>\n",
       "    </tr>\n",
       "    <tr>\n",
       "      <th>19</th>\n",
       "      <td>20</td>\n",
       "      <td>20200601</td>\n",
       "      <td>20200630</td>\n",
       "      <td>9223872</td>\n",
       "      <td>天天花坊</td>\n",
       "      <td>鲜花组</td>\n",
       "      <td>湖南省</td>\n",
       "      <td>郴州</td>\n",
       "      <td>否</td>\n",
       "      <td>20200602</td>\n",
       "      <td>在线</td>\n",
       "      <td>13</td>\n",
       "      <td>13.8</td>\n",
       "      <td>2527</td>\n",
       "      <td>184</td>\n",
       "      <td>27</td>\n",
       "      <td>26</td>\n",
       "      <td>26</td>\n",
       "      <td>1</td>\n",
       "      <td>7.28</td>\n",
       "      <td>0.15</td>\n",
       "      <td>0.962963</td>\n",
       "      <td>0.037037</td>\n",
       "      <td>6025</td>\n",
       "      <td>2308</td>\n",
       "      <td>3827</td>\n",
       "      <td>223.148148</td>\n",
       "      <td>85.481481</td>\n",
       "      <td>0</td>\n",
       "    </tr>\n",
       "  </tbody>\n",
       "</table>\n",
       "</div>"
      ],
      "text/plain": [
       "    Unnamed: 0      开始日期      结束日期     商家ID    商家名称  运营组      省份     城市  \\\n",
       "0            1  20200601  20200630  9024278  友新意鲜花坊  鲜花组     陕西省     西安   \n",
       "1            7  20200601  20200630  9043317      花坞  鲜花组     福建省     福州   \n",
       "3           60  20200601  20200630  9323842  花无缺鲜花店  鲜花组  内蒙古自治区  锡林郭勒盟   \n",
       "5           10  20200601  20200630  9043994    八度花艺  鲜花组     河南省     许昌   \n",
       "6           45  20200601  20200630  9295286  婉苑鲜花婚庆  鲜花组    黑龙江省   齐齐哈尔   \n",
       "19          20  20200601  20200630  9223872    天天花坊  鲜花组     湖南省     郴州   \n",
       "\n",
       "   是否新增商家    首次上线日期 门店在线状态  （日均）预设营业时长（h）  （日均）在线营业时长（h）   曝光人数  入店人数  下单人数  \\\n",
       "0       否  20200508     在线             18           18.0  18362   314    23   \n",
       "1       否  20200508     在线             18           18.0  11259   435     8   \n",
       "3       否  20200617     在线             12           11.6   4806   129    10   \n",
       "5       否  20200508     在线             15           15.5   4116   193    12   \n",
       "6       否  20200611     在线             17           17.1   3895   130    16   \n",
       "19      否  20200602     在线             13           13.8   2527   184    27   \n",
       "\n",
       "    有效订单数  下单新客人数  复购人数  入店转化率  下单转化率     新客转化率       复购率  原价交易额  实付交易额  \\\n",
       "0      22      21     2   1.71   0.07  0.913043  0.086957   4962   2596   \n",
       "1       7       7     1   3.86   0.02  0.875000  0.125000   2702   1443   \n",
       "3       7       7     3   2.68   0.08  0.700000  0.300000   1553    671   \n",
       "5       7       7     5   4.69   0.06  0.583333  0.416667   1763    986   \n",
       "6      17      16     0   3.34   0.12  1.000000  0.000000   3993   1602   \n",
       "19     26      26     1   7.28   0.15  0.962963  0.037037   6025   2308   \n",
       "\n",
       "    商家补贴金额       原价客单价       实付客单价  cluster  \n",
       "0     2431  215.739130  112.869565        1  \n",
       "1     1279  337.750000  180.375000        1  \n",
       "3      902  155.300000   67.100000        3  \n",
       "5      777  146.916667   82.166667        3  \n",
       "6     3554  249.562500  100.125000        3  \n",
       "19    3827  223.148148   85.481481        0  "
      ]
     },
     "execution_count": 56,
     "metadata": {},
     "output_type": "execute_result"
    }
   ],
   "source": [
    "# data_max.count()\n",
    "# print(data_min.count())\n",
    "data_max"
   ]
  },
  {
   "cell_type": "code",
   "execution_count": null,
   "metadata": {},
   "outputs": [],
   "source": []
  },
  {
   "cell_type": "code",
   "execution_count": 57,
   "metadata": {},
   "outputs": [
    {
     "name": "stdout",
     "output_type": "stream",
     "text": [
      "cluster_1等级的门店数量:2\n",
      "cluster_3等级的门店数量:3\n",
      "cluster_0等级的门店数量:1\n",
      "cluster_2等级的门店数量:0\n",
      "-------------\n",
      "cluster_1等级的门店数量:0\n",
      "cluster_3等级的门店数量:8\n",
      "cluster_0等级的门店数量:15\n",
      "cluster_2等级的门店数量:1\n",
      "-------------\n",
      "cluster_1等级的门店数量:0\n",
      "cluster_3等级的门店数量:3\n",
      "cluster_0等级的门店数量:24\n",
      "cluster_2等级的门店数量:1\n",
      "-------------\n",
      "cluster_1等级的门店数量:0\n",
      "cluster_3等级的门店数量:0\n",
      "cluster_0等级的门店数量:18\n",
      "cluster_2等级的门店数量:40\n"
     ]
    }
   ],
   "source": [
    "cluster_look(data_max)\n",
    "print('-------------')\n",
    "cluster_look(data_one)\n",
    "print('-------------')\n",
    "cluster_look(data_two)\n",
    "print('-------------')\n",
    "cluster_look(data_min)"
   ]
  },
  {
   "cell_type": "code",
   "execution_count": null,
   "metadata": {},
   "outputs": [],
   "source": []
  },
  {
   "cell_type": "code",
   "execution_count": 58,
   "metadata": {},
   "outputs": [
    {
     "name": "stdout",
     "output_type": "stream",
     "text": [
      "0.08333333333333333\n",
      "0.04589843860815601\n",
      "-------------------\n",
      "0.04750000000000001\n",
      "0.05118168830149416\n",
      "--------------------\n",
      "0.03785714285714286\n",
      "0.03303837755602401\n",
      "--------------------\n",
      "0.049827586206896556\n",
      "0.10895824694132852\n"
     ]
    }
   ],
   "source": [
    "mean(data_max,'下单转化率')\n",
    "print('-------------------')\n",
    "mean(data_one,'下单转化率')\n",
    "print('--------------------')\n",
    "mean(data_two,'下单转化率')\n",
    "print('--------------------')\n",
    "mean(data_min,'下单转化率')"
   ]
  },
  {
   "cell_type": "code",
   "execution_count": null,
   "metadata": {},
   "outputs": [],
   "source": []
  }
 ],
 "metadata": {
  "kernelspec": {
   "display_name": "Python 3",
   "language": "python",
   "name": "python3"
  },
  "language_info": {
   "codemirror_mode": {
    "name": "ipython",
    "version": 3
   },
   "file_extension": ".py",
   "mimetype": "text/x-python",
   "name": "python",
   "nbconvert_exporter": "python",
   "pygments_lexer": "ipython3",
   "version": "3.6.2"
  }
 },
 "nbformat": 4,
 "nbformat_minor": 4
}

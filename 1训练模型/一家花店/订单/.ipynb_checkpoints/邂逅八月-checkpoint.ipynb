{
 "cells": [
  {
   "cell_type": "code",
   "execution_count": 1,
   "metadata": {},
   "outputs": [],
   "source": [
    "import pandas as pd\n",
    "import numpy as np\n",
    "pd.set_option('display.max_columns',None)\n",
    "import seaborn as sns\n",
    "import matplotlib.pyplot as plt\n",
    "%matplotlib inline\n",
    "import sys\n",
    "sys.path.append(r'C:\\Users\\Administrator\\Datas\\程序冗余\\Python_files\\pandas_')\n",
    "from defname import  * \n",
    "from wordcloud import WordCloud\n",
    "import matplotlib.pyplot as plt"
   ]
  },
  {
   "cell_type": "code",
   "execution_count": 2,
   "metadata": {},
   "outputs": [
    {
     "name": "stderr",
     "output_type": "stream",
     "text": [
      "C:\\ProgramData\\Anaconda3\\lib\\site-packages\\IPython\\core\\interactiveshell.py:3071: DtypeWarning: Columns (18) have mixed types.Specify dtype option on import or set low_memory=False.\n",
      "  has_raised = await self.run_ast_nodes(code_ast.body, cell_name,\n"
     ]
    }
   ],
   "source": [
    "yijia = pd.read_csv(r'C:/Users/Administrator/Desktop/基础素材/DATA/1训练模型/一家花店/8/8订.csv',encoding='gbk')     \n",
    " "
   ]
  },
  {
   "cell_type": "code",
   "execution_count": 3,
   "metadata": {
    "scrolled": false
   },
   "outputs": [
    {
     "data": {
      "text/plain": [
       "158.08119959794382"
      ]
     },
     "execution_count": 3,
     "metadata": {},
     "output_type": "execute_result"
    }
   ],
   "source": [
    "yijia['商品实付销售额'].mean()"
   ]
  },
  {
   "cell_type": "code",
   "execution_count": 4,
   "metadata": {},
   "outputs": [
    {
     "data": {
      "text/plain": [
       "{'min': 0.01,\n",
       " 'q0': 50.5,\n",
       " 'q1': 259.0,\n",
       " 'q2': 299.0,\n",
       " 'q3': 398.0,\n",
       " 'q4': 606.5,\n",
       " 'max': 14898.0}"
      ]
     },
     "execution_count": 4,
     "metadata": {},
     "output_type": "execute_result"
    }
   ],
   "source": [
    "quantileplt(yijia['商品原价销售额'])"
   ]
  },
  {
   "cell_type": "code",
   "execution_count": 5,
   "metadata": {},
   "outputs": [
    {
     "data": {
      "text/plain": [
       "{'min': 0.0,\n",
       " 'q0': 6.5,\n",
       " 'q1': 116.0,\n",
       " 'q2': 146.0,\n",
       " 'q3': 189.0,\n",
       " 'q4': 298.5,\n",
       " 'max': 4987.0}"
      ]
     },
     "execution_count": 5,
     "metadata": {},
     "output_type": "execute_result"
    }
   ],
   "source": [
    "quantileplt(yijia['商品实付销售额'])"
   ]
  },
  {
   "cell_type": "code",
   "execution_count": 6,
   "metadata": {},
   "outputs": [
    {
     "data": {
      "text/plain": [
       "{'min': 0.0,\n",
       " 'q0': -32.5,\n",
       " 'q1': 113.0,\n",
       " 'q2': 163.0,\n",
       " 'q3': 210.0,\n",
       " 'q4': 355.5,\n",
       " 'max': 71773.1}"
      ]
     },
     "execution_count": 6,
     "metadata": {},
     "output_type": "execute_result"
    }
   ],
   "source": [
    "quantileplt(yijia['商家承担活动金额'])"
   ]
  },
  {
   "cell_type": "code",
   "execution_count": 7,
   "metadata": {
    "scrolled": true
   },
   "outputs": [
    {
     "data": {
      "text/plain": [
       "1979"
      ]
     },
     "execution_count": 7,
     "metadata": {},
     "output_type": "execute_result"
    }
   ],
   "source": [
    "yijia.drop_duplicates('店铺ID',inplace=False)['店铺ID'].count()"
   ]
  },
  {
   "cell_type": "code",
   "execution_count": 8,
   "metadata": {},
   "outputs": [],
   "source": [
    "# 1176\n"
   ]
  },
  {
   "cell_type": "code",
   "execution_count": 9,
   "metadata": {},
   "outputs": [
    {
     "data": {
      "text/html": [
       "<div>\n",
       "<style scoped>\n",
       "    .dataframe tbody tr th:only-of-type {\n",
       "        vertical-align: middle;\n",
       "    }\n",
       "\n",
       "    .dataframe tbody tr th {\n",
       "        vertical-align: top;\n",
       "    }\n",
       "\n",
       "    .dataframe thead th {\n",
       "        text-align: right;\n",
       "    }\n",
       "</style>\n",
       "<table border=\"1\" class=\"dataframe\">\n",
       "  <thead>\n",
       "    <tr style=\"text-align: right;\">\n",
       "      <th></th>\n",
       "      <th>日期</th>\n",
       "      <th>订单编号</th>\n",
       "      <th>下单时间</th>\n",
       "      <th>接单时长</th>\n",
       "      <th>店铺名称</th>\n",
       "      <th>店铺ID</th>\n",
       "      <th>店铺所在城市</th>\n",
       "      <th>订单支付类型</th>\n",
       "      <th>订单状态</th>\n",
       "      <th>订单配送状态</th>\n",
       "      <th>是否预订单</th>\n",
       "      <th>订单总金额</th>\n",
       "      <th>订单折扣后金额</th>\n",
       "      <th>平台承担活动金额</th>\n",
       "      <th>商家承担活动金额</th>\n",
       "      <th>商品分类</th>\n",
       "      <th>商品名称</th>\n",
       "      <th>UPC码</th>\n",
       "      <th>商品SKU码</th>\n",
       "      <th>商品销售数量</th>\n",
       "      <th>商品原价销售额</th>\n",
       "      <th>商品实付销售额</th>\n",
       "      <th>商品总补贴金额</th>\n",
       "      <th>商品商家补贴金额</th>\n",
       "      <th>商品平台补贴金额</th>\n",
       "      <th>是否部分退款商品</th>\n",
       "      <th>部分退款商品数量</th>\n",
       "      <th>部分退款商品金额</th>\n",
       "      <th>订单小额付款</th>\n",
       "      <th>配送费</th>\n",
       "      <th>是否活动订单</th>\n",
       "      <th>优惠活动</th>\n",
       "      <th>是否催单</th>\n",
       "      <th>回复状态</th>\n",
       "      <th>商家回复内容</th>\n",
       "      <th>配送时长</th>\n",
       "      <th>打包袋费</th>\n",
       "      <th>订单完成时间</th>\n",
       "      <th>订单取消原因（仅取消订单）</th>\n",
       "    </tr>\n",
       "  </thead>\n",
       "  <tbody>\n",
       "    <tr>\n",
       "      <th>0</th>\n",
       "      <td>\\t20200801-20200831</td>\n",
       "      <td>2270353889949615</td>\n",
       "      <td>2020-08-10 21:32:39\\t</td>\n",
       "      <td>54秒</td>\n",
       "      <td>邂逅花坊鲜花（香梅花坊）\\t</td>\n",
       "      <td>227035</td>\n",
       "      <td>无锡\\t</td>\n",
       "      <td>在线支付</td>\n",
       "      <td>订单取消</td>\n",
       "      <td>用户提交订单</td>\n",
       "      <td>否</td>\n",
       "      <td>58.0</td>\n",
       "      <td>16.9</td>\n",
       "      <td>0.0</td>\n",
       "      <td>41.1</td>\n",
       "      <td>家居鲜花\\t</td>\n",
       "      <td>【日常家居鲜花】3枝红玫瑰（不带包装、花瓶）</td>\n",
       "      <td>NaN</td>\n",
       "      <td>395</td>\n",
       "      <td>1</td>\n",
       "      <td>58.0</td>\n",
       "      <td>16.9</td>\n",
       "      <td>41.1</td>\n",
       "      <td>41.1</td>\n",
       "      <td>0.0</td>\n",
       "      <td>否</td>\n",
       "      <td>0</td>\n",
       "      <td>0.0</td>\n",
       "      <td>0.0</td>\n",
       "      <td>0.0</td>\n",
       "      <td>是</td>\n",
       "      <td>购买【日常家居鲜花】3枝红玫瑰（不带包装、花瓶）原价58.0元现价19.9元/门店新客立减3...</td>\n",
       "      <td>否</td>\n",
       "      <td>未回复</td>\n",
       "      <td>NaN</td>\n",
       "      <td>0.00分</td>\n",
       "      <td>0.0</td>\n",
       "      <td>NaN</td>\n",
       "      <td>其他\\t</td>\n",
       "    </tr>\n",
       "    <tr>\n",
       "      <th>1</th>\n",
       "      <td>\\t20200801-20200831</td>\n",
       "      <td>2270352872473506</td>\n",
       "      <td>2020-08-17 09:55:36\\t</td>\n",
       "      <td>11秒</td>\n",
       "      <td>邂逅花坊鲜花（香梅花坊）\\t</td>\n",
       "      <td>227035</td>\n",
       "      <td>无锡\\t</td>\n",
       "      <td>在线支付</td>\n",
       "      <td>订单完成</td>\n",
       "      <td>配送中</td>\n",
       "      <td>否</td>\n",
       "      <td>166.0</td>\n",
       "      <td>58.0</td>\n",
       "      <td>0.0</td>\n",
       "      <td>108.0</td>\n",
       "      <td>七夕预售玫瑰专区\\t</td>\n",
       "      <td>缘来是你【6枝红玫瑰搭配尤加利简约小花束】</td>\n",
       "      <td>NaN</td>\n",
       "      <td>237</td>\n",
       "      <td>1</td>\n",
       "      <td>166.0</td>\n",
       "      <td>58.0</td>\n",
       "      <td>108.0</td>\n",
       "      <td>108.0</td>\n",
       "      <td>0.0</td>\n",
       "      <td>否</td>\n",
       "      <td>0</td>\n",
       "      <td>0.0</td>\n",
       "      <td>0.0</td>\n",
       "      <td>0.0</td>\n",
       "      <td>是</td>\n",
       "      <td>购买缘来是你【6枝红玫瑰搭配尤加利简约小花束】原价166.0元现价58.0元\\t</td>\n",
       "      <td>否</td>\n",
       "      <td>已回复</td>\n",
       "      <td>NaN</td>\n",
       "      <td>0.00分</td>\n",
       "      <td>0.0</td>\n",
       "      <td>2020-08-17 11:16:21\\t</td>\n",
       "      <td>NaN</td>\n",
       "    </tr>\n",
       "    <tr>\n",
       "      <th>2</th>\n",
       "      <td>\\t20200801-20200831</td>\n",
       "      <td>2270352834917279</td>\n",
       "      <td>2020-08-17 09:56:01\\t</td>\n",
       "      <td>8秒</td>\n",
       "      <td>邂逅花坊鲜花（香梅花坊）\\t</td>\n",
       "      <td>227035</td>\n",
       "      <td>无锡\\t</td>\n",
       "      <td>在线支付</td>\n",
       "      <td>订单完成</td>\n",
       "      <td>配送中</td>\n",
       "      <td>否</td>\n",
       "      <td>185.0</td>\n",
       "      <td>58.0</td>\n",
       "      <td>0.0</td>\n",
       "      <td>127.0</td>\n",
       "      <td>七夕预售玫瑰专区\\t</td>\n",
       "      <td>美轮美奂【6枝粉玫瑰搭配银叶花束】</td>\n",
       "      <td>NaN</td>\n",
       "      <td>871</td>\n",
       "      <td>1</td>\n",
       "      <td>185.0</td>\n",
       "      <td>58.0</td>\n",
       "      <td>127.0</td>\n",
       "      <td>127.0</td>\n",
       "      <td>0.0</td>\n",
       "      <td>否</td>\n",
       "      <td>0</td>\n",
       "      <td>0.0</td>\n",
       "      <td>0.0</td>\n",
       "      <td>0.0</td>\n",
       "      <td>是</td>\n",
       "      <td>购买美轮美奂【6枝粉玫瑰搭配银叶花束】原价185.0元现价58.0元\\t</td>\n",
       "      <td>否</td>\n",
       "      <td>已回复</td>\n",
       "      <td>NaN</td>\n",
       "      <td>0.00分</td>\n",
       "      <td>0.0</td>\n",
       "      <td>2020-08-17 20:32:18\\t</td>\n",
       "      <td>NaN</td>\n",
       "    </tr>\n",
       "    <tr>\n",
       "      <th>3</th>\n",
       "      <td>\\t20200801-20200831</td>\n",
       "      <td>2270353886961776</td>\n",
       "      <td>2020-08-17 09:56:51\\t</td>\n",
       "      <td>13秒</td>\n",
       "      <td>邂逅花坊鲜花（香梅花坊）\\t</td>\n",
       "      <td>227035</td>\n",
       "      <td>无锡\\t</td>\n",
       "      <td>在线支付</td>\n",
       "      <td>订单完成</td>\n",
       "      <td>配送中</td>\n",
       "      <td>否</td>\n",
       "      <td>166.0</td>\n",
       "      <td>58.0</td>\n",
       "      <td>0.0</td>\n",
       "      <td>108.0</td>\n",
       "      <td>七夕预售玫瑰专区\\t</td>\n",
       "      <td>缘来是你【6枝红玫瑰搭配尤加利简约小花束】</td>\n",
       "      <td>NaN</td>\n",
       "      <td>237</td>\n",
       "      <td>1</td>\n",
       "      <td>166.0</td>\n",
       "      <td>58.0</td>\n",
       "      <td>108.0</td>\n",
       "      <td>108.0</td>\n",
       "      <td>0.0</td>\n",
       "      <td>否</td>\n",
       "      <td>0</td>\n",
       "      <td>0.0</td>\n",
       "      <td>0.0</td>\n",
       "      <td>0.0</td>\n",
       "      <td>是</td>\n",
       "      <td>购买缘来是你【6枝红玫瑰搭配尤加利简约小花束】原价166.0元现价58.0元\\t</td>\n",
       "      <td>否</td>\n",
       "      <td>已回复</td>\n",
       "      <td>NaN</td>\n",
       "      <td>0.00分</td>\n",
       "      <td>0.0</td>\n",
       "      <td>2020-08-17 11:21:12\\t</td>\n",
       "      <td>NaN</td>\n",
       "    </tr>\n",
       "    <tr>\n",
       "      <th>4</th>\n",
       "      <td>\\t20200801-20200831</td>\n",
       "      <td>2270352851708922</td>\n",
       "      <td>2020-08-17 10:46:57\\t</td>\n",
       "      <td>15秒</td>\n",
       "      <td>邂逅花坊鲜花（香梅花坊）\\t</td>\n",
       "      <td>227035</td>\n",
       "      <td>无锡\\t</td>\n",
       "      <td>在线支付</td>\n",
       "      <td>订单完成</td>\n",
       "      <td>配送中</td>\n",
       "      <td>否</td>\n",
       "      <td>166.0</td>\n",
       "      <td>55.0</td>\n",
       "      <td>0.0</td>\n",
       "      <td>111.0</td>\n",
       "      <td>七夕预售玫瑰专区\\t</td>\n",
       "      <td>缘来是你【6枝红玫瑰搭配尤加利简约小花束】</td>\n",
       "      <td>NaN</td>\n",
       "      <td>237</td>\n",
       "      <td>1</td>\n",
       "      <td>166.0</td>\n",
       "      <td>55.0</td>\n",
       "      <td>111.0</td>\n",
       "      <td>111.0</td>\n",
       "      <td>0.0</td>\n",
       "      <td>否</td>\n",
       "      <td>0</td>\n",
       "      <td>0.0</td>\n",
       "      <td>0.0</td>\n",
       "      <td>0.0</td>\n",
       "      <td>是</td>\n",
       "      <td>购买缘来是你【6枝红玫瑰搭配尤加利简约小花束】原价166.0元现价58.0元/门店新客立减3...</td>\n",
       "      <td>否</td>\n",
       "      <td>已回复</td>\n",
       "      <td>NaN</td>\n",
       "      <td>0.00分</td>\n",
       "      <td>0.0</td>\n",
       "      <td>2020-08-17 11:46:34\\t</td>\n",
       "      <td>NaN</td>\n",
       "    </tr>\n",
       "  </tbody>\n",
       "</table>\n",
       "</div>"
      ],
      "text/plain": [
       "                    日期              订单编号                   下单时间 接单时长  \\\n",
       "0  \\t20200801-20200831  2270353889949615  2020-08-10 21:32:39\\t  54秒   \n",
       "1  \\t20200801-20200831  2270352872473506  2020-08-17 09:55:36\\t  11秒   \n",
       "2  \\t20200801-20200831  2270352834917279  2020-08-17 09:56:01\\t   8秒   \n",
       "3  \\t20200801-20200831  2270353886961776  2020-08-17 09:56:51\\t  13秒   \n",
       "4  \\t20200801-20200831  2270352851708922  2020-08-17 10:46:57\\t  15秒   \n",
       "\n",
       "             店铺名称    店铺ID 店铺所在城市 订单支付类型  订单状态  订单配送状态 是否预订单  订单总金额  订单折扣后金额  \\\n",
       "0  邂逅花坊鲜花（香梅花坊）\\t  227035   无锡\\t   在线支付  订单取消  用户提交订单     否   58.0     16.9   \n",
       "1  邂逅花坊鲜花（香梅花坊）\\t  227035   无锡\\t   在线支付  订单完成     配送中     否  166.0     58.0   \n",
       "2  邂逅花坊鲜花（香梅花坊）\\t  227035   无锡\\t   在线支付  订单完成     配送中     否  185.0     58.0   \n",
       "3  邂逅花坊鲜花（香梅花坊）\\t  227035   无锡\\t   在线支付  订单完成     配送中     否  166.0     58.0   \n",
       "4  邂逅花坊鲜花（香梅花坊）\\t  227035   无锡\\t   在线支付  订单完成     配送中     否  166.0     55.0   \n",
       "\n",
       "   平台承担活动金额  商家承担活动金额        商品分类                    商品名称  UPC码 商品SKU码  \\\n",
       "0       0.0      41.1      家居鲜花\\t  【日常家居鲜花】3枝红玫瑰（不带包装、花瓶）   NaN    395   \n",
       "1       0.0     108.0  七夕预售玫瑰专区\\t   缘来是你【6枝红玫瑰搭配尤加利简约小花束】   NaN    237   \n",
       "2       0.0     127.0  七夕预售玫瑰专区\\t       美轮美奂【6枝粉玫瑰搭配银叶花束】   NaN    871   \n",
       "3       0.0     108.0  七夕预售玫瑰专区\\t   缘来是你【6枝红玫瑰搭配尤加利简约小花束】   NaN    237   \n",
       "4       0.0     111.0  七夕预售玫瑰专区\\t   缘来是你【6枝红玫瑰搭配尤加利简约小花束】   NaN    237   \n",
       "\n",
       "   商品销售数量  商品原价销售额  商品实付销售额  商品总补贴金额  商品商家补贴金额  商品平台补贴金额 是否部分退款商品  部分退款商品数量  \\\n",
       "0       1     58.0     16.9     41.1      41.1       0.0        否         0   \n",
       "1       1    166.0     58.0    108.0     108.0       0.0        否         0   \n",
       "2       1    185.0     58.0    127.0     127.0       0.0        否         0   \n",
       "3       1    166.0     58.0    108.0     108.0       0.0        否         0   \n",
       "4       1    166.0     55.0    111.0     111.0       0.0        否         0   \n",
       "\n",
       "   部分退款商品金额  订单小额付款  配送费 是否活动订单  \\\n",
       "0       0.0     0.0  0.0      是   \n",
       "1       0.0     0.0  0.0      是   \n",
       "2       0.0     0.0  0.0      是   \n",
       "3       0.0     0.0  0.0      是   \n",
       "4       0.0     0.0  0.0      是   \n",
       "\n",
       "                                                优惠活动 是否催单 回复状态 商家回复内容   配送时长  \\\n",
       "0  购买【日常家居鲜花】3枝红玫瑰（不带包装、花瓶）原价58.0元现价19.9元/门店新客立减3...    否  未回复    NaN  0.00分   \n",
       "1           购买缘来是你【6枝红玫瑰搭配尤加利简约小花束】原价166.0元现价58.0元\\t    否  已回复    NaN  0.00分   \n",
       "2               购买美轮美奂【6枝粉玫瑰搭配银叶花束】原价185.0元现价58.0元\\t    否  已回复    NaN  0.00分   \n",
       "3           购买缘来是你【6枝红玫瑰搭配尤加利简约小花束】原价166.0元现价58.0元\\t    否  已回复    NaN  0.00分   \n",
       "4  购买缘来是你【6枝红玫瑰搭配尤加利简约小花束】原价166.0元现价58.0元/门店新客立减3...    否  已回复    NaN  0.00分   \n",
       "\n",
       "   打包袋费                 订单完成时间 订单取消原因（仅取消订单）  \n",
       "0   0.0                    NaN          其他\\t  \n",
       "1   0.0  2020-08-17 11:16:21\\t           NaN  \n",
       "2   0.0  2020-08-17 20:32:18\\t           NaN  \n",
       "3   0.0  2020-08-17 11:21:12\\t           NaN  \n",
       "4   0.0  2020-08-17 11:46:34\\t           NaN  "
      ]
     },
     "execution_count": 9,
     "metadata": {},
     "output_type": "execute_result"
    }
   ],
   "source": [
    "yijia.head()"
   ]
  },
  {
   "cell_type": "code",
   "execution_count": 10,
   "metadata": {},
   "outputs": [
    {
     "name": "stderr",
     "output_type": "stream",
     "text": [
      "Building prefix dict from the default dictionary ...\n",
      "Loading model from cache C:\\Users\\ADMINI~1\\AppData\\Local\\Temp\\jieba.cache\n",
      "Loading model cost 0.635 seconds.\n",
      "Prefix dict has been built successfully.\n"
     ]
    },
    {
     "name": "stdout",
     "output_type": "stream",
     "text": [
      "七夕 情人节 红玫瑰 11 满天星 尤加利 礼盒 枝粉 玫瑰 表白 19 33 缘来 香槟 粉色 情书 一生 银叶 黑纱 爱人\n"
     ]
    }
   ],
   "source": [
    "text = dataframe_text(yijia,'商品名称')\n",
    "import jieba.analyse\n",
    "X = ' '.join(jieba.analyse.extract_tags(text, topK=20, withWeight=False))\n",
    "print(X)"
   ]
  },
  {
   "cell_type": "code",
   "execution_count": 11,
   "metadata": {},
   "outputs": [
    {
     "data": {
      "text/html": [
       "<div>\n",
       "<style scoped>\n",
       "    .dataframe tbody tr th:only-of-type {\n",
       "        vertical-align: middle;\n",
       "    }\n",
       "\n",
       "    .dataframe tbody tr th {\n",
       "        vertical-align: top;\n",
       "    }\n",
       "\n",
       "    .dataframe thead th {\n",
       "        text-align: right;\n",
       "    }\n",
       "</style>\n",
       "<table border=\"1\" class=\"dataframe\">\n",
       "  <thead>\n",
       "    <tr style=\"text-align: right;\">\n",
       "      <th></th>\n",
       "      <th>word</th>\n",
       "      <th>weight</th>\n",
       "    </tr>\n",
       "  </thead>\n",
       "  <tbody>\n",
       "    <tr>\n",
       "      <th>0</th>\n",
       "      <td>七夕</td>\n",
       "      <td>1.073790</td>\n",
       "    </tr>\n",
       "    <tr>\n",
       "      <th>1</th>\n",
       "      <td>情人节</td>\n",
       "      <td>0.961791</td>\n",
       "    </tr>\n",
       "    <tr>\n",
       "      <th>2</th>\n",
       "      <td>红玫瑰</td>\n",
       "      <td>0.939727</td>\n",
       "    </tr>\n",
       "    <tr>\n",
       "      <th>3</th>\n",
       "      <td>11</td>\n",
       "      <td>0.925107</td>\n",
       "    </tr>\n",
       "    <tr>\n",
       "      <th>4</th>\n",
       "      <td>满天星</td>\n",
       "      <td>0.574790</td>\n",
       "    </tr>\n",
       "    <tr>\n",
       "      <th>5</th>\n",
       "      <td>尤加利</td>\n",
       "      <td>0.561574</td>\n",
       "    </tr>\n",
       "    <tr>\n",
       "      <th>6</th>\n",
       "      <td>礼盒</td>\n",
       "      <td>0.486502</td>\n",
       "    </tr>\n",
       "    <tr>\n",
       "      <th>7</th>\n",
       "      <td>枝粉</td>\n",
       "      <td>0.441500</td>\n",
       "    </tr>\n",
       "    <tr>\n",
       "      <th>8</th>\n",
       "      <td>玫瑰</td>\n",
       "      <td>0.405608</td>\n",
       "    </tr>\n",
       "    <tr>\n",
       "      <th>9</th>\n",
       "      <td>表白</td>\n",
       "      <td>0.295781</td>\n",
       "    </tr>\n",
       "    <tr>\n",
       "      <th>10</th>\n",
       "      <td>19</td>\n",
       "      <td>0.251813</td>\n",
       "    </tr>\n",
       "    <tr>\n",
       "      <th>11</th>\n",
       "      <td>33</td>\n",
       "      <td>0.202158</td>\n",
       "    </tr>\n",
       "    <tr>\n",
       "      <th>12</th>\n",
       "      <td>缘来</td>\n",
       "      <td>0.180898</td>\n",
       "    </tr>\n",
       "    <tr>\n",
       "      <th>13</th>\n",
       "      <td>香槟</td>\n",
       "      <td>0.149978</td>\n",
       "    </tr>\n",
       "    <tr>\n",
       "      <th>14</th>\n",
       "      <td>粉色</td>\n",
       "      <td>0.135159</td>\n",
       "    </tr>\n",
       "    <tr>\n",
       "      <th>15</th>\n",
       "      <td>情书</td>\n",
       "      <td>0.108203</td>\n",
       "    </tr>\n",
       "    <tr>\n",
       "      <th>16</th>\n",
       "      <td>一生</td>\n",
       "      <td>0.107900</td>\n",
       "    </tr>\n",
       "    <tr>\n",
       "      <th>17</th>\n",
       "      <td>银叶</td>\n",
       "      <td>0.101795</td>\n",
       "    </tr>\n",
       "    <tr>\n",
       "      <th>18</th>\n",
       "      <td>黑纱</td>\n",
       "      <td>0.098306</td>\n",
       "    </tr>\n",
       "    <tr>\n",
       "      <th>19</th>\n",
       "      <td>爱人</td>\n",
       "      <td>0.098214</td>\n",
       "    </tr>\n",
       "  </tbody>\n",
       "</table>\n",
       "</div>"
      ],
      "text/plain": [
       "   word    weight\n",
       "0    七夕  1.073790\n",
       "1   情人节  0.961791\n",
       "2   红玫瑰  0.939727\n",
       "3    11  0.925107\n",
       "4   满天星  0.574790\n",
       "5   尤加利  0.561574\n",
       "6    礼盒  0.486502\n",
       "7    枝粉  0.441500\n",
       "8    玫瑰  0.405608\n",
       "9    表白  0.295781\n",
       "10   19  0.251813\n",
       "11   33  0.202158\n",
       "12   缘来  0.180898\n",
       "13   香槟  0.149978\n",
       "14   粉色  0.135159\n",
       "15   情书  0.108203\n",
       "16   一生  0.107900\n",
       "17   银叶  0.101795\n",
       "18   黑纱  0.098306\n",
       "19   爱人  0.098214"
      ]
     },
     "execution_count": 11,
     "metadata": {},
     "output_type": "execute_result"
    }
   ],
   "source": [
    "tag = jieba.analyse.extract_tags(text,topK = 20,withWeight = True)\n",
    "tags_list  = []\n",
    "for i in tag:\n",
    "    tags_list.append((i[0],i[1]))\n",
    "tags_pd = pd.DataFrame(tags_list, columns=['word', 'weight'])  # 创建数据框\n",
    "tags_pd"
   ]
  },
  {
   "cell_type": "code",
   "execution_count": 12,
   "metadata": {},
   "outputs": [
    {
     "data": {
      "text/plain": [
       "[('情人节', 1.0),\n",
       " ('礼盒', 0.83042153127483),\n",
       " ('玫瑰', 0.5809570736827002),\n",
       " ('枝粉', 0.5108803698629891),\n",
       " ('表白', 0.49928985675933957),\n",
       " ('黑纱', 0.17809112850570794),\n",
       " ('银叶', 0.17545482657568395),\n",
       " ('爱人', 0.13816895327143325),\n",
       " ('香槟', 0.13632738376789558),\n",
       " ('桔梗', 0.1299532380898459),\n",
       " ('花篮', 0.07994171868545193),\n",
       " ('网红', 0.07272240856397819),\n",
       " ('粉色', 0.06832941265751596),\n",
       " ('向日葵', 0.0637339517623866),\n",
       " ('相思', 0.05668705712391995),\n",
       " ('可爱', 0.05560522579332609),\n",
       " ('琴瑟之好', 0.054244495711665244),\n",
       " ('美丽', 0.05070311944459682),\n",
       " ('开业', 0.04905874460695318),\n",
       " ('花瓶', 0.0484068133500824)]"
      ]
     },
     "execution_count": 12,
     "metadata": {},
     "output_type": "execute_result"
    }
   ],
   "source": [
    "tags_pairs = jieba.analyse.textrank(text,  topK=20,  withWeight=True)  # 提取关键字标签\n",
    "tags_pairs"
   ]
  },
  {
   "cell_type": "code",
   "execution_count": 13,
   "metadata": {},
   "outputs": [],
   "source": [
    "yijia_jiage = yijia.drop_duplicates(subset='商品原价销售额',inplace=False)\n",
    "yijia_name = yijia.drop_duplicates(subset='商品名称',inplace=False)"
   ]
  },
  {
   "cell_type": "code",
   "execution_count": 14,
   "metadata": {},
   "outputs": [],
   "source": [
    "yijia_jiage = yijia_jiage.sort_values(by='商品原价销售额',ascending=True)\n",
    "yijia_jiage = yijia_jiage[yijia_jiage['商品原价销售额'] > 1]\n",
    "yijia_name = yijia_name.sort_values(by='商品名称',ascending=True)"
   ]
  },
  {
   "cell_type": "code",
   "execution_count": 15,
   "metadata": {},
   "outputs": [],
   "source": [
    "yijia = yijia.sort_values(by='商品原价销售额',ascending=True)"
   ]
  },
  {
   "cell_type": "code",
   "execution_count": null,
   "metadata": {
    "scrolled": false
   },
   "outputs": [],
   "source": [
    "\n",
    "sorted(duplicates(yijia,'商品实付销售额')[1].items(), key = lambda x:x[1])"
   ]
  },
  {
   "cell_type": "code",
   "execution_count": null,
   "metadata": {},
   "outputs": [],
   "source": []
  },
  {
   "cell_type": "code",
   "execution_count": null,
   "metadata": {},
   "outputs": [],
   "source": []
  },
  {
   "cell_type": "code",
   "execution_count": null,
   "metadata": {},
   "outputs": [],
   "source": []
  }
 ],
 "metadata": {
  "kernelspec": {
   "display_name": "Python 3",
   "language": "python",
   "name": "python3"
  },
  "language_info": {
   "codemirror_mode": {
    "name": "ipython",
    "version": 3
   },
   "file_extension": ".py",
   "mimetype": "text/x-python",
   "name": "python",
   "nbconvert_exporter": "python",
   "pygments_lexer": "ipython3",
   "version": "3.8.3"
  }
 },
 "nbformat": 4,
 "nbformat_minor": 4
}

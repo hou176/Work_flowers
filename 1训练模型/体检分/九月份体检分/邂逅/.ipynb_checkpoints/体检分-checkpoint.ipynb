{
 "cells": [
  {
   "cell_type": "code",
   "execution_count": 11,
   "metadata": {},
   "outputs": [],
   "source": [
    "import pandas as pd \n",
    "import numpy  as np\n",
    "pd.set_option('display.max_columns', None)"
   ]
  },
  {
   "cell_type": "code",
   "execution_count": 20,
   "metadata": {},
   "outputs": [],
   "source": [
    "df1 = pd.read_csv('0924邂逅.csv',encoding='gbk')"
   ]
  },
  {
   "cell_type": "code",
   "execution_count": 21,
   "metadata": {
    "scrolled": true
   },
   "outputs": [],
   "source": [
    "df1['商家ID'] = df1['门店ID']"
   ]
  },
  {
   "cell_type": "code",
   "execution_count": 22,
   "metadata": {},
   "outputs": [],
   "source": [
    "df2 = pd.read_csv('0914.csv',encoding='gbk')"
   ]
  },
  {
   "cell_type": "code",
   "execution_count": 23,
   "metadata": {},
   "outputs": [],
   "source": [
    "df = pd.merge(df1,df2,on='商家ID')"
   ]
  },
  {
   "cell_type": "code",
   "execution_count": 24,
   "metadata": {},
   "outputs": [
    {
     "data": {
      "text/plain": [
       "门店ID                 -0.070328\n",
       "体检分                   1.000000\n",
       "近7日服务问题导致的营业额损失(元)   -0.163219\n",
       "商家ID                 -0.070328\n",
       "开始日期                       NaN\n",
       "结束日期                       NaN\n",
       "首次上线日期               -0.071664\n",
       "（日均）预设营业时长（h）         0.431877\n",
       "（日均）在线营业时长（h）         0.429169\n",
       "曝光人数                  0.402844\n",
       "入店人数                  0.515081\n",
       "下单人数                  0.315702\n",
       "下单新客人数                0.333232\n",
       "入店转化率                 0.347112\n",
       "推单数                   0.349901\n",
       "有效订单数                 0.342970\n",
       "原价交易额                 0.303604\n",
       "实付交易额                 0.308703\n",
       "商家补贴金额                0.274805\n",
       "商家原因取消订单数             0.050271\n",
       "商家拒单数                 0.042517\n",
       "商家超时未接单数              0.016035\n",
       "商家取消不告知用户订单数               NaN\n",
       "缺货导致退款订单数             0.028702\n",
       "商家少送错送导致用户退款订单数            NaN\n",
       "商家质量问题导致用户退款订单数            NaN\n",
       "配送原因取消订单数                  NaN\n",
       "拣货超时订单数               0.067133\n",
       "使用间或完成按钮订单数           0.346960\n",
       "平均骑手到店等待时间（min）       0.043769\n",
       "平均骑手送货时长（min）         0.079006\n",
       "IM会话数                 0.295390\n",
       "IM回复数                 0.296775\n",
       "IM回复率                 0.308803\n",
       "IM1分钟回复数              0.268353\n",
       "差评订单数                -0.002632\n",
       "投诉订单数                      NaN\n",
       "平均商家评分                0.642996\n",
       "平均商品评分                0.642996\n",
       "平均配送评分                0.625825\n",
       "平均配送时长（min）           0.098470\n",
       "资质类型（仅药品）                  NaN\n",
       "资质有效期（仅药品）                 NaN\n",
       "Name: 体检分, dtype: float64"
      ]
     },
     "execution_count": 24,
     "metadata": {},
     "output_type": "execute_result"
    }
   ],
   "source": [
    "df.corr()['体检分']"
   ]
  },
  {
   "cell_type": "code",
   "execution_count": 25,
   "metadata": {},
   "outputs": [],
   "source": [
    "df = df[['门店ID','体检分','有效订单数','入店人数','平均商家评分','平均配送评分','平均配送评分']]"
   ]
  },
  {
   "cell_type": "code",
   "execution_count": 26,
   "metadata": {},
   "outputs": [
    {
     "data": {
      "text/html": [
       "<div>\n",
       "<style scoped>\n",
       "    .dataframe tbody tr th:only-of-type {\n",
       "        vertical-align: middle;\n",
       "    }\n",
       "\n",
       "    .dataframe tbody tr th {\n",
       "        vertical-align: top;\n",
       "    }\n",
       "\n",
       "    .dataframe thead th {\n",
       "        text-align: right;\n",
       "    }\n",
       "</style>\n",
       "<table border=\"1\" class=\"dataframe\">\n",
       "  <thead>\n",
       "    <tr style=\"text-align: right;\">\n",
       "      <th></th>\n",
       "      <th>门店ID</th>\n",
       "      <th>体检分</th>\n",
       "      <th>有效订单数</th>\n",
       "      <th>入店人数</th>\n",
       "      <th>平均商家评分</th>\n",
       "      <th>平均配送评分</th>\n",
       "      <th>平均配送评分</th>\n",
       "    </tr>\n",
       "  </thead>\n",
       "  <tbody>\n",
       "    <tr>\n",
       "      <th>0</th>\n",
       "      <td>227035</td>\n",
       "      <td>85.0</td>\n",
       "      <td>1</td>\n",
       "      <td>5</td>\n",
       "      <td>4.4</td>\n",
       "      <td>5.0</td>\n",
       "      <td>5.0</td>\n",
       "    </tr>\n",
       "    <tr>\n",
       "      <th>1</th>\n",
       "      <td>255297</td>\n",
       "      <td>82.0</td>\n",
       "      <td>0</td>\n",
       "      <td>1</td>\n",
       "      <td>5.0</td>\n",
       "      <td>5.0</td>\n",
       "      <td>5.0</td>\n",
       "    </tr>\n",
       "    <tr>\n",
       "      <th>2</th>\n",
       "      <td>345331</td>\n",
       "      <td>88.0</td>\n",
       "      <td>0</td>\n",
       "      <td>3</td>\n",
       "      <td>5.0</td>\n",
       "      <td>5.0</td>\n",
       "      <td>5.0</td>\n",
       "    </tr>\n",
       "    <tr>\n",
       "      <th>3</th>\n",
       "      <td>403721</td>\n",
       "      <td>74.0</td>\n",
       "      <td>0</td>\n",
       "      <td>2</td>\n",
       "      <td>3.2</td>\n",
       "      <td>4.7</td>\n",
       "      <td>4.7</td>\n",
       "    </tr>\n",
       "    <tr>\n",
       "      <th>4</th>\n",
       "      <td>634577</td>\n",
       "      <td>83.0</td>\n",
       "      <td>0</td>\n",
       "      <td>9</td>\n",
       "      <td>5.0</td>\n",
       "      <td>5.0</td>\n",
       "      <td>5.0</td>\n",
       "    </tr>\n",
       "    <tr>\n",
       "      <th>...</th>\n",
       "      <td>...</td>\n",
       "      <td>...</td>\n",
       "      <td>...</td>\n",
       "      <td>...</td>\n",
       "      <td>...</td>\n",
       "      <td>...</td>\n",
       "      <td>...</td>\n",
       "    </tr>\n",
       "    <tr>\n",
       "      <th>2083</th>\n",
       "      <td>9904517</td>\n",
       "      <td>65.0</td>\n",
       "      <td>0</td>\n",
       "      <td>3</td>\n",
       "      <td>0.0</td>\n",
       "      <td>0.0</td>\n",
       "      <td>0.0</td>\n",
       "    </tr>\n",
       "    <tr>\n",
       "      <th>2084</th>\n",
       "      <td>9904518</td>\n",
       "      <td>63.0</td>\n",
       "      <td>0</td>\n",
       "      <td>2</td>\n",
       "      <td>0.0</td>\n",
       "      <td>0.0</td>\n",
       "      <td>0.0</td>\n",
       "    </tr>\n",
       "    <tr>\n",
       "      <th>2085</th>\n",
       "      <td>9920901</td>\n",
       "      <td>65.0</td>\n",
       "      <td>0</td>\n",
       "      <td>2</td>\n",
       "      <td>0.0</td>\n",
       "      <td>0.0</td>\n",
       "      <td>0.0</td>\n",
       "    </tr>\n",
       "    <tr>\n",
       "      <th>2086</th>\n",
       "      <td>9920903</td>\n",
       "      <td>77.0</td>\n",
       "      <td>0</td>\n",
       "      <td>1</td>\n",
       "      <td>0.0</td>\n",
       "      <td>0.0</td>\n",
       "      <td>0.0</td>\n",
       "    </tr>\n",
       "    <tr>\n",
       "      <th>2087</th>\n",
       "      <td>9920904</td>\n",
       "      <td>61.0</td>\n",
       "      <td>0</td>\n",
       "      <td>0</td>\n",
       "      <td>0.0</td>\n",
       "      <td>0.0</td>\n",
       "      <td>0.0</td>\n",
       "    </tr>\n",
       "  </tbody>\n",
       "</table>\n",
       "<p>2088 rows × 7 columns</p>\n",
       "</div>"
      ],
      "text/plain": [
       "         门店ID   体检分  有效订单数  入店人数  平均商家评分  平均配送评分  平均配送评分\n",
       "0      227035  85.0      1     5     4.4     5.0     5.0\n",
       "1      255297  82.0      0     1     5.0     5.0     5.0\n",
       "2      345331  88.0      0     3     5.0     5.0     5.0\n",
       "3      403721  74.0      0     2     3.2     4.7     4.7\n",
       "4      634577  83.0      0     9     5.0     5.0     5.0\n",
       "...       ...   ...    ...   ...     ...     ...     ...\n",
       "2083  9904517  65.0      0     3     0.0     0.0     0.0\n",
       "2084  9904518  63.0      0     2     0.0     0.0     0.0\n",
       "2085  9920901  65.0      0     2     0.0     0.0     0.0\n",
       "2086  9920903  77.0      0     1     0.0     0.0     0.0\n",
       "2087  9920904  61.0      0     0     0.0     0.0     0.0\n",
       "\n",
       "[2088 rows x 7 columns]"
      ]
     },
     "execution_count": 26,
     "metadata": {},
     "output_type": "execute_result"
    }
   ],
   "source": [
    "df"
   ]
  },
  {
   "cell_type": "code",
   "execution_count": 27,
   "metadata": {},
   "outputs": [],
   "source": [
    "df.to_csv('0924.csv')"
   ]
  },
  {
   "cell_type": "code",
   "execution_count": null,
   "metadata": {},
   "outputs": [],
   "source": []
  }
 ],
 "metadata": {
  "kernelspec": {
   "display_name": "Python 3",
   "language": "python",
   "name": "python3"
  },
  "language_info": {
   "codemirror_mode": {
    "name": "ipython",
    "version": 3
   },
   "file_extension": ".py",
   "mimetype": "text/x-python",
   "name": "python",
   "nbconvert_exporter": "python",
   "pygments_lexer": "ipython3",
   "version": "3.8.3"
  }
 },
 "nbformat": 4,
 "nbformat_minor": 4
}

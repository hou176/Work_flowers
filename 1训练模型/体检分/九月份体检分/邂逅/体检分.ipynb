{
 "cells": [
  {
   "cell_type": "code",
   "execution_count": 11,
   "metadata": {},
   "outputs": [],
   "source": [
    "import pandas as pd \n",
    "import numpy  as np\n",
    "pd.set_option('display.max_columns', None)"
   ]
  },
  {
   "cell_type": "code",
   "execution_count": 36,
   "metadata": {},
   "outputs": [],
   "source": [
    "df1 = pd.read_csv('0930邂逅.csv',encoding='gbk')"
   ]
  },
  {
   "cell_type": "code",
   "execution_count": 37,
   "metadata": {
    "scrolled": true
   },
   "outputs": [],
   "source": [
    "df1['商家ID'] = df1['门店ID']"
   ]
  },
  {
   "cell_type": "code",
   "execution_count": 38,
   "metadata": {},
   "outputs": [],
   "source": [
    "df2 = pd.read_csv('0930.csv',encoding='gbk')"
   ]
  },
  {
   "cell_type": "code",
   "execution_count": 39,
   "metadata": {},
   "outputs": [],
   "source": [
    "df = pd.merge(df1,df2,on='商家ID')"
   ]
  },
  {
   "cell_type": "code",
   "execution_count": 40,
   "metadata": {},
   "outputs": [
    {
     "data": {
      "text/plain": [
       "门店ID                 -0.083533\n",
       "体检分                   1.000000\n",
       "近7日服务问题导致的营业额损失(元)    0.003912\n",
       "商家ID                 -0.083533\n",
       "开始日期                       NaN\n",
       "结束日期                       NaN\n",
       "首次上线日期               -0.082649\n",
       "（日均）预设营业时长（h）         0.390144\n",
       "（日均）在线营业时长（h）         0.383929\n",
       "曝光人数                  0.337565\n",
       "入店人数                  0.520483\n",
       "下单人数                  0.404656\n",
       "下单新客人数                0.390189\n",
       "入店转化率                 0.364848\n",
       "推单数                   0.398802\n",
       "有效订单数                 0.400220\n",
       "原价交易额                 0.373497\n",
       "实付交易额                 0.366064\n",
       "商家补贴金额                0.366361\n",
       "商家原因取消订单数            -0.006825\n",
       "商家拒单数                -0.002432\n",
       "商家超时未接单数             -0.008376\n",
       "商家取消不告知用户订单数               NaN\n",
       "缺货导致退款订单数                  NaN\n",
       "商家少送错送导致用户退款订单数            NaN\n",
       "商家质量问题导致用户退款订单数            NaN\n",
       "配送原因取消订单数             0.035368\n",
       "拣货超时订单数               0.024266\n",
       "使用间或完成按钮订单数           0.402369\n",
       "平均骑手到店等待时间（min）       0.065325\n",
       "平均骑手送货时长（min）         0.100785\n",
       "IM会话数                 0.354259\n",
       "IM回复数                 0.346239\n",
       "IM回复率                 0.369018\n",
       "IM1分钟回复数              0.322172\n",
       "差评订单数                 0.033823\n",
       "投诉订单数                      NaN\n",
       "平均商家评分                0.523602\n",
       "平均商品评分                0.523602\n",
       "平均配送评分                0.493035\n",
       "平均配送时长（min）           0.041464\n",
       "资质类型（仅药品）                  NaN\n",
       "资质有效期（仅药品）                 NaN\n",
       "Name: 体检分, dtype: float64"
      ]
     },
     "execution_count": 40,
     "metadata": {},
     "output_type": "execute_result"
    }
   ],
   "source": [
    "df.corr()['体检分']"
   ]
  },
  {
   "cell_type": "code",
   "execution_count": 41,
   "metadata": {},
   "outputs": [],
   "source": [
    "df = df[['门店ID','体检分','有效订单数','入店人数','平均商家评分','平均配送评分','平均配送评分']]"
   ]
  },
  {
   "cell_type": "code",
   "execution_count": 42,
   "metadata": {},
   "outputs": [
    {
     "data": {
      "text/html": [
       "<div>\n",
       "<style scoped>\n",
       "    .dataframe tbody tr th:only-of-type {\n",
       "        vertical-align: middle;\n",
       "    }\n",
       "\n",
       "    .dataframe tbody tr th {\n",
       "        vertical-align: top;\n",
       "    }\n",
       "\n",
       "    .dataframe thead th {\n",
       "        text-align: right;\n",
       "    }\n",
       "</style>\n",
       "<table border=\"1\" class=\"dataframe\">\n",
       "  <thead>\n",
       "    <tr style=\"text-align: right;\">\n",
       "      <th></th>\n",
       "      <th>门店ID</th>\n",
       "      <th>体检分</th>\n",
       "      <th>有效订单数</th>\n",
       "      <th>入店人数</th>\n",
       "      <th>平均商家评分</th>\n",
       "      <th>平均配送评分</th>\n",
       "      <th>平均配送评分</th>\n",
       "    </tr>\n",
       "  </thead>\n",
       "  <tbody>\n",
       "    <tr>\n",
       "      <th>0</th>\n",
       "      <td>227035</td>\n",
       "      <td>85.0</td>\n",
       "      <td>0</td>\n",
       "      <td>4</td>\n",
       "      <td>0.0</td>\n",
       "      <td>0.0</td>\n",
       "      <td>0.0</td>\n",
       "    </tr>\n",
       "    <tr>\n",
       "      <th>1</th>\n",
       "      <td>255297</td>\n",
       "      <td>74.0</td>\n",
       "      <td>0</td>\n",
       "      <td>1</td>\n",
       "      <td>0.0</td>\n",
       "      <td>0.0</td>\n",
       "      <td>0.0</td>\n",
       "    </tr>\n",
       "    <tr>\n",
       "      <th>2</th>\n",
       "      <td>345331</td>\n",
       "      <td>90.0</td>\n",
       "      <td>0</td>\n",
       "      <td>5</td>\n",
       "      <td>5.0</td>\n",
       "      <td>5.0</td>\n",
       "      <td>5.0</td>\n",
       "    </tr>\n",
       "    <tr>\n",
       "      <th>3</th>\n",
       "      <td>403721</td>\n",
       "      <td>80.0</td>\n",
       "      <td>0</td>\n",
       "      <td>3</td>\n",
       "      <td>0.0</td>\n",
       "      <td>0.0</td>\n",
       "      <td>0.0</td>\n",
       "    </tr>\n",
       "    <tr>\n",
       "      <th>4</th>\n",
       "      <td>634577</td>\n",
       "      <td>70.0</td>\n",
       "      <td>1</td>\n",
       "      <td>4</td>\n",
       "      <td>0.0</td>\n",
       "      <td>0.0</td>\n",
       "      <td>0.0</td>\n",
       "    </tr>\n",
       "    <tr>\n",
       "      <th>...</th>\n",
       "      <td>...</td>\n",
       "      <td>...</td>\n",
       "      <td>...</td>\n",
       "      <td>...</td>\n",
       "      <td>...</td>\n",
       "      <td>...</td>\n",
       "      <td>...</td>\n",
       "    </tr>\n",
       "    <tr>\n",
       "      <th>2143</th>\n",
       "      <td>10058833</td>\n",
       "      <td>52.0</td>\n",
       "      <td>0</td>\n",
       "      <td>0</td>\n",
       "      <td>0.0</td>\n",
       "      <td>0.0</td>\n",
       "      <td>0.0</td>\n",
       "    </tr>\n",
       "    <tr>\n",
       "      <th>2144</th>\n",
       "      <td>10066506</td>\n",
       "      <td>63.0</td>\n",
       "      <td>0</td>\n",
       "      <td>5</td>\n",
       "      <td>0.0</td>\n",
       "      <td>0.0</td>\n",
       "      <td>0.0</td>\n",
       "    </tr>\n",
       "    <tr>\n",
       "      <th>2145</th>\n",
       "      <td>10069308</td>\n",
       "      <td>50.0</td>\n",
       "      <td>0</td>\n",
       "      <td>5</td>\n",
       "      <td>0.0</td>\n",
       "      <td>0.0</td>\n",
       "      <td>0.0</td>\n",
       "    </tr>\n",
       "    <tr>\n",
       "      <th>2146</th>\n",
       "      <td>10070283</td>\n",
       "      <td>52.0</td>\n",
       "      <td>0</td>\n",
       "      <td>0</td>\n",
       "      <td>0.0</td>\n",
       "      <td>0.0</td>\n",
       "      <td>0.0</td>\n",
       "    </tr>\n",
       "    <tr>\n",
       "      <th>2147</th>\n",
       "      <td>10080207</td>\n",
       "      <td>50.0</td>\n",
       "      <td>0</td>\n",
       "      <td>4</td>\n",
       "      <td>0.0</td>\n",
       "      <td>0.0</td>\n",
       "      <td>0.0</td>\n",
       "    </tr>\n",
       "  </tbody>\n",
       "</table>\n",
       "<p>2148 rows × 7 columns</p>\n",
       "</div>"
      ],
      "text/plain": [
       "          门店ID   体检分  有效订单数  入店人数  平均商家评分  平均配送评分  平均配送评分\n",
       "0       227035  85.0      0     4     0.0     0.0     0.0\n",
       "1       255297  74.0      0     1     0.0     0.0     0.0\n",
       "2       345331  90.0      0     5     5.0     5.0     5.0\n",
       "3       403721  80.0      0     3     0.0     0.0     0.0\n",
       "4       634577  70.0      1     4     0.0     0.0     0.0\n",
       "...        ...   ...    ...   ...     ...     ...     ...\n",
       "2143  10058833  52.0      0     0     0.0     0.0     0.0\n",
       "2144  10066506  63.0      0     5     0.0     0.0     0.0\n",
       "2145  10069308  50.0      0     5     0.0     0.0     0.0\n",
       "2146  10070283  52.0      0     0     0.0     0.0     0.0\n",
       "2147  10080207  50.0      0     4     0.0     0.0     0.0\n",
       "\n",
       "[2148 rows x 7 columns]"
      ]
     },
     "execution_count": 42,
     "metadata": {},
     "output_type": "execute_result"
    }
   ],
   "source": [
    "df"
   ]
  },
  {
   "cell_type": "code",
   "execution_count": 43,
   "metadata": {},
   "outputs": [],
   "source": [
    "df.to_csv('0930.csv')"
   ]
  },
  {
   "cell_type": "code",
   "execution_count": null,
   "metadata": {},
   "outputs": [],
   "source": []
  }
 ],
 "metadata": {
  "kernelspec": {
   "display_name": "Python 3",
   "language": "python",
   "name": "python3"
  },
  "language_info": {
   "codemirror_mode": {
    "name": "ipython",
    "version": 3
   },
   "file_extension": ".py",
   "mimetype": "text/x-python",
   "name": "python",
   "nbconvert_exporter": "python",
   "pygments_lexer": "ipython3",
   "version": "3.8.3"
  }
 },
 "nbformat": 4,
 "nbformat_minor": 4
}

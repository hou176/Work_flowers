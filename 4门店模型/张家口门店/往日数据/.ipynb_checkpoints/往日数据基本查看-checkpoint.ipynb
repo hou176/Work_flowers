{
 "cells": [
  {
   "cell_type": "code",
   "execution_count": 20,
   "metadata": {},
   "outputs": [],
   "source": [
    "import  pandas  as pd \n",
    "import  numpy  as np \n",
    "from defname import *"
   ]
  },
  {
   "cell_type": "code",
   "execution_count": 21,
   "metadata": {},
   "outputs": [],
   "source": [
    "data = pd.read_csv('8月.csv')"
   ]
  },
  {
   "cell_type": "code",
   "execution_count": 22,
   "metadata": {},
   "outputs": [],
   "source": [
    "# 提取数据的字段\n",
    "add = ['提单数', '推单数', '订单数', '原价交易额', '实付交易额', '非异订单数', '商家配送延迟订单数', '商家拒单订单数', '商家不接单订单数', '商家取消不告知订单数','商家违规投诉订单数', '美团配送延迟订单数', '因美团配送原因取消订单数',  '曝光人数', '进店人数', '下单人数',   '动销商品数', 'gtv订单数', '原价gtv', '实付gtv' ]\n",
    "count = ['门店ID', '门店名称', '品牌ID', '品牌名称', '省份', '城市', '城市等级', '蜂窝', '首次上线时间', '配送类型','在线商品数']\n",
    "columns_list = [count,add,['实付gtv']]"
   ]
  },
  {
   "cell_type": "code",
   "execution_count": 23,
   "metadata": {},
   "outputs": [],
   "source": [
    "data = groupdata(data,columns_l=columns_list,ID='门店ID')"
   ]
  },
  {
   "cell_type": "code",
   "execution_count": 31,
   "metadata": {},
   "outputs": [],
   "source": [
    "data['进店率'] =  data['进店人数'] / data['曝光人数']"
   ]
  },
  {
   "cell_type": "code",
   "execution_count": 32,
   "metadata": {},
   "outputs": [],
   "source": [
    "data['下单率'] =  data['下单人数'] / data['进店人数']"
   ]
  },
  {
   "cell_type": "code",
   "execution_count": 33,
   "metadata": {},
   "outputs": [],
   "source": [
    "data_XHF = data[data['品牌名称'] == '鲜花坊']"
   ]
  },
  {
   "cell_type": "code",
   "execution_count": 34,
   "metadata": {},
   "outputs": [
    {
     "data": {
      "text/html": [
       "<div>\n",
       "<style scoped>\n",
       "    .dataframe tbody tr th:only-of-type {\n",
       "        vertical-align: middle;\n",
       "    }\n",
       "\n",
       "    .dataframe tbody tr th {\n",
       "        vertical-align: top;\n",
       "    }\n",
       "\n",
       "    .dataframe thead th {\n",
       "        text-align: right;\n",
       "    }\n",
       "</style>\n",
       "<table border=\"1\" class=\"dataframe\">\n",
       "  <thead>\n",
       "    <tr style=\"text-align: right;\">\n",
       "      <th></th>\n",
       "      <th>门店ID</th>\n",
       "      <th>门店名称</th>\n",
       "      <th>品牌ID</th>\n",
       "      <th>品牌名称</th>\n",
       "      <th>省份</th>\n",
       "      <th>城市</th>\n",
       "      <th>城市等级</th>\n",
       "      <th>蜂窝</th>\n",
       "      <th>首次上线时间</th>\n",
       "      <th>配送类型</th>\n",
       "      <th>在线商品数</th>\n",
       "      <th>提单数</th>\n",
       "      <th>推单数</th>\n",
       "      <th>订单数</th>\n",
       "      <th>原价交易额</th>\n",
       "      <th>实付交易额</th>\n",
       "      <th>非异订单数</th>\n",
       "      <th>商家配送延迟订单数</th>\n",
       "      <th>商家拒单订单数</th>\n",
       "      <th>商家不接单订单数</th>\n",
       "      <th>商家取消不告知订单数</th>\n",
       "      <th>商家违规投诉订单数</th>\n",
       "      <th>美团配送延迟订单数</th>\n",
       "      <th>因美团配送原因取消订单数</th>\n",
       "      <th>曝光人数</th>\n",
       "      <th>进店人数</th>\n",
       "      <th>下单人数</th>\n",
       "      <th>动销商品数</th>\n",
       "      <th>gtv订单数</th>\n",
       "      <th>原价gtv</th>\n",
       "      <th>实付gtv</th>\n",
       "      <th>进店率</th>\n",
       "      <th>下单率</th>\n",
       "    </tr>\n",
       "  </thead>\n",
       "  <tbody>\n",
       "    <tr>\n",
       "      <th>8</th>\n",
       "      <td>1390717</td>\n",
       "      <td>鲜花坊（茗花坊鲜花店）</td>\n",
       "      <td>27557</td>\n",
       "      <td>鲜花坊</td>\n",
       "      <td>河北省</td>\n",
       "      <td>张家口</td>\n",
       "      <td>D1</td>\n",
       "      <td>宣化区</td>\n",
       "      <td>20160825.0</td>\n",
       "      <td>商家配送</td>\n",
       "      <td>350.0</td>\n",
       "      <td>53</td>\n",
       "      <td>52</td>\n",
       "      <td>51</td>\n",
       "      <td>12852.0</td>\n",
       "      <td>4901.700001</td>\n",
       "      <td>2</td>\n",
       "      <td>1</td>\n",
       "      <td>0</td>\n",
       "      <td>0</td>\n",
       "      <td>0</td>\n",
       "      <td>0</td>\n",
       "      <td>0</td>\n",
       "      <td>0</td>\n",
       "      <td>7531.0</td>\n",
       "      <td>760.0</td>\n",
       "      <td>51.0</td>\n",
       "      <td>48.0</td>\n",
       "      <td>52</td>\n",
       "      <td>13050.0</td>\n",
       "      <td>171.575862</td>\n",
       "      <td>0.100916</td>\n",
       "      <td>0.067105</td>\n",
       "    </tr>\n",
       "    <tr>\n",
       "      <th>13</th>\n",
       "      <td>1958942</td>\n",
       "      <td>鲜花坊（好心情鲜花店）</td>\n",
       "      <td>27557</td>\n",
       "      <td>鲜花坊</td>\n",
       "      <td>河北省</td>\n",
       "      <td>张家口</td>\n",
       "      <td>D1</td>\n",
       "      <td>宣化区</td>\n",
       "      <td>20170119.0</td>\n",
       "      <td>商家配送</td>\n",
       "      <td>337.0</td>\n",
       "      <td>3</td>\n",
       "      <td>3</td>\n",
       "      <td>2</td>\n",
       "      <td>516.0</td>\n",
       "      <td>187.000000</td>\n",
       "      <td>1</td>\n",
       "      <td>0</td>\n",
       "      <td>1</td>\n",
       "      <td>0</td>\n",
       "      <td>0</td>\n",
       "      <td>0</td>\n",
       "      <td>0</td>\n",
       "      <td>0</td>\n",
       "      <td>2949.0</td>\n",
       "      <td>68.0</td>\n",
       "      <td>2.0</td>\n",
       "      <td>2.0</td>\n",
       "      <td>3</td>\n",
       "      <td>604.0</td>\n",
       "      <td>7.410345</td>\n",
       "      <td>0.023059</td>\n",
       "      <td>0.029412</td>\n",
       "    </tr>\n",
       "  </tbody>\n",
       "</table>\n",
       "</div>"
      ],
      "text/plain": [
       "       门店ID         门店名称   品牌ID 品牌名称   省份   城市 城市等级   蜂窝      首次上线时间  配送类型  \\\n",
       "8   1390717  鲜花坊（茗花坊鲜花店）  27557  鲜花坊  河北省  张家口   D1  宣化区  20160825.0  商家配送   \n",
       "13  1958942  鲜花坊（好心情鲜花店）  27557  鲜花坊  河北省  张家口   D1  宣化区  20170119.0  商家配送   \n",
       "\n",
       "    在线商品数  提单数  推单数  订单数    原价交易额        实付交易额  非异订单数  商家配送延迟订单数  商家拒单订单数  \\\n",
       "8   350.0   53   52   51  12852.0  4901.700001      2          1        0   \n",
       "13  337.0    3    3    2    516.0   187.000000      1          0        1   \n",
       "\n",
       "    商家不接单订单数  商家取消不告知订单数  商家违规投诉订单数  美团配送延迟订单数  因美团配送原因取消订单数    曝光人数   进店人数  \\\n",
       "8          0           0          0          0             0  7531.0  760.0   \n",
       "13         0           0          0          0             0  2949.0   68.0   \n",
       "\n",
       "    下单人数  动销商品数  gtv订单数    原价gtv       实付gtv       进店率       下单率  \n",
       "8   51.0   48.0      52  13050.0  171.575862  0.100916  0.067105  \n",
       "13   2.0    2.0       3    604.0    7.410345  0.023059  0.029412  "
      ]
     },
     "execution_count": 34,
     "metadata": {},
     "output_type": "execute_result"
    }
   ],
   "source": [
    "data_XHF"
   ]
  },
  {
   "cell_type": "code",
   "execution_count": 29,
   "metadata": {},
   "outputs": [],
   "source": []
  },
  {
   "cell_type": "code",
   "execution_count": 30,
   "metadata": {},
   "outputs": [],
   "source": []
  },
  {
   "cell_type": "code",
   "execution_count": null,
   "metadata": {},
   "outputs": [],
   "source": [
    "data"
   ]
  }
 ],
 "metadata": {
  "kernelspec": {
   "display_name": "Python 3",
   "language": "python",
   "name": "python3"
  },
  "language_info": {
   "codemirror_mode": {
    "name": "ipython",
    "version": 3
   },
   "file_extension": ".py",
   "mimetype": "text/x-python",
   "name": "python",
   "nbconvert_exporter": "python",
   "pygments_lexer": "ipython3",
   "version": "3.8.3"
  }
 },
 "nbformat": 4,
 "nbformat_minor": 4
}

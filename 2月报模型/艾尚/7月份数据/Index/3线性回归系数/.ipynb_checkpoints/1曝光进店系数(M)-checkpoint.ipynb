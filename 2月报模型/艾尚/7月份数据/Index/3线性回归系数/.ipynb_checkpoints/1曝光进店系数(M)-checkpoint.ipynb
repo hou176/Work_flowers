{
 "cells": [
  {
   "cell_type": "code",
   "execution_count": 1,
   "metadata": {},
   "outputs": [],
   "source": [
    "import pandas as pd\n",
    "import numpy as np\n",
    "pd.set_option('display.max_columns',None)\n",
    "import seaborn as sns\n",
    "import matplotlib.pyplot as plt\n",
    "%matplotlib inline"
   ]
  },
  {
   "cell_type": "code",
   "execution_count": 2,
   "metadata": {},
   "outputs": [],
   "source": [
    "def improt_data(lujing,code):\n",
    "    data = pd.read_csv(lujing,encoding =code)\n",
    "    return data\n",
    "\n",
    "def mean(data,a):\n",
    "    print('平均值',data[a].mean())\n",
    "    print('方差',data[a].std())\n",
    "\n",
    "def box_polt(a):\n",
    "    zhongwei = a.median()\n",
    "    mean = a.mean()\n",
    "    q1 = a.quantile(0.25)\n",
    "    q2 = a.quantile(0.5)\n",
    "    q3 = a.quantile(0.75)\n",
    "    q4 = a.quantile(1)\n",
    "    iqr = q3-q1\n",
    "    upper = q3 + 1.5*iqr\n",
    "    print('--------------')\n",
    "    print('中位:',zhongwei)\n",
    "    print('平均:',mean)    \n",
    "    print('--------------')\n",
    "    print('50% :',q2)\n",
    "    print('75% :',q3)\n",
    "    print('100%:',upper)\n",
    "    print('max :',q4)\n",
    "    print('--------------')\n",
    "    list_ = []\n",
    "    list_.append(q2)\n",
    "    list_.append(q3)\n",
    "    list_.append(upper)\n",
    "    return list_\n",
    "\n",
    "def data_order(a,b):\n",
    "#     lujing = r'C:/Users/Administrator/Datas/爱尚花语/艾尚花语指标模型/data/Ddata.csv'\n",
    "#     code = 'gbk'\n",
    "    data = improt_data(lujing,code)\n",
    "    if b == 0:\n",
    "        df_hsh_max = data[data['曝光人数'] > a]\n",
    "        k = df_hsh_max\n",
    "        return k\n",
    "    elif a == 0:\n",
    "        df_hsh_min = data[data['曝光人数'] < b  ]\n",
    "        k = df_hsh_min\n",
    "        return k\n",
    "    else:\n",
    "        df_hsh_ = data[(data['曝光人数'] >a) & (data['曝光人数'] < b) ]\n",
    "        k = df_hsh_\n",
    "        return k \n",
    "    \n",
    "def linear(x,y):\n",
    "    from sklearn import metrics\n",
    "    import numpy as np\n",
    "    from sklearn.model_selection import train_test_split\n",
    "    from sklearn import linear_model\n",
    "    X_train, X_test, y_train, y_test = train_test_split(x, y, random_state=1)\n",
    "    print('数据分集查看')\n",
    "    print ('X训练',X_train.shape)\n",
    "    print ('y训练',y_train.shape)\n",
    "    print ('X测试',X_test.shape)\n",
    "    print ('y测试',y_test.shape)\n",
    "    print('-------------')\n",
    "    linear =  linear_model.LinearRegression()\n",
    "    linear.fit(X_train,y_train)\n",
    "    print('线性结截距:', linear.intercept_)\n",
    "    print ('回归系数',linear.coef_)\n",
    "    y_pred = linear.predict(X_test)\n",
    "    print('RMSE:', np.sqrt(metrics.mean_squared_error(y_test, y_pred)))\n",
    "\n",
    "def line_bg_rd(x1,y1):   \n",
    "    x = x1\n",
    "    y = y1\n",
    "    data_min = data_order(x,y)\n",
    "    baoguang = data_min['曝光人数'].values.reshape(-1,1)\n",
    "    jindian = data_min['入店人数'].values.reshape(-1, 1)\n",
    "    linear(baoguang,jindian)\n",
    "\n",
    "def drop(data):\n",
    "    a = data\n",
    "    a.drop_duplicates(subset='商家ID',inplace = True,keep = 'last')\n",
    "    print(a['商家ID'].count())\n",
    "\n",
    "\n",
    "def cluster_look(data,list__):\n",
    "    list_ = list__\n",
    "    x = 0\n",
    "    s = ['max','one','two','min']\n",
    "    for i in list_:\n",
    "        df = data[data['cluster'] == i]\n",
    "        print( s[x] +'-等级的门店数量:' + str(df['cluster'].count()))    \n",
    "        x = x+1\n"
   ]
  },
  {
   "cell_type": "code",
   "execution_count": 3,
   "metadata": {
    "scrolled": true
   },
   "outputs": [],
   "source": [
    "lujing = r'C:/Users/Administrator/Datas/爱尚花语/艾尚月季度数据/7月份数据/2data/Mdata_kmeans.csv'\n",
    "code = 'utf8'\n",
    "data = improt_data(lujing,code)"
   ]
  },
  {
   "cell_type": "code",
   "execution_count": 4,
   "metadata": {},
   "outputs": [],
   "source": [
    "# data.describe()"
   ]
  },
  {
   "cell_type": "code",
   "execution_count": 5,
   "metadata": {
    "scrolled": true
   },
   "outputs": [
    {
     "data": {
      "text/plain": [
       "<matplotlib.axes._subplots.AxesSubplot at 0x29f8f93e668>"
      ]
     },
     "execution_count": 5,
     "metadata": {},
     "output_type": "execute_result"
    },
    {
     "data": {
      "image/png": "[encoded data removed]",
      "text/plain": [
       "<Figure size 432x288 with 1 Axes>"
      ]
     },
     "metadata": {
      "needs_background": "light"
     },
     "output_type": "display_data"
    }
   ],
   "source": [
    "plt.rcParams['font.sans-serif'] = ['SimHei']  \n",
    "plt.rcParams['axes.unicode_minus'] = False \n",
    "data.boxplot('曝光人数')"
   ]
  },
  {
   "cell_type": "code",
   "execution_count": 6,
   "metadata": {},
   "outputs": [
    {
     "name": "stdout",
     "output_type": "stream",
     "text": [
      "--------------\n",
      "中位: 2325.0\n",
      "平均: 3297.6230366492146\n",
      "--------------\n",
      "50% : 2325.0\n",
      "75% : 3727.0\n",
      "100%: 6893.5\n",
      "max : 44869.0\n",
      "--------------\n",
      "2325.0\n",
      "3727.0\n",
      "6893.5\n"
     ]
    }
   ],
   "source": [
    "a = data['曝光人数']\n",
    "list_ = box_polt(a)\n",
    "q1 = list_[0]\n",
    "q2 = list_[1]\n",
    "q3 = list_[2]\n",
    "q04 =  0\n",
    "print(q1)\n",
    "print(q2)\n",
    "print(q3)"
   ]
  },
  {
   "cell_type": "code",
   "execution_count": 7,
   "metadata": {
    "scrolled": false
   },
   "outputs": [
    {
     "name": "stdout",
     "output_type": "stream",
     "text": [
      "min\n",
      "数据分集查看\n",
      "X训练 (71, 1)\n",
      "y训练 (71, 1)\n",
      "X测试 (24, 1)\n",
      "y测试 (24, 1)\n",
      "-------------\n",
      "线性结截距: [-17.56570922]\n",
      "回归系数 [[0.04734268]]\n",
      "RMSE: 21.651989456408693\n",
      "##################################\n",
      "one\n",
      "数据分集查看\n",
      "X训练 (35, 1)\n",
      "y训练 (35, 1)\n",
      "X测试 (12, 1)\n",
      "y测试 (12, 1)\n",
      "-------------\n",
      "线性结截距: [69.01308794]\n",
      "回归系数 [[0.00683244]]\n",
      "RMSE: 38.6857720416851\n",
      "##################################\n",
      "two\n",
      "数据分集查看\n",
      "X训练 (28, 1)\n",
      "y训练 (28, 1)\n",
      "X测试 (10, 1)\n",
      "y测试 (10, 1)\n",
      "-------------\n",
      "线性结截距: [33.81572607]\n",
      "回归系数 [[0.02813873]]\n",
      "RMSE: 72.61119954943752\n",
      "##################################\n",
      "max\n",
      "数据分集查看\n",
      "X训练 (7, 1)\n",
      "y训练 (7, 1)\n",
      "X测试 (3, 1)\n",
      "y测试 (3, 1)\n",
      "-------------\n",
      "线性结截距: [161.75342993]\n",
      "回归系数 [[0.01174585]]\n",
      "RMSE: 111.30822669084988\n"
     ]
    }
   ],
   "source": [
    "print('min')\n",
    "line_bg_rd(q04,q1)\n",
    "print('##################################')\n",
    "print('one')\n",
    "line_bg_rd(q1,q2)\n",
    "print('##################################')\n",
    "print('two')\n",
    "line_bg_rd(q2,q3)\n",
    "print('##################################')\n",
    "print('max')\n",
    "line_bg_rd(q3,q04)\n"
   ]
  },
  {
   "cell_type": "code",
   "execution_count": 8,
   "metadata": {},
   "outputs": [],
   "source": [
    "data_max = data_order(q3,q04)\n",
    "data_one = data_order(q2,q3)\n",
    "data_two = data_order(q1,q2)\n",
    "data_min = data_order(q04,q1)"
   ]
  },
  {
   "cell_type": "code",
   "execution_count": 9,
   "metadata": {
    "scrolled": false
   },
   "outputs": [
    {
     "data": {
      "text/plain": [
       "<seaborn.axisgrid.FacetGrid at 0x29f92027b70>"
      ]
     },
     "execution_count": 9,
     "metadata": {},
     "output_type": "execute_result"
    },
    {
     "data": {
      "image/png": "[encoded data removed]",
      "text/plain": [
       "<Figure size 360x360 with 1 Axes>"
      ]
     },
     "metadata": {
      "needs_background": "light"
     },
     "output_type": "display_data"
    },
    {
     "data": {
      "image/png": "[encoded data removed]",
      "text/plain": [
       "<Figure size 360x360 with 1 Axes>"
      ]
     },
     "metadata": {
      "needs_background": "light"
     },
     "output_type": "display_data"
    },
    {
     "data": {
      "image/png": "[encoded data removed]",
      "text/plain": [
       "<Figure size 360x360 with 1 Axes>"
      ]
     },
     "metadata": {
      "needs_background": "light"
     },
     "output_type": "display_data"
    },
    {
     "data": {
      "image/png": "[encoded data removed]",
      "text/plain": [
       "<Figure size 360x360 with 1 Axes>"
      ]
     },
     "metadata": {
      "needs_background": "light"
     },
     "output_type": "display_data"
    }
   ],
   "source": [
    "sns.lmplot(x=\"曝光人数\", y=\"入店人数\",data=data_max,fit_reg=True)\n",
    "sns.lmplot(x=\"曝光人数\", y=\"入店人数\",data=data_one,fit_reg=True)\n",
    "sns.lmplot(x=\"曝光人数\", y=\"入店人数\",data=data_two,fit_reg=True)\n",
    "sns.lmplot(x=\"曝光人数\", y=\"入店人数\",data=data_min,fit_reg=True)"
   ]
  },
  {
   "cell_type": "code",
   "execution_count": 10,
   "metadata": {
    "scrolled": true
   },
   "outputs": [
    {
     "name": "stdout",
     "output_type": "stream",
     "text": [
      "10\n",
      "38\n",
      "47\n",
      "95\n"
     ]
    }
   ],
   "source": [
    "drop(data_max)\n",
    "drop(data_one)\n",
    "drop(data_two)\n",
    "drop(data_min)"
   ]
  },
  {
   "cell_type": "code",
   "execution_count": 11,
   "metadata": {},
   "outputs": [
    {
     "name": "stdout",
     "output_type": "stream",
     "text": [
      "10\n"
     ]
    }
   ],
   "source": [
    "# data_max.count()\n",
    "# print(data_min.count())\n",
    "drop(data_max)"
   ]
  },
  {
   "cell_type": "code",
   "execution_count": 12,
   "metadata": {},
   "outputs": [
    {
     "name": "stdout",
     "output_type": "stream",
     "text": [
      "max-等级的门店数量:1\n",
      "one-等级的门店数量:5\n",
      "two-等级的门店数量:4\n",
      "min-等级的门店数量:0\n",
      "-------------\n",
      "max-等级的门店数量:0\n",
      "one-等级的门店数量:0\n",
      "two-等级的门店数量:38\n",
      "min-等级的门店数量:0\n",
      "-------------\n",
      "max-等级的门店数量:0\n",
      "one-等级的门店数量:0\n",
      "two-等级的门店数量:12\n",
      "min-等级的门店数量:35\n",
      "-------------\n",
      "max-等级的门店数量:0\n",
      "one-等级的门店数量:0\n",
      "two-等级的门店数量:0\n",
      "min-等级的门店数量:95\n"
     ]
    }
   ],
   "source": [
    "list_t = [2,1,3,0]\n",
    "cluster_look(data_max,list_t)\n",
    "print('-------------')\n",
    "cluster_look(data_one,list_t)\n",
    "print('-------------')\n",
    "cluster_look(data_two,list_t)\n",
    "print('-------------')\n",
    "cluster_look(data_min,list_t)"
   ]
  },
  {
   "cell_type": "code",
   "execution_count": 13,
   "metadata": {},
   "outputs": [
    {
     "name": "stdout",
     "output_type": "stream",
     "text": [
      "平均值 2.4639999999999995\n",
      "方差 1.020252692010933\n",
      "-------------------\n",
      "平均值 3.2078947368421056\n",
      "方差 2.2412534594956637\n",
      "--------------------\n",
      "平均值 2.916595744680851\n",
      "方差 1.720795160732064\n",
      "--------------------\n",
      "平均值 3.2581052631578946\n",
      "方差 2.1519270407710835\n"
     ]
    }
   ],
   "source": [
    "mean(data_max,'入店转化率')\n",
    "print('-------------------')\n",
    "mean(data_one,'入店转化率')\n",
    "print('--------------------')\n",
    "mean(data_two,'入店转化率')\n",
    "print('--------------------')\n",
    "mean(data_min,'入店转化率')"
   ]
  },
  {
   "cell_type": "code",
   "execution_count": null,
   "metadata": {
    "scrolled": false
   },
   "outputs": [],
   "source": []
  },
  {
   "cell_type": "code",
   "execution_count": null,
   "metadata": {},
   "outputs": [],
   "source": []
  }
 ],
 "metadata": {
  "kernelspec": {
   "display_name": "Python 3",
   "language": "python",
   "name": "python3"
  },
  "language_info": {
   "codemirror_mode": {
    "name": "ipython",
    "version": 3
   },
   "file_extension": ".py",
   "mimetype": "text/x-python",
   "name": "python",
   "nbconvert_exporter": "python",
   "pygments_lexer": "ipython3",
   "version": "3.6.2"
  }
 },
 "nbformat": 4,
 "nbformat_minor": 4
}

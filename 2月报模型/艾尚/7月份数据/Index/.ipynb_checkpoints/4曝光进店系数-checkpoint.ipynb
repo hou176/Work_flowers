{
 "cells": [
  {
   "cell_type": "code",
   "execution_count": 20,
   "metadata": {},
   "outputs": [],
   "source": [
    "import pandas as pd\n",
    "import numpy as np\n",
    "pd.set_option('display.max_columns',None)\n",
    "import seaborn as sns\n",
    "import matplotlib.pyplot as plt\n",
    "%matplotlib inline"
   ]
  },
  {
   "cell_type": "code",
   "execution_count": 11,
   "metadata": {},
   "outputs": [],
   "source": [
    "def improt_data(lujing,code):\n",
    "    data = pd.read_csv(lujing,encoding =code)\n",
    "    return data\n",
    "\n",
    "def mean(data,a):\n",
    "    print(data[a].mean())\n",
    "    print(data[a].std())\n",
    "\n",
    "def box_polt(a):\n",
    "    zhongwei = a.median()\n",
    "    mean = a.mean()\n",
    "    q1 = a.quantile(0.25)\n",
    "    q2 = a.quantile(0.5)\n",
    "    q3 = a.quantile(0.75)\n",
    "    q4 = a.quantile(1)\n",
    "    iqr = q3-q1\n",
    "    upper = q3 + 1.5*iqr\n",
    "    print('--------------')\n",
    "    print('中位:',zhongwei)\n",
    "    print('平均:',mean)    \n",
    "    print('--------------')\n",
    "    print('50% :',q2)\n",
    "    print('75% :',q3)\n",
    "    print('100%:',upper)\n",
    "    print('max :',q4)\n",
    "    print('--------------')\n",
    "    list_ = []\n",
    "    list_.append(q2)\n",
    "    list_.append(q3)\n",
    "    list_.append(upper)\n",
    "    return list_\n",
    "\n",
    "def data_order(a,b):\n",
    "#     lujing = r'C:/Users/Administrator/Datas/爱尚花语/艾尚花语指标模型/data/Ddata.csv'\n",
    "#     code = 'gbk'\n",
    "    data = improt_data(lujing,code)\n",
    "    if b == 0:\n",
    "        df_hsh_max = data[data['曝光人数'] > a]\n",
    "        k = df_hsh_max\n",
    "        return k\n",
    "    elif a == 0:\n",
    "        df_hsh_min = data[data['曝光人数'] < b  ]\n",
    "        k = df_hsh_min\n",
    "        return k\n",
    "    else:\n",
    "        df_hsh_ = data[(data['曝光人数'] >a) & (data['曝光人数'] < b) ]\n",
    "        k = df_hsh_\n",
    "        return k \n",
    "    \n",
    "def linear(x,y):\n",
    "    from sklearn import metrics\n",
    "    import numpy as np\n",
    "    from sklearn.model_selection import train_test_split\n",
    "    from sklearn import linear_model\n",
    "    X_train, X_test, y_train, y_test = train_test_split(x, y, random_state=1)\n",
    "    print('数据分集查看')\n",
    "    print ('X训练',X_train.shape)\n",
    "    print ('y训练',y_train.shape)\n",
    "    print ('X测试',X_test.shape)\n",
    "    print ('y测试',y_test.shape)\n",
    "    print('-------------')\n",
    "    linear =  linear_model.LinearRegression()\n",
    "    linear.fit(X_train,y_train)\n",
    "    print('线性结截距:', linear.intercept_)\n",
    "    print ('回归系数',linear.coef_)\n",
    "    y_pred = linear.predict(X_test)\n",
    "    print('RMSE:', np.sqrt(metrics.mean_squared_error(y_test, y_pred)))\n",
    "\n",
    "def line_bg_rd(x1,y1):   \n",
    "    x = x1\n",
    "    y = y1\n",
    "    data_min = data_order(x,y)\n",
    "    baoguang = data_min['曝光人数'].values.reshape(-1,1)\n",
    "    jindian = data_min['入店人数'].values.reshape(-1, 1)\n",
    "    linear(baoguang,jindian)\n",
    "\n",
    "def drop(data):\n",
    "    a = data\n",
    "    a.drop_duplicates(subset='商家ID',inplace = True,keep = 'last')\n",
    "    print(a['商家ID'].count())\n",
    "\n",
    "\n",
    "def cluster_look(data):\n",
    "    list_ = [1,3,0,2]\n",
    "    for i in list_:\n",
    "        df = data[data['cluster'] == i]\n",
    "        i = str(i)\n",
    "        print('cluster_' + i +'等级的门店数量:' + str(df['cluster'].count()))    \n"
   ]
  },
  {
   "cell_type": "code",
   "execution_count": 54,
   "metadata": {},
   "outputs": [],
   "source": [
    "lujing = r'C:/Users/Administrator/Datas/爱尚花语/艾尚花语指标模型/data/Mdata_kmeans.csv'\n",
    "code = 'utf8'\n",
    "data = improt_data(lujing,code)"
   ]
  },
  {
   "cell_type": "code",
   "execution_count": 55,
   "metadata": {
    "scrolled": true
   },
   "outputs": [],
   "source": [
    "# data"
   ]
  },
  {
   "cell_type": "code",
   "execution_count": 56,
   "metadata": {},
   "outputs": [
    {
     "data": {
      "text/plain": [
       "<matplotlib.axes._subplots.AxesSubplot at 0x2746857f438>"
      ]
     },
     "execution_count": 56,
     "metadata": {},
     "output_type": "execute_result"
    },
    {
     "name": "stderr",
     "output_type": "stream",
     "text": [
      "e:\\python\\lib\\site-packages\\matplotlib\\backends\\backend_agg.py:214: RuntimeWarning: Glyph 26333 missing from current font.\n",
      "  font.set_text(s, 0.0, flags=flags)\n",
      "e:\\python\\lib\\site-packages\\matplotlib\\backends\\backend_agg.py:214: RuntimeWarning: Glyph 20809 missing from current font.\n",
      "  font.set_text(s, 0.0, flags=flags)\n",
      "e:\\python\\lib\\site-packages\\matplotlib\\backends\\backend_agg.py:214: RuntimeWarning: Glyph 20154 missing from current font.\n",
      "  font.set_text(s, 0.0, flags=flags)\n",
      "e:\\python\\lib\\site-packages\\matplotlib\\backends\\backend_agg.py:214: RuntimeWarning: Glyph 25968 missing from current font.\n",
      "  font.set_text(s, 0.0, flags=flags)\n",
      "e:\\python\\lib\\site-packages\\matplotlib\\backends\\backend_agg.py:183: RuntimeWarning: Glyph 26333 missing from current font.\n",
      "  font.set_text(s, 0, flags=flags)\n",
      "e:\\python\\lib\\site-packages\\matplotlib\\backends\\backend_agg.py:183: RuntimeWarning: Glyph 20809 missing from current font.\n",
      "  font.set_text(s, 0, flags=flags)\n",
      "e:\\python\\lib\\site-packages\\matplotlib\\backends\\backend_agg.py:183: RuntimeWarning: Glyph 20154 missing from current font.\n",
      "  font.set_text(s, 0, flags=flags)\n",
      "e:\\python\\lib\\site-packages\\matplotlib\\backends\\backend_agg.py:183: RuntimeWarning: Glyph 25968 missing from current font.\n",
      "  font.set_text(s, 0, flags=flags)\n"
     ]
    },
    {
     "data": {
      "image/png": "[encoded data removed]",
      "text/plain": [
       "<Figure size 432x288 with 1 Axes>"
      ]
     },
     "metadata": {
      "needs_background": "light"
     },
     "output_type": "display_data"
    }
   ],
   "source": [
    "data.boxplot('曝光人数')"
   ]
  },
  {
   "cell_type": "code",
   "execution_count": 57,
   "metadata": {},
   "outputs": [
    {
     "name": "stdout",
     "output_type": "stream",
     "text": [
      "--------------\n",
      "中位: 1295.0\n",
      "平均: 1687.2605042016808\n",
      "--------------\n",
      "50% : 1295.0\n",
      "75% : 2100.0\n",
      "100%: 4351.5\n",
      "max : 18362.0\n",
      "--------------\n",
      "1295.0\n",
      "2100.0\n",
      "4351.5\n"
     ]
    }
   ],
   "source": [
    "a = data['曝光人数']\n",
    "list_ = box_polt(a)\n",
    "q1 = list_[0]\n",
    "q2 = list_[1]\n",
    "q3 = list_[2]\n",
    "q04 =  0\n",
    "print(q1)\n",
    "print(q2)\n",
    "print(q3)"
   ]
  },
  {
   "cell_type": "code",
   "execution_count": 78,
   "metadata": {
    "scrolled": true
   },
   "outputs": [
    {
     "name": "stdout",
     "output_type": "stream",
     "text": [
      "数据分集查看\n",
      "X训练 (44, 1)\n",
      "y训练 (44, 1)\n",
      "X测试 (15, 1)\n",
      "y测试 (15, 1)\n",
      "-------------\n",
      "线性结截距: [0.94710786]\n",
      "回归系数 [[0.03123603]]\n",
      "RMSE: 16.395394851734537\n",
      " \n",
      "数据分集查看\n",
      "X训练 (21, 1)\n",
      "y训练 (21, 1)\n",
      "X测试 (8, 1)\n",
      "y测试 (8, 1)\n",
      "-------------\n",
      "线性结截距: [16.30182419]\n",
      "回归系数 [[0.01709998]]\n",
      "RMSE: 11.447850047425526\n",
      " \n",
      "数据分集查看\n",
      "X训练 (19, 1)\n",
      "y训练 (19, 1)\n",
      "X测试 (7, 1)\n",
      "y测试 (7, 1)\n",
      "-------------\n",
      "线性结截距: [6.61548303]\n",
      "回归系数 [[0.02618715]]\n",
      "RMSE: 25.822429296023465\n",
      " \n",
      "数据分集查看\n",
      "X训练 (3, 1)\n",
      "y训练 (3, 1)\n",
      "X测试 (1, 1)\n",
      "y测试 (1, 1)\n",
      "-------------\n",
      "线性结截距: [67.66316974]\n",
      "回归系数 [[0.01773173]]\n",
      "RMSE: 23.88184042482129\n"
     ]
    }
   ],
   "source": [
    "line_bg_rd(q04,q1)\n",
    "print(''' ''') \n",
    "\n",
    "line_bg_rd(q1,q2)\n",
    "print(''' ''') \n",
    "line_bg_rd(q2,q3)\n",
    "print(''' ''') \n",
    "line_bg_rd(q3,q04)"
   ]
  },
  {
   "cell_type": "code",
   "execution_count": 66,
   "metadata": {},
   "outputs": [
    {
     "name": "stdout",
     "output_type": "stream",
     "text": [
      "4\n",
      "26\n",
      "29\n",
      "59\n"
     ]
    }
   ],
   "source": [
    "drop(data_max)\n",
    "drop(data_one)\n",
    "drop(data_two)\n",
    "drop(data_min)"
   ]
  },
  {
   "cell_type": "code",
   "execution_count": 7,
   "metadata": {},
   "outputs": [],
   "source": []
  },
  {
   "cell_type": "code",
   "execution_count": 16,
   "metadata": {},
   "outputs": [],
   "source": [
    "data_max = data_order(q3,q04)\n",
    "data_one = data_order(q2,q3)\n",
    "data_two = data_order(q1,q2)\n",
    "data_min = data_order(q04,q1)\n"
   ]
  },
  {
   "cell_type": "code",
   "execution_count": 23,
   "metadata": {
    "scrolled": true
   },
   "outputs": [
    {
     "data": {
      "text/plain": [
       "<seaborn.axisgrid.FacetGrid at 0x184dfc3fb70>"
      ]
     },
     "execution_count": 23,
     "metadata": {},
     "output_type": "execute_result"
    },
    {
     "data": {
      "image/png": "[encoded data removed]",
      "text/plain": [
       "<Figure size 360x360 with 1 Axes>"
      ]
     },
     "metadata": {
      "needs_background": "light"
     },
     "output_type": "display_data"
    },
    {
     "data": {
      "image/png": "[encoded data removed]",
      "text/plain": [
       "<Figure size 360x360 with 1 Axes>"
      ]
     },
     "metadata": {
      "needs_background": "light"
     },
     "output_type": "display_data"
    },
    {
     "data": {
      "image/png": "[encoded data removed]",
      "text/plain": [
       "<Figure size 360x360 with 1 Axes>"
      ]
     },
     "metadata": {
      "needs_background": "light"
     },
     "output_type": "display_data"
    },
    {
     "data": {
      "image/png": "[encoded data removed]",
      "text/plain": [
       "<Figure size 360x360 with 1 Axes>"
      ]
     },
     "metadata": {
      "needs_background": "light"
     },
     "output_type": "display_data"
    }
   ],
   "source": [
    "sns.lmplot(x=\"曝光人数\", y=\"入店人数\",data=data_max,fit_reg=False)\n",
    "sns.lmplot(x=\"曝光人数\", y=\"入店人数\",data=data_min,fit_reg=True)\n",
    "sns.lmplot(x=\"曝光人数\", y=\"入店人数\",data=data_two,fit_reg=True)\n",
    "sns.lmplot(x=\"曝光人数\", y=\"入店人数\",data=data_one,fit_reg=True)"
   ]
  },
  {
   "cell_type": "code",
   "execution_count": 18,
   "metadata": {
    "scrolled": true
   },
   "outputs": [
    {
     "data": {
      "text/html": [
       "<div>\n",
       "<style scoped>\n",
       "    .dataframe tbody tr th:only-of-type {\n",
       "        vertical-align: middle;\n",
       "    }\n",
       "\n",
       "    .dataframe tbody tr th {\n",
       "        vertical-align: top;\n",
       "    }\n",
       "\n",
       "    .dataframe thead th {\n",
       "        text-align: right;\n",
       "    }\n",
       "</style>\n",
       "<table border=\"1\" class=\"dataframe\">\n",
       "  <thead>\n",
       "    <tr style=\"text-align: right;\">\n",
       "      <th></th>\n",
       "      <th>Unnamed: 0</th>\n",
       "      <th>开始日期</th>\n",
       "      <th>结束日期</th>\n",
       "      <th>商家ID</th>\n",
       "      <th>商家名称</th>\n",
       "      <th>运营组</th>\n",
       "      <th>省份</th>\n",
       "      <th>城市</th>\n",
       "      <th>是否新增商家</th>\n",
       "      <th>首次上线日期</th>\n",
       "      <th>门店在线状态</th>\n",
       "      <th>（日均）预设营业时长（h）</th>\n",
       "      <th>（日均）在线营业时长（h）</th>\n",
       "      <th>曝光人数</th>\n",
       "      <th>入店人数</th>\n",
       "      <th>下单人数</th>\n",
       "      <th>有效订单数</th>\n",
       "      <th>下单新客人数</th>\n",
       "      <th>复购人数</th>\n",
       "      <th>入店转化率</th>\n",
       "      <th>下单转化率</th>\n",
       "      <th>新客转化率</th>\n",
       "      <th>复购率</th>\n",
       "      <th>原价交易额</th>\n",
       "      <th>实付交易额</th>\n",
       "      <th>商家补贴金额</th>\n",
       "      <th>原价客单价</th>\n",
       "      <th>实付客单价</th>\n",
       "      <th>cluster</th>\n",
       "    </tr>\n",
       "  </thead>\n",
       "  <tbody>\n",
       "    <tr>\n",
       "      <th>0</th>\n",
       "      <td>1</td>\n",
       "      <td>20200601</td>\n",
       "      <td>20200630</td>\n",
       "      <td>9024278</td>\n",
       "      <td>友新意鲜花坊</td>\n",
       "      <td>鲜花组</td>\n",
       "      <td>陕西省</td>\n",
       "      <td>西安</td>\n",
       "      <td>否</td>\n",
       "      <td>20200508</td>\n",
       "      <td>在线</td>\n",
       "      <td>18.0</td>\n",
       "      <td>18.0</td>\n",
       "      <td>18362</td>\n",
       "      <td>314</td>\n",
       "      <td>23</td>\n",
       "      <td>22</td>\n",
       "      <td>21</td>\n",
       "      <td>2</td>\n",
       "      <td>1.71</td>\n",
       "      <td>7.32%</td>\n",
       "      <td>0.913043</td>\n",
       "      <td>0.086957</td>\n",
       "      <td>4962.0</td>\n",
       "      <td>2596.0</td>\n",
       "      <td>2431.0</td>\n",
       "      <td>215.73913</td>\n",
       "      <td>112.869565</td>\n",
       "      <td>1</td>\n",
       "    </tr>\n",
       "    <tr>\n",
       "      <th>1</th>\n",
       "      <td>7</td>\n",
       "      <td>20200601</td>\n",
       "      <td>20200630</td>\n",
       "      <td>9043317</td>\n",
       "      <td>花坞</td>\n",
       "      <td>鲜花组</td>\n",
       "      <td>福建省</td>\n",
       "      <td>福州</td>\n",
       "      <td>否</td>\n",
       "      <td>20200508</td>\n",
       "      <td>在线</td>\n",
       "      <td>18.0</td>\n",
       "      <td>18.0</td>\n",
       "      <td>11259</td>\n",
       "      <td>435</td>\n",
       "      <td>8</td>\n",
       "      <td>7</td>\n",
       "      <td>7</td>\n",
       "      <td>1</td>\n",
       "      <td>3.86</td>\n",
       "      <td>1.84%</td>\n",
       "      <td>0.875000</td>\n",
       "      <td>0.125000</td>\n",
       "      <td>2702.0</td>\n",
       "      <td>1443.0</td>\n",
       "      <td>1279.0</td>\n",
       "      <td>337.75000</td>\n",
       "      <td>180.375000</td>\n",
       "      <td>1</td>\n",
       "    </tr>\n",
       "    <tr>\n",
       "      <th>2</th>\n",
       "      <td>3</td>\n",
       "      <td>20200601</td>\n",
       "      <td>20200630</td>\n",
       "      <td>9043308</td>\n",
       "      <td>时初花艺</td>\n",
       "      <td>鲜花组</td>\n",
       "      <td>陕西省</td>\n",
       "      <td>咸阳</td>\n",
       "      <td>否</td>\n",
       "      <td>20200508</td>\n",
       "      <td>在线</td>\n",
       "      <td>18.0</td>\n",
       "      <td>18.0</td>\n",
       "      <td>4894</td>\n",
       "      <td>66</td>\n",
       "      <td>1</td>\n",
       "      <td>0</td>\n",
       "      <td>0</td>\n",
       "      <td>1</td>\n",
       "      <td>1.35</td>\n",
       "      <td>1.52%</td>\n",
       "      <td>0.000000</td>\n",
       "      <td>1.000000</td>\n",
       "      <td>0.0</td>\n",
       "      <td>0.0</td>\n",
       "      <td>0.0</td>\n",
       "      <td>0.00000</td>\n",
       "      <td>0.000000</td>\n",
       "      <td>3</td>\n",
       "    </tr>\n",
       "    <tr>\n",
       "      <th>3</th>\n",
       "      <td>60</td>\n",
       "      <td>20200601</td>\n",
       "      <td>20200630</td>\n",
       "      <td>9323842</td>\n",
       "      <td>花无缺鲜花店</td>\n",
       "      <td>鲜花组</td>\n",
       "      <td>内蒙古自治区</td>\n",
       "      <td>锡林郭勒盟</td>\n",
       "      <td>否</td>\n",
       "      <td>20200617</td>\n",
       "      <td>在线</td>\n",
       "      <td>12.0</td>\n",
       "      <td>11.6</td>\n",
       "      <td>4806</td>\n",
       "      <td>129</td>\n",
       "      <td>10</td>\n",
       "      <td>7</td>\n",
       "      <td>7</td>\n",
       "      <td>3</td>\n",
       "      <td>2.68</td>\n",
       "      <td>7.75%</td>\n",
       "      <td>0.700000</td>\n",
       "      <td>0.300000</td>\n",
       "      <td>1553.0</td>\n",
       "      <td>671.0</td>\n",
       "      <td>902.0</td>\n",
       "      <td>155.30000</td>\n",
       "      <td>67.100000</td>\n",
       "      <td>3</td>\n",
       "    </tr>\n",
       "  </tbody>\n",
       "</table>\n",
       "</div>"
      ],
      "text/plain": [
       "   Unnamed: 0      开始日期      结束日期     商家ID    商家名称  运营组      省份     城市 是否新增商家  \\\n",
       "0           1  20200601  20200630  9024278  友新意鲜花坊  鲜花组     陕西省     西安      否   \n",
       "1           7  20200601  20200630  9043317      花坞  鲜花组     福建省     福州      否   \n",
       "2           3  20200601  20200630  9043308    时初花艺  鲜花组     陕西省     咸阳      否   \n",
       "3          60  20200601  20200630  9323842  花无缺鲜花店  鲜花组  内蒙古自治区  锡林郭勒盟      否   \n",
       "\n",
       "     首次上线日期 门店在线状态  （日均）预设营业时长（h）  （日均）在线营业时长（h）   曝光人数  入店人数  下单人数  有效订单数  \\\n",
       "0  20200508     在线           18.0           18.0  18362   314    23     22   \n",
       "1  20200508     在线           18.0           18.0  11259   435     8      7   \n",
       "2  20200508     在线           18.0           18.0   4894    66     1      0   \n",
       "3  20200617     在线           12.0           11.6   4806   129    10      7   \n",
       "\n",
       "   下单新客人数  复购人数  入店转化率  下单转化率     新客转化率       复购率   原价交易额   实付交易额  商家补贴金额  \\\n",
       "0      21     2   1.71  7.32%  0.913043  0.086957  4962.0  2596.0  2431.0   \n",
       "1       7     1   3.86  1.84%  0.875000  0.125000  2702.0  1443.0  1279.0   \n",
       "2       0     1   1.35  1.52%  0.000000  1.000000     0.0     0.0     0.0   \n",
       "3       7     3   2.68  7.75%  0.700000  0.300000  1553.0   671.0   902.0   \n",
       "\n",
       "       原价客单价       实付客单价  cluster  \n",
       "0  215.73913  112.869565        1  \n",
       "1  337.75000  180.375000        1  \n",
       "2    0.00000    0.000000        3  \n",
       "3  155.30000   67.100000        3  "
      ]
     },
     "execution_count": 18,
     "metadata": {},
     "output_type": "execute_result"
    }
   ],
   "source": [
    "# data_max.count()\n",
    "# print(data_min.count())\n",
    "data_max"
   ]
  },
  {
   "cell_type": "code",
   "execution_count": 41,
   "metadata": {},
   "outputs": [],
   "source": []
  },
  {
   "cell_type": "code",
   "execution_count": 43,
   "metadata": {},
   "outputs": [
    {
     "name": "stdout",
     "output_type": "stream",
     "text": [
      "cluster_1等级的门店数量:2\n",
      "cluster_3等级的门店数量:2\n",
      "cluster_0等级的门店数量:0\n",
      "cluster_2等级的门店数量:0\n",
      "-------------\n",
      "cluster_1等级的门店数量:0\n",
      "cluster_3等级的门店数量:12\n",
      "cluster_0等级的门店数量:14\n",
      "cluster_2等级的门店数量:0\n",
      "-------------\n",
      "cluster_1等级的门店数量:0\n",
      "cluster_3等级的门店数量:0\n",
      "cluster_0等级的门店数量:29\n",
      "cluster_2等级的门店数量:0\n",
      "-------------\n",
      "cluster_1等级的门店数量:0\n",
      "cluster_3等级的门店数量:0\n",
      "cluster_0等级的门店数量:17\n",
      "cluster_2等级的门店数量:42\n"
     ]
    }
   ],
   "source": [
    "cluster_look(data_max)\n",
    "print('-------------')\n",
    "cluster_look(data_one)\n",
    "print('-------------')\n",
    "cluster_look(data_two)\n",
    "print('-------------')\n",
    "cluster_look(data_min)"
   ]
  },
  {
   "cell_type": "code",
   "execution_count": 91,
   "metadata": {},
   "outputs": [],
   "source": []
  },
  {
   "cell_type": "code",
   "execution_count": 92,
   "metadata": {},
   "outputs": [
    {
     "name": "stdout",
     "output_type": "stream",
     "text": [
      "2.4\n",
      "1.1237734053921486\n",
      "-------------------\n",
      "2.6273076923076926\n",
      "1.2193262326131025\n",
      "--------------------\n",
      "2.6413793103448278\n",
      "0.9860372498684211\n",
      "--------------------\n",
      "5.094745762711864\n",
      "12.686034862702263\n"
     ]
    }
   ],
   "source": [
    "mean(data_max,'入店转化率')\n",
    "print('-------------------')\n",
    "mean(data_one,'入店转化率')\n",
    "print('--------------------')\n",
    "mean(data_two,'入店转化率')\n",
    "print('--------------------')\n",
    "mean(data_min,'入店转化率')"
   ]
  }
 ],
 "metadata": {
  "kernelspec": {
   "display_name": "Python 3",
   "language": "python",
   "name": "python3"
  },
  "language_info": {
   "codemirror_mode": {
    "name": "ipython",
    "version": 3
   },
   "file_extension": ".py",
   "mimetype": "text/x-python",
   "name": "python",
   "nbconvert_exporter": "python",
   "pygments_lexer": "ipython3",
   "version": "3.6.2"
  }
 },
 "nbformat": 4,
 "nbformat_minor": 4
}

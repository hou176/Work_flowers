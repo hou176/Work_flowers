{
 "cells": [
  {
   "cell_type": "code",
   "execution_count": 1,
   "metadata": {},
   "outputs": [],
   "source": [
    "import pandas as pd\n",
    "import numpy as np\n",
    "pd.set_option('display.max_columns',None)\n",
    "import seaborn as sns\n",
    "import matplotlib.pyplot as plt\n",
    "%matplotlib inline"
   ]
  },
  {
   "cell_type": "code",
   "execution_count": 2,
   "metadata": {},
   "outputs": [],
   "source": [
    "def improt_data(lujing,code):\n",
    "    data = pd.read_csv(lujing,encoding =code)\n",
    "    return data\n",
    "\n",
    "def mean(data,a):\n",
    "    print('平均值',data[a].mean())\n",
    "    print('方差',data[a].std())\n",
    "\n",
    "def box_polt(a):\n",
    "    zhongwei = a.median()\n",
    "    mean = a.mean()\n",
    "    q1 = a.quantile(0.25)\n",
    "    q2 = a.quantile(0.5)\n",
    "    q3 = a.quantile(0.75)\n",
    "    q4 = a.quantile(1)\n",
    "    iqr = q3-q1\n",
    "    upper = q3 + 1.5*iqr\n",
    "    print('--------------')\n",
    "    print('中位:',zhongwei)\n",
    "    print('平均:',mean)    \n",
    "    print('--------------')\n",
    "    print('50% :',q2)\n",
    "    print('75% :',q3)\n",
    "    print('100%:',upper)\n",
    "    print('max :',q4)\n",
    "    print('--------------')\n",
    "    list_ = []\n",
    "    list_.append(q2)\n",
    "    list_.append(q3)\n",
    "    list_.append(upper)\n",
    "    return list_\n",
    "\n",
    "def data_order(a,b):\n",
    "#     lujing = r'C:/Users/Administrator/Datas/爱尚花语/艾尚花语指标模型/data/Ddata.csv'\n",
    "#     code = 'gbk'\n",
    "    data = improt_data(lujing,code)\n",
    "    if b == 0:\n",
    "        df_hsh_max = data[data['曝光人数'] > a]\n",
    "        k = df_hsh_max\n",
    "        return k\n",
    "    elif a == 0:\n",
    "        df_hsh_min = data[data['曝光人数'] < b  ]\n",
    "        k = df_hsh_min\n",
    "        return k\n",
    "    else:\n",
    "        df_hsh_ = data[(data['曝光人数'] >a) & (data['曝光人数'] < b) ]\n",
    "        k = df_hsh_\n",
    "        return k \n",
    "    \n",
    "def linear(x,y):\n",
    "    from sklearn import metrics\n",
    "    import numpy as np\n",
    "    from sklearn.model_selection import train_test_split\n",
    "    from sklearn import linear_model\n",
    "    X_train, X_test, y_train, y_test = train_test_split(x, y, random_state=1)\n",
    "    print('数据分集查看')\n",
    "    print ('X训练',X_train.shape)\n",
    "    print ('y训练',y_train.shape)\n",
    "    print ('X测试',X_test.shape)\n",
    "    print ('y测试',y_test.shape)\n",
    "    print('-------------')\n",
    "    linear =  linear_model.LinearRegression()\n",
    "    linear.fit(X_train,y_train)\n",
    "    print('线性结截距:', linear.intercept_)\n",
    "    print ('回归系数',linear.coef_)\n",
    "    y_pred = linear.predict(X_test)\n",
    "    print('RMSE:', np.sqrt(metrics.mean_squared_error(y_test, y_pred)))\n",
    "\n",
    "def line_bg_rd(x1,y1):   \n",
    "    x = x1\n",
    "    y = y1\n",
    "    data_min = data_order(x,y)\n",
    "    baoguang = data_min['曝光人数'].values.reshape(-1,1)\n",
    "    jindian = data_min['入店人数'].values.reshape(-1, 1)\n",
    "    linear(baoguang,jindian)\n",
    "\n",
    "def drop(data):\n",
    "    a = data\n",
    "    a.drop_duplicates(subset='商家ID',inplace = True,keep = 'last')\n",
    "    print(a['商家ID'].count())\n",
    "\n",
    "\n",
    "def cluster_look(data,list__):\n",
    "    list_ = list__\n",
    "    x = 0\n",
    "    s = ['max','one','two','min']\n",
    "    for i in list_:\n",
    "        df = data[data['cluster'] == i]\n",
    "        print( s[x] +'-等级的门店数量:' + str(df['cluster'].count()))    \n",
    "        x = x+1\n"
   ]
  },
  {
   "cell_type": "code",
   "execution_count": 3,
   "metadata": {},
   "outputs": [],
   "source": [
    "lujing = r'C:/Users/Administrator/Datas/爱尚花语/艾尚月季度数据/6月份数据/2data/Ddata.csv'\n",
    "code = 'gbk'\n",
    "data = improt_data(lujing,code)"
   ]
  },
  {
   "cell_type": "code",
   "execution_count": 4,
   "metadata": {
    "scrolled": true
   },
   "outputs": [],
   "source": [
    "# data"
   ]
  },
  {
   "cell_type": "code",
   "execution_count": 5,
   "metadata": {},
   "outputs": [
    {
     "data": {
      "text/plain": [
       "<matplotlib.axes._subplots.AxesSubplot at 0x1ae389375c0>"
      ]
     },
     "execution_count": 5,
     "metadata": {},
     "output_type": "execute_result"
    },
    {
     "name": "stderr",
     "output_type": "stream",
     "text": [
      "e:\\python\\lib\\site-packages\\matplotlib\\backends\\backend_agg.py:214: RuntimeWarning: Glyph 26333 missing from current font.\n",
      "  font.set_text(s, 0.0, flags=flags)\n",
      "e:\\python\\lib\\site-packages\\matplotlib\\backends\\backend_agg.py:214: RuntimeWarning: Glyph 20809 missing from current font.\n",
      "  font.set_text(s, 0.0, flags=flags)\n",
      "e:\\python\\lib\\site-packages\\matplotlib\\backends\\backend_agg.py:214: RuntimeWarning: Glyph 20154 missing from current font.\n",
      "  font.set_text(s, 0.0, flags=flags)\n",
      "e:\\python\\lib\\site-packages\\matplotlib\\backends\\backend_agg.py:214: RuntimeWarning: Glyph 25968 missing from current font.\n",
      "  font.set_text(s, 0.0, flags=flags)\n",
      "e:\\python\\lib\\site-packages\\matplotlib\\backends\\backend_agg.py:183: RuntimeWarning: Glyph 26333 missing from current font.\n",
      "  font.set_text(s, 0, flags=flags)\n",
      "e:\\python\\lib\\site-packages\\matplotlib\\backends\\backend_agg.py:183: RuntimeWarning: Glyph 20809 missing from current font.\n",
      "  font.set_text(s, 0, flags=flags)\n",
      "e:\\python\\lib\\site-packages\\matplotlib\\backends\\backend_agg.py:183: RuntimeWarning: Glyph 20154 missing from current font.\n",
      "  font.set_text(s, 0, flags=flags)\n",
      "e:\\python\\lib\\site-packages\\matplotlib\\backends\\backend_agg.py:183: RuntimeWarning: Glyph 25968 missing from current font.\n",
      "  font.set_text(s, 0, flags=flags)\n"
     ]
    },
    {
     "data": {
      "image/png": "[encoded data removed]",
      "text/plain": [
       "<Figure size 432x288 with 1 Axes>"
      ]
     },
     "metadata": {
      "needs_background": "light"
     },
     "output_type": "display_data"
    }
   ],
   "source": [
    "data.boxplot('曝光人数')"
   ]
  },
  {
   "cell_type": "code",
   "execution_count": 6,
   "metadata": {},
   "outputs": [
    {
     "name": "stdout",
     "output_type": "stream",
     "text": [
      "--------------\n",
      "中位: 91.0\n",
      "平均: 135.79738933030646\n",
      "--------------\n",
      "50% : 91.0\n",
      "75% : 165.75\n",
      "100%: 325.875\n",
      "max : 1087.0\n",
      "--------------\n"
     ]
    }
   ],
   "source": [
    "a = data['曝光人数']\n",
    "list_ = box_polt(a)\n",
    "q1 = list_[0]\n",
    "q2 = list_[1]\n",
    "q3 = list_[2]\n",
    "q04 =  0\n"
   ]
  },
  {
   "cell_type": "code",
   "execution_count": 7,
   "metadata": {
    "scrolled": false
   },
   "outputs": [
    {
     "name": "stdout",
     "output_type": "stream",
     "text": [
      "min\n",
      "数据分集查看\n",
      "X训练 (653, 1)\n",
      "y训练 (653, 1)\n",
      "X测试 (218, 1)\n",
      "y测试 (218, 1)\n",
      "-------------\n",
      "线性结截距: [0.13665391]\n",
      "回归系数 [[0.03265654]]\n",
      "RMSE: 1.8302727301416635\n",
      "##################################\n",
      "one\n",
      "数据分集查看\n",
      "X训练 (329, 1)\n",
      "y训练 (329, 1)\n",
      "X测试 (110, 1)\n",
      "y测试 (110, 1)\n",
      "-------------\n",
      "线性结截距: [-0.30715845]\n",
      "回归系数 [[0.02847968]]\n",
      "RMSE: 2.9624163574685944\n",
      "##################################\n",
      "two\n",
      "数据分集查看\n",
      "X训练 (240, 1)\n",
      "y训练 (240, 1)\n",
      "X测试 (80, 1)\n",
      "y测试 (80, 1)\n",
      "-------------\n",
      "线性结截距: [0.87558618]\n",
      "回归系数 [[0.01792861]]\n",
      "RMSE: 2.5582036534519528\n",
      "##################################\n",
      "max\n",
      "数据分集查看\n",
      "X训练 (90, 1)\n",
      "y训练 (90, 1)\n",
      "X测试 (31, 1)\n",
      "y测试 (31, 1)\n",
      "-------------\n",
      "线性结截距: [5.01371385]\n",
      "回归系数 [[0.01209316]]\n",
      "RMSE: 4.527694217572487\n"
     ]
    }
   ],
   "source": [
    "print('min')\n",
    "line_bg_rd(q04,q1)\n",
    "print('##################################')\n",
    "print('one')\n",
    "line_bg_rd(q1,q2)\n",
    "print('##################################')\n",
    "print('two')\n",
    "line_bg_rd(q2,q3)\n",
    "print('##################################')\n",
    "print('max')\n",
    "line_bg_rd(q3,q04)"
   ]
  },
  {
   "cell_type": "code",
   "execution_count": 8,
   "metadata": {},
   "outputs": [],
   "source": [
    "data_max = data_order(q3,q04)\n",
    "data_one = data_order(q2,q3)\n",
    "data_two = data_order(q1,q2)\n",
    "data_min = data_order(q04,q1)\n",
    "\n",
    "\n",
    "data = "
   ]
  },
  {
   "cell_type": "code",
   "execution_count": 9,
   "metadata": {},
   "outputs": [
    {
     "name": "stdout",
     "output_type": "stream",
     "text": [
      "15\n",
      "59\n",
      "73\n",
      "108\n"
     ]
    }
   ],
   "source": [
    "drop(data_max)\n",
    "drop(data_one)\n",
    "drop(data_two)\n",
    "drop(data_min)"
   ]
  },
  {
   "cell_type": "code",
   "execution_count": null,
   "metadata": {},
   "outputs": [],
   "source": []
  },
  {
   "cell_type": "code",
   "execution_count": 10,
   "metadata": {
    "scrolled": false
   },
   "outputs": [
    {
     "name": "stderr",
     "output_type": "stream",
     "text": [
      "e:\\python\\lib\\site-packages\\matplotlib\\backends\\backend_agg.py:214: RuntimeWarning: Glyph 26333 missing from current font.\n",
      "  font.set_text(s, 0.0, flags=flags)\n",
      "e:\\python\\lib\\site-packages\\matplotlib\\backends\\backend_agg.py:214: RuntimeWarning: Glyph 20809 missing from current font.\n",
      "  font.set_text(s, 0.0, flags=flags)\n",
      "e:\\python\\lib\\site-packages\\matplotlib\\backends\\backend_agg.py:214: RuntimeWarning: Glyph 20154 missing from current font.\n",
      "  font.set_text(s, 0.0, flags=flags)\n",
      "e:\\python\\lib\\site-packages\\matplotlib\\backends\\backend_agg.py:214: RuntimeWarning: Glyph 25968 missing from current font.\n",
      "  font.set_text(s, 0.0, flags=flags)\n",
      "e:\\python\\lib\\site-packages\\matplotlib\\backends\\backend_agg.py:214: RuntimeWarning: Glyph 20837 missing from current font.\n",
      "  font.set_text(s, 0.0, flags=flags)\n",
      "e:\\python\\lib\\site-packages\\matplotlib\\backends\\backend_agg.py:214: RuntimeWarning: Glyph 24215 missing from current font.\n",
      "  font.set_text(s, 0.0, flags=flags)\n",
      "e:\\python\\lib\\site-packages\\matplotlib\\backends\\backend_agg.py:214: RuntimeWarning: Glyph 26333 missing from current font.\n",
      "  font.set_text(s, 0.0, flags=flags)\n",
      "e:\\python\\lib\\site-packages\\matplotlib\\backends\\backend_agg.py:214: RuntimeWarning: Glyph 20809 missing from current font.\n",
      "  font.set_text(s, 0.0, flags=flags)\n",
      "e:\\python\\lib\\site-packages\\matplotlib\\backends\\backend_agg.py:214: RuntimeWarning: Glyph 20154 missing from current font.\n",
      "  font.set_text(s, 0.0, flags=flags)\n",
      "e:\\python\\lib\\site-packages\\matplotlib\\backends\\backend_agg.py:214: RuntimeWarning: Glyph 25968 missing from current font.\n",
      "  font.set_text(s, 0.0, flags=flags)\n",
      "e:\\python\\lib\\site-packages\\matplotlib\\backends\\backend_agg.py:214: RuntimeWarning: Glyph 20837 missing from current font.\n",
      "  font.set_text(s, 0.0, flags=flags)\n",
      "e:\\python\\lib\\site-packages\\matplotlib\\backends\\backend_agg.py:214: RuntimeWarning: Glyph 24215 missing from current font.\n",
      "  font.set_text(s, 0.0, flags=flags)\n",
      "e:\\python\\lib\\site-packages\\matplotlib\\backends\\backend_agg.py:214: RuntimeWarning: Glyph 26333 missing from current font.\n",
      "  font.set_text(s, 0.0, flags=flags)\n",
      "e:\\python\\lib\\site-packages\\matplotlib\\backends\\backend_agg.py:214: RuntimeWarning: Glyph 20809 missing from current font.\n",
      "  font.set_text(s, 0.0, flags=flags)\n",
      "e:\\python\\lib\\site-packages\\matplotlib\\backends\\backend_agg.py:214: RuntimeWarning: Glyph 20154 missing from current font.\n",
      "  font.set_text(s, 0.0, flags=flags)\n",
      "e:\\python\\lib\\site-packages\\matplotlib\\backends\\backend_agg.py:214: RuntimeWarning: Glyph 25968 missing from current font.\n",
      "  font.set_text(s, 0.0, flags=flags)\n",
      "e:\\python\\lib\\site-packages\\matplotlib\\backends\\backend_agg.py:214: RuntimeWarning: Glyph 20837 missing from current font.\n",
      "  font.set_text(s, 0.0, flags=flags)\n",
      "e:\\python\\lib\\site-packages\\matplotlib\\backends\\backend_agg.py:214: RuntimeWarning: Glyph 24215 missing from current font.\n",
      "  font.set_text(s, 0.0, flags=flags)\n",
      "e:\\python\\lib\\site-packages\\matplotlib\\backends\\backend_agg.py:214: RuntimeWarning: Glyph 26333 missing from current font.\n",
      "  font.set_text(s, 0.0, flags=flags)\n",
      "e:\\python\\lib\\site-packages\\matplotlib\\backends\\backend_agg.py:214: RuntimeWarning: Glyph 20809 missing from current font.\n",
      "  font.set_text(s, 0.0, flags=flags)\n",
      "e:\\python\\lib\\site-packages\\matplotlib\\backends\\backend_agg.py:214: RuntimeWarning: Glyph 20154 missing from current font.\n",
      "  font.set_text(s, 0.0, flags=flags)\n",
      "e:\\python\\lib\\site-packages\\matplotlib\\backends\\backend_agg.py:214: RuntimeWarning: Glyph 25968 missing from current font.\n",
      "  font.set_text(s, 0.0, flags=flags)\n",
      "e:\\python\\lib\\site-packages\\matplotlib\\backends\\backend_agg.py:214: RuntimeWarning: Glyph 20837 missing from current font.\n",
      "  font.set_text(s, 0.0, flags=flags)\n",
      "e:\\python\\lib\\site-packages\\matplotlib\\backends\\backend_agg.py:214: RuntimeWarning: Glyph 24215 missing from current font.\n",
      "  font.set_text(s, 0.0, flags=flags)\n"
     ]
    },
    {
     "data": {
      "text/plain": [
       "<seaborn.axisgrid.FacetGrid at 0x1ae3af1cb00>"
      ]
     },
     "execution_count": 10,
     "metadata": {},
     "output_type": "execute_result"
    },
    {
     "name": "stderr",
     "output_type": "stream",
     "text": [
      "e:\\python\\lib\\site-packages\\matplotlib\\backends\\backend_agg.py:183: RuntimeWarning: Glyph 26333 missing from current font.\n",
      "  font.set_text(s, 0, flags=flags)\n",
      "e:\\python\\lib\\site-packages\\matplotlib\\backends\\backend_agg.py:183: RuntimeWarning: Glyph 20809 missing from current font.\n",
      "  font.set_text(s, 0, flags=flags)\n",
      "e:\\python\\lib\\site-packages\\matplotlib\\backends\\backend_agg.py:183: RuntimeWarning: Glyph 20154 missing from current font.\n",
      "  font.set_text(s, 0, flags=flags)\n",
      "e:\\python\\lib\\site-packages\\matplotlib\\backends\\backend_agg.py:183: RuntimeWarning: Glyph 25968 missing from current font.\n",
      "  font.set_text(s, 0, flags=flags)\n",
      "e:\\python\\lib\\site-packages\\matplotlib\\backends\\backend_agg.py:183: RuntimeWarning: Glyph 20837 missing from current font.\n",
      "  font.set_text(s, 0, flags=flags)\n",
      "e:\\python\\lib\\site-packages\\matplotlib\\backends\\backend_agg.py:183: RuntimeWarning: Glyph 24215 missing from current font.\n",
      "  font.set_text(s, 0, flags=flags)\n"
     ]
    },
    {
     "data": {
      "image/png": "[encoded data removed]",
      "text/plain": [
       "<Figure size 360x360 with 1 Axes>"
      ]
     },
     "metadata": {
      "needs_background": "light"
     },
     "output_type": "display_data"
    },
    {
     "data": {
      "image/png": "[encoded data removed]",
      "text/plain": [
       "<Figure size 360x360 with 1 Axes>"
      ]
     },
     "metadata": {
      "needs_background": "light"
     },
     "output_type": "display_data"
    },
    {
     "data": {
      "image/png": "[encoded data removed]",
      "text/plain": [
       "<Figure size 360x360 with 1 Axes>"
      ]
     },
     "metadata": {
      "needs_background": "light"
     },
     "output_type": "display_data"
    },
    {
     "data": {
      "image/png": "[encoded data removed]",
      "text/plain": [
       "<Figure size 360x360 with 1 Axes>"
      ]
     },
     "metadata": {
      "needs_background": "light"
     },
     "output_type": "display_data"
    }
   ],
   "source": [
    "sns.lmplot(x=\"曝光人数\", y=\"入店人数\",data=data_max,fit_reg=True)\n",
    "sns.lmplot(x=\"曝光人数\", y=\"入店人数\",data=data_one,fit_reg=True)\n",
    "sns.lmplot(x=\"曝光人数\", y=\"入店人数\",data=data_two,fit_reg=True)\n",
    "sns.lmplot(x=\"曝光人数\", y=\"入店人数\",data=data_min,fit_reg=True)"
   ]
  },
  {
   "cell_type": "code",
   "execution_count": 11,
   "metadata": {
    "scrolled": false
   },
   "outputs": [],
   "source": [
    "data_8000 = data[data['曝光人数'] > 6000]"
   ]
  },
  {
   "cell_type": "code",
   "execution_count": 12,
   "metadata": {},
   "outputs": [
    {
     "data": {
      "text/html": [
       "<div>\n",
       "<style scoped>\n",
       "    .dataframe tbody tr th:only-of-type {\n",
       "        vertical-align: middle;\n",
       "    }\n",
       "\n",
       "    .dataframe tbody tr th {\n",
       "        vertical-align: top;\n",
       "    }\n",
       "\n",
       "    .dataframe thead th {\n",
       "        text-align: right;\n",
       "    }\n",
       "</style>\n",
       "<table border=\"1\" class=\"dataframe\">\n",
       "  <thead>\n",
       "    <tr style=\"text-align: right;\">\n",
       "      <th></th>\n",
       "      <th>开始日期</th>\n",
       "      <th>结束日期</th>\n",
       "      <th>商家ID</th>\n",
       "      <th>商家名称</th>\n",
       "      <th>运营组</th>\n",
       "      <th>省份</th>\n",
       "      <th>城市</th>\n",
       "      <th>是否新增商家</th>\n",
       "      <th>首次上线日期</th>\n",
       "      <th>门店在线状态</th>\n",
       "      <th>（日均）预设营业时长（h）</th>\n",
       "      <th>（日均）在线营业时长（h）</th>\n",
       "      <th>曝光人数</th>\n",
       "      <th>入店人数</th>\n",
       "      <th>下单人数</th>\n",
       "      <th>下单新客人数</th>\n",
       "      <th>入店转化率</th>\n",
       "      <th>下单转化率</th>\n",
       "      <th>推单数</th>\n",
       "      <th>有效订单数</th>\n",
       "      <th>原价交易额</th>\n",
       "      <th>实付交易额</th>\n",
       "      <th>商家补贴金额</th>\n",
       "      <th>商家原因取消订单数</th>\n",
       "      <th>商家拒单数</th>\n",
       "      <th>商家超时未接单数</th>\n",
       "      <th>商家取消不告知用户订单数</th>\n",
       "      <th>缺货导致退款订单数</th>\n",
       "      <th>商家少送错送导致用户退款订单数</th>\n",
       "      <th>商家质量问题导致用户退款订单数</th>\n",
       "      <th>配送原因取消订单数</th>\n",
       "      <th>拣货超时订单数</th>\n",
       "      <th>使用间或完成按钮订单数</th>\n",
       "      <th>平均骑手到店等待时间（min）</th>\n",
       "      <th>平均骑手送货时长（min）</th>\n",
       "      <th>IM会话数</th>\n",
       "      <th>IM回复数</th>\n",
       "      <th>IM回复率</th>\n",
       "      <th>IM1分钟回复数</th>\n",
       "      <th>差评订单数</th>\n",
       "      <th>投诉订单数</th>\n",
       "      <th>平均商家评分</th>\n",
       "      <th>平均商品评分</th>\n",
       "      <th>平均配送评分</th>\n",
       "      <th>平均配送时长（min）</th>\n",
       "      <th>资质类型（仅药品）</th>\n",
       "      <th>资质有效期（仅药品）</th>\n",
       "    </tr>\n",
       "  </thead>\n",
       "  <tbody>\n",
       "  </tbody>\n",
       "</table>\n",
       "</div>"
      ],
      "text/plain": [
       "Empty DataFrame\n",
       "Columns: [开始日期, 结束日期, 商家ID, 商家名称, 运营组, 省份, 城市, 是否新增商家, 首次上线日期, 门店在线状态, （日均）预设营业时长（h）, （日均）在线营业时长（h）, 曝光人数, 入店人数, 下单人数, 下单新客人数, 入店转化率, 下单转化率, 推单数, 有效订单数, 原价交易额, 实付交易额, 商家补贴金额, 商家原因取消订单数, 商家拒单数, 商家超时未接单数, 商家取消不告知用户订单数, 缺货导致退款订单数, 商家少送错送导致用户退款订单数, 商家质量问题导致用户退款订单数, 配送原因取消订单数, 拣货超时订单数, 使用间或完成按钮订单数, 平均骑手到店等待时间（min）, 平均骑手送货时长（min）, IM会话数, IM回复数, IM回复率, IM1分钟回复数, 差评订单数, 投诉订单数, 平均商家评分, 平均商品评分, 平均配送评分, 平均配送时长（min）, 资质类型（仅药品）, 资质有效期（仅药品）]\n",
       "Index: []"
      ]
     },
     "execution_count": 12,
     "metadata": {},
     "output_type": "execute_result"
    }
   ],
   "source": [
    "data_8000.drop_duplicates(subset='商家ID',inplace=False,keep='last')"
   ]
  },
  {
   "cell_type": "code",
   "execution_count": null,
   "metadata": {},
   "outputs": [],
   "source": []
  }
 ],
 "metadata": {
  "kernelspec": {
   "display_name": "Python 3",
   "language": "python",
   "name": "python3"
  },
  "language_info": {
   "codemirror_mode": {
    "name": "ipython",
    "version": 3
   },
   "file_extension": ".py",
   "mimetype": "text/x-python",
   "name": "python",
   "nbconvert_exporter": "python",
   "pygments_lexer": "ipython3",
   "version": "3.6.2"
  }
 },
 "nbformat": 4,
 "nbformat_minor": 4
}

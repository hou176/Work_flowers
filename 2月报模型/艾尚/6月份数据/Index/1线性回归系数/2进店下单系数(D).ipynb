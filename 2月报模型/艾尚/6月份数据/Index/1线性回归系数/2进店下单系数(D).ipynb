{
 "cells": [
  {
   "cell_type": "code",
   "execution_count": 16,
   "metadata": {},
   "outputs": [],
   "source": [
    "import pandas as pd\n",
    "import numpy as np\n",
    "pd.set_option('display.max_columns',None)\n",
    "import seaborn as sns\n",
    "import matplotlib.pyplot as plt\n",
    "%matplotlib inline\n",
    "from sklearn import metrics\n",
    "from sklearn.model_selection import train_test_split\n",
    "from sklearn import linear_model"
   ]
  },
  {
   "cell_type": "code",
   "execution_count": 17,
   "metadata": {},
   "outputs": [],
   "source": [
    "def improt_data(lujing,code):\n",
    "    data = pd.read_csv(lujing,encoding =code)\n",
    "    return data\n",
    "\n",
    "def mean(data,a):\n",
    "    print('平均值',data[a].mean())\n",
    "    print('方差',data[a].std())\n",
    "\n",
    "def box_polt(a):\n",
    "    zhongwei = a.median()\n",
    "    mean = a.mean()\n",
    "    q1 = a.quantile(0.25)\n",
    "    q2 = a.quantile(0.5)\n",
    "    q3 = a.quantile(0.75)\n",
    "    q4 = a.quantile(1)\n",
    "    iqr = q3-q1\n",
    "    upper = q3 + 1.5*iqr\n",
    "    print('--------------')\n",
    "    print('中位:',zhongwei)\n",
    "    print('平均:',mean)    \n",
    "    print('--------------')\n",
    "    print('50% :',q2)\n",
    "    print('75% :',q3)\n",
    "    print('100%:',upper)\n",
    "    print('max :',q4)\n",
    "    print('--------------')\n",
    "    list_ = []\n",
    "    list_.append(q2)\n",
    "    list_.append(q3)\n",
    "    list_.append(upper)\n",
    "    return list_\n",
    "\n",
    "def data_order(a,b):\n",
    "#     lujing = r'C:/Users/Administrator/Datas/爱尚花语/艾尚花语指标模型/data/Ddata.csv'\n",
    "#     code = 'gbk'\n",
    "    data = improt_data(lujing,code)\n",
    "    if b == 0:\n",
    "        df_hsh_max = data[data['入店人数'] > a]\n",
    "        k = df_hsh_max\n",
    "        return k\n",
    "    elif a == 0:\n",
    "        df_hsh_min = data[data['入店人数'] < b  ]\n",
    "        k = df_hsh_min\n",
    "        return k\n",
    "    else:\n",
    "        df_hsh_ = data[(data['入店人数'] >a) & (data['入店人数'] < b) ]\n",
    "        k = df_hsh_\n",
    "        return k \n",
    "    \n",
    "def linear(x,y):\n",
    "    from sklearn import metrics\n",
    "    import numpy as np\n",
    "    from sklearn.model_selection import train_test_split\n",
    "    from sklearn import linear_model\n",
    "    X_train, X_test, y_train, y_test = train_test_split(x, y, random_state=1)\n",
    "    print('数据分集查看')\n",
    "    print ('X训练',X_train.shape)\n",
    "    print ('y训练',y_train.shape)\n",
    "    print ('X测试',X_test.shape)\n",
    "    print ('y测试',y_test.shape)\n",
    "    print('-------------')\n",
    "    linear =  linear_model.LinearRegression()\n",
    "    linear.fit(X_train,y_train)\n",
    "    print('线性结截距:', linear.intercept_)\n",
    "    print ('回归系数',linear.coef_)\n",
    "    y_pred = linear.predict(X_test)\n",
    "    print('RMSE:', np.sqrt(metrics.mean_squared_error(y_test, y_pred)))\n",
    "\n",
    "def line_bg_rd(x1,y1):   \n",
    "    x = x1\n",
    "    y = y1\n",
    "    data_min = data_order(x,y)\n",
    "    baoguang = data_min['入店人数'].values.reshape(-1,1)\n",
    "    jindian = data_min['下单人数'].values.reshape(-1, 1)\n",
    "    linear(baoguang,jindian)\n",
    "\n",
    "def drop(data):\n",
    "    a = data\n",
    "    a.drop_duplicates(subset='商家ID',inplace = True,keep = 'last')\n",
    "    print(a['商家ID'].count())\n",
    "\n",
    "\n",
    "def cluster_look(data,list__):\n",
    "    list_ = list__\n",
    "    x = 0\n",
    "    s = ['max','one','two','min']\n",
    "    for i in list_:\n",
    "        df = data[data['cluster'] == i]\n",
    "        print( s[x] +'-分类:' + str(df['cluster'].count()))    \n",
    "        x = x+1\n"
   ]
  },
  {
   "cell_type": "code",
   "execution_count": 18,
   "metadata": {
    "scrolled": true
   },
   "outputs": [],
   "source": [
    "lujing = r'C:/Users/Administrator/Datas/爱尚花语/艾尚月季度数据/6月份数据/2data/Ddata.csv'\n",
    "code = 'gbk'\n",
    "data = improt_data(lujing,code)"
   ]
  },
  {
   "cell_type": "code",
   "execution_count": 19,
   "metadata": {},
   "outputs": [],
   "source": [
    "# data.describe()"
   ]
  },
  {
   "cell_type": "code",
   "execution_count": 20,
   "metadata": {
    "scrolled": true
   },
   "outputs": [
    {
     "data": {
      "text/plain": [
       "<matplotlib.axes._subplots.AxesSubplot at 0x2868dc68898>"
      ]
     },
     "execution_count": 20,
     "metadata": {},
     "output_type": "execute_result"
    },
    {
     "data": {
      "image/png": "[encoded data removed]",
      "text/plain": [
       "<Figure size 432x288 with 1 Axes>"
      ]
     },
     "metadata": {
      "needs_background": "light"
     },
     "output_type": "display_data"
    }
   ],
   "source": [
    "plt.rcParams['font.sans-serif'] = ['SimHei']  \n",
    "plt.rcParams['axes.unicode_minus'] = False \n",
    "data.boxplot('入店人数')"
   ]
  },
  {
   "cell_type": "code",
   "execution_count": 21,
   "metadata": {},
   "outputs": [
    {
     "name": "stdout",
     "output_type": "stream",
     "text": [
      "--------------\n",
      "中位: 3.0\n",
      "平均: 3.4886492622020433\n",
      "--------------\n",
      "50% : 3.0\n",
      "75% : 5.0\n",
      "100%: 11.0\n",
      "max : 36.0\n",
      "--------------\n",
      "3.0\n",
      "5.0\n",
      "11.0\n"
     ]
    }
   ],
   "source": [
    "a = data['入店人数']\n",
    "list_ = box_polt(a)\n",
    "q1 = list_[0]\n",
    "q2 = list_[1]\n",
    "q3 = list_[2]\n",
    "q04 =  0\n",
    "print(q1)\n",
    "print(q2)\n",
    "print(q3)"
   ]
  },
  {
   "cell_type": "code",
   "execution_count": 22,
   "metadata": {
    "scrolled": false
   },
   "outputs": [
    {
     "name": "stdout",
     "output_type": "stream",
     "text": [
      "min：\n",
      "数据分集查看\n",
      "X训练 (658, 1)\n",
      "y训练 (658, 1)\n",
      "X测试 (220, 1)\n",
      "y测试 (220, 1)\n",
      "-------------\n",
      "线性结截距: [-0.00102235]\n",
      "回归系数 [[0.02822483]]\n",
      "RMSE: 0.2165429042362803\n",
      "#####################\n",
      "two：\n",
      "数据分集查看\n",
      "X训练 (135, 1)\n",
      "y训练 (135, 1)\n",
      "X测试 (46, 1)\n",
      "y测试 (46, 1)\n",
      "-------------\n",
      "线性结截距: [0.21481481]\n",
      "回归系数 [[0.]]\n",
      "RMSE: 0.3471909271994642\n",
      "#####################\n",
      "one：\n",
      "数据分集查看\n",
      "X训练 (178, 1)\n",
      "y训练 (178, 1)\n",
      "X测试 (60, 1)\n",
      "y测试 (60, 1)\n",
      "-------------\n",
      "线性结截距: [-0.53520085]\n",
      "回归系数 [[0.12659164]]\n",
      "RMSE: 0.7402493654384916\n",
      "#####################\n",
      "max：\n",
      "数据分集查看\n",
      "X训练 (49, 1)\n",
      "y训练 (49, 1)\n",
      "X测试 (17, 1)\n",
      "y测试 (17, 1)\n",
      "-------------\n",
      "线性结截距: [0.25805542]\n",
      "回归系数 [[0.03513666]]\n",
      "RMSE: 1.2438519849783254\n"
     ]
    }
   ],
   "source": [
    "print('min：')\n",
    "line_bg_rd(q04,q1)\n",
    "print('#####################')\n",
    "print('two：')\n",
    "line_bg_rd(q1,q2)\n",
    "print('#####################')\n",
    "print('one：')\n",
    "line_bg_rd(q2,q3)\n",
    "print('#####################')\n",
    "print('max：')\n",
    "line_bg_rd(q3,q04)"
   ]
  },
  {
   "cell_type": "code",
   "execution_count": 23,
   "metadata": {},
   "outputs": [],
   "source": [
    "data_max = data_order(q3,q04)\n",
    "data_one = data_order(q2,q3)\n",
    "data_two = data_order(q1,q2)\n",
    "data_min = data_order(q04,q1)"
   ]
  },
  {
   "cell_type": "code",
   "execution_count": 24,
   "metadata": {
    "scrolled": false
   },
   "outputs": [
    {
     "data": {
      "text/plain": [
       "<seaborn.axisgrid.FacetGrid at 0x2868ed4fbe0>"
      ]
     },
     "execution_count": 24,
     "metadata": {},
     "output_type": "execute_result"
    },
    {
     "data": {
      "image/png": "[encoded data removed]",
      "text/plain": [
       "<Figure size 360x360 with 1 Axes>"
      ]
     },
     "metadata": {
      "needs_background": "light"
     },
     "output_type": "display_data"
    },
    {
     "data": {
      "image/png": "[encoded data removed]",
      "text/plain": [
       "<Figure size 360x360 with 1 Axes>"
      ]
     },
     "metadata": {
      "needs_background": "light"
     },
     "output_type": "display_data"
    },
    {
     "data": {
      "image/png": "[encoded data removed]",
      "text/plain": [
       "<Figure size 360x360 with 1 Axes>"
      ]
     },
     "metadata": {
      "needs_background": "light"
     },
     "output_type": "display_data"
    },
    {
     "data": {
      "image/png": "[encoded data removed]",
      "text/plain": [
       "<Figure size 360x360 with 1 Axes>"
      ]
     },
     "metadata": {
      "needs_background": "light"
     },
     "output_type": "display_data"
    }
   ],
   "source": [
    "sns.lmplot(x=\"入店人数\", y=\"下单人数\",data=data_max,fit_reg=True)\n",
    "sns.lmplot(x=\"入店人数\", y=\"下单人数\",data=data_one,fit_reg=True)\n",
    "sns.lmplot(x=\"入店人数\", y=\"下单人数\",data=data_two,fit_reg=True)\n",
    "sns.lmplot(x=\"入店人数\", y=\"下单人数\",data=data_min,fit_reg=True)"
   ]
  },
  {
   "cell_type": "code",
   "execution_count": 25,
   "metadata": {
    "scrolled": true
   },
   "outputs": [
    {
     "name": "stdout",
     "output_type": "stream",
     "text": [
      "16\n",
      "74\n",
      "78\n",
      "110\n"
     ]
    }
   ],
   "source": [
    "drop(data_max)\n",
    "drop(data_one)\n",
    "drop(data_two)\n",
    "drop(data_min)"
   ]
  },
  {
   "cell_type": "code",
   "execution_count": null,
   "metadata": {},
   "outputs": [],
   "source": []
  }
 ],
 "metadata": {
  "kernelspec": {
   "display_name": "Python 3",
   "language": "python",
   "name": "python3"
  },
  "language_info": {
   "codemirror_mode": {
    "name": "ipython",
    "version": 3
   },
   "file_extension": ".py",
   "mimetype": "text/x-python",
   "name": "python",
   "nbconvert_exporter": "python",
   "pygments_lexer": "ipython3",
   "version": "3.6.2"
  }
 },
 "nbformat": 4,
 "nbformat_minor": 4
}

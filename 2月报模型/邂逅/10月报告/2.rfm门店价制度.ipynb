{
 "cells": [
  {
   "cell_type": "code",
   "execution_count": 8,
   "metadata": {},
   "outputs": [],
   "source": [
    "import pandas as pd \n",
    "import numpy as np \n",
    "pd.set_option('display.max_columns',None)"
   ]
  },
  {
   "cell_type": "code",
   "execution_count": 11,
   "metadata": {},
   "outputs": [],
   "source": [
    "data = pd.read_csv(r'data/门店月数据.csv',encoding='gbk')"
   ]
  },
  {
   "cell_type": "code",
   "execution_count": 14,
   "metadata": {},
   "outputs": [],
   "source": [
    "data['复购人数'] = data['下单人数'] - data['下单新客人数']"
   ]
  },
  {
   "cell_type": "code",
   "execution_count": 18,
   "metadata": {},
   "outputs": [],
   "source": [
    "rfm = data.groupby(['开始日期','商家ID','商家名称'],as_index=False).agg({'（日均）在线营业时长（h）': 'sum','下单人数':'sum', '实付交易额': 'sum'  })"
   ]
  },
  {
   "cell_type": "code",
   "execution_count": 19,
   "metadata": {},
   "outputs": [],
   "source": [
    "rfm.columns = ['time','商家ID','商家名称','r','f','m']\n",
    "\n"
   ]
  },
  {
   "cell_type": "code",
   "execution_count": 21,
   "metadata": {},
   "outputs": [
    {
     "data": {
      "text/html": [
       "<div>\n",
       "<style scoped>\n",
       "    .dataframe tbody tr th:only-of-type {\n",
       "        vertical-align: middle;\n",
       "    }\n",
       "\n",
       "    .dataframe tbody tr th {\n",
       "        vertical-align: top;\n",
       "    }\n",
       "\n",
       "    .dataframe thead th {\n",
       "        text-align: right;\n",
       "    }\n",
       "</style>\n",
       "<table border=\"1\" class=\"dataframe\">\n",
       "  <thead>\n",
       "    <tr style=\"text-align: right;\">\n",
       "      <th></th>\n",
       "      <th>time</th>\n",
       "      <th>商家ID</th>\n",
       "      <th>商家名称</th>\n",
       "      <th>r</th>\n",
       "      <th>f</th>\n",
       "      <th>m</th>\n",
       "    </tr>\n",
       "  </thead>\n",
       "  <tbody>\n",
       "    <tr>\n",
       "      <th>0</th>\n",
       "      <td>20200901</td>\n",
       "      <td>227035</td>\n",
       "      <td>邂逅花坊鲜花（香梅花坊）</td>\n",
       "      <td>15.1</td>\n",
       "      <td>8</td>\n",
       "      <td>1116.00</td>\n",
       "    </tr>\n",
       "    <tr>\n",
       "      <th>1</th>\n",
       "      <td>20200901</td>\n",
       "      <td>255297</td>\n",
       "      <td>邂逅花坊鲜花（蔷薇花艺）</td>\n",
       "      <td>15.0</td>\n",
       "      <td>10</td>\n",
       "      <td>931.00</td>\n",
       "    </tr>\n",
       "    <tr>\n",
       "      <th>2</th>\n",
       "      <td>20200901</td>\n",
       "      <td>345331</td>\n",
       "      <td>邂逅花坊鲜花（温馨花坊）</td>\n",
       "      <td>17.6</td>\n",
       "      <td>31</td>\n",
       "      <td>3540.80</td>\n",
       "    </tr>\n",
       "    <tr>\n",
       "      <th>3</th>\n",
       "      <td>20200901</td>\n",
       "      <td>403721</td>\n",
       "      <td>邂逅花坊鲜花（创懿花艺婚庆）</td>\n",
       "      <td>14.6</td>\n",
       "      <td>12</td>\n",
       "      <td>1292.49</td>\n",
       "    </tr>\n",
       "    <tr>\n",
       "      <th>4</th>\n",
       "      <td>20200901</td>\n",
       "      <td>634577</td>\n",
       "      <td>邂逅花坊鲜花（花韵千谷)</td>\n",
       "      <td>13.3</td>\n",
       "      <td>12</td>\n",
       "      <td>1265.00</td>\n",
       "    </tr>\n",
       "  </tbody>\n",
       "</table>\n",
       "</div>"
      ],
      "text/plain": [
       "       time    商家ID            商家名称     r   f        m\n",
       "0  20200901  227035    邂逅花坊鲜花（香梅花坊）  15.1   8  1116.00\n",
       "1  20200901  255297    邂逅花坊鲜花（蔷薇花艺）  15.0  10   931.00\n",
       "2  20200901  345331    邂逅花坊鲜花（温馨花坊）  17.6  31  3540.80\n",
       "3  20200901  403721  邂逅花坊鲜花（创懿花艺婚庆）  14.6  12  1292.49\n",
       "4  20200901  634577    邂逅花坊鲜花（花韵千谷)  13.3  12  1265.00"
      ]
     },
     "execution_count": 21,
     "metadata": {},
     "output_type": "execute_result"
    }
   ],
   "source": [
    "rfm.head()"
   ]
  },
  {
   "cell_type": "code",
   "execution_count": 22,
   "metadata": {},
   "outputs": [],
   "source": [
    "desc_pd = rfm.iloc[:,2:].describe().T"
   ]
  },
  {
   "cell_type": "code",
   "execution_count": 23,
   "metadata": {},
   "outputs": [
    {
     "data": {
      "text/html": [
       "<div>\n",
       "<style scoped>\n",
       "    .dataframe tbody tr th:only-of-type {\n",
       "        vertical-align: middle;\n",
       "    }\n",
       "\n",
       "    .dataframe tbody tr th {\n",
       "        vertical-align: top;\n",
       "    }\n",
       "\n",
       "    .dataframe thead th {\n",
       "        text-align: right;\n",
       "    }\n",
       "</style>\n",
       "<table border=\"1\" class=\"dataframe\">\n",
       "  <thead>\n",
       "    <tr style=\"text-align: right;\">\n",
       "      <th></th>\n",
       "      <th>min</th>\n",
       "      <th>50%</th>\n",
       "      <th>75%</th>\n",
       "      <th>max</th>\n",
       "    </tr>\n",
       "  </thead>\n",
       "  <tbody>\n",
       "    <tr>\n",
       "      <th>r</th>\n",
       "      <td>0.0</td>\n",
       "      <td>14.4</td>\n",
       "      <td>15.300</td>\n",
       "      <td>24.0</td>\n",
       "    </tr>\n",
       "    <tr>\n",
       "      <th>f</th>\n",
       "      <td>0.0</td>\n",
       "      <td>7.0</td>\n",
       "      <td>17.000</td>\n",
       "      <td>264.0</td>\n",
       "    </tr>\n",
       "    <tr>\n",
       "      <th>m</th>\n",
       "      <td>0.0</td>\n",
       "      <td>793.5</td>\n",
       "      <td>2044.895</td>\n",
       "      <td>34376.7</td>\n",
       "    </tr>\n",
       "  </tbody>\n",
       "</table>\n",
       "</div>"
      ],
      "text/plain": [
       "   min    50%       75%      max\n",
       "r  0.0   14.4    15.300     24.0\n",
       "f  0.0    7.0    17.000    264.0\n",
       "m  0.0  793.5  2044.895  34376.7"
      ]
     },
     "execution_count": 23,
     "metadata": {},
     "output_type": "execute_result"
    }
   ],
   "source": [
    "desc_pd = desc_pd[['min','50%','75%','max']]\n",
    "desc_pd"
   ]
  },
  {
   "cell_type": "code",
   "execution_count": 24,
   "metadata": {},
   "outputs": [],
   "source": [
    "r_bins = [-1,14.4,15.3,24]\n",
    "f_bins = [-1,7,17,264]\n",
    "m_bins = [-1,793.5,2044.895,34376.7]"
   ]
  },
  {
   "cell_type": "code",
   "execution_count": 25,
   "metadata": {},
   "outputs": [],
   "source": [
    "from sklearn.ensemble import RandomForestClassifier # RF库\n",
    "clf = RandomForestClassifier()"
   ]
  },
  {
   "cell_type": "code",
   "execution_count": 26,
   "metadata": {},
   "outputs": [],
   "source": [
    "rfm_merge = pd.merge(rfm,data,on='商家ID',how='inner')"
   ]
  },
  {
   "cell_type": "code",
   "execution_count": 33,
   "metadata": {},
   "outputs": [
    {
     "name": "stdout",
     "output_type": "stream",
     "text": [
      "1.0\n",
      "4.0\n",
      "10.0\n",
      "20.0\n",
      "294.0\n"
     ]
    }
   ],
   "source": [
    "print(rfm_merge['有效订单数'].quantile(0.2))\n",
    "print(rfm_merge['有效订单数'].quantile(0.4))\n",
    "print(rfm_merge['有效订单数'].quantile(0.6))\n",
    "print(rfm_merge['有效订单数'].quantile(0.8))\n",
    "print(rfm_merge['有效订单数'].quantile(1))"
   ]
  },
  {
   "cell_type": "code",
   "execution_count": 39,
   "metadata": {},
   "outputs": [],
   "source": [
    "def fun(x):\n",
    "    if 20<x <= 294:\n",
    "        return 5\n",
    "    elif 10<x <= 20:\n",
    "        return 4\n",
    "    elif 4<x <= 10:\n",
    "        return 3\n",
    "    elif 1<x <= 4:\n",
    "        return 2\n",
    "    elif 0<= x <= 1:\n",
    "        return 1\n",
    "rfm_merge['cluster']= rfm_merge['有效订单数'].apply(lambda x: fun(x))"
   ]
  },
  {
   "cell_type": "code",
   "execution_count": null,
   "metadata": {},
   "outputs": [],
   "source": []
  },
  {
   "cell_type": "code",
   "execution_count": 42,
   "metadata": {},
   "outputs": [
    {
     "name": "stdout",
     "output_type": "stream",
     "text": [
      "feature importance: [0.10001823 0.4347476  0.46523416]\n"
     ]
    }
   ],
   "source": [
    "clf = clf.fit(rfm_merge[['r','f','m']],rfm_merge['cluster'])\n",
    "weights = clf.feature_importances_\n",
    "print('feature importance:',weights)"
   ]
  },
  {
   "cell_type": "code",
   "execution_count": 43,
   "metadata": {},
   "outputs": [],
   "source": [
    "# RFM分箱得分\n",
    "rfm['r_score'] = pd.cut(rfm['r'], r_bins, labels=[i+1 for i in range(len(r_bins)-1)])  # 计算R得分\n",
    "rfm['f_score'] = pd.cut(rfm['f'], f_bins, labels=[i+1 for i in range(len(f_bins)-1)])  # 计算F得分\n",
    "rfm['m_score'] = pd.cut(rfm['m'], m_bins, labels=[i+1 for i in range(len(m_bins)-1)])  # 计算M得分"
   ]
  },
  {
   "cell_type": "code",
   "execution_count": 45,
   "metadata": {},
   "outputs": [
    {
     "data": {
      "text/html": [
       "<div>\n",
       "<style scoped>\n",
       "    .dataframe tbody tr th:only-of-type {\n",
       "        vertical-align: middle;\n",
       "    }\n",
       "\n",
       "    .dataframe tbody tr th {\n",
       "        vertical-align: top;\n",
       "    }\n",
       "\n",
       "    .dataframe thead th {\n",
       "        text-align: right;\n",
       "    }\n",
       "</style>\n",
       "<table border=\"1\" class=\"dataframe\">\n",
       "  <thead>\n",
       "    <tr style=\"text-align: right;\">\n",
       "      <th></th>\n",
       "      <th>time</th>\n",
       "      <th>商家ID</th>\n",
       "      <th>商家名称</th>\n",
       "      <th>r</th>\n",
       "      <th>f</th>\n",
       "      <th>m</th>\n",
       "      <th>r_score</th>\n",
       "      <th>f_score</th>\n",
       "      <th>m_score</th>\n",
       "    </tr>\n",
       "  </thead>\n",
       "  <tbody>\n",
       "    <tr>\n",
       "      <th>0</th>\n",
       "      <td>20200901</td>\n",
       "      <td>227035</td>\n",
       "      <td>邂逅花坊鲜花（香梅花坊）</td>\n",
       "      <td>15.1</td>\n",
       "      <td>8</td>\n",
       "      <td>1116.00</td>\n",
       "      <td>2</td>\n",
       "      <td>2</td>\n",
       "      <td>2</td>\n",
       "    </tr>\n",
       "    <tr>\n",
       "      <th>1</th>\n",
       "      <td>20200901</td>\n",
       "      <td>255297</td>\n",
       "      <td>邂逅花坊鲜花（蔷薇花艺）</td>\n",
       "      <td>15.0</td>\n",
       "      <td>10</td>\n",
       "      <td>931.00</td>\n",
       "      <td>2</td>\n",
       "      <td>2</td>\n",
       "      <td>2</td>\n",
       "    </tr>\n",
       "    <tr>\n",
       "      <th>2</th>\n",
       "      <td>20200901</td>\n",
       "      <td>345331</td>\n",
       "      <td>邂逅花坊鲜花（温馨花坊）</td>\n",
       "      <td>17.6</td>\n",
       "      <td>31</td>\n",
       "      <td>3540.80</td>\n",
       "      <td>3</td>\n",
       "      <td>3</td>\n",
       "      <td>3</td>\n",
       "    </tr>\n",
       "    <tr>\n",
       "      <th>3</th>\n",
       "      <td>20200901</td>\n",
       "      <td>403721</td>\n",
       "      <td>邂逅花坊鲜花（创懿花艺婚庆）</td>\n",
       "      <td>14.6</td>\n",
       "      <td>12</td>\n",
       "      <td>1292.49</td>\n",
       "      <td>2</td>\n",
       "      <td>2</td>\n",
       "      <td>2</td>\n",
       "    </tr>\n",
       "    <tr>\n",
       "      <th>4</th>\n",
       "      <td>20200901</td>\n",
       "      <td>634577</td>\n",
       "      <td>邂逅花坊鲜花（花韵千谷)</td>\n",
       "      <td>13.3</td>\n",
       "      <td>12</td>\n",
       "      <td>1265.00</td>\n",
       "      <td>1</td>\n",
       "      <td>2</td>\n",
       "      <td>2</td>\n",
       "    </tr>\n",
       "    <tr>\n",
       "      <th>...</th>\n",
       "      <td>...</td>\n",
       "      <td>...</td>\n",
       "      <td>...</td>\n",
       "      <td>...</td>\n",
       "      <td>...</td>\n",
       "      <td>...</td>\n",
       "      <td>...</td>\n",
       "      <td>...</td>\n",
       "      <td>...</td>\n",
       "    </tr>\n",
       "    <tr>\n",
       "      <th>2154</th>\n",
       "      <td>20200901</td>\n",
       "      <td>10070283</td>\n",
       "      <td>情侣花卉（生日花，表白花，鲜花）</td>\n",
       "      <td>12.3</td>\n",
       "      <td>0</td>\n",
       "      <td>0.00</td>\n",
       "      <td>1</td>\n",
       "      <td>1</td>\n",
       "      <td>1</td>\n",
       "    </tr>\n",
       "    <tr>\n",
       "      <th>2155</th>\n",
       "      <td>20200901</td>\n",
       "      <td>10078548</td>\n",
       "      <td>花语堂（生日花，表白花，鲜花）</td>\n",
       "      <td>12.2</td>\n",
       "      <td>0</td>\n",
       "      <td>0.00</td>\n",
       "      <td>1</td>\n",
       "      <td>1</td>\n",
       "      <td>1</td>\n",
       "    </tr>\n",
       "    <tr>\n",
       "      <th>2156</th>\n",
       "      <td>20200901</td>\n",
       "      <td>10080207</td>\n",
       "      <td>禾朵花艺（生日花，表白花，鲜花）</td>\n",
       "      <td>19.1</td>\n",
       "      <td>0</td>\n",
       "      <td>0.00</td>\n",
       "      <td>3</td>\n",
       "      <td>1</td>\n",
       "      <td>1</td>\n",
       "    </tr>\n",
       "    <tr>\n",
       "      <th>2157</th>\n",
       "      <td>20200901</td>\n",
       "      <td>10096335</td>\n",
       "      <td>星语花屋</td>\n",
       "      <td>7.9</td>\n",
       "      <td>0</td>\n",
       "      <td>0.00</td>\n",
       "      <td>1</td>\n",
       "      <td>1</td>\n",
       "      <td>1</td>\n",
       "    </tr>\n",
       "    <tr>\n",
       "      <th>2158</th>\n",
       "      <td>20200901</td>\n",
       "      <td>10096470</td>\n",
       "      <td>宫墩鲜花店</td>\n",
       "      <td>10.9</td>\n",
       "      <td>0</td>\n",
       "      <td>0.00</td>\n",
       "      <td>1</td>\n",
       "      <td>1</td>\n",
       "      <td>1</td>\n",
       "    </tr>\n",
       "  </tbody>\n",
       "</table>\n",
       "<p>2159 rows × 9 columns</p>\n",
       "</div>"
      ],
      "text/plain": [
       "          time      商家ID              商家名称     r   f        m r_score f_score  \\\n",
       "0     20200901    227035      邂逅花坊鲜花（香梅花坊）  15.1   8  1116.00       2       2   \n",
       "1     20200901    255297      邂逅花坊鲜花（蔷薇花艺）  15.0  10   931.00       2       2   \n",
       "2     20200901    345331      邂逅花坊鲜花（温馨花坊）  17.6  31  3540.80       3       3   \n",
       "3     20200901    403721    邂逅花坊鲜花（创懿花艺婚庆）  14.6  12  1292.49       2       2   \n",
       "4     20200901    634577      邂逅花坊鲜花（花韵千谷)  13.3  12  1265.00       1       2   \n",
       "...        ...       ...               ...   ...  ..      ...     ...     ...   \n",
       "2154  20200901  10070283  情侣花卉（生日花，表白花，鲜花）  12.3   0     0.00       1       1   \n",
       "2155  20200901  10078548   花语堂（生日花，表白花，鲜花）  12.2   0     0.00       1       1   \n",
       "2156  20200901  10080207  禾朵花艺（生日花，表白花，鲜花）  19.1   0     0.00       3       1   \n",
       "2157  20200901  10096335              星语花屋   7.9   0     0.00       1       1   \n",
       "2158  20200901  10096470             宫墩鲜花店  10.9   0     0.00       1       1   \n",
       "\n",
       "     m_score  \n",
       "0          2  \n",
       "1          2  \n",
       "2          3  \n",
       "3          2  \n",
       "4          2  \n",
       "...      ...  \n",
       "2154       1  \n",
       "2155       1  \n",
       "2156       1  \n",
       "2157       1  \n",
       "2158       1  \n",
       "\n",
       "[2159 rows x 9 columns]"
      ]
     },
     "execution_count": 45,
     "metadata": {},
     "output_type": "execute_result"
    }
   ],
   "source": [
    "rfm"
   ]
  },
  {
   "cell_type": "code",
   "execution_count": 46,
   "metadata": {},
   "outputs": [],
   "source": [
    "# 方法二：RFM组合\n",
    "rfm['r_score'] = rfm['r_score'].astype(np.str)\n",
    "rfm['f_score'] = rfm['f_score'].astype(np.str)\n",
    "rfm['m_score'] = rfm['m_score'].astype(np.str)\n",
    "rfm['rfm_group'] = rfm['r_score'].str.cat(rfm['f_score']).str.cat(rfm['m_score'])"
   ]
  },
  {
   "cell_type": "code",
   "execution_count": 47,
   "metadata": {},
   "outputs": [],
   "source": [
    "rfm.to_csv('rfm.csv') "
   ]
  },
  {
   "cell_type": "code",
   "execution_count": 52,
   "metadata": {},
   "outputs": [
    {
     "data": {
      "text/html": [
       "<div>\n",
       "<style scoped>\n",
       "    .dataframe tbody tr th:only-of-type {\n",
       "        vertical-align: middle;\n",
       "    }\n",
       "\n",
       "    .dataframe tbody tr th {\n",
       "        vertical-align: top;\n",
       "    }\n",
       "\n",
       "    .dataframe thead th {\n",
       "        text-align: right;\n",
       "    }\n",
       "</style>\n",
       "<table border=\"1\" class=\"dataframe\">\n",
       "  <thead>\n",
       "    <tr style=\"text-align: right;\">\n",
       "      <th></th>\n",
       "      <th>time</th>\n",
       "      <th>商家ID</th>\n",
       "      <th>商家名称_x</th>\n",
       "      <th>r</th>\n",
       "      <th>f</th>\n",
       "      <th>m</th>\n",
       "      <th>开始日期</th>\n",
       "      <th>结束日期</th>\n",
       "      <th>商家名称_y</th>\n",
       "      <th>运营组</th>\n",
       "      <th>省份</th>\n",
       "      <th>城市</th>\n",
       "      <th>是否新增商家</th>\n",
       "      <th>首次上线日期</th>\n",
       "      <th>门店在线状态</th>\n",
       "      <th>（日均）预设营业时长（h）</th>\n",
       "      <th>（日均）在线营业时长（h）</th>\n",
       "      <th>曝光人数</th>\n",
       "      <th>入店人数</th>\n",
       "      <th>下单人数</th>\n",
       "      <th>下单新客人数</th>\n",
       "      <th>入店转化率</th>\n",
       "      <th>下单转化率</th>\n",
       "      <th>推单数</th>\n",
       "      <th>有效订单数</th>\n",
       "      <th>原价交易额</th>\n",
       "      <th>实付交易额</th>\n",
       "      <th>商家补贴金额</th>\n",
       "      <th>商家原因取消订单数</th>\n",
       "      <th>商家拒单数</th>\n",
       "      <th>商家超时未接单数</th>\n",
       "      <th>商家取消不告知用户订单数</th>\n",
       "      <th>缺货导致退款订单数</th>\n",
       "      <th>商家少送错送导致用户退款订单数</th>\n",
       "      <th>商家质量问题导致用户退款订单数</th>\n",
       "      <th>配送原因取消订单数</th>\n",
       "      <th>拣货超时订单数</th>\n",
       "      <th>使用间或完成按钮订单数</th>\n",
       "      <th>平均骑手到店等待时间（min）</th>\n",
       "      <th>平均骑手送货时长（min）</th>\n",
       "      <th>IM会话数</th>\n",
       "      <th>IM回复数</th>\n",
       "      <th>IM回复率</th>\n",
       "      <th>IM1分钟回复数</th>\n",
       "      <th>差评订单数</th>\n",
       "      <th>投诉订单数</th>\n",
       "      <th>平均商家评分</th>\n",
       "      <th>平均商品评分</th>\n",
       "      <th>平均配送评分</th>\n",
       "      <th>平均配送时长（min）</th>\n",
       "      <th>资质类型（仅药品）</th>\n",
       "      <th>资质有效期（仅药品）</th>\n",
       "      <th>复购人数</th>\n",
       "      <th>cluster</th>\n",
       "    </tr>\n",
       "  </thead>\n",
       "  <tbody>\n",
       "    <tr>\n",
       "      <th>372</th>\n",
       "      <td>20200901</td>\n",
       "      <td>5444851</td>\n",
       "      <td>邂逅花坊鲜花（雅馨花坊）</td>\n",
       "      <td>16.8</td>\n",
       "      <td>9</td>\n",
       "      <td>1323.7</td>\n",
       "      <td>20200901</td>\n",
       "      <td>20200930</td>\n",
       "      <td>邂逅花坊鲜花（雅馨花坊）</td>\n",
       "      <td>鲜花组</td>\n",
       "      <td>湖南省</td>\n",
       "      <td>株洲</td>\n",
       "      <td>否</td>\n",
       "      <td>20180715</td>\n",
       "      <td>在线</td>\n",
       "      <td>17.0</td>\n",
       "      <td>16.8</td>\n",
       "      <td>4007</td>\n",
       "      <td>191</td>\n",
       "      <td>9</td>\n",
       "      <td>5</td>\n",
       "      <td>4.77</td>\n",
       "      <td>4.71%</td>\n",
       "      <td>12</td>\n",
       "      <td>12</td>\n",
       "      <td>3382.0</td>\n",
       "      <td>1323.7</td>\n",
       "      <td>2058.3</td>\n",
       "      <td>0</td>\n",
       "      <td>0</td>\n",
       "      <td>0</td>\n",
       "      <td>0</td>\n",
       "      <td>0</td>\n",
       "      <td>0</td>\n",
       "      <td>0</td>\n",
       "      <td>0</td>\n",
       "      <td>0</td>\n",
       "      <td>12</td>\n",
       "      <td>0</td>\n",
       "      <td>0</td>\n",
       "      <td>6</td>\n",
       "      <td>6</td>\n",
       "      <td>100.0</td>\n",
       "      <td>4</td>\n",
       "      <td>0</td>\n",
       "      <td>0</td>\n",
       "      <td>4.8</td>\n",
       "      <td>4.8</td>\n",
       "      <td>5.0</td>\n",
       "      <td>0.0</td>\n",
       "      <td>NaN</td>\n",
       "      <td>NaN</td>\n",
       "      <td>4</td>\n",
       "      <td>4</td>\n",
       "    </tr>\n",
       "  </tbody>\n",
       "</table>\n",
       "</div>"
      ],
      "text/plain": [
       "         time     商家ID        商家名称_x     r  f       m      开始日期      结束日期  \\\n",
       "372  20200901  5444851  邂逅花坊鲜花（雅馨花坊）  16.8  9  1323.7  20200901  20200930   \n",
       "\n",
       "           商家名称_y  运营组   省份  城市 是否新增商家    首次上线日期 门店在线状态  （日均）预设营业时长（h）  \\\n",
       "372  邂逅花坊鲜花（雅馨花坊）  鲜花组  湖南省  株洲      否  20180715     在线           17.0   \n",
       "\n",
       "     （日均）在线营业时长（h）  曝光人数  入店人数  下单人数  下单新客人数  入店转化率  下单转化率  推单数  有效订单数  \\\n",
       "372           16.8  4007   191     9       5   4.77  4.71%   12     12   \n",
       "\n",
       "      原价交易额   实付交易额  商家补贴金额  商家原因取消订单数  商家拒单数  商家超时未接单数  商家取消不告知用户订单数  \\\n",
       "372  3382.0  1323.7  2058.3          0      0         0             0   \n",
       "\n",
       "     缺货导致退款订单数  商家少送错送导致用户退款订单数  商家质量问题导致用户退款订单数  配送原因取消订单数  拣货超时订单数  \\\n",
       "372          0                0                0          0        0   \n",
       "\n",
       "     使用间或完成按钮订单数  平均骑手到店等待时间（min）  平均骑手送货时长（min）  IM会话数  IM回复数  IM回复率  \\\n",
       "372           12                0              0      6      6  100.0   \n",
       "\n",
       "     IM1分钟回复数  差评订单数  投诉订单数  平均商家评分  平均商品评分  平均配送评分  平均配送时长（min）  资质类型（仅药品）  \\\n",
       "372         4      0      0     4.8     4.8     5.0          0.0        NaN   \n",
       "\n",
       "     资质有效期（仅药品）  复购人数  cluster  \n",
       "372         NaN     4        4  "
      ]
     },
     "execution_count": 52,
     "metadata": {},
     "output_type": "execute_result"
    }
   ],
   "source": [
    "rfm_merge[rfm_merge['商家ID'] == 5444851]"
   ]
  },
  {
   "cell_type": "code",
   "execution_count": 53,
   "metadata": {},
   "outputs": [],
   "source": [
    "rfm_hist = pd.read_csv('disdata.csv')"
   ]
  },
  {
   "cell_type": "code",
   "execution_count": 66,
   "metadata": {
    "scrolled": false
   },
   "outputs": [
    {
     "data": {
      "text/plain": [
       "<matplotlib.axes._subplots.AxesSubplot at 0x22f8d519790>"
      ]
     },
     "execution_count": 66,
     "metadata": {},
     "output_type": "execute_result"
    },
    {
     "data": {
      "image/png": "[encoded data removed]",
      "text/plain": [
       "<Figure size 720x504 with 1 Axes>"
      ]
     },
     "metadata": {
      "needs_background": "light"
     },
     "output_type": "display_data"
    }
   ],
   "source": [
    "rfm_hist.plot.bar( x='rfm_group', y='number',rot=0,figsize=[10,7])\n"
   ]
  },
  {
   "cell_type": "code",
   "execution_count": null,
   "metadata": {},
   "outputs": [],
   "source": []
  }
 ],
 "metadata": {
  "kernelspec": {
   "display_name": "Python 3",
   "language": "python",
   "name": "python3"
  },
  "language_info": {
   "codemirror_mode": {
    "name": "ipython",
    "version": 3
   },
   "file_extension": ".py",
   "mimetype": "text/x-python",
   "name": "python",
   "nbconvert_exporter": "python",
   "pygments_lexer": "ipython3",
   "version": "3.8.3"
  }
 },
 "nbformat": 4,
 "nbformat_minor": 4
}
